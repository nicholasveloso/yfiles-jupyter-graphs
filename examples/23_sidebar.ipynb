{
 "cells": [
  {
   "cell_type": "markdown",
   "id": "969f40cf-3ea9-4e67-94eb-0b4c4b321544",
   "metadata": {},
   "source": [
    "# Configure Sidebar <a target=\"_blank\" href=\"https://colab.research.google.com/github/yWorks/yfiles-jupyter-graphs/blob/main/examples/23_sidebar.ipynb\"><img src=\"https://colab.research.google.com/assets/colab-badge.svg\" alt=\"Open In Colab\"/></a>"
   ]
  },
  {
   "cell_type": "markdown",
   "id": "9d18951c-0e4f-49eb-bce5-be6c57f59196",
   "metadata": {},
   "source": [
    "Before using the graph widget, install all necessary packages."
   ]
  },
  {
   "cell_type": "code",
   "execution_count": null,
   "id": "47aaa060-e80e-4fd7-ac35-f1bc10243eb8",
   "metadata": {},
   "outputs": [],
   "source": [
    "%pip install yfiles_jupyter_graphs --quiet\n",
    "%pip install networkx --quiet\n",
    "from networkx import florentine_families_graph\n",
    "from yfiles_jupyter_graphs import GraphWidget"
   ]
  },
  {
   "cell_type": "markdown",
   "id": "59bd3bb4-24e6-4f3e-81ab-38d197894e6f",
   "metadata": {},
   "source": [
    "You can also open this notebook in Google Colab when Google Colab's custom widget manager is enabled:"
   ]
  },
  {
   "cell_type": "code",
   "execution_count": null,
   "id": "329e3d8f-c816-48ff-8c3f-913fb5355735",
   "metadata": {},
   "outputs": [],
   "source": [
    "try:\n",
    "  import google.colab\n",
    "  from google.colab import output\n",
    "  output.enable_custom_widget_manager()\n",
    "except:\n",
    "  pass"
   ]
  },
  {
   "cell_type": "markdown",
   "id": "e7b8471c-e7e7-4b11-8cbd-378414de7bf4",
   "metadata": {},
   "source": [
    "<a target=\"_blank\" href=\"https://colab.research.google.com/github/yWorks/yfiles-jupyter-graphs/blob/main/examples/23_sidebar.ipynb\"><img src=\"https://colab.research.google.com/assets/colab-badge.svg\" alt=\"Open In Colab\"/></a>"
   ]
  },
  {
   "cell_type": "markdown",
   "id": "b6aabea3-0047-44cf-b7f0-bf22269e917b",
   "metadata": {},
   "source": [
    "## Default sidebar configuration\n",
    "\n",
    "#### The sidebar is collapsed but starts with the 'About' panel when opened:"
   ]
  },
  {
   "cell_type": "code",
   "execution_count": null,
   "id": "09f665b8-bf19-4649-86a8-6c7570e3e6b9",
   "metadata": {},
   "outputs": [],
   "source": [
    "w = GraphWidget(graph=florentine_families_graph())\n",
    "display(w)"
   ]
  },
  {
   "cell_type": "markdown",
   "id": "2835c438-ee79-46e8-979d-f28bae00610e",
   "metadata": {},
   "source": [
    "#### Let's open the sidebar when displaying the widget"
   ]
  },
  {
   "cell_type": "code",
   "execution_count": null,
   "id": "90c05a29-ee44-474d-b1b3-8236f7171be8",
   "metadata": {},
   "outputs": [],
   "source": [
    "w2 = GraphWidget(graph=florentine_families_graph())\n",
    "w2.set_sidebar(enabled=True)\n",
    "display(w2)"
   ]
  },
  {
   "cell_type": "markdown",
   "id": "0f3637c1-d319-45a9-a743-accf7f4809e5",
   "metadata": {},
   "source": [
    "#### Let's start with the 'Neighborhood' panel"
   ]
  },
  {
   "cell_type": "code",
   "execution_count": null,
   "id": "e3e427c9-8619-4cdc-b270-71fff5cd4655",
   "metadata": {},
   "outputs": [],
   "source": [
    "w3 = GraphWidget(graph=florentine_families_graph())\n",
    "w3.set_sidebar(start_with='Neighborhood')\n",
    "display(w3)"
   ]
  },
  {
   "cell_type": "markdown",
   "id": "2b92dab0-c21d-4858-b55c-03460bae7533",
   "metadata": {},
   "source": [
    "#### Let's hide the sidebar again, but when enabling it again via the toolbar, still starting with the 'Neighborhood' panel"
   ]
  },
  {
   "cell_type": "code",
   "execution_count": null,
   "id": "24f083d5-f2d1-44b0-8b1c-cf68e18dc268",
   "metadata": {},
   "outputs": [],
   "source": [
    "w4 = GraphWidget(graph=florentine_families_graph())\n",
    "w4.set_sidebar(enabled=False, start_with='Neighborhood')\n",
    "display(w4)"
   ]
  },
  {
   "cell_type": "markdown",
   "id": "6876668e-db46-4743-bfff-0239cf918399",
   "metadata": {},
   "source": [
    "#### Let's start with the 'Data' panel:"
   ]
  },
  {
   "cell_type": "code",
   "execution_count": null,
   "id": "d9d10e29-0282-42d3-86a2-b63f4ecd215b",
   "metadata": {},
   "outputs": [],
   "source": [
    "w5 = GraphWidget(graph=florentine_families_graph())\n",
    "w5.set_sidebar(start_with='Data')\n",
    "display(w5)"
   ]
  },
  {
   "cell_type": "markdown",
   "id": "17ebc6cd-9947-4ce2-ab56-f454d9f24dcf",
   "metadata": {},
   "source": [
    "#### Hide the sidebar, but still start with the Data panel:"
   ]
  },
  {
   "cell_type": "code",
   "execution_count": null,
   "id": "cd663b46-a3f1-4561-b062-5c7d23fe4e60",
   "metadata": {},
   "outputs": [],
   "source": [
    "w6 = GraphWidget(graph=florentine_families_graph())\n",
    "w6.set_sidebar(enabled=False, start_with='Data')\n",
    "display(w6)"
   ]
  },
  {
   "cell_type": "markdown",
   "id": "fd119e05-c946-43f2-b640-1dd99a99b47b",
   "metadata": {},
   "source": [
    "#### Let's start with the 'Search' panel"
   ]
  },
  {
   "cell_type": "code",
   "execution_count": null,
   "id": "5a08591d-4bc4-49cf-b8dc-cc90e021ea3e",
   "metadata": {},
   "outputs": [],
   "source": [
    "w7 = GraphWidget(graph=florentine_families_graph())\n",
    "w7.set_sidebar(start_with='Search')\n",
    "display(w7)"
   ]
  },
  {
   "cell_type": "markdown",
   "id": "0fa81375-3653-40f5-9bc7-28d18c97b2db",
   "metadata": {},
   "source": [
    "#### Hide the sidebar whilst starting with the 'Search' panel:"
   ]
  },
  {
   "cell_type": "code",
   "execution_count": null,
   "id": "486ac062-d796-4a90-9d99-798a6416edba",
   "metadata": {},
   "outputs": [],
   "source": [
    "w8 = GraphWidget(graph=florentine_families_graph())\n",
    "w8.set_sidebar(enabled=False, start_with='Search')\n",
    "display(w8)"
   ]
  }
 ],
 "metadata": {
  "kernelspec": {
   "display_name": "Python 3 (ipykernel)",
   "language": "python",
   "name": "python3"
  },
  "language_info": {
   "codemirror_mode": {
    "name": "ipython",
    "version": 3
   },
   "file_extension": ".py",
   "mimetype": "text/x-python",
   "name": "python",
   "nbconvert_exporter": "python",
   "pygments_lexer": "ipython3",
   "version": "3.12.3"
  },
  "widgets": {
   "application/vnd.jupyter.widget-state+json": {
    "state": {
     "04a2dd1d47334ce384d007bacb794afc": {
      "model_module": "@jupyter-widgets/base",
      "model_module_version": "2.0.0",
      "model_name": "LayoutModel",
      "state": {
       "height": "500px",
       "width": "100%"
      }
     },
     "0a66c2d8409a44028d62a3570f2643d8": {
      "model_module": "@jupyter-widgets/base",
      "model_module_version": "2.0.0",
      "model_name": "LayoutModel",
      "state": {
       "height": "650px",
       "width": "100%"
      }
     },
     "0adce6c7b8c1455487f5db57995f7d2b": {
      "model_module": "@jupyter-widgets/base",
      "model_module_version": "2.0.0",
      "model_name": "LayoutModel",
      "state": {
       "height": "650px",
       "width": "100%"
      }
     },
     "22312ae5293849438d2da70ae1aafae9": {
      "model_module": "@jupyter-widgets/base",
      "model_module_version": "2.0.0",
      "model_name": "LayoutModel",
      "state": {
       "height": "500px",
       "width": "100%"
      }
     },
     "2ae7be09416247888147c0e23510f5d4": {
      "model_module": "@jupyter-widgets/base",
      "model_module_version": "2.0.0",
      "model_name": "LayoutModel",
      "state": {
       "height": "650px",
       "width": "100%"
      }
     },
     "2c877674b78d4bf99e4cdb80bc2b9b0e": {
      "model_module": "@jupyter-widgets/base",
      "model_module_version": "2.0.0",
      "model_name": "LayoutModel",
      "state": {
       "height": "500px",
       "width": "100%"
      }
     },
     "2d3573c5259c47d297851fc8922b4f5b": {
      "model_module": "yfiles-jupyter-graphs",
      "model_module_version": "^1.7.3",
      "model_name": "GraphModel",
      "state": {
       "_context_pane_mapping": [
        {
         "id": "Neighborhood",
         "title": "Neighborhood"
        },
        {
         "id": "Data",
         "title": "Data"
        },
        {
         "id": "Search",
         "title": "Search"
        },
        {
         "id": "About",
         "title": "About"
        }
       ],
       "_data_importer": "networkx",
       "_directed": false,
       "_edges": [
        {
         "color": "#15AFAC",
         "directed": false,
         "end": 1,
         "id": 0,
         "label": "",
         "properties": {},
         "start": 0,
         "thickness_factor": 1
        },
        {
         "color": "#15AFAC",
         "directed": false,
         "end": 5,
         "id": 1,
         "label": "",
         "properties": {},
         "start": 1,
         "thickness_factor": 1
        },
        {
         "color": "#15AFAC",
         "directed": false,
         "end": 6,
         "id": 2,
         "label": "",
         "properties": {},
         "start": 1,
         "thickness_factor": 1
        },
        {
         "color": "#15AFAC",
         "directed": false,
         "end": 7,
         "id": 3,
         "label": "",
         "properties": {},
         "start": 1,
         "thickness_factor": 1
        },
        {
         "color": "#15AFAC",
         "directed": false,
         "end": 8,
         "id": 4,
         "label": "",
         "properties": {},
         "start": 1,
         "thickness_factor": 1
        },
        {
         "color": "#15AFAC",
         "directed": false,
         "end": 9,
         "id": 5,
         "label": "",
         "properties": {},
         "start": 1,
         "thickness_factor": 1
        },
        {
         "color": "#15AFAC",
         "directed": false,
         "end": 3,
         "id": 6,
         "label": "",
         "properties": {},
         "start": 2,
         "thickness_factor": 1
        },
        {
         "color": "#15AFAC",
         "directed": false,
         "end": 4,
         "id": 7,
         "label": "",
         "properties": {},
         "start": 2,
         "thickness_factor": 1
        },
        {
         "color": "#15AFAC",
         "directed": false,
         "end": 5,
         "id": 8,
         "label": "",
         "properties": {},
         "start": 2,
         "thickness_factor": 1
        },
        {
         "color": "#15AFAC",
         "directed": false,
         "end": 4,
         "id": 9,
         "label": "",
         "properties": {},
         "start": 3,
         "thickness_factor": 1
        },
        {
         "color": "#15AFAC",
         "directed": false,
         "end": 11,
         "id": 10,
         "label": "",
         "properties": {},
         "start": 3,
         "thickness_factor": 1
        },
        {
         "color": "#15AFAC",
         "directed": false,
         "end": 6,
         "id": 11,
         "label": "",
         "properties": {},
         "start": 4,
         "thickness_factor": 1
        },
        {
         "color": "#15AFAC",
         "directed": false,
         "end": 11,
         "id": 12,
         "label": "",
         "properties": {},
         "start": 4,
         "thickness_factor": 1
        },
        {
         "color": "#15AFAC",
         "directed": false,
         "end": 7,
         "id": 13,
         "label": "",
         "properties": {},
         "start": 6,
         "thickness_factor": 1
        },
        {
         "color": "#15AFAC",
         "directed": false,
         "end": 12,
         "id": 14,
         "label": "",
         "properties": {},
         "start": 7,
         "thickness_factor": 1
        },
        {
         "color": "#15AFAC",
         "directed": false,
         "end": 13,
         "id": 15,
         "label": "",
         "properties": {},
         "start": 8,
         "thickness_factor": 1
        },
        {
         "color": "#15AFAC",
         "directed": false,
         "end": 12,
         "id": 16,
         "label": "",
         "properties": {},
         "start": 8,
         "thickness_factor": 1
        },
        {
         "color": "#15AFAC",
         "directed": false,
         "end": 10,
         "id": 17,
         "label": "",
         "properties": {},
         "start": 9,
         "thickness_factor": 1
        },
        {
         "color": "#15AFAC",
         "directed": false,
         "end": 12,
         "id": 18,
         "label": "",
         "properties": {},
         "start": 11,
         "thickness_factor": 1
        },
        {
         "color": "#15AFAC",
         "directed": false,
         "end": 14,
         "id": 19,
         "label": "",
         "properties": {},
         "start": 12,
         "thickness_factor": 1
        }
       ],
       "_model_module_version": "^1.7.3",
       "_nodes": [
        {
         "color": "#15AFAC",
         "id": 0,
         "label": "Acciaiuoli",
         "position": [
          0,
          0
         ],
         "properties": {
          "label": "Acciaiuoli"
         },
         "scale_factor": 1,
         "size": [
          55,
          55
         ],
         "styles": {},
         "type": "#15AFAC"
        },
        {
         "color": "#15AFAC",
         "id": 1,
         "label": "Medici",
         "position": [
          0,
          0
         ],
         "properties": {
          "label": "Medici"
         },
         "scale_factor": 1,
         "size": [
          55,
          55
         ],
         "styles": {},
         "type": "#15AFAC"
        },
        {
         "color": "#15AFAC",
         "id": 2,
         "label": "Castellani",
         "position": [
          0,
          0
         ],
         "properties": {
          "label": "Castellani"
         },
         "scale_factor": 1,
         "size": [
          55,
          55
         ],
         "styles": {},
         "type": "#15AFAC"
        },
        {
         "color": "#15AFAC",
         "id": 3,
         "label": "Peruzzi",
         "position": [
          0,
          0
         ],
         "properties": {
          "label": "Peruzzi"
         },
         "scale_factor": 1,
         "size": [
          55,
          55
         ],
         "styles": {},
         "type": "#15AFAC"
        },
        {
         "color": "#15AFAC",
         "id": 4,
         "label": "Strozzi",
         "position": [
          0,
          0
         ],
         "properties": {
          "label": "Strozzi"
         },
         "scale_factor": 1,
         "size": [
          55,
          55
         ],
         "styles": {},
         "type": "#15AFAC"
        },
        {
         "color": "#15AFAC",
         "id": 5,
         "label": "Barbadori",
         "position": [
          0,
          0
         ],
         "properties": {
          "label": "Barbadori"
         },
         "scale_factor": 1,
         "size": [
          55,
          55
         ],
         "styles": {},
         "type": "#15AFAC"
        },
        {
         "color": "#15AFAC",
         "id": 6,
         "label": "Ridolfi",
         "position": [
          0,
          0
         ],
         "properties": {
          "label": "Ridolfi"
         },
         "scale_factor": 1,
         "size": [
          55,
          55
         ],
         "styles": {},
         "type": "#15AFAC"
        },
        {
         "color": "#15AFAC",
         "id": 7,
         "label": "Tornabuoni",
         "position": [
          0,
          0
         ],
         "properties": {
          "label": "Tornabuoni"
         },
         "scale_factor": 1,
         "size": [
          55,
          55
         ],
         "styles": {},
         "type": "#15AFAC"
        },
        {
         "color": "#15AFAC",
         "id": 8,
         "label": "Albizzi",
         "position": [
          0,
          0
         ],
         "properties": {
          "label": "Albizzi"
         },
         "scale_factor": 1,
         "size": [
          55,
          55
         ],
         "styles": {},
         "type": "#15AFAC"
        },
        {
         "color": "#15AFAC",
         "id": 9,
         "label": "Salviati",
         "position": [
          0,
          0
         ],
         "properties": {
          "label": "Salviati"
         },
         "scale_factor": 1,
         "size": [
          55,
          55
         ],
         "styles": {},
         "type": "#15AFAC"
        },
        {
         "color": "#15AFAC",
         "id": 10,
         "label": "Pazzi",
         "position": [
          0,
          0
         ],
         "properties": {
          "label": "Pazzi"
         },
         "scale_factor": 1,
         "size": [
          55,
          55
         ],
         "styles": {},
         "type": "#15AFAC"
        },
        {
         "color": "#15AFAC",
         "id": 11,
         "label": "Bischeri",
         "position": [
          0,
          0
         ],
         "properties": {
          "label": "Bischeri"
         },
         "scale_factor": 1,
         "size": [
          55,
          55
         ],
         "styles": {},
         "type": "#15AFAC"
        },
        {
         "color": "#15AFAC",
         "id": 12,
         "label": "Guadagni",
         "position": [
          0,
          0
         ],
         "properties": {
          "label": "Guadagni"
         },
         "scale_factor": 1,
         "size": [
          55,
          55
         ],
         "styles": {},
         "type": "#15AFAC"
        },
        {
         "color": "#15AFAC",
         "id": 13,
         "label": "Ginori",
         "position": [
          0,
          0
         ],
         "properties": {
          "label": "Ginori"
         },
         "scale_factor": 1,
         "size": [
          55,
          55
         ],
         "styles": {},
         "type": "#15AFAC"
        },
        {
         "color": "#15AFAC",
         "id": 14,
         "label": "Lamberteschi",
         "position": [
          0,
          0
         ],
         "properties": {
          "label": "Lamberteschi"
         },
         "scale_factor": 1,
         "size": [
          55,
          55
         ],
         "styles": {},
         "type": "#15AFAC"
        }
       ],
       "_overview": {
        "enabled": null,
        "overview_set": false
       },
       "_selected_graph": [
        [],
        []
       ],
       "_sidebar": {
        "enabled": false,
        "start_with": "Search"
       },
       "_view_module_version": "^1.7.3",
       "layout": "IPY_MODEL_0adce6c7b8c1455487f5db57995f7d2b"
      }
     },
     "36f58dd5750e439f9c997466089045c9": {
      "model_module": "@jupyter-widgets/base",
      "model_module_version": "2.0.0",
      "model_name": "LayoutModel",
      "state": {
       "height": "650px",
       "width": "100%"
      }
     },
     "3dc3129666db4d70baa60ffa610aafce": {
      "model_module": "@jupyter-widgets/base",
      "model_module_version": "2.0.0",
      "model_name": "LayoutModel",
      "state": {
       "height": "500px",
       "width": "100%"
      }
     },
     "43898672efeb47e29456429bea0bffc1": {
      "model_module": "@jupyter-widgets/base",
      "model_module_version": "2.0.0",
      "model_name": "LayoutModel",
      "state": {
       "height": "650px",
       "width": "100%"
      }
     },
     "48e2b9a999294aab8e32f3eb9c48c80c": {
      "model_module": "@jupyter-widgets/base",
      "model_module_version": "2.0.0",
      "model_name": "LayoutModel",
      "state": {
       "height": "500px",
       "width": "100%"
      }
     },
     "5caae18b45d149188d652a4f4cce3049": {
      "model_module": "@jupyter-widgets/base",
      "model_module_version": "2.0.0",
      "model_name": "LayoutModel",
      "state": {
       "height": "650px",
       "width": "100%"
      }
     },
     "728f8e4789c543a4b404a272ceeeaa56": {
      "model_module": "@jupyter-widgets/base",
      "model_module_version": "2.0.0",
      "model_name": "LayoutModel",
      "state": {
       "height": "500px",
       "width": "100%"
      }
     },
     "8a384b72df9344958f0c66005c6055fc": {
      "model_module": "@jupyter-widgets/base",
      "model_module_version": "2.0.0",
      "model_name": "LayoutModel",
      "state": {
       "height": "650px",
       "width": "100%"
      }
     },
     "8cf8148cf97842dab789fed030f31878": {
      "model_module": "@jupyter-widgets/base",
      "model_module_version": "2.0.0",
      "model_name": "LayoutModel",
      "state": {
       "height": "500px",
       "width": "100%"
      }
     },
     "929285809ee84a72aa81f21a6fc25af7": {
      "model_module": "yfiles-jupyter-graphs",
      "model_module_version": "^1.7.3",
      "model_name": "GraphModel",
      "state": {
       "_context_pane_mapping": [
        {
         "id": "Neighborhood",
         "title": "Neighborhood"
        },
        {
         "id": "Data",
         "title": "Data"
        },
        {
         "id": "Search",
         "title": "Search"
        },
        {
         "id": "About",
         "title": "About"
        }
       ],
       "_data_importer": "networkx",
       "_directed": false,
       "_edges": [
        {
         "color": "#15AFAC",
         "directed": false,
         "end": 1,
         "id": 0,
         "label": "",
         "properties": {},
         "start": 0,
         "thickness_factor": 1
        },
        {
         "color": "#15AFAC",
         "directed": false,
         "end": 5,
         "id": 1,
         "label": "",
         "properties": {},
         "start": 1,
         "thickness_factor": 1
        },
        {
         "color": "#15AFAC",
         "directed": false,
         "end": 6,
         "id": 2,
         "label": "",
         "properties": {},
         "start": 1,
         "thickness_factor": 1
        },
        {
         "color": "#15AFAC",
         "directed": false,
         "end": 7,
         "id": 3,
         "label": "",
         "properties": {},
         "start": 1,
         "thickness_factor": 1
        },
        {
         "color": "#15AFAC",
         "directed": false,
         "end": 8,
         "id": 4,
         "label": "",
         "properties": {},
         "start": 1,
         "thickness_factor": 1
        },
        {
         "color": "#15AFAC",
         "directed": false,
         "end": 9,
         "id": 5,
         "label": "",
         "properties": {},
         "start": 1,
         "thickness_factor": 1
        },
        {
         "color": "#15AFAC",
         "directed": false,
         "end": 3,
         "id": 6,
         "label": "",
         "properties": {},
         "start": 2,
         "thickness_factor": 1
        },
        {
         "color": "#15AFAC",
         "directed": false,
         "end": 4,
         "id": 7,
         "label": "",
         "properties": {},
         "start": 2,
         "thickness_factor": 1
        },
        {
         "color": "#15AFAC",
         "directed": false,
         "end": 5,
         "id": 8,
         "label": "",
         "properties": {},
         "start": 2,
         "thickness_factor": 1
        },
        {
         "color": "#15AFAC",
         "directed": false,
         "end": 4,
         "id": 9,
         "label": "",
         "properties": {},
         "start": 3,
         "thickness_factor": 1
        },
        {
         "color": "#15AFAC",
         "directed": false,
         "end": 11,
         "id": 10,
         "label": "",
         "properties": {},
         "start": 3,
         "thickness_factor": 1
        },
        {
         "color": "#15AFAC",
         "directed": false,
         "end": 6,
         "id": 11,
         "label": "",
         "properties": {},
         "start": 4,
         "thickness_factor": 1
        },
        {
         "color": "#15AFAC",
         "directed": false,
         "end": 11,
         "id": 12,
         "label": "",
         "properties": {},
         "start": 4,
         "thickness_factor": 1
        },
        {
         "color": "#15AFAC",
         "directed": false,
         "end": 7,
         "id": 13,
         "label": "",
         "properties": {},
         "start": 6,
         "thickness_factor": 1
        },
        {
         "color": "#15AFAC",
         "directed": false,
         "end": 12,
         "id": 14,
         "label": "",
         "properties": {},
         "start": 7,
         "thickness_factor": 1
        },
        {
         "color": "#15AFAC",
         "directed": false,
         "end": 13,
         "id": 15,
         "label": "",
         "properties": {},
         "start": 8,
         "thickness_factor": 1
        },
        {
         "color": "#15AFAC",
         "directed": false,
         "end": 12,
         "id": 16,
         "label": "",
         "properties": {},
         "start": 8,
         "thickness_factor": 1
        },
        {
         "color": "#15AFAC",
         "directed": false,
         "end": 10,
         "id": 17,
         "label": "",
         "properties": {},
         "start": 9,
         "thickness_factor": 1
        },
        {
         "color": "#15AFAC",
         "directed": false,
         "end": 12,
         "id": 18,
         "label": "",
         "properties": {},
         "start": 11,
         "thickness_factor": 1
        },
        {
         "color": "#15AFAC",
         "directed": false,
         "end": 14,
         "id": 19,
         "label": "",
         "properties": {},
         "start": 12,
         "thickness_factor": 1
        }
       ],
       "_model_module_version": "^1.7.3",
       "_nodes": [
        {
         "color": "#15AFAC",
         "id": 0,
         "label": "Acciaiuoli",
         "position": [
          0,
          0
         ],
         "properties": {
          "label": "Acciaiuoli"
         },
         "scale_factor": 1,
         "size": [
          55,
          55
         ],
         "styles": {},
         "type": "#15AFAC"
        },
        {
         "color": "#15AFAC",
         "id": 1,
         "label": "Medici",
         "position": [
          0,
          0
         ],
         "properties": {
          "label": "Medici"
         },
         "scale_factor": 1,
         "size": [
          55,
          55
         ],
         "styles": {},
         "type": "#15AFAC"
        },
        {
         "color": "#15AFAC",
         "id": 2,
         "label": "Castellani",
         "position": [
          0,
          0
         ],
         "properties": {
          "label": "Castellani"
         },
         "scale_factor": 1,
         "size": [
          55,
          55
         ],
         "styles": {},
         "type": "#15AFAC"
        },
        {
         "color": "#15AFAC",
         "id": 3,
         "label": "Peruzzi",
         "position": [
          0,
          0
         ],
         "properties": {
          "label": "Peruzzi"
         },
         "scale_factor": 1,
         "size": [
          55,
          55
         ],
         "styles": {},
         "type": "#15AFAC"
        },
        {
         "color": "#15AFAC",
         "id": 4,
         "label": "Strozzi",
         "position": [
          0,
          0
         ],
         "properties": {
          "label": "Strozzi"
         },
         "scale_factor": 1,
         "size": [
          55,
          55
         ],
         "styles": {},
         "type": "#15AFAC"
        },
        {
         "color": "#15AFAC",
         "id": 5,
         "label": "Barbadori",
         "position": [
          0,
          0
         ],
         "properties": {
          "label": "Barbadori"
         },
         "scale_factor": 1,
         "size": [
          55,
          55
         ],
         "styles": {},
         "type": "#15AFAC"
        },
        {
         "color": "#15AFAC",
         "id": 6,
         "label": "Ridolfi",
         "position": [
          0,
          0
         ],
         "properties": {
          "label": "Ridolfi"
         },
         "scale_factor": 1,
         "size": [
          55,
          55
         ],
         "styles": {},
         "type": "#15AFAC"
        },
        {
         "color": "#15AFAC",
         "id": 7,
         "label": "Tornabuoni",
         "position": [
          0,
          0
         ],
         "properties": {
          "label": "Tornabuoni"
         },
         "scale_factor": 1,
         "size": [
          55,
          55
         ],
         "styles": {},
         "type": "#15AFAC"
        },
        {
         "color": "#15AFAC",
         "id": 8,
         "label": "Albizzi",
         "position": [
          0,
          0
         ],
         "properties": {
          "label": "Albizzi"
         },
         "scale_factor": 1,
         "size": [
          55,
          55
         ],
         "styles": {},
         "type": "#15AFAC"
        },
        {
         "color": "#15AFAC",
         "id": 9,
         "label": "Salviati",
         "position": [
          0,
          0
         ],
         "properties": {
          "label": "Salviati"
         },
         "scale_factor": 1,
         "size": [
          55,
          55
         ],
         "styles": {},
         "type": "#15AFAC"
        },
        {
         "color": "#15AFAC",
         "id": 10,
         "label": "Pazzi",
         "position": [
          0,
          0
         ],
         "properties": {
          "label": "Pazzi"
         },
         "scale_factor": 1,
         "size": [
          55,
          55
         ],
         "styles": {},
         "type": "#15AFAC"
        },
        {
         "color": "#15AFAC",
         "id": 11,
         "label": "Bischeri",
         "position": [
          0,
          0
         ],
         "properties": {
          "label": "Bischeri"
         },
         "scale_factor": 1,
         "size": [
          55,
          55
         ],
         "styles": {},
         "type": "#15AFAC"
        },
        {
         "color": "#15AFAC",
         "id": 12,
         "label": "Guadagni",
         "position": [
          0,
          0
         ],
         "properties": {
          "label": "Guadagni"
         },
         "scale_factor": 1,
         "size": [
          55,
          55
         ],
         "styles": {},
         "type": "#15AFAC"
        },
        {
         "color": "#15AFAC",
         "id": 13,
         "label": "Ginori",
         "position": [
          0,
          0
         ],
         "properties": {
          "label": "Ginori"
         },
         "scale_factor": 1,
         "size": [
          55,
          55
         ],
         "styles": {},
         "type": "#15AFAC"
        },
        {
         "color": "#15AFAC",
         "id": 14,
         "label": "Lamberteschi",
         "position": [
          0,
          0
         ],
         "properties": {
          "label": "Lamberteschi"
         },
         "scale_factor": 1,
         "size": [
          55,
          55
         ],
         "styles": {},
         "type": "#15AFAC"
        }
       ],
       "_overview": {
        "enabled": null,
        "overview_set": false
       },
       "_selected_graph": [
        [],
        []
       ],
       "_sidebar": {
        "enabled": true,
        "start_with": "Search"
       },
       "_view_module_version": "^1.7.3",
       "layout": "IPY_MODEL_36f58dd5750e439f9c997466089045c9"
      }
     },
     "94ff377f91844b3d82604ea1a7d82e9e": {
      "model_module": "yfiles-jupyter-graphs",
      "model_module_version": "^1.7.3",
      "model_name": "GraphModel",
      "state": {
       "_context_pane_mapping": [
        {
         "id": "Neighborhood",
         "title": "Neighborhood"
        },
        {
         "id": "Data",
         "title": "Data"
        },
        {
         "id": "Search",
         "title": "Search"
        },
        {
         "id": "About",
         "title": "About"
        }
       ],
       "_data_importer": "networkx",
       "_directed": false,
       "_edges": [
        {
         "color": "#15AFAC",
         "directed": false,
         "end": 1,
         "id": 0,
         "label": "",
         "properties": {},
         "start": 0,
         "thickness_factor": 1
        },
        {
         "color": "#15AFAC",
         "directed": false,
         "end": 5,
         "id": 1,
         "label": "",
         "properties": {},
         "start": 1,
         "thickness_factor": 1
        },
        {
         "color": "#15AFAC",
         "directed": false,
         "end": 6,
         "id": 2,
         "label": "",
         "properties": {},
         "start": 1,
         "thickness_factor": 1
        },
        {
         "color": "#15AFAC",
         "directed": false,
         "end": 7,
         "id": 3,
         "label": "",
         "properties": {},
         "start": 1,
         "thickness_factor": 1
        },
        {
         "color": "#15AFAC",
         "directed": false,
         "end": 8,
         "id": 4,
         "label": "",
         "properties": {},
         "start": 1,
         "thickness_factor": 1
        },
        {
         "color": "#15AFAC",
         "directed": false,
         "end": 9,
         "id": 5,
         "label": "",
         "properties": {},
         "start": 1,
         "thickness_factor": 1
        },
        {
         "color": "#15AFAC",
         "directed": false,
         "end": 3,
         "id": 6,
         "label": "",
         "properties": {},
         "start": 2,
         "thickness_factor": 1
        },
        {
         "color": "#15AFAC",
         "directed": false,
         "end": 4,
         "id": 7,
         "label": "",
         "properties": {},
         "start": 2,
         "thickness_factor": 1
        },
        {
         "color": "#15AFAC",
         "directed": false,
         "end": 5,
         "id": 8,
         "label": "",
         "properties": {},
         "start": 2,
         "thickness_factor": 1
        },
        {
         "color": "#15AFAC",
         "directed": false,
         "end": 4,
         "id": 9,
         "label": "",
         "properties": {},
         "start": 3,
         "thickness_factor": 1
        },
        {
         "color": "#15AFAC",
         "directed": false,
         "end": 11,
         "id": 10,
         "label": "",
         "properties": {},
         "start": 3,
         "thickness_factor": 1
        },
        {
         "color": "#15AFAC",
         "directed": false,
         "end": 6,
         "id": 11,
         "label": "",
         "properties": {},
         "start": 4,
         "thickness_factor": 1
        },
        {
         "color": "#15AFAC",
         "directed": false,
         "end": 11,
         "id": 12,
         "label": "",
         "properties": {},
         "start": 4,
         "thickness_factor": 1
        },
        {
         "color": "#15AFAC",
         "directed": false,
         "end": 7,
         "id": 13,
         "label": "",
         "properties": {},
         "start": 6,
         "thickness_factor": 1
        },
        {
         "color": "#15AFAC",
         "directed": false,
         "end": 12,
         "id": 14,
         "label": "",
         "properties": {},
         "start": 7,
         "thickness_factor": 1
        },
        {
         "color": "#15AFAC",
         "directed": false,
         "end": 13,
         "id": 15,
         "label": "",
         "properties": {},
         "start": 8,
         "thickness_factor": 1
        },
        {
         "color": "#15AFAC",
         "directed": false,
         "end": 12,
         "id": 16,
         "label": "",
         "properties": {},
         "start": 8,
         "thickness_factor": 1
        },
        {
         "color": "#15AFAC",
         "directed": false,
         "end": 10,
         "id": 17,
         "label": "",
         "properties": {},
         "start": 9,
         "thickness_factor": 1
        },
        {
         "color": "#15AFAC",
         "directed": false,
         "end": 12,
         "id": 18,
         "label": "",
         "properties": {},
         "start": 11,
         "thickness_factor": 1
        },
        {
         "color": "#15AFAC",
         "directed": false,
         "end": 14,
         "id": 19,
         "label": "",
         "properties": {},
         "start": 12,
         "thickness_factor": 1
        }
       ],
       "_model_module_version": "^1.7.3",
       "_nodes": [
        {
         "color": "#15AFAC",
         "id": 0,
         "label": "Acciaiuoli",
         "position": [
          0,
          0
         ],
         "properties": {
          "label": "Acciaiuoli"
         },
         "scale_factor": 1,
         "size": [
          55,
          55
         ],
         "styles": {},
         "type": "#15AFAC"
        },
        {
         "color": "#15AFAC",
         "id": 1,
         "label": "Medici",
         "position": [
          0,
          0
         ],
         "properties": {
          "label": "Medici"
         },
         "scale_factor": 1,
         "size": [
          55,
          55
         ],
         "styles": {},
         "type": "#15AFAC"
        },
        {
         "color": "#15AFAC",
         "id": 2,
         "label": "Castellani",
         "position": [
          0,
          0
         ],
         "properties": {
          "label": "Castellani"
         },
         "scale_factor": 1,
         "size": [
          55,
          55
         ],
         "styles": {},
         "type": "#15AFAC"
        },
        {
         "color": "#15AFAC",
         "id": 3,
         "label": "Peruzzi",
         "position": [
          0,
          0
         ],
         "properties": {
          "label": "Peruzzi"
         },
         "scale_factor": 1,
         "size": [
          55,
          55
         ],
         "styles": {},
         "type": "#15AFAC"
        },
        {
         "color": "#15AFAC",
         "id": 4,
         "label": "Strozzi",
         "position": [
          0,
          0
         ],
         "properties": {
          "label": "Strozzi"
         },
         "scale_factor": 1,
         "size": [
          55,
          55
         ],
         "styles": {},
         "type": "#15AFAC"
        },
        {
         "color": "#15AFAC",
         "id": 5,
         "label": "Barbadori",
         "position": [
          0,
          0
         ],
         "properties": {
          "label": "Barbadori"
         },
         "scale_factor": 1,
         "size": [
          55,
          55
         ],
         "styles": {},
         "type": "#15AFAC"
        },
        {
         "color": "#15AFAC",
         "id": 6,
         "label": "Ridolfi",
         "position": [
          0,
          0
         ],
         "properties": {
          "label": "Ridolfi"
         },
         "scale_factor": 1,
         "size": [
          55,
          55
         ],
         "styles": {},
         "type": "#15AFAC"
        },
        {
         "color": "#15AFAC",
         "id": 7,
         "label": "Tornabuoni",
         "position": [
          0,
          0
         ],
         "properties": {
          "label": "Tornabuoni"
         },
         "scale_factor": 1,
         "size": [
          55,
          55
         ],
         "styles": {},
         "type": "#15AFAC"
        },
        {
         "color": "#15AFAC",
         "id": 8,
         "label": "Albizzi",
         "position": [
          0,
          0
         ],
         "properties": {
          "label": "Albizzi"
         },
         "scale_factor": 1,
         "size": [
          55,
          55
         ],
         "styles": {},
         "type": "#15AFAC"
        },
        {
         "color": "#15AFAC",
         "id": 9,
         "label": "Salviati",
         "position": [
          0,
          0
         ],
         "properties": {
          "label": "Salviati"
         },
         "scale_factor": 1,
         "size": [
          55,
          55
         ],
         "styles": {},
         "type": "#15AFAC"
        },
        {
         "color": "#15AFAC",
         "id": 10,
         "label": "Pazzi",
         "position": [
          0,
          0
         ],
         "properties": {
          "label": "Pazzi"
         },
         "scale_factor": 1,
         "size": [
          55,
          55
         ],
         "styles": {},
         "type": "#15AFAC"
        },
        {
         "color": "#15AFAC",
         "id": 11,
         "label": "Bischeri",
         "position": [
          0,
          0
         ],
         "properties": {
          "label": "Bischeri"
         },
         "scale_factor": 1,
         "size": [
          55,
          55
         ],
         "styles": {},
         "type": "#15AFAC"
        },
        {
         "color": "#15AFAC",
         "id": 12,
         "label": "Guadagni",
         "position": [
          0,
          0
         ],
         "properties": {
          "label": "Guadagni"
         },
         "scale_factor": 1,
         "size": [
          55,
          55
         ],
         "styles": {},
         "type": "#15AFAC"
        },
        {
         "color": "#15AFAC",
         "id": 13,
         "label": "Ginori",
         "position": [
          0,
          0
         ],
         "properties": {
          "label": "Ginori"
         },
         "scale_factor": 1,
         "size": [
          55,
          55
         ],
         "styles": {},
         "type": "#15AFAC"
        },
        {
         "color": "#15AFAC",
         "id": 14,
         "label": "Lamberteschi",
         "position": [
          0,
          0
         ],
         "properties": {
          "label": "Lamberteschi"
         },
         "scale_factor": 1,
         "size": [
          55,
          55
         ],
         "styles": {},
         "type": "#15AFAC"
        }
       ],
       "_overview": {
        "enabled": null,
        "overview_set": false
       },
       "_selected_graph": [
        [],
        []
       ],
       "_sidebar": {
        "enabled": false,
        "start_with": "About"
       },
       "_view_module_version": "^1.7.3",
       "layout": "IPY_MODEL_8a384b72df9344958f0c66005c6055fc"
      }
     },
     "96a9105552a24006b2322f350e7692fe": {
      "model_module": "yfiles-jupyter-graphs",
      "model_module_version": "^1.7.3",
      "model_name": "GraphModel",
      "state": {
       "_context_pane_mapping": [
        {
         "id": "Neighborhood",
         "title": "Neighborhood"
        },
        {
         "id": "Data",
         "title": "Data"
        },
        {
         "id": "Search",
         "title": "Search"
        },
        {
         "id": "About",
         "title": "About"
        }
       ],
       "_data_importer": "networkx",
       "_directed": false,
       "_edges": [
        {
         "color": "#15AFAC",
         "directed": false,
         "end": 1,
         "id": 0,
         "label": "",
         "properties": {},
         "start": 0,
         "thickness_factor": 1
        },
        {
         "color": "#15AFAC",
         "directed": false,
         "end": 5,
         "id": 1,
         "label": "",
         "properties": {},
         "start": 1,
         "thickness_factor": 1
        },
        {
         "color": "#15AFAC",
         "directed": false,
         "end": 6,
         "id": 2,
         "label": "",
         "properties": {},
         "start": 1,
         "thickness_factor": 1
        },
        {
         "color": "#15AFAC",
         "directed": false,
         "end": 7,
         "id": 3,
         "label": "",
         "properties": {},
         "start": 1,
         "thickness_factor": 1
        },
        {
         "color": "#15AFAC",
         "directed": false,
         "end": 8,
         "id": 4,
         "label": "",
         "properties": {},
         "start": 1,
         "thickness_factor": 1
        },
        {
         "color": "#15AFAC",
         "directed": false,
         "end": 9,
         "id": 5,
         "label": "",
         "properties": {},
         "start": 1,
         "thickness_factor": 1
        },
        {
         "color": "#15AFAC",
         "directed": false,
         "end": 3,
         "id": 6,
         "label": "",
         "properties": {},
         "start": 2,
         "thickness_factor": 1
        },
        {
         "color": "#15AFAC",
         "directed": false,
         "end": 4,
         "id": 7,
         "label": "",
         "properties": {},
         "start": 2,
         "thickness_factor": 1
        },
        {
         "color": "#15AFAC",
         "directed": false,
         "end": 5,
         "id": 8,
         "label": "",
         "properties": {},
         "start": 2,
         "thickness_factor": 1
        },
        {
         "color": "#15AFAC",
         "directed": false,
         "end": 4,
         "id": 9,
         "label": "",
         "properties": {},
         "start": 3,
         "thickness_factor": 1
        },
        {
         "color": "#15AFAC",
         "directed": false,
         "end": 11,
         "id": 10,
         "label": "",
         "properties": {},
         "start": 3,
         "thickness_factor": 1
        },
        {
         "color": "#15AFAC",
         "directed": false,
         "end": 6,
         "id": 11,
         "label": "",
         "properties": {},
         "start": 4,
         "thickness_factor": 1
        },
        {
         "color": "#15AFAC",
         "directed": false,
         "end": 11,
         "id": 12,
         "label": "",
         "properties": {},
         "start": 4,
         "thickness_factor": 1
        },
        {
         "color": "#15AFAC",
         "directed": false,
         "end": 7,
         "id": 13,
         "label": "",
         "properties": {},
         "start": 6,
         "thickness_factor": 1
        },
        {
         "color": "#15AFAC",
         "directed": false,
         "end": 12,
         "id": 14,
         "label": "",
         "properties": {},
         "start": 7,
         "thickness_factor": 1
        },
        {
         "color": "#15AFAC",
         "directed": false,
         "end": 13,
         "id": 15,
         "label": "",
         "properties": {},
         "start": 8,
         "thickness_factor": 1
        },
        {
         "color": "#15AFAC",
         "directed": false,
         "end": 12,
         "id": 16,
         "label": "",
         "properties": {},
         "start": 8,
         "thickness_factor": 1
        },
        {
         "color": "#15AFAC",
         "directed": false,
         "end": 10,
         "id": 17,
         "label": "",
         "properties": {},
         "start": 9,
         "thickness_factor": 1
        },
        {
         "color": "#15AFAC",
         "directed": false,
         "end": 12,
         "id": 18,
         "label": "",
         "properties": {},
         "start": 11,
         "thickness_factor": 1
        },
        {
         "color": "#15AFAC",
         "directed": false,
         "end": 14,
         "id": 19,
         "label": "",
         "properties": {},
         "start": 12,
         "thickness_factor": 1
        }
       ],
       "_model_module_version": "^1.7.3",
       "_nodes": [
        {
         "color": "#15AFAC",
         "id": 0,
         "label": "Acciaiuoli",
         "position": [
          0,
          0
         ],
         "properties": {
          "label": "Acciaiuoli"
         },
         "scale_factor": 1,
         "size": [
          55,
          55
         ],
         "styles": {},
         "type": "#15AFAC"
        },
        {
         "color": "#15AFAC",
         "id": 1,
         "label": "Medici",
         "position": [
          0,
          0
         ],
         "properties": {
          "label": "Medici"
         },
         "scale_factor": 1,
         "size": [
          55,
          55
         ],
         "styles": {},
         "type": "#15AFAC"
        },
        {
         "color": "#15AFAC",
         "id": 2,
         "label": "Castellani",
         "position": [
          0,
          0
         ],
         "properties": {
          "label": "Castellani"
         },
         "scale_factor": 1,
         "size": [
          55,
          55
         ],
         "styles": {},
         "type": "#15AFAC"
        },
        {
         "color": "#15AFAC",
         "id": 3,
         "label": "Peruzzi",
         "position": [
          0,
          0
         ],
         "properties": {
          "label": "Peruzzi"
         },
         "scale_factor": 1,
         "size": [
          55,
          55
         ],
         "styles": {},
         "type": "#15AFAC"
        },
        {
         "color": "#15AFAC",
         "id": 4,
         "label": "Strozzi",
         "position": [
          0,
          0
         ],
         "properties": {
          "label": "Strozzi"
         },
         "scale_factor": 1,
         "size": [
          55,
          55
         ],
         "styles": {},
         "type": "#15AFAC"
        },
        {
         "color": "#15AFAC",
         "id": 5,
         "label": "Barbadori",
         "position": [
          0,
          0
         ],
         "properties": {
          "label": "Barbadori"
         },
         "scale_factor": 1,
         "size": [
          55,
          55
         ],
         "styles": {},
         "type": "#15AFAC"
        },
        {
         "color": "#15AFAC",
         "id": 6,
         "label": "Ridolfi",
         "position": [
          0,
          0
         ],
         "properties": {
          "label": "Ridolfi"
         },
         "scale_factor": 1,
         "size": [
          55,
          55
         ],
         "styles": {},
         "type": "#15AFAC"
        },
        {
         "color": "#15AFAC",
         "id": 7,
         "label": "Tornabuoni",
         "position": [
          0,
          0
         ],
         "properties": {
          "label": "Tornabuoni"
         },
         "scale_factor": 1,
         "size": [
          55,
          55
         ],
         "styles": {},
         "type": "#15AFAC"
        },
        {
         "color": "#15AFAC",
         "id": 8,
         "label": "Albizzi",
         "position": [
          0,
          0
         ],
         "properties": {
          "label": "Albizzi"
         },
         "scale_factor": 1,
         "size": [
          55,
          55
         ],
         "styles": {},
         "type": "#15AFAC"
        },
        {
         "color": "#15AFAC",
         "id": 9,
         "label": "Salviati",
         "position": [
          0,
          0
         ],
         "properties": {
          "label": "Salviati"
         },
         "scale_factor": 1,
         "size": [
          55,
          55
         ],
         "styles": {},
         "type": "#15AFAC"
        },
        {
         "color": "#15AFAC",
         "id": 10,
         "label": "Pazzi",
         "position": [
          0,
          0
         ],
         "properties": {
          "label": "Pazzi"
         },
         "scale_factor": 1,
         "size": [
          55,
          55
         ],
         "styles": {},
         "type": "#15AFAC"
        },
        {
         "color": "#15AFAC",
         "id": 11,
         "label": "Bischeri",
         "position": [
          0,
          0
         ],
         "properties": {
          "label": "Bischeri"
         },
         "scale_factor": 1,
         "size": [
          55,
          55
         ],
         "styles": {},
         "type": "#15AFAC"
        },
        {
         "color": "#15AFAC",
         "id": 12,
         "label": "Guadagni",
         "position": [
          0,
          0
         ],
         "properties": {
          "label": "Guadagni"
         },
         "scale_factor": 1,
         "size": [
          55,
          55
         ],
         "styles": {},
         "type": "#15AFAC"
        },
        {
         "color": "#15AFAC",
         "id": 13,
         "label": "Ginori",
         "position": [
          0,
          0
         ],
         "properties": {
          "label": "Ginori"
         },
         "scale_factor": 1,
         "size": [
          55,
          55
         ],
         "styles": {},
         "type": "#15AFAC"
        },
        {
         "color": "#15AFAC",
         "id": 14,
         "label": "Lamberteschi",
         "position": [
          0,
          0
         ],
         "properties": {
          "label": "Lamberteschi"
         },
         "scale_factor": 1,
         "size": [
          55,
          55
         ],
         "styles": {},
         "type": "#15AFAC"
        }
       ],
       "_overview": {
        "enabled": null,
        "overview_set": false
       },
       "_selected_graph": [
        [],
        []
       ],
       "_sidebar": {
        "enabled": true,
        "start_with": "Neighborhood"
       },
       "_view_module_version": "^1.7.3",
       "layout": "IPY_MODEL_f2fc3f43e4884a7782c7603468e8c31f"
      }
     },
     "a60c2b9493ad4aed83ac62e2dad1e70c": {
      "model_module": "yfiles-jupyter-graphs",
      "model_module_version": "^1.7.3",
      "model_name": "GraphModel",
      "state": {
       "_context_pane_mapping": [
        {
         "id": "Neighborhood",
         "title": "Neighborhood"
        },
        {
         "id": "Data",
         "title": "Data"
        },
        {
         "id": "Search",
         "title": "Search"
        },
        {
         "id": "About",
         "title": "About"
        }
       ],
       "_data_importer": "networkx",
       "_directed": false,
       "_edges": [
        {
         "color": "#15AFAC",
         "directed": false,
         "end": 1,
         "id": 0,
         "label": "",
         "properties": {},
         "start": 0,
         "thickness_factor": 1
        },
        {
         "color": "#15AFAC",
         "directed": false,
         "end": 5,
         "id": 1,
         "label": "",
         "properties": {},
         "start": 1,
         "thickness_factor": 1
        },
        {
         "color": "#15AFAC",
         "directed": false,
         "end": 6,
         "id": 2,
         "label": "",
         "properties": {},
         "start": 1,
         "thickness_factor": 1
        },
        {
         "color": "#15AFAC",
         "directed": false,
         "end": 7,
         "id": 3,
         "label": "",
         "properties": {},
         "start": 1,
         "thickness_factor": 1
        },
        {
         "color": "#15AFAC",
         "directed": false,
         "end": 8,
         "id": 4,
         "label": "",
         "properties": {},
         "start": 1,
         "thickness_factor": 1
        },
        {
         "color": "#15AFAC",
         "directed": false,
         "end": 9,
         "id": 5,
         "label": "",
         "properties": {},
         "start": 1,
         "thickness_factor": 1
        },
        {
         "color": "#15AFAC",
         "directed": false,
         "end": 3,
         "id": 6,
         "label": "",
         "properties": {},
         "start": 2,
         "thickness_factor": 1
        },
        {
         "color": "#15AFAC",
         "directed": false,
         "end": 4,
         "id": 7,
         "label": "",
         "properties": {},
         "start": 2,
         "thickness_factor": 1
        },
        {
         "color": "#15AFAC",
         "directed": false,
         "end": 5,
         "id": 8,
         "label": "",
         "properties": {},
         "start": 2,
         "thickness_factor": 1
        },
        {
         "color": "#15AFAC",
         "directed": false,
         "end": 4,
         "id": 9,
         "label": "",
         "properties": {},
         "start": 3,
         "thickness_factor": 1
        },
        {
         "color": "#15AFAC",
         "directed": false,
         "end": 11,
         "id": 10,
         "label": "",
         "properties": {},
         "start": 3,
         "thickness_factor": 1
        },
        {
         "color": "#15AFAC",
         "directed": false,
         "end": 6,
         "id": 11,
         "label": "",
         "properties": {},
         "start": 4,
         "thickness_factor": 1
        },
        {
         "color": "#15AFAC",
         "directed": false,
         "end": 11,
         "id": 12,
         "label": "",
         "properties": {},
         "start": 4,
         "thickness_factor": 1
        },
        {
         "color": "#15AFAC",
         "directed": false,
         "end": 7,
         "id": 13,
         "label": "",
         "properties": {},
         "start": 6,
         "thickness_factor": 1
        },
        {
         "color": "#15AFAC",
         "directed": false,
         "end": 12,
         "id": 14,
         "label": "",
         "properties": {},
         "start": 7,
         "thickness_factor": 1
        },
        {
         "color": "#15AFAC",
         "directed": false,
         "end": 13,
         "id": 15,
         "label": "",
         "properties": {},
         "start": 8,
         "thickness_factor": 1
        },
        {
         "color": "#15AFAC",
         "directed": false,
         "end": 12,
         "id": 16,
         "label": "",
         "properties": {},
         "start": 8,
         "thickness_factor": 1
        },
        {
         "color": "#15AFAC",
         "directed": false,
         "end": 10,
         "id": 17,
         "label": "",
         "properties": {},
         "start": 9,
         "thickness_factor": 1
        },
        {
         "color": "#15AFAC",
         "directed": false,
         "end": 12,
         "id": 18,
         "label": "",
         "properties": {},
         "start": 11,
         "thickness_factor": 1
        },
        {
         "color": "#15AFAC",
         "directed": false,
         "end": 14,
         "id": 19,
         "label": "",
         "properties": {},
         "start": 12,
         "thickness_factor": 1
        }
       ],
       "_model_module_version": "^1.7.3",
       "_nodes": [
        {
         "color": "#15AFAC",
         "id": 0,
         "label": "Acciaiuoli",
         "position": [
          0,
          0
         ],
         "properties": {
          "label": "Acciaiuoli"
         },
         "scale_factor": 1,
         "size": [
          55,
          55
         ],
         "styles": {},
         "type": "#15AFAC"
        },
        {
         "color": "#15AFAC",
         "id": 1,
         "label": "Medici",
         "position": [
          0,
          0
         ],
         "properties": {
          "label": "Medici"
         },
         "scale_factor": 1,
         "size": [
          55,
          55
         ],
         "styles": {},
         "type": "#15AFAC"
        },
        {
         "color": "#15AFAC",
         "id": 2,
         "label": "Castellani",
         "position": [
          0,
          0
         ],
         "properties": {
          "label": "Castellani"
         },
         "scale_factor": 1,
         "size": [
          55,
          55
         ],
         "styles": {},
         "type": "#15AFAC"
        },
        {
         "color": "#15AFAC",
         "id": 3,
         "label": "Peruzzi",
         "position": [
          0,
          0
         ],
         "properties": {
          "label": "Peruzzi"
         },
         "scale_factor": 1,
         "size": [
          55,
          55
         ],
         "styles": {},
         "type": "#15AFAC"
        },
        {
         "color": "#15AFAC",
         "id": 4,
         "label": "Strozzi",
         "position": [
          0,
          0
         ],
         "properties": {
          "label": "Strozzi"
         },
         "scale_factor": 1,
         "size": [
          55,
          55
         ],
         "styles": {},
         "type": "#15AFAC"
        },
        {
         "color": "#15AFAC",
         "id": 5,
         "label": "Barbadori",
         "position": [
          0,
          0
         ],
         "properties": {
          "label": "Barbadori"
         },
         "scale_factor": 1,
         "size": [
          55,
          55
         ],
         "styles": {},
         "type": "#15AFAC"
        },
        {
         "color": "#15AFAC",
         "id": 6,
         "label": "Ridolfi",
         "position": [
          0,
          0
         ],
         "properties": {
          "label": "Ridolfi"
         },
         "scale_factor": 1,
         "size": [
          55,
          55
         ],
         "styles": {},
         "type": "#15AFAC"
        },
        {
         "color": "#15AFAC",
         "id": 7,
         "label": "Tornabuoni",
         "position": [
          0,
          0
         ],
         "properties": {
          "label": "Tornabuoni"
         },
         "scale_factor": 1,
         "size": [
          55,
          55
         ],
         "styles": {},
         "type": "#15AFAC"
        },
        {
         "color": "#15AFAC",
         "id": 8,
         "label": "Albizzi",
         "position": [
          0,
          0
         ],
         "properties": {
          "label": "Albizzi"
         },
         "scale_factor": 1,
         "size": [
          55,
          55
         ],
         "styles": {},
         "type": "#15AFAC"
        },
        {
         "color": "#15AFAC",
         "id": 9,
         "label": "Salviati",
         "position": [
          0,
          0
         ],
         "properties": {
          "label": "Salviati"
         },
         "scale_factor": 1,
         "size": [
          55,
          55
         ],
         "styles": {},
         "type": "#15AFAC"
        },
        {
         "color": "#15AFAC",
         "id": 10,
         "label": "Pazzi",
         "position": [
          0,
          0
         ],
         "properties": {
          "label": "Pazzi"
         },
         "scale_factor": 1,
         "size": [
          55,
          55
         ],
         "styles": {},
         "type": "#15AFAC"
        },
        {
         "color": "#15AFAC",
         "id": 11,
         "label": "Bischeri",
         "position": [
          0,
          0
         ],
         "properties": {
          "label": "Bischeri"
         },
         "scale_factor": 1,
         "size": [
          55,
          55
         ],
         "styles": {},
         "type": "#15AFAC"
        },
        {
         "color": "#15AFAC",
         "id": 12,
         "label": "Guadagni",
         "position": [
          0,
          0
         ],
         "properties": {
          "label": "Guadagni"
         },
         "scale_factor": 1,
         "size": [
          55,
          55
         ],
         "styles": {},
         "type": "#15AFAC"
        },
        {
         "color": "#15AFAC",
         "id": 13,
         "label": "Ginori",
         "position": [
          0,
          0
         ],
         "properties": {
          "label": "Ginori"
         },
         "scale_factor": 1,
         "size": [
          55,
          55
         ],
         "styles": {},
         "type": "#15AFAC"
        },
        {
         "color": "#15AFAC",
         "id": 14,
         "label": "Lamberteschi",
         "position": [
          0,
          0
         ],
         "properties": {
          "label": "Lamberteschi"
         },
         "scale_factor": 1,
         "size": [
          55,
          55
         ],
         "styles": {},
         "type": "#15AFAC"
        }
       ],
       "_overview": {
        "enabled": null,
        "overview_set": false
       },
       "_selected_graph": [
        [],
        []
       ],
       "_sidebar": {
        "enabled": false,
        "start_with": "Neighborhood"
       },
       "_view_module_version": "^1.7.3",
       "layout": "IPY_MODEL_2ae7be09416247888147c0e23510f5d4"
      }
     },
     "a6cda817ac6240abae822b3b48544aee": {
      "model_module": "yfiles-jupyter-graphs",
      "model_module_version": "^1.7.3",
      "model_name": "GraphModel",
      "state": {
       "_context_pane_mapping": [
        {
         "id": "Neighborhood",
         "title": "Neighborhood"
        },
        {
         "id": "Data",
         "title": "Data"
        },
        {
         "id": "Search",
         "title": "Search"
        },
        {
         "id": "About",
         "title": "About"
        }
       ],
       "_data_importer": "networkx",
       "_directed": false,
       "_edges": [
        {
         "color": "#15AFAC",
         "directed": false,
         "end": 1,
         "id": 0,
         "label": "",
         "properties": {},
         "start": 0,
         "thickness_factor": 1
        },
        {
         "color": "#15AFAC",
         "directed": false,
         "end": 5,
         "id": 1,
         "label": "",
         "properties": {},
         "start": 1,
         "thickness_factor": 1
        },
        {
         "color": "#15AFAC",
         "directed": false,
         "end": 6,
         "id": 2,
         "label": "",
         "properties": {},
         "start": 1,
         "thickness_factor": 1
        },
        {
         "color": "#15AFAC",
         "directed": false,
         "end": 7,
         "id": 3,
         "label": "",
         "properties": {},
         "start": 1,
         "thickness_factor": 1
        },
        {
         "color": "#15AFAC",
         "directed": false,
         "end": 8,
         "id": 4,
         "label": "",
         "properties": {},
         "start": 1,
         "thickness_factor": 1
        },
        {
         "color": "#15AFAC",
         "directed": false,
         "end": 9,
         "id": 5,
         "label": "",
         "properties": {},
         "start": 1,
         "thickness_factor": 1
        },
        {
         "color": "#15AFAC",
         "directed": false,
         "end": 3,
         "id": 6,
         "label": "",
         "properties": {},
         "start": 2,
         "thickness_factor": 1
        },
        {
         "color": "#15AFAC",
         "directed": false,
         "end": 4,
         "id": 7,
         "label": "",
         "properties": {},
         "start": 2,
         "thickness_factor": 1
        },
        {
         "color": "#15AFAC",
         "directed": false,
         "end": 5,
         "id": 8,
         "label": "",
         "properties": {},
         "start": 2,
         "thickness_factor": 1
        },
        {
         "color": "#15AFAC",
         "directed": false,
         "end": 4,
         "id": 9,
         "label": "",
         "properties": {},
         "start": 3,
         "thickness_factor": 1
        },
        {
         "color": "#15AFAC",
         "directed": false,
         "end": 11,
         "id": 10,
         "label": "",
         "properties": {},
         "start": 3,
         "thickness_factor": 1
        },
        {
         "color": "#15AFAC",
         "directed": false,
         "end": 6,
         "id": 11,
         "label": "",
         "properties": {},
         "start": 4,
         "thickness_factor": 1
        },
        {
         "color": "#15AFAC",
         "directed": false,
         "end": 11,
         "id": 12,
         "label": "",
         "properties": {},
         "start": 4,
         "thickness_factor": 1
        },
        {
         "color": "#15AFAC",
         "directed": false,
         "end": 7,
         "id": 13,
         "label": "",
         "properties": {},
         "start": 6,
         "thickness_factor": 1
        },
        {
         "color": "#15AFAC",
         "directed": false,
         "end": 12,
         "id": 14,
         "label": "",
         "properties": {},
         "start": 7,
         "thickness_factor": 1
        },
        {
         "color": "#15AFAC",
         "directed": false,
         "end": 13,
         "id": 15,
         "label": "",
         "properties": {},
         "start": 8,
         "thickness_factor": 1
        },
        {
         "color": "#15AFAC",
         "directed": false,
         "end": 12,
         "id": 16,
         "label": "",
         "properties": {},
         "start": 8,
         "thickness_factor": 1
        },
        {
         "color": "#15AFAC",
         "directed": false,
         "end": 10,
         "id": 17,
         "label": "",
         "properties": {},
         "start": 9,
         "thickness_factor": 1
        },
        {
         "color": "#15AFAC",
         "directed": false,
         "end": 12,
         "id": 18,
         "label": "",
         "properties": {},
         "start": 11,
         "thickness_factor": 1
        },
        {
         "color": "#15AFAC",
         "directed": false,
         "end": 14,
         "id": 19,
         "label": "",
         "properties": {},
         "start": 12,
         "thickness_factor": 1
        }
       ],
       "_model_module_version": "^1.7.3",
       "_nodes": [
        {
         "color": "#15AFAC",
         "id": 0,
         "label": "Acciaiuoli",
         "position": [
          0,
          0
         ],
         "properties": {
          "label": "Acciaiuoli"
         },
         "scale_factor": 1,
         "size": [
          55,
          55
         ],
         "styles": {},
         "type": "#15AFAC"
        },
        {
         "color": "#15AFAC",
         "id": 1,
         "label": "Medici",
         "position": [
          0,
          0
         ],
         "properties": {
          "label": "Medici"
         },
         "scale_factor": 1,
         "size": [
          55,
          55
         ],
         "styles": {},
         "type": "#15AFAC"
        },
        {
         "color": "#15AFAC",
         "id": 2,
         "label": "Castellani",
         "position": [
          0,
          0
         ],
         "properties": {
          "label": "Castellani"
         },
         "scale_factor": 1,
         "size": [
          55,
          55
         ],
         "styles": {},
         "type": "#15AFAC"
        },
        {
         "color": "#15AFAC",
         "id": 3,
         "label": "Peruzzi",
         "position": [
          0,
          0
         ],
         "properties": {
          "label": "Peruzzi"
         },
         "scale_factor": 1,
         "size": [
          55,
          55
         ],
         "styles": {},
         "type": "#15AFAC"
        },
        {
         "color": "#15AFAC",
         "id": 4,
         "label": "Strozzi",
         "position": [
          0,
          0
         ],
         "properties": {
          "label": "Strozzi"
         },
         "scale_factor": 1,
         "size": [
          55,
          55
         ],
         "styles": {},
         "type": "#15AFAC"
        },
        {
         "color": "#15AFAC",
         "id": 5,
         "label": "Barbadori",
         "position": [
          0,
          0
         ],
         "properties": {
          "label": "Barbadori"
         },
         "scale_factor": 1,
         "size": [
          55,
          55
         ],
         "styles": {},
         "type": "#15AFAC"
        },
        {
         "color": "#15AFAC",
         "id": 6,
         "label": "Ridolfi",
         "position": [
          0,
          0
         ],
         "properties": {
          "label": "Ridolfi"
         },
         "scale_factor": 1,
         "size": [
          55,
          55
         ],
         "styles": {},
         "type": "#15AFAC"
        },
        {
         "color": "#15AFAC",
         "id": 7,
         "label": "Tornabuoni",
         "position": [
          0,
          0
         ],
         "properties": {
          "label": "Tornabuoni"
         },
         "scale_factor": 1,
         "size": [
          55,
          55
         ],
         "styles": {},
         "type": "#15AFAC"
        },
        {
         "color": "#15AFAC",
         "id": 8,
         "label": "Albizzi",
         "position": [
          0,
          0
         ],
         "properties": {
          "label": "Albizzi"
         },
         "scale_factor": 1,
         "size": [
          55,
          55
         ],
         "styles": {},
         "type": "#15AFAC"
        },
        {
         "color": "#15AFAC",
         "id": 9,
         "label": "Salviati",
         "position": [
          0,
          0
         ],
         "properties": {
          "label": "Salviati"
         },
         "scale_factor": 1,
         "size": [
          55,
          55
         ],
         "styles": {},
         "type": "#15AFAC"
        },
        {
         "color": "#15AFAC",
         "id": 10,
         "label": "Pazzi",
         "position": [
          0,
          0
         ],
         "properties": {
          "label": "Pazzi"
         },
         "scale_factor": 1,
         "size": [
          55,
          55
         ],
         "styles": {},
         "type": "#15AFAC"
        },
        {
         "color": "#15AFAC",
         "id": 11,
         "label": "Bischeri",
         "position": [
          0,
          0
         ],
         "properties": {
          "label": "Bischeri"
         },
         "scale_factor": 1,
         "size": [
          55,
          55
         ],
         "styles": {},
         "type": "#15AFAC"
        },
        {
         "color": "#15AFAC",
         "id": 12,
         "label": "Guadagni",
         "position": [
          0,
          0
         ],
         "properties": {
          "label": "Guadagni"
         },
         "scale_factor": 1,
         "size": [
          55,
          55
         ],
         "styles": {},
         "type": "#15AFAC"
        },
        {
         "color": "#15AFAC",
         "id": 13,
         "label": "Ginori",
         "position": [
          0,
          0
         ],
         "properties": {
          "label": "Ginori"
         },
         "scale_factor": 1,
         "size": [
          55,
          55
         ],
         "styles": {},
         "type": "#15AFAC"
        },
        {
         "color": "#15AFAC",
         "id": 14,
         "label": "Lamberteschi",
         "position": [
          0,
          0
         ],
         "properties": {
          "label": "Lamberteschi"
         },
         "scale_factor": 1,
         "size": [
          55,
          55
         ],
         "styles": {},
         "type": "#15AFAC"
        }
       ],
       "_overview": {
        "enabled": null,
        "overview_set": false
       },
       "_selected_graph": [
        [],
        []
       ],
       "_sidebar": {
        "enabled": true,
        "start_with": "Data"
       },
       "_view_module_version": "^1.7.3",
       "layout": "IPY_MODEL_0a66c2d8409a44028d62a3570f2643d8"
      }
     },
     "afa15943481643e8ae7382eda870063e": {
      "model_module": "yfiles-jupyter-graphs",
      "model_module_version": "^1.7.3",
      "model_name": "GraphModel",
      "state": {
       "_context_pane_mapping": [
        {
         "id": "Neighborhood",
         "title": "Neighborhood"
        },
        {
         "id": "Data",
         "title": "Data"
        },
        {
         "id": "Search",
         "title": "Search"
        },
        {
         "id": "About",
         "title": "About"
        }
       ],
       "_data_importer": "networkx",
       "_directed": false,
       "_edges": [
        {
         "color": "#15AFAC",
         "directed": false,
         "end": 1,
         "id": 0,
         "label": "",
         "properties": {},
         "start": 0,
         "thickness_factor": 1
        },
        {
         "color": "#15AFAC",
         "directed": false,
         "end": 5,
         "id": 1,
         "label": "",
         "properties": {},
         "start": 1,
         "thickness_factor": 1
        },
        {
         "color": "#15AFAC",
         "directed": false,
         "end": 6,
         "id": 2,
         "label": "",
         "properties": {},
         "start": 1,
         "thickness_factor": 1
        },
        {
         "color": "#15AFAC",
         "directed": false,
         "end": 7,
         "id": 3,
         "label": "",
         "properties": {},
         "start": 1,
         "thickness_factor": 1
        },
        {
         "color": "#15AFAC",
         "directed": false,
         "end": 8,
         "id": 4,
         "label": "",
         "properties": {},
         "start": 1,
         "thickness_factor": 1
        },
        {
         "color": "#15AFAC",
         "directed": false,
         "end": 9,
         "id": 5,
         "label": "",
         "properties": {},
         "start": 1,
         "thickness_factor": 1
        },
        {
         "color": "#15AFAC",
         "directed": false,
         "end": 3,
         "id": 6,
         "label": "",
         "properties": {},
         "start": 2,
         "thickness_factor": 1
        },
        {
         "color": "#15AFAC",
         "directed": false,
         "end": 4,
         "id": 7,
         "label": "",
         "properties": {},
         "start": 2,
         "thickness_factor": 1
        },
        {
         "color": "#15AFAC",
         "directed": false,
         "end": 5,
         "id": 8,
         "label": "",
         "properties": {},
         "start": 2,
         "thickness_factor": 1
        },
        {
         "color": "#15AFAC",
         "directed": false,
         "end": 4,
         "id": 9,
         "label": "",
         "properties": {},
         "start": 3,
         "thickness_factor": 1
        },
        {
         "color": "#15AFAC",
         "directed": false,
         "end": 11,
         "id": 10,
         "label": "",
         "properties": {},
         "start": 3,
         "thickness_factor": 1
        },
        {
         "color": "#15AFAC",
         "directed": false,
         "end": 6,
         "id": 11,
         "label": "",
         "properties": {},
         "start": 4,
         "thickness_factor": 1
        },
        {
         "color": "#15AFAC",
         "directed": false,
         "end": 11,
         "id": 12,
         "label": "",
         "properties": {},
         "start": 4,
         "thickness_factor": 1
        },
        {
         "color": "#15AFAC",
         "directed": false,
         "end": 7,
         "id": 13,
         "label": "",
         "properties": {},
         "start": 6,
         "thickness_factor": 1
        },
        {
         "color": "#15AFAC",
         "directed": false,
         "end": 12,
         "id": 14,
         "label": "",
         "properties": {},
         "start": 7,
         "thickness_factor": 1
        },
        {
         "color": "#15AFAC",
         "directed": false,
         "end": 13,
         "id": 15,
         "label": "",
         "properties": {},
         "start": 8,
         "thickness_factor": 1
        },
        {
         "color": "#15AFAC",
         "directed": false,
         "end": 12,
         "id": 16,
         "label": "",
         "properties": {},
         "start": 8,
         "thickness_factor": 1
        },
        {
         "color": "#15AFAC",
         "directed": false,
         "end": 10,
         "id": 17,
         "label": "",
         "properties": {},
         "start": 9,
         "thickness_factor": 1
        },
        {
         "color": "#15AFAC",
         "directed": false,
         "end": 12,
         "id": 18,
         "label": "",
         "properties": {},
         "start": 11,
         "thickness_factor": 1
        },
        {
         "color": "#15AFAC",
         "directed": false,
         "end": 14,
         "id": 19,
         "label": "",
         "properties": {},
         "start": 12,
         "thickness_factor": 1
        }
       ],
       "_model_module_version": "^1.7.3",
       "_nodes": [
        {
         "color": "#15AFAC",
         "id": 0,
         "label": "Acciaiuoli",
         "position": [
          0,
          0
         ],
         "properties": {
          "label": "Acciaiuoli"
         },
         "scale_factor": 1,
         "size": [
          55,
          55
         ],
         "styles": {},
         "type": "#15AFAC"
        },
        {
         "color": "#15AFAC",
         "id": 1,
         "label": "Medici",
         "position": [
          0,
          0
         ],
         "properties": {
          "label": "Medici"
         },
         "scale_factor": 1,
         "size": [
          55,
          55
         ],
         "styles": {},
         "type": "#15AFAC"
        },
        {
         "color": "#15AFAC",
         "id": 2,
         "label": "Castellani",
         "position": [
          0,
          0
         ],
         "properties": {
          "label": "Castellani"
         },
         "scale_factor": 1,
         "size": [
          55,
          55
         ],
         "styles": {},
         "type": "#15AFAC"
        },
        {
         "color": "#15AFAC",
         "id": 3,
         "label": "Peruzzi",
         "position": [
          0,
          0
         ],
         "properties": {
          "label": "Peruzzi"
         },
         "scale_factor": 1,
         "size": [
          55,
          55
         ],
         "styles": {},
         "type": "#15AFAC"
        },
        {
         "color": "#15AFAC",
         "id": 4,
         "label": "Strozzi",
         "position": [
          0,
          0
         ],
         "properties": {
          "label": "Strozzi"
         },
         "scale_factor": 1,
         "size": [
          55,
          55
         ],
         "styles": {},
         "type": "#15AFAC"
        },
        {
         "color": "#15AFAC",
         "id": 5,
         "label": "Barbadori",
         "position": [
          0,
          0
         ],
         "properties": {
          "label": "Barbadori"
         },
         "scale_factor": 1,
         "size": [
          55,
          55
         ],
         "styles": {},
         "type": "#15AFAC"
        },
        {
         "color": "#15AFAC",
         "id": 6,
         "label": "Ridolfi",
         "position": [
          0,
          0
         ],
         "properties": {
          "label": "Ridolfi"
         },
         "scale_factor": 1,
         "size": [
          55,
          55
         ],
         "styles": {},
         "type": "#15AFAC"
        },
        {
         "color": "#15AFAC",
         "id": 7,
         "label": "Tornabuoni",
         "position": [
          0,
          0
         ],
         "properties": {
          "label": "Tornabuoni"
         },
         "scale_factor": 1,
         "size": [
          55,
          55
         ],
         "styles": {},
         "type": "#15AFAC"
        },
        {
         "color": "#15AFAC",
         "id": 8,
         "label": "Albizzi",
         "position": [
          0,
          0
         ],
         "properties": {
          "label": "Albizzi"
         },
         "scale_factor": 1,
         "size": [
          55,
          55
         ],
         "styles": {},
         "type": "#15AFAC"
        },
        {
         "color": "#15AFAC",
         "id": 9,
         "label": "Salviati",
         "position": [
          0,
          0
         ],
         "properties": {
          "label": "Salviati"
         },
         "scale_factor": 1,
         "size": [
          55,
          55
         ],
         "styles": {},
         "type": "#15AFAC"
        },
        {
         "color": "#15AFAC",
         "id": 10,
         "label": "Pazzi",
         "position": [
          0,
          0
         ],
         "properties": {
          "label": "Pazzi"
         },
         "scale_factor": 1,
         "size": [
          55,
          55
         ],
         "styles": {},
         "type": "#15AFAC"
        },
        {
         "color": "#15AFAC",
         "id": 11,
         "label": "Bischeri",
         "position": [
          0,
          0
         ],
         "properties": {
          "label": "Bischeri"
         },
         "scale_factor": 1,
         "size": [
          55,
          55
         ],
         "styles": {},
         "type": "#15AFAC"
        },
        {
         "color": "#15AFAC",
         "id": 12,
         "label": "Guadagni",
         "position": [
          0,
          0
         ],
         "properties": {
          "label": "Guadagni"
         },
         "scale_factor": 1,
         "size": [
          55,
          55
         ],
         "styles": {},
         "type": "#15AFAC"
        },
        {
         "color": "#15AFAC",
         "id": 13,
         "label": "Ginori",
         "position": [
          0,
          0
         ],
         "properties": {
          "label": "Ginori"
         },
         "scale_factor": 1,
         "size": [
          55,
          55
         ],
         "styles": {},
         "type": "#15AFAC"
        },
        {
         "color": "#15AFAC",
         "id": 14,
         "label": "Lamberteschi",
         "position": [
          0,
          0
         ],
         "properties": {
          "label": "Lamberteschi"
         },
         "scale_factor": 1,
         "size": [
          55,
          55
         ],
         "styles": {},
         "type": "#15AFAC"
        }
       ],
       "_overview": {
        "enabled": null,
        "overview_set": false
       },
       "_selected_graph": [
        [],
        []
       ],
       "_sidebar": {
        "enabled": true,
        "start_with": "About"
       },
       "_view_module_version": "^1.7.3",
       "layout": "IPY_MODEL_5caae18b45d149188d652a4f4cce3049"
      }
     },
     "dfe3cc7ebde948e2bda6296c1f1ca906": {
      "model_module": "@jupyter-widgets/base",
      "model_module_version": "2.0.0",
      "model_name": "LayoutModel",
      "state": {
       "height": "500px",
       "width": "100%"
      }
     },
     "f1449888271040bfa7656938412ffbc4": {
      "model_module": "yfiles-jupyter-graphs",
      "model_module_version": "^1.7.3",
      "model_name": "GraphModel",
      "state": {
       "_context_pane_mapping": [
        {
         "id": "Neighborhood",
         "title": "Neighborhood"
        },
        {
         "id": "Data",
         "title": "Data"
        },
        {
         "id": "Search",
         "title": "Search"
        },
        {
         "id": "About",
         "title": "About"
        }
       ],
       "_data_importer": "networkx",
       "_directed": false,
       "_edges": [
        {
         "color": "#15AFAC",
         "directed": false,
         "end": 1,
         "id": 0,
         "label": "",
         "properties": {},
         "start": 0,
         "thickness_factor": 1
        },
        {
         "color": "#15AFAC",
         "directed": false,
         "end": 5,
         "id": 1,
         "label": "",
         "properties": {},
         "start": 1,
         "thickness_factor": 1
        },
        {
         "color": "#15AFAC",
         "directed": false,
         "end": 6,
         "id": 2,
         "label": "",
         "properties": {},
         "start": 1,
         "thickness_factor": 1
        },
        {
         "color": "#15AFAC",
         "directed": false,
         "end": 7,
         "id": 3,
         "label": "",
         "properties": {},
         "start": 1,
         "thickness_factor": 1
        },
        {
         "color": "#15AFAC",
         "directed": false,
         "end": 8,
         "id": 4,
         "label": "",
         "properties": {},
         "start": 1,
         "thickness_factor": 1
        },
        {
         "color": "#15AFAC",
         "directed": false,
         "end": 9,
         "id": 5,
         "label": "",
         "properties": {},
         "start": 1,
         "thickness_factor": 1
        },
        {
         "color": "#15AFAC",
         "directed": false,
         "end": 3,
         "id": 6,
         "label": "",
         "properties": {},
         "start": 2,
         "thickness_factor": 1
        },
        {
         "color": "#15AFAC",
         "directed": false,
         "end": 4,
         "id": 7,
         "label": "",
         "properties": {},
         "start": 2,
         "thickness_factor": 1
        },
        {
         "color": "#15AFAC",
         "directed": false,
         "end": 5,
         "id": 8,
         "label": "",
         "properties": {},
         "start": 2,
         "thickness_factor": 1
        },
        {
         "color": "#15AFAC",
         "directed": false,
         "end": 4,
         "id": 9,
         "label": "",
         "properties": {},
         "start": 3,
         "thickness_factor": 1
        },
        {
         "color": "#15AFAC",
         "directed": false,
         "end": 11,
         "id": 10,
         "label": "",
         "properties": {},
         "start": 3,
         "thickness_factor": 1
        },
        {
         "color": "#15AFAC",
         "directed": false,
         "end": 6,
         "id": 11,
         "label": "",
         "properties": {},
         "start": 4,
         "thickness_factor": 1
        },
        {
         "color": "#15AFAC",
         "directed": false,
         "end": 11,
         "id": 12,
         "label": "",
         "properties": {},
         "start": 4,
         "thickness_factor": 1
        },
        {
         "color": "#15AFAC",
         "directed": false,
         "end": 7,
         "id": 13,
         "label": "",
         "properties": {},
         "start": 6,
         "thickness_factor": 1
        },
        {
         "color": "#15AFAC",
         "directed": false,
         "end": 12,
         "id": 14,
         "label": "",
         "properties": {},
         "start": 7,
         "thickness_factor": 1
        },
        {
         "color": "#15AFAC",
         "directed": false,
         "end": 13,
         "id": 15,
         "label": "",
         "properties": {},
         "start": 8,
         "thickness_factor": 1
        },
        {
         "color": "#15AFAC",
         "directed": false,
         "end": 12,
         "id": 16,
         "label": "",
         "properties": {},
         "start": 8,
         "thickness_factor": 1
        },
        {
         "color": "#15AFAC",
         "directed": false,
         "end": 10,
         "id": 17,
         "label": "",
         "properties": {},
         "start": 9,
         "thickness_factor": 1
        },
        {
         "color": "#15AFAC",
         "directed": false,
         "end": 12,
         "id": 18,
         "label": "",
         "properties": {},
         "start": 11,
         "thickness_factor": 1
        },
        {
         "color": "#15AFAC",
         "directed": false,
         "end": 14,
         "id": 19,
         "label": "",
         "properties": {},
         "start": 12,
         "thickness_factor": 1
        }
       ],
       "_model_module_version": "^1.7.3",
       "_nodes": [
        {
         "color": "#15AFAC",
         "id": 0,
         "label": "Acciaiuoli",
         "position": [
          0,
          0
         ],
         "properties": {
          "label": "Acciaiuoli"
         },
         "scale_factor": 1,
         "size": [
          55,
          55
         ],
         "styles": {},
         "type": "#15AFAC"
        },
        {
         "color": "#15AFAC",
         "id": 1,
         "label": "Medici",
         "position": [
          0,
          0
         ],
         "properties": {
          "label": "Medici"
         },
         "scale_factor": 1,
         "size": [
          55,
          55
         ],
         "styles": {},
         "type": "#15AFAC"
        },
        {
         "color": "#15AFAC",
         "id": 2,
         "label": "Castellani",
         "position": [
          0,
          0
         ],
         "properties": {
          "label": "Castellani"
         },
         "scale_factor": 1,
         "size": [
          55,
          55
         ],
         "styles": {},
         "type": "#15AFAC"
        },
        {
         "color": "#15AFAC",
         "id": 3,
         "label": "Peruzzi",
         "position": [
          0,
          0
         ],
         "properties": {
          "label": "Peruzzi"
         },
         "scale_factor": 1,
         "size": [
          55,
          55
         ],
         "styles": {},
         "type": "#15AFAC"
        },
        {
         "color": "#15AFAC",
         "id": 4,
         "label": "Strozzi",
         "position": [
          0,
          0
         ],
         "properties": {
          "label": "Strozzi"
         },
         "scale_factor": 1,
         "size": [
          55,
          55
         ],
         "styles": {},
         "type": "#15AFAC"
        },
        {
         "color": "#15AFAC",
         "id": 5,
         "label": "Barbadori",
         "position": [
          0,
          0
         ],
         "properties": {
          "label": "Barbadori"
         },
         "scale_factor": 1,
         "size": [
          55,
          55
         ],
         "styles": {},
         "type": "#15AFAC"
        },
        {
         "color": "#15AFAC",
         "id": 6,
         "label": "Ridolfi",
         "position": [
          0,
          0
         ],
         "properties": {
          "label": "Ridolfi"
         },
         "scale_factor": 1,
         "size": [
          55,
          55
         ],
         "styles": {},
         "type": "#15AFAC"
        },
        {
         "color": "#15AFAC",
         "id": 7,
         "label": "Tornabuoni",
         "position": [
          0,
          0
         ],
         "properties": {
          "label": "Tornabuoni"
         },
         "scale_factor": 1,
         "size": [
          55,
          55
         ],
         "styles": {},
         "type": "#15AFAC"
        },
        {
         "color": "#15AFAC",
         "id": 8,
         "label": "Albizzi",
         "position": [
          0,
          0
         ],
         "properties": {
          "label": "Albizzi"
         },
         "scale_factor": 1,
         "size": [
          55,
          55
         ],
         "styles": {},
         "type": "#15AFAC"
        },
        {
         "color": "#15AFAC",
         "id": 9,
         "label": "Salviati",
         "position": [
          0,
          0
         ],
         "properties": {
          "label": "Salviati"
         },
         "scale_factor": 1,
         "size": [
          55,
          55
         ],
         "styles": {},
         "type": "#15AFAC"
        },
        {
         "color": "#15AFAC",
         "id": 10,
         "label": "Pazzi",
         "position": [
          0,
          0
         ],
         "properties": {
          "label": "Pazzi"
         },
         "scale_factor": 1,
         "size": [
          55,
          55
         ],
         "styles": {},
         "type": "#15AFAC"
        },
        {
         "color": "#15AFAC",
         "id": 11,
         "label": "Bischeri",
         "position": [
          0,
          0
         ],
         "properties": {
          "label": "Bischeri"
         },
         "scale_factor": 1,
         "size": [
          55,
          55
         ],
         "styles": {},
         "type": "#15AFAC"
        },
        {
         "color": "#15AFAC",
         "id": 12,
         "label": "Guadagni",
         "position": [
          0,
          0
         ],
         "properties": {
          "label": "Guadagni"
         },
         "scale_factor": 1,
         "size": [
          55,
          55
         ],
         "styles": {},
         "type": "#15AFAC"
        },
        {
         "color": "#15AFAC",
         "id": 13,
         "label": "Ginori",
         "position": [
          0,
          0
         ],
         "properties": {
          "label": "Ginori"
         },
         "scale_factor": 1,
         "size": [
          55,
          55
         ],
         "styles": {},
         "type": "#15AFAC"
        },
        {
         "color": "#15AFAC",
         "id": 14,
         "label": "Lamberteschi",
         "position": [
          0,
          0
         ],
         "properties": {
          "label": "Lamberteschi"
         },
         "scale_factor": 1,
         "size": [
          55,
          55
         ],
         "styles": {},
         "type": "#15AFAC"
        }
       ],
       "_overview": {
        "enabled": null,
        "overview_set": false
       },
       "_selected_graph": [
        [],
        []
       ],
       "_sidebar": {
        "enabled": false,
        "start_with": "Data"
       },
       "_view_module_version": "^1.7.3",
       "layout": "IPY_MODEL_43898672efeb47e29456429bea0bffc1"
      }
     },
     "f2fc3f43e4884a7782c7603468e8c31f": {
      "model_module": "@jupyter-widgets/base",
      "model_module_version": "2.0.0",
      "model_name": "LayoutModel",
      "state": {
       "height": "650px",
       "width": "100%"
      }
     }
    },
    "version_major": 2,
    "version_minor": 0
   }
  }
 },
 "nbformat": 4,
 "nbformat_minor": 5
}
