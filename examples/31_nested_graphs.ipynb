{
 "cells": [
  {
   "cell_type": "markdown",
   "id": "95c7a78b-917a-42b6-a1a9-b3255c0667ce",
   "metadata": {},
   "source": [
    "# Nested Graphs <a target=\"_blank\" href=\"https://colab.research.google.com/github/yWorks/yfiles-jupyter-graphs/blob/main/examples/31_nested_graphs.ipynb\"><img src=\"https://colab.research.google.com/assets/colab-badge.svg\" alt=\"Open In Colab\"/></a>\n",
    "\n",
    "Before using the graph widget, install all necessary packages and initialize your widget."
   ]
  },
  {
   "cell_type": "code",
   "execution_count": null,
   "id": "86ccab84-0881-4e14-b33d-51313ec2b85e",
   "metadata": {},
   "outputs": [],
   "source": [
    "%pip install yfiles_jupyter_graphs --quiet\n",
    "from yfiles_jupyter_graphs import GraphWidget"
   ]
  },
  {
   "cell_type": "markdown",
   "id": "99c91625-6682-4dcc-86ed-ff80a85d435d",
   "metadata": {},
   "source": [
    "You can also open this notebook in Google Colab when Google Colab's custom widget manager is enabled:"
   ]
  },
  {
   "cell_type": "code",
   "execution_count": null,
   "id": "837b3dc2-a656-4bd1-856d-b2e4ed12b7a0",
   "metadata": {},
   "outputs": [],
   "source": [
    "try:\n",
    "  import google.colab\n",
    "  from google.colab import output\n",
    "  output.enable_custom_widget_manager()\n",
    "except:\n",
    "  pass"
   ]
  },
  {
   "cell_type": "markdown",
   "id": "e8af92d1-a099-4f27-b42b-7ffebff1954d",
   "metadata": {},
   "source": [
    "<a target=\"_blank\" href=\"https://colab.research.google.com/github/yWorks/yfiles-jupyter-graphs/blob/main/examples/31_nested_graphs.ipynb\"><img src=\"https://colab.research.google.com/assets/colab-badge.svg\" alt=\"Open In Colab\"/></a>"
   ]
  },
  {
   "cell_type": "markdown",
   "id": "8cea83a9-2373-4dce-a9a2-353022fb1676",
   "metadata": {},
   "source": [
    "## Sample Data\n",
    "\n",
    "The dataset for this sample is the following airport and flight routes data:"
   ]
  },
  {
   "cell_type": "code",
   "execution_count": null,
   "id": "0eb47bdd-d943-4820-bbc3-29d8396204ac",
   "metadata": {},
   "outputs": [],
   "source": [
    "airports = [\n",
    "    {\"name\": \"Los Angeles\", \"iata\": \"LAX\", \"lat\": 33.942536, \"lng\": -118.408075, \"passengers\": 65000000, \"country\": \"USA\", \"id\": \"LAX\"}, {\"name\": \"Rio de Janeiro\", \"iata\": \"GIG\", \"lat\": -22.808903, \"lng\": -43.243647, \"passengers\": 5000000, \"country\": \"Brazil\", \"id\": \"GIG\"}, {\"name\": \"Lima\", \"iata\": \"LIM\", \"lat\": -12.021889, \"lng\": -77.114319, \"passengers\": 18000000, \"country\": \"Peru\", \"id\": \"LIM\"}, {\"name\": \"London\", \"iata\": \"LHR\", \"lat\": 51.4775, \"lng\": -0.461389, \"passengers\": 61000000, \"country\": \"UK\", \"id\": \"LHR\"},\n",
    "    {\"name\": \"Frankfurt\", \"iata\": \"FRA\", \"lat\": 50.033333, \"lng\": 8.570556, \"passengers\": 48000000, \"country\": \"Germany\", \"id\": \"FRA\"}, {\"name\": \"Moscow\", \"iata\": \"SVO\", \"lat\": 55.972642, \"lng\": 37.414589, \"passengers\": 49000000, \"country\": \"Russia\", \"id\": \"SVO\"}, {\"name\": \"New Delhi\", \"iata\": \"DEL\", \"lat\": 28.5665, \"lng\": 77.103089, \"passengers\": 39000000, \"country\": \"India\", \"id\": \"DEL\"}, {\"name\": \"Shanghai\", \"iata\": \"PVG\", \"lat\": 31.143378, \"lng\": 121.805214, \"passengers\": 32000000, \"country\": \"China\", \"id\": \"PVG\"},\n",
    "    {\"name\": \"Hongkong\", \"iata\": \"HKG\", \"lat\": 22.308919, \"lng\": 113.914603, \"passengers\": 1000000, \"country\": \"China\", \"id\": \"HKG\"}, {\"name\": \"Tokio\", \"iata\": \"NRT\", \"lat\": 35.764722, \"lng\": 140.386389, \"passengers\": 15000000, \"country\": \"Japan\", \"id\": \"NRT\"}, {\"name\": \"Dubai\", \"iata\": \"DXB\", \"lat\": 25.252778, \"lng\": 55.364444, \"passengers\": 29000000, \"country\": \"UAE\", \"id\": \"DXB\"}, {\"name\": \"Dakar\", \"iata\": \"DKR\", \"lat\": 14.670833, \"lng\": -17.072778, \"passengers\": 2000000, \"country\": \"Senegal\", \"id\": \"DKR\"},\n",
    "    {\"name\": \"Johannesburg\", \"iata\": \"JNB\", \"lat\": -26.133694, \"lng\": 28.242317, \"passengers\": 9000000, \"country\": \"South Africa\", \"id\": \"JNB\"}, {\"name\": \"Sydney\", \"iata\": \"SYD\", \"lat\": -33.946111, \"lng\": 151.177222, \"passengers\": 44000000, \"country\": \"Australia\", \"id\": \"SYD\"}, {\"name\": \"Nairobi\", \"iata\": \"NBO\", \"lat\": -1.319167, \"lng\": 36.927778, \"passengers\": 900000, \"country\": \"Kenya\", \"id\": \"NBO\"}, {\"name\": \"Atlanta\", \"iata\": \"ATL\", \"lat\": 33.639167, \"lng\": -84.427778, \"passengers\": 93000000, \"country\": \"USA\", \"id\": \"ATL\"},\n",
    "    {\"name\": \"New York City\", \"iata\": \"JFK\", \"lat\": 40.63975, \"lng\": -73.778925, \"passengers\": 55000000, \"country\": \"USA\", \"id\": \"JFK\"}, {\"name\": \"Cairo\", \"iata\": \"CAI\", \"lat\": 30.121944, \"lng\": 31.405556, \"passengers\": 14000000, \"country\": \"Egypt\", \"id\": \"CAI\"}, {\"name\": \"Casablanca\", \"iata\": \"CMN\", \"lat\": 33.367467, \"lng\": -7.589967, \"passengers\": 7000000, \"country\": \"Morocco\", \"id\": \"CMN\"}, {\"name\": \"Lagos\", \"iata\": \"LOS\", \"lat\": 6.577222, \"lng\": 3.321111, \"passengers\": 5000000, \"country\": \"Nigeria\", \"id\": \"LOS\"},\n",
    "    {\"name\": \"Cape Town\", \"iata\": \"CPT\", \"lat\": -33.969444, \"lng\": 18.597222, \"passengers\": 5000000, \"country\": \"South Africa\", \"id\": \"CPT\"}, {\"name\": \"Chengdu\", \"iata\": \"CTU\", \"lat\": 30.578333, \"lng\": 103.946944, \"passengers\": 40000000, \"country\": \"China\", \"id\": \"CTU\"}, {\"name\": \"Jakarta\", \"iata\": \"CGK\", \"lat\": -6.125567, \"lng\": 106.655897, \"passengers\": 54000000, \"country\": \"Indonesia\", \"id\": \"CGK\"}, {\"name\": \"Teheran\", \"iata\": \"IKA\", \"lat\": 35.416111, \"lng\": 51.152222, \"passengers\": 8000000, \"country\": \"Iran\", \"id\": \"IKA\"},\n",
    "    {\"name\": \"Tel Aviv\", \"iata\": \"TLV\", \"lat\": 32.011389, \"lng\": 34.886667, \"passengers\": 20000000, \"country\": \"Israel\", \"id\": \"TLV\"}, {\"name\": \"Kuala Lumpur\", \"iata\": \"KUL\", \"lat\": 2.745578, \"lng\": 101.709917, \"passengers\": 25000000, \"country\": \"Malaysia\", \"id\": \"KUL\"}, {\"name\": \"Manila\", \"iata\": \"MNL\", \"lat\": 14.508647, \"lng\": 121.019581, \"passengers\": 8000000, \"country\": \"Philippines\", \"id\": \"MNL\"}, {\"name\": \"Singapur\", \"iata\": \"SIN\", \"lat\": 1.350189, \"lng\": 103.994433, \"passengers\": 32000000, \"country\": \"Singapore\", \"id\": \"SIN\"},\n",
    "    {\"name\": \"Taipeh\", \"iata\": \"TPE\", \"lat\": 25.077732, \"lng\": 121.232822, \"passengers\": 800000, \"country\": \"Taiwan\", \"id\": \"TPE\"}, {\"name\": \"Bangkok\", \"iata\": \"BKK\", \"lat\": 13.681108, \"lng\": 100.747283, \"passengers\": 65000000, \"country\": \"Thailand\", \"id\": \"BKK\"}, {\"name\": \"Istanbul\", \"iata\": \"IST\", \"lat\": 40.976922, \"lng\": 28.814606, \"passengers\": 64000000, \"country\": \"Turkey\", \"id\": \"IST\"}, {\"name\": \"Ulaanbaatar\", \"iata\": \"ULN\", \"lat\": 47.843056, \"lng\": 106.766639, \"passengers\": 1000000, \"country\": \"Mongolia\", \"id\": \"ULN\"},\n",
    "    {\"name\": \"Melbourne\", \"iata\": \"MEL\", \"lat\": -37.673333, \"lng\": 144.843333, \"passengers\": 12000000, \"country\": \"Australia\", \"id\": \"MEL\"}, {\"name\": \"Brisbane\", \"iata\": \"BNE\", \"lat\": -27.383333, \"lng\": 153.118056, \"passengers\": 23000000, \"country\": \"Australia\", \"id\": \"BNE\"}, {\"name\": \"Nadi\", \"iata\": \"NAN\", \"lat\": -17.755392, \"lng\": 177.443378, \"passengers\": 2000000, \"country\": \"Fiji\", \"id\": \"NAN\"}, {\"name\": \"Auckland\", \"iata\": \"AKL\", \"lat\": -37.008056, \"lng\": 174.791667, \"passengers\": 21000000, \"country\": \"New Zealand\", \"id\": \"AKL\"},\n",
    "    {\"name\": \"Paris\", \"iata\": \"CDG\", \"lat\": 49.009722, \"lng\": 2.547778, \"passengers\": 57000000, \"country\": \"France\", \"id\": \"CDG\"}, {\"name\": \"Madrid\", \"iata\": \"MAD\", \"lat\": 40.4675, \"lng\": -3.551944, \"passengers\": 50000000, \"country\": \"Spain\", \"id\": \"MAD\"}, {\"name\": \"Barcelona\", \"iata\": \"BCN\", \"lat\": 41.297078, \"lng\": 2.078464, \"passengers\": 41000000, \"country\": \"Spain\", \"id\": \"BCN\"}, {\"name\": \"Rome\", \"iata\": \"FCO\", \"lat\": 41.804444, \"lng\": 12.250833, \"passengers\": 29000000, \"country\": \"Italy\", \"id\": \"FCO\"},\n",
    "    {\"name\": \"Copenhagen\", \"iata\": \"CPH\", \"lat\": 55.617917, \"lng\": 12.655972, \"passengers\": 30000000, \"country\": \"Denmark\", \"id\": \"CPH\"}, {\"name\": \"Helsinki\", \"iata\": \"HEL\", \"lat\": 60.317222, \"lng\": 24.963333, \"passengers\": 5000000, \"country\": \"Finland\", \"id\": \"HEL\"}, {\"name\": \"Athens\", \"iata\": \"ATH\", \"lat\": 37.936358, \"lng\": 23.944467, \"passengers\": 22000000, \"country\": \"Greece\", \"id\": \"ATH\"}, {\"name\": \"Dublin\", \"iata\": \"DUB\", \"lat\": 53.421333, \"lng\": -6.270075, \"passengers\": 32000000, \"country\": \"Ireland\", \"id\": \"DUB\"},\n",
    "    {\"name\": \"Reykjavik\", \"iata\": \"RKV\", \"lat\": 64.13, \"lng\": -21.940556, \"passengers\": 400000, \"country\": \"Iceland\", \"id\": \"RKV\"}, {\"name\": \"Oslo\", \"iata\": \"OSL\", \"lat\": 60.193917, \"lng\": 11.100361, \"passengers\": 9000000, \"country\": \"Norway\", \"id\": \"OSL\"}, {\"name\": \"Vienna\", \"iata\": \"VIE\", \"lat\": 48.110833, \"lng\": 16.570833, \"passengers\": 10000000, \"country\": \"Austria\", \"id\": \"VIE\"}, {\"name\": \"Lisbon\", \"iata\": \"LIS\", \"lat\": 38.774167, \"lng\": -9.134167, \"passengers\": 28000000, \"country\": \"Portugal\", \"id\": \"LIS\"},\n",
    "    {\"name\": \"Stockholm\", \"iata\": \"ARN\", \"lat\": 59.651944, \"lng\": 17.918611, \"passengers\": 7000000, \"country\": \"Sweden\", \"id\": \"ARN\"}, {\"name\": \"Edinburgh\", \"iata\": \"EDI\", \"lat\": 55.95, \"lng\": -3.3725, \"passengers\": 14000000, \"country\": \"UK\", \"id\": \"EDI\"}, {\"name\": \"Chicago\", \"iata\": \"ORD\", \"lat\": 41.978603, \"lng\": -87.904842, \"passengers\": 54000000, \"country\": \"USA\", \"id\": \"ORD\"}, {\"name\": \"Dallas\", \"iata\": \"DFW\", \"lat\": 32.896828, \"lng\": -97.037997, \"passengers\": 73000000, \"country\": \"USA\", \"id\": \"DFW\"},\n",
    "    {\"name\": \"San Francisco\", \"iata\": \"SFO\", \"lat\": 37.618972, \"lng\": -122.374889, \"passengers\": 42000000, \"country\": \"USA\", \"id\": \"SFO\"}, {\"name\": \"Las Vegas\", \"iata\": \"LAS\", \"lat\": 36.080056, \"lng\": -115.15225, \"passengers\": 52000000, \"country\": \"USA\", \"id\": \"LAS\"}, {\"name\": \"Miami\", \"iata\": \"MIA\", \"lat\": 25.79325, \"lng\": -80.290556, \"passengers\": 50000000, \"country\": \"USA\", \"id\": \"MIA\"}, {\"name\": \"Toronto\", \"iata\": \"YYZ\", \"lat\": 43.677222, \"lng\": -79.630556, \"passengers\": 12000000, \"country\": \"Canada\", \"id\": \"YYZ\"},\n",
    "    {\"name\": \"Vancouver\", \"iata\": \"YVR\", \"lat\": 49.193889, \"lng\": -123.184444, \"passengers\": 19000000, \"country\": \"Canada\", \"id\": \"YVR\"}, {\"name\": \"Montreal\", \"iata\": \"YUL\", \"lat\": 45.47175, \"lng\": -73.736569, \"passengers\": 15000000, \"country\": \"Canada\", \"id\": \"YUL\"}, {\"name\": \"Mexico-City\", \"iata\": \"MEX\", \"lat\": 19.436303, \"lng\": -99.072097, \"passengers\": 46000000, \"country\": \"Mexico\", \"id\": \"MEX\"}, {\"name\": \"Guatemala-City\", \"iata\": \"GUA\", \"lat\": 14.583272, \"lng\": -90.527475, \"passengers\": 2000000, \"country\": \"Guatemala\", \"id\": \"GUA\"},\n",
    "    {\"name\": \"Buenos Aires\", \"iata\": \"EZE\", \"lat\": -34.822222, \"lng\": -58.535833, \"passengers\": 5000000, \"country\": \"Argentina\", \"id\": \"EZE\"}, {\"name\": \"Sao Paulo\", \"iata\": \"GRU\", \"lat\": -23.432075, \"lng\": -46.469511, \"passengers\": 34000000, \"country\": \"Brazil\", \"id\": \"GRU\"}, {\"name\": \"Santiago de Chile\", \"iata\": \"SCL\", \"lat\": -33.392975, \"lng\": -70.785803, \"passengers\": 20000000, \"country\": \"Chile\", \"id\": \"SCL\"}, {\"name\": \"Brasilia\", \"iata\": \"BSB\", \"lat\": -15.871111, \"lng\": -47.918611, \"passengers\": 13000000, \"country\": \"Brazil\", \"id\": \"BSB\"},\n",
    "    {\"name\": \"Bogota\", \"iata\": \"BOG\", \"lat\": 4.701594, \"lng\": -74.146947, \"passengers\": 36000000, \"country\": \"Colombia\", \"id\": \"BOG\"}, {\"name\": \"Caracas\", \"iata\": \"CCS\", \"lat\": 10.601194, \"lng\": -66.991222, \"passengers\": 8000000, \"country\": \"Venezuela\", \"id\": \"CCS\"}\n",
    "  ]\n",
    "connections = [\n",
    "    {'from': 'LAX','to': 'JFK' },   {'from': 'JFK','to': 'GIG' },    {'from': 'JFK','to': 'LIM' },    {'from': 'JFK','to': 'LHR' },    {'from': 'GIG','to': 'FRA' },    {'from': 'LIM','to': 'GIG' },    {'from': 'FRA','to': 'JFK' },    {'from': 'LHR','to': 'FRA' },    {'from': 'FRA','to': 'SVO' },    {'from': 'FRA','to': 'DXB' },    {'from': 'SVO','to': 'DEL' },\n",
    "    {'from': 'SVO','to': 'PVG' },    {'from': 'DEL','to': 'HKG' },    {'from': 'PVG','to': 'HKG' },    {'from': 'PVG','to': 'NRT' },    {'from': 'HKG','to': 'SYD' },    {'from': 'NRT','to': 'SYD' },    {'from': 'DXB','to': 'SVO' },    {'from': 'DXB','to': 'DEL' },    {'from': 'DXB','to': 'DKR' },    {'from': 'DXB','to': 'JNB' },    {'from': 'JNB','to': 'LHR' },\n",
    "    {'from': 'JNB','to': 'DKR' },    {'from': 'SYD','to': 'DXB' },    {'from': 'NBO','to': 'JNB' },    {'from': 'NBO','to': 'DXB' },    {'from': 'ATL','to': 'JFK' },    {'from': 'LAX','to': 'ATL' },    {'from': 'ATL','to': 'LHR' },    {'from': 'ATL','to': 'LIM' },    {'from': 'SCL','to': 'LIM' },    {'from': 'EZE','to': 'SCL' },    {'from': 'SCL','to': 'GRU' },\n",
    "    {'from': 'GIG','to': 'EZE' },    {'from': 'GIG','to': 'GRU' },    {'from': 'BSB','to': 'GIG' },    {'from': 'SCL','to': 'BSB' },    {'from': 'LIM','to': 'BSB' },    {'from': 'BOG','to': 'BSB' },    {'from': 'CCS','to': 'BSB' },    {'from': 'BOG','to': 'GUA' },    {'from': 'CCS','to': 'MIA' },    {'from': 'GUA','to': 'MIA' },    {'from': 'GUA','to': 'MEX' },\n",
    "    {'from': 'MEX','to': 'LAX' },    {'from': 'MEX','to': 'LAX' },    {'from': 'LAX','to': 'SFO' },    {'from': 'SFO','to': 'YVR' },    {'from': 'LAX','to': 'LAS' },    {'from': 'LAX','to': 'DFW' },    {'from': 'LAX','to': 'ORD' },    {'from': 'SFO','to': 'LAS' },    {'from': 'DFW','to': 'ATL' },    {'from': 'ATL','to': 'YYZ' },    {'from': 'ORD','to': 'YYZ' }, \n",
    "    {'from': 'YYZ','to': 'YUL' },    {'from': 'YYZ','to': 'JFK' },    {'from': 'YUL','to': 'JFK' },    {'from': 'JNB','to': 'CPT' },    {'from': 'LOS','to': 'DKR' },    {'from': 'NBO','to': 'LOS' },    {'from': 'DKR','to': 'CMN' },    {'from': 'DKR','to': 'CAI' },    {'from': 'NBO','to': 'CAI' },    {'from': 'DXB','to': 'CAI' },    {'from': 'IKA','to': 'DXB' },  \n",
    "    {'from': 'IST','to': 'IKA' },    {'from': 'TLV','to': 'ATH' },    {'from': 'CAI','to': 'TLV' },    {'from': 'ATH','to': 'IST' },    {'from': 'FCO','to': 'ATH' },    {'from': 'LIS','to': 'LHR' },    {'from': 'LIS','to': 'MAD' },    {'from': 'MAD','to': 'BCN' },    {'from': 'CDG','to': 'LHR' },    {'from': 'DUB','to': 'LHR' },    {'from': 'EDI','to': 'LHR' }, \n",
    "    {'from': 'CDG','to': 'BCN' },    {'from': 'BCN','to': 'FCO' },    {'from': 'VIE','to': 'IST' },    {'from': 'VIE','to': 'SVO' },    {'from': 'CMN','to': 'LIS' },    {'from': 'MAD','to': 'CMN' },    {'from': 'FRA','to': 'CPH' },    {'from': 'LHR','to': 'CPH' },    {'from': 'CPH','to': 'OSL' },    {'from': 'CPH','to': 'ARN' },    {'from': 'ARN','to': 'HEL' },\n",
    "    {'from': 'HEL','to': 'SVO' },    {'from': 'ULN','to': 'PVG' },    {'from': 'CTU','to': 'PVG' },    {'from': 'PVG','to': 'TPE' },    {'from': 'CTU','to': 'HKG' },    {'from': 'TPE','to': 'HKG' },    {'from': 'HKG','to': 'MNL' },    {'from': 'BKK','to': 'HKG' },    {'from': 'SIN','to': 'KUL' },    {'from': 'SIN','to': 'BKK' },    {'from': 'CGK','to': 'SIN' },\n",
    "    {'from': 'MNL','to': 'SIN' },    {'from': 'SIN','to': 'SYD' },    {'from': 'BNE','to': 'SYD' },    {'from': 'SYD','to': 'MEL' },    {'from': 'NAN','to': 'SYD' },    {'from': 'AKL','to': 'SYD' },    {'from': 'NAN','to': 'AKL' },    {'from': 'RKV','to': 'LHR' },    {'from': 'BCN','to': 'CDG' },    {'from': 'BCN','to': 'FRA' },    {'from': 'FCO','to': 'FRA' },  \n",
    "    {'from': 'BOG','to': 'MEX' },    {'from': 'BOG','to': 'GRU' },    {'from': 'ATL','to': 'MIA' },    {'from': 'FRA','to': 'IST' },    {'from': 'IST','to': 'DEL' },    {'from': 'PVG','to': 'BKK' },    {'from': 'DEL','to': 'BKK' },\n",
    "  ]"
   ]
  },
  {
   "cell_type": "markdown",
   "id": "1970927b-c195-4135-8b10-c0ad7902abab",
   "metadata": {},
   "source": [
    "Provided as data to yFiles Jupyter Graphs results in this graph:"
   ]
  },
  {
   "cell_type": "code",
   "execution_count": null,
   "id": "cd760fb5-88da-4343-9fc0-4dbaccae7202",
   "metadata": {},
   "outputs": [],
   "source": [
    "w = GraphWidget()\n",
    "w.edges = edges = [\n",
    "    {\"start\": connection['from'], \"end\": connection['to'], \"label\": \"\", \"properties\": {}, \"directed\": False}\n",
    "    for connection in connections\n",
    "]\n",
    "\n",
    "w.nodes = nodes = [\n",
    "    {\"id\": airport['iata'], \"properties\": {\"label\": airport['name'], 'passengers': airport['passengers'], 'country': airport['country']}, \"coordinates\": [airport['lat'], airport['lng']]}\n",
    "    for airport in airports\n",
    "]\n",
    "w.node_coordinate_mapping = 'coordinates' # also map the geo-coordinate data because they are available in the dataset\n",
    "display(w)"
   ]
  },
  {
   "cell_type": "markdown",
   "id": "66223c0a-fcfa-468e-a04b-6f29ff15055a",
   "metadata": {},
   "source": [
    "Among other properties, each airport entry contains a `country` property which we can use as grouping key, such that the airports are grouped by country."
   ]
  },
  {
   "cell_type": "markdown",
   "id": "c0b30cf2-74c3-462f-9e62-37c6fd209887",
   "metadata": {},
   "source": [
    "## Different ways to specify node grouping\n",
    "\n",
    "A different parent mapping must be used, depending on whether the group nodes are already part of the data set or not.\n",
    "\n",
    "<dl>\n",
    "    <dt><code>node_parent_mapping</code></dt>\n",
    "    <dd>\n",
    "        This mapping does not create new group node and just resolves the mapped id against the given dataset.<br>\n",
    "        Should be used when the group nodes are already <b>part of</b> the given dataset.<br>\n",
    "        See <a href=#Grouping-existing-nodes---node_parent_mapping>Grouping existing nodes</a> below.\n",
    "    </dd>\n",
    "    <dt><code>node_parent_group_mapping</code></dt>\n",
    "    <dd>\n",
    "        This mapping always creates new dicts based on the given mapping.<br>\n",
    "        Should be used when the group nodes are <b>not part of</b> the given dataset.<br>\n",
    "        See <a href=#Create-new-group-nodes---node_parent_group_mapping>Create new group nodes</a> below.\n",
    "    </dd>\n",
    "</dl>"
   ]
  },
  {
   "cell_type": "markdown",
   "id": "21d70393-a928-47d5-adb4-cdfc25c1bedd",
   "metadata": {},
   "source": [
    "## Grouping existing nodes - `node_parent_mapping`\n",
    "\n",
    "This function should return an id for each given node object which is then used as group node in the widget for the respective child. If the parent node does not existing in the dataset, no grouping is created.\n",
    "\n",
    "### Adding parent nodes to the dataset\n",
    "\n",
    "This example dataset does not contain suitable group nodes, therefore we first add some to showcase this mapping. Therefore, we create artifical \"country\" nodes in the dataset to be able to group the nodes by their `country` property:"
   ]
  },
  {
   "cell_type": "code",
   "execution_count": null,
   "id": "6c3615c0-6f70-4525-94e2-0d674f1e24d9",
   "metadata": {},
   "outputs": [],
   "source": [
    "airport_nodes = [\n",
    "    {\"id\": airport['iata'], \"properties\": {\"label\": airport['name'], 'passengers': airport['passengers'], 'country': airport['country']}, \"coordinates\": [airport['lat'], airport['lng']]}\n",
    "    for airport in airports\n",
    "]\n",
    "\n",
    "countries = []\n",
    "for airport_node in airport_nodes:\n",
    "    # collect unique countries among airports\n",
    "    airport_country = airport_node[\"properties\"][\"country\"]\n",
    "    if not any(country[\"id\"] == airport_country for country in countries):\n",
    "        countries.append({\"id\": airport_country, \"properties\": {\"label\": airport_country}})\n",
    "\n",
    "# create a nodes source with both, the unique countries (reprsenting our group nodes) and airports\n",
    "nodes_with_groups = airport_nodes + countries"
   ]
  },
  {
   "cell_type": "code",
   "execution_count": null,
   "id": "45a57df5-955e-40b4-9862-f8fb24b3f526",
   "metadata": {},
   "outputs": [],
   "source": [
    "print(w.set_node_parent_mapping.__doc__) "
   ]
  },
  {
   "cell_type": "markdown",
   "id": "f6ebe245-24b2-4e2f-bc48-e07eb215cbb3",
   "metadata": {},
   "source": [
    "For this we define a new mapping function that provides the `country` property as parent node id.\n",
    "\n",
    "Because we already enriched our datasets with respective node objects, we can use them to group the nodes by those country objects."
   ]
  },
  {
   "cell_type": "code",
   "execution_count": null,
   "id": "359f5269-2f57-4458-96b6-802c93e3fa87",
   "metadata": {},
   "outputs": [],
   "source": [
    "w2 = GraphWidget()\n",
    "\n",
    "# use the country property as parent-id for each node\n",
    "w2.node_parent_mapping = \"country\"\n",
    "\n",
    "# assign the data\n",
    "w2.edges = edges\n",
    "w2.nodes = nodes_with_groups # dataset with distinct country node objects\n",
    "\n",
    "# also map the geo-coordinate data because they are available in the dataset\n",
    "w2.node_coordinate_mapping = \"coordinates\"\n",
    "\n",
    "display(w2)"
   ]
  },
  {
   "cell_type": "markdown",
   "id": "aca906e5-739d-4264-bd37-24fe7395970f",
   "metadata": {},
   "source": [
    "## Create new group nodes - `node_parent_group_mapping`\n",
    "\n",
    "This function creates new group nodes depending on the returned value. The returned value must either be a `str` which is used as label and id for the new group node (i.e. nodes with the same mapped `str` are grouped together), or it must be a `dict` with a mandatory `label` property and optional more key-value pairs that are added as properties to the group. These additional properties are also considered when resolving other node mappings (e.g. for the styling of group nodes)."
   ]
  },
  {
   "cell_type": "code",
   "execution_count": null,
   "id": "172d8c2a-82fa-4907-8f86-863dc3b36269",
   "metadata": {},
   "outputs": [],
   "source": [
    "w3 = GraphWidget()\n",
    "\n",
    "# use the country property as parent-id for each node, note how the 'nodes' data does not contain distinct country node objects\n",
    "w3.node_parent_group_mapping = \"country\"\n",
    "\n",
    "# assign the data\n",
    "w3.edges = edges\n",
    "w3.nodes = nodes # does not contain distinct country objects\n",
    "\n",
    "# also map the geo-coordinate data because they are available in the dataset\n",
    "w3.node_coordinate_mapping = \"coordinates\"\n",
    "\n",
    "display(w3)"
   ]
  },
  {
   "cell_type": "markdown",
   "id": "2006b777-0167-44eb-b496-5b66a55a9c04",
   "metadata": {},
   "source": [
    "## Group node styling\n",
    "\n",
    "Similar to leaf nodes, group nodes may also be styled through the node style mappings, see also [Color Mapping](./03_color_mapping.ipynb) or [Styles Mapping](./08_styles_mapping.ipynb).\n",
    "\n",
    "For example, make the group nodes gray-ish:"
   ]
  },
  {
   "cell_type": "code",
   "execution_count": null,
   "id": "c2d3a3d7-40dc-425c-944e-a33382c67a0e",
   "metadata": {},
   "outputs": [],
   "source": [
    "w4 = GraphWidget()\n",
    "w4.node_parent_group_mapping = \"country\"\n",
    "w4.edges = edges\n",
    "w4.nodes = nodes\n",
    "w4.node_coordinate_mapping = 'coordinates' \n",
    "\n",
    "# assign a color mapping to style country nodes differently, otherwise use the widget's default color\n",
    "w4.node_color_mapping = lambda node : None if \"passengers\" in node[\"properties\"] else \"gray\"\n",
    "\n",
    "display(w4)"
   ]
  },
  {
   "cell_type": "markdown",
   "id": "cd6096f3-8ffb-4506-9f68-e83082efacec",
   "metadata": {},
   "source": [
    "## Using optional group node properties\n",
    "\n",
    "The `node_parent_group_mapping` allows to create group nodes with additional properties. These properties are also suspect to node mappings, just like properties of other node objects"
   ]
  },
  {
   "cell_type": "code",
   "execution_count": null,
   "id": "97e2f72a-858a-48f6-9a81-5a8572d4bbaf",
   "metadata": {},
   "outputs": [],
   "source": [
    "w5 = GraphWidget()\n",
    "\n",
    "# assign additional properties to group nodes\n",
    "w5.node_parent_group_mapping = lambda node: {'label': node['properties']['country'], 'color': '#9F4499', 'char_count': len(node['properties']['country'])}\n",
    "\n",
    "w5.edges = edges\n",
    "w5.nodes = nodes\n",
    "w5.node_coordinate_mapping = 'coordinates' \n",
    "\n",
    "# use the additional property as color\n",
    "w5.node_color_mapping = 'color'\n",
    "\n",
    "display(w5)"
   ]
  }
 ],
 "metadata": {
  "kernelspec": {
   "display_name": "Python 3 (ipykernel)",
   "language": "python",
   "name": "python3"
  },
  "language_info": {
   "codemirror_mode": {
    "name": "ipython",
    "version": 3
   },
   "file_extension": ".py",
   "mimetype": "text/x-python",
   "name": "python",
   "nbconvert_exporter": "python",
   "pygments_lexer": "ipython3",
   "version": "3.12.3"
  },
  "widgets": {
   "application/vnd.jupyter.widget-state+json": {
    "state": {
     "10c96dedd46048a6b215ba58c1d286c5": {
      "model_module": "yfiles-jupyter-graphs",
      "model_module_version": "^1.7.3",
      "model_name": "GraphModel",
      "state": {
       "_context_pane_mapping": [
        {
         "id": "Neighborhood",
         "title": "Neighborhood"
        },
        {
         "id": "Data",
         "title": "Data"
        },
        {
         "id": "Search",
         "title": "Search"
        },
        {
         "id": "About",
         "title": "About"
        }
       ],
       "_directed": false,
       "_edges": [
        {
         "color": "#15AFAC",
         "directed": false,
         "end": "JFK",
         "label": "",
         "properties": {},
         "start": "LAX",
         "thickness_factor": 1
        },
        {
         "color": "#15AFAC",
         "directed": false,
         "end": "GIG",
         "label": "",
         "properties": {},
         "start": "JFK",
         "thickness_factor": 1
        },
        {
         "color": "#15AFAC",
         "directed": false,
         "end": "LIM",
         "label": "",
         "properties": {},
         "start": "JFK",
         "thickness_factor": 1
        },
        {
         "color": "#15AFAC",
         "directed": false,
         "end": "LHR",
         "label": "",
         "properties": {},
         "start": "JFK",
         "thickness_factor": 1
        },
        {
         "color": "#15AFAC",
         "directed": false,
         "end": "FRA",
         "label": "",
         "properties": {},
         "start": "GIG",
         "thickness_factor": 1
        },
        {
         "color": "#15AFAC",
         "directed": false,
         "end": "GIG",
         "label": "",
         "properties": {},
         "start": "LIM",
         "thickness_factor": 1
        },
        {
         "color": "#15AFAC",
         "directed": false,
         "end": "JFK",
         "label": "",
         "properties": {},
         "start": "FRA",
         "thickness_factor": 1
        },
        {
         "color": "#15AFAC",
         "directed": false,
         "end": "FRA",
         "label": "",
         "properties": {},
         "start": "LHR",
         "thickness_factor": 1
        },
        {
         "color": "#15AFAC",
         "directed": false,
         "end": "SVO",
         "label": "",
         "properties": {},
         "start": "FRA",
         "thickness_factor": 1
        },
        {
         "color": "#15AFAC",
         "directed": false,
         "end": "DXB",
         "label": "",
         "properties": {},
         "start": "FRA",
         "thickness_factor": 1
        },
        {
         "color": "#15AFAC",
         "directed": false,
         "end": "DEL",
         "label": "",
         "properties": {},
         "start": "SVO",
         "thickness_factor": 1
        },
        {
         "color": "#15AFAC",
         "directed": false,
         "end": "PVG",
         "label": "",
         "properties": {},
         "start": "SVO",
         "thickness_factor": 1
        },
        {
         "color": "#15AFAC",
         "directed": false,
         "end": "HKG",
         "label": "",
         "properties": {},
         "start": "DEL",
         "thickness_factor": 1
        },
        {
         "color": "#15AFAC",
         "directed": false,
         "end": "HKG",
         "label": "",
         "properties": {},
         "start": "PVG",
         "thickness_factor": 1
        },
        {
         "color": "#15AFAC",
         "directed": false,
         "end": "NRT",
         "label": "",
         "properties": {},
         "start": "PVG",
         "thickness_factor": 1
        },
        {
         "color": "#15AFAC",
         "directed": false,
         "end": "SYD",
         "label": "",
         "properties": {},
         "start": "HKG",
         "thickness_factor": 1
        },
        {
         "color": "#15AFAC",
         "directed": false,
         "end": "SYD",
         "label": "",
         "properties": {},
         "start": "NRT",
         "thickness_factor": 1
        },
        {
         "color": "#15AFAC",
         "directed": false,
         "end": "SVO",
         "label": "",
         "properties": {},
         "start": "DXB",
         "thickness_factor": 1
        },
        {
         "color": "#15AFAC",
         "directed": false,
         "end": "DEL",
         "label": "",
         "properties": {},
         "start": "DXB",
         "thickness_factor": 1
        },
        {
         "color": "#15AFAC",
         "directed": false,
         "end": "DKR",
         "label": "",
         "properties": {},
         "start": "DXB",
         "thickness_factor": 1
        },
        {
         "color": "#15AFAC",
         "directed": false,
         "end": "JNB",
         "label": "",
         "properties": {},
         "start": "DXB",
         "thickness_factor": 1
        },
        {
         "color": "#15AFAC",
         "directed": false,
         "end": "LHR",
         "label": "",
         "properties": {},
         "start": "JNB",
         "thickness_factor": 1
        },
        {
         "color": "#15AFAC",
         "directed": false,
         "end": "DKR",
         "label": "",
         "properties": {},
         "start": "JNB",
         "thickness_factor": 1
        },
        {
         "color": "#15AFAC",
         "directed": false,
         "end": "DXB",
         "label": "",
         "properties": {},
         "start": "SYD",
         "thickness_factor": 1
        },
        {
         "color": "#15AFAC",
         "directed": false,
         "end": "JNB",
         "label": "",
         "properties": {},
         "start": "NBO",
         "thickness_factor": 1
        },
        {
         "color": "#15AFAC",
         "directed": false,
         "end": "DXB",
         "label": "",
         "properties": {},
         "start": "NBO",
         "thickness_factor": 1
        },
        {
         "color": "#15AFAC",
         "directed": false,
         "end": "JFK",
         "label": "",
         "properties": {},
         "start": "ATL",
         "thickness_factor": 1
        },
        {
         "color": "#15AFAC",
         "directed": false,
         "end": "ATL",
         "label": "",
         "properties": {},
         "start": "LAX",
         "thickness_factor": 1
        },
        {
         "color": "#15AFAC",
         "directed": false,
         "end": "LHR",
         "label": "",
         "properties": {},
         "start": "ATL",
         "thickness_factor": 1
        },
        {
         "color": "#15AFAC",
         "directed": false,
         "end": "LIM",
         "label": "",
         "properties": {},
         "start": "ATL",
         "thickness_factor": 1
        },
        {
         "color": "#15AFAC",
         "directed": false,
         "end": "LIM",
         "label": "",
         "properties": {},
         "start": "SCL",
         "thickness_factor": 1
        },
        {
         "color": "#15AFAC",
         "directed": false,
         "end": "SCL",
         "label": "",
         "properties": {},
         "start": "EZE",
         "thickness_factor": 1
        },
        {
         "color": "#15AFAC",
         "directed": false,
         "end": "GRU",
         "label": "",
         "properties": {},
         "start": "SCL",
         "thickness_factor": 1
        },
        {
         "color": "#15AFAC",
         "directed": false,
         "end": "EZE",
         "label": "",
         "properties": {},
         "start": "GIG",
         "thickness_factor": 1
        },
        {
         "color": "#15AFAC",
         "directed": false,
         "end": "GRU",
         "label": "",
         "properties": {},
         "start": "GIG",
         "thickness_factor": 1
        },
        {
         "color": "#15AFAC",
         "directed": false,
         "end": "GIG",
         "label": "",
         "properties": {},
         "start": "BSB",
         "thickness_factor": 1
        },
        {
         "color": "#15AFAC",
         "directed": false,
         "end": "BSB",
         "label": "",
         "properties": {},
         "start": "SCL",
         "thickness_factor": 1
        },
        {
         "color": "#15AFAC",
         "directed": false,
         "end": "BSB",
         "label": "",
         "properties": {},
         "start": "LIM",
         "thickness_factor": 1
        },
        {
         "color": "#15AFAC",
         "directed": false,
         "end": "BSB",
         "label": "",
         "properties": {},
         "start": "BOG",
         "thickness_factor": 1
        },
        {
         "color": "#15AFAC",
         "directed": false,
         "end": "BSB",
         "label": "",
         "properties": {},
         "start": "CCS",
         "thickness_factor": 1
        },
        {
         "color": "#15AFAC",
         "directed": false,
         "end": "GUA",
         "label": "",
         "properties": {},
         "start": "BOG",
         "thickness_factor": 1
        },
        {
         "color": "#15AFAC",
         "directed": false,
         "end": "MIA",
         "label": "",
         "properties": {},
         "start": "CCS",
         "thickness_factor": 1
        },
        {
         "color": "#15AFAC",
         "directed": false,
         "end": "MIA",
         "label": "",
         "properties": {},
         "start": "GUA",
         "thickness_factor": 1
        },
        {
         "color": "#15AFAC",
         "directed": false,
         "end": "MEX",
         "label": "",
         "properties": {},
         "start": "GUA",
         "thickness_factor": 1
        },
        {
         "color": "#15AFAC",
         "directed": false,
         "end": "LAX",
         "label": "",
         "properties": {},
         "start": "MEX",
         "thickness_factor": 1
        },
        {
         "color": "#15AFAC",
         "directed": false,
         "end": "LAX",
         "label": "",
         "properties": {},
         "start": "MEX",
         "thickness_factor": 1
        },
        {
         "color": "#15AFAC",
         "directed": false,
         "end": "SFO",
         "label": "",
         "properties": {},
         "start": "LAX",
         "thickness_factor": 1
        },
        {
         "color": "#15AFAC",
         "directed": false,
         "end": "YVR",
         "label": "",
         "properties": {},
         "start": "SFO",
         "thickness_factor": 1
        },
        {
         "color": "#15AFAC",
         "directed": false,
         "end": "LAS",
         "label": "",
         "properties": {},
         "start": "LAX",
         "thickness_factor": 1
        },
        {
         "color": "#15AFAC",
         "directed": false,
         "end": "DFW",
         "label": "",
         "properties": {},
         "start": "LAX",
         "thickness_factor": 1
        },
        {
         "color": "#15AFAC",
         "directed": false,
         "end": "ORD",
         "label": "",
         "properties": {},
         "start": "LAX",
         "thickness_factor": 1
        },
        {
         "color": "#15AFAC",
         "directed": false,
         "end": "LAS",
         "label": "",
         "properties": {},
         "start": "SFO",
         "thickness_factor": 1
        },
        {
         "color": "#15AFAC",
         "directed": false,
         "end": "ATL",
         "label": "",
         "properties": {},
         "start": "DFW",
         "thickness_factor": 1
        },
        {
         "color": "#15AFAC",
         "directed": false,
         "end": "YYZ",
         "label": "",
         "properties": {},
         "start": "ATL",
         "thickness_factor": 1
        },
        {
         "color": "#15AFAC",
         "directed": false,
         "end": "YYZ",
         "label": "",
         "properties": {},
         "start": "ORD",
         "thickness_factor": 1
        },
        {
         "color": "#15AFAC",
         "directed": false,
         "end": "YUL",
         "label": "",
         "properties": {},
         "start": "YYZ",
         "thickness_factor": 1
        },
        {
         "color": "#15AFAC",
         "directed": false,
         "end": "JFK",
         "label": "",
         "properties": {},
         "start": "YYZ",
         "thickness_factor": 1
        },
        {
         "color": "#15AFAC",
         "directed": false,
         "end": "JFK",
         "label": "",
         "properties": {},
         "start": "YUL",
         "thickness_factor": 1
        },
        {
         "color": "#15AFAC",
         "directed": false,
         "end": "CPT",
         "label": "",
         "properties": {},
         "start": "JNB",
         "thickness_factor": 1
        },
        {
         "color": "#15AFAC",
         "directed": false,
         "end": "DKR",
         "label": "",
         "properties": {},
         "start": "LOS",
         "thickness_factor": 1
        },
        {
         "color": "#15AFAC",
         "directed": false,
         "end": "LOS",
         "label": "",
         "properties": {},
         "start": "NBO",
         "thickness_factor": 1
        },
        {
         "color": "#15AFAC",
         "directed": false,
         "end": "CMN",
         "label": "",
         "properties": {},
         "start": "DKR",
         "thickness_factor": 1
        },
        {
         "color": "#15AFAC",
         "directed": false,
         "end": "CAI",
         "label": "",
         "properties": {},
         "start": "DKR",
         "thickness_factor": 1
        },
        {
         "color": "#15AFAC",
         "directed": false,
         "end": "CAI",
         "label": "",
         "properties": {},
         "start": "NBO",
         "thickness_factor": 1
        },
        {
         "color": "#15AFAC",
         "directed": false,
         "end": "CAI",
         "label": "",
         "properties": {},
         "start": "DXB",
         "thickness_factor": 1
        },
        {
         "color": "#15AFAC",
         "directed": false,
         "end": "DXB",
         "label": "",
         "properties": {},
         "start": "IKA",
         "thickness_factor": 1
        },
        {
         "color": "#15AFAC",
         "directed": false,
         "end": "IKA",
         "label": "",
         "properties": {},
         "start": "IST",
         "thickness_factor": 1
        },
        {
         "color": "#15AFAC",
         "directed": false,
         "end": "ATH",
         "label": "",
         "properties": {},
         "start": "TLV",
         "thickness_factor": 1
        },
        {
         "color": "#15AFAC",
         "directed": false,
         "end": "TLV",
         "label": "",
         "properties": {},
         "start": "CAI",
         "thickness_factor": 1
        },
        {
         "color": "#15AFAC",
         "directed": false,
         "end": "IST",
         "label": "",
         "properties": {},
         "start": "ATH",
         "thickness_factor": 1
        },
        {
         "color": "#15AFAC",
         "directed": false,
         "end": "ATH",
         "label": "",
         "properties": {},
         "start": "FCO",
         "thickness_factor": 1
        },
        {
         "color": "#15AFAC",
         "directed": false,
         "end": "LHR",
         "label": "",
         "properties": {},
         "start": "LIS",
         "thickness_factor": 1
        },
        {
         "color": "#15AFAC",
         "directed": false,
         "end": "MAD",
         "label": "",
         "properties": {},
         "start": "LIS",
         "thickness_factor": 1
        },
        {
         "color": "#15AFAC",
         "directed": false,
         "end": "BCN",
         "label": "",
         "properties": {},
         "start": "MAD",
         "thickness_factor": 1
        },
        {
         "color": "#15AFAC",
         "directed": false,
         "end": "LHR",
         "label": "",
         "properties": {},
         "start": "CDG",
         "thickness_factor": 1
        },
        {
         "color": "#15AFAC",
         "directed": false,
         "end": "LHR",
         "label": "",
         "properties": {},
         "start": "DUB",
         "thickness_factor": 1
        },
        {
         "color": "#15AFAC",
         "directed": false,
         "end": "LHR",
         "label": "",
         "properties": {},
         "start": "EDI",
         "thickness_factor": 1
        },
        {
         "color": "#15AFAC",
         "directed": false,
         "end": "BCN",
         "label": "",
         "properties": {},
         "start": "CDG",
         "thickness_factor": 1
        },
        {
         "color": "#15AFAC",
         "directed": false,
         "end": "FCO",
         "label": "",
         "properties": {},
         "start": "BCN",
         "thickness_factor": 1
        },
        {
         "color": "#15AFAC",
         "directed": false,
         "end": "IST",
         "label": "",
         "properties": {},
         "start": "VIE",
         "thickness_factor": 1
        },
        {
         "color": "#15AFAC",
         "directed": false,
         "end": "SVO",
         "label": "",
         "properties": {},
         "start": "VIE",
         "thickness_factor": 1
        },
        {
         "color": "#15AFAC",
         "directed": false,
         "end": "LIS",
         "label": "",
         "properties": {},
         "start": "CMN",
         "thickness_factor": 1
        },
        {
         "color": "#15AFAC",
         "directed": false,
         "end": "CMN",
         "label": "",
         "properties": {},
         "start": "MAD",
         "thickness_factor": 1
        },
        {
         "color": "#15AFAC",
         "directed": false,
         "end": "CPH",
         "label": "",
         "properties": {},
         "start": "FRA",
         "thickness_factor": 1
        },
        {
         "color": "#15AFAC",
         "directed": false,
         "end": "CPH",
         "label": "",
         "properties": {},
         "start": "LHR",
         "thickness_factor": 1
        },
        {
         "color": "#15AFAC",
         "directed": false,
         "end": "OSL",
         "label": "",
         "properties": {},
         "start": "CPH",
         "thickness_factor": 1
        },
        {
         "color": "#15AFAC",
         "directed": false,
         "end": "ARN",
         "label": "",
         "properties": {},
         "start": "CPH",
         "thickness_factor": 1
        },
        {
         "color": "#15AFAC",
         "directed": false,
         "end": "HEL",
         "label": "",
         "properties": {},
         "start": "ARN",
         "thickness_factor": 1
        },
        {
         "color": "#15AFAC",
         "directed": false,
         "end": "SVO",
         "label": "",
         "properties": {},
         "start": "HEL",
         "thickness_factor": 1
        },
        {
         "color": "#15AFAC",
         "directed": false,
         "end": "PVG",
         "label": "",
         "properties": {},
         "start": "ULN",
         "thickness_factor": 1
        },
        {
         "color": "#15AFAC",
         "directed": false,
         "end": "PVG",
         "label": "",
         "properties": {},
         "start": "CTU",
         "thickness_factor": 1
        },
        {
         "color": "#15AFAC",
         "directed": false,
         "end": "TPE",
         "label": "",
         "properties": {},
         "start": "PVG",
         "thickness_factor": 1
        },
        {
         "color": "#15AFAC",
         "directed": false,
         "end": "HKG",
         "label": "",
         "properties": {},
         "start": "CTU",
         "thickness_factor": 1
        },
        {
         "color": "#15AFAC",
         "directed": false,
         "end": "HKG",
         "label": "",
         "properties": {},
         "start": "TPE",
         "thickness_factor": 1
        },
        {
         "color": "#15AFAC",
         "directed": false,
         "end": "MNL",
         "label": "",
         "properties": {},
         "start": "HKG",
         "thickness_factor": 1
        },
        {
         "color": "#15AFAC",
         "directed": false,
         "end": "HKG",
         "label": "",
         "properties": {},
         "start": "BKK",
         "thickness_factor": 1
        },
        {
         "color": "#15AFAC",
         "directed": false,
         "end": "KUL",
         "label": "",
         "properties": {},
         "start": "SIN",
         "thickness_factor": 1
        },
        {
         "color": "#15AFAC",
         "directed": false,
         "end": "BKK",
         "label": "",
         "properties": {},
         "start": "SIN",
         "thickness_factor": 1
        },
        {
         "color": "#15AFAC",
         "directed": false,
         "end": "SIN",
         "label": "",
         "properties": {},
         "start": "CGK",
         "thickness_factor": 1
        },
        {
         "color": "#15AFAC",
         "directed": false,
         "end": "SIN",
         "label": "",
         "properties": {},
         "start": "MNL",
         "thickness_factor": 1
        },
        {
         "color": "#15AFAC",
         "directed": false,
         "end": "SYD",
         "label": "",
         "properties": {},
         "start": "SIN",
         "thickness_factor": 1
        },
        {
         "color": "#15AFAC",
         "directed": false,
         "end": "SYD",
         "label": "",
         "properties": {},
         "start": "BNE",
         "thickness_factor": 1
        },
        {
         "color": "#15AFAC",
         "directed": false,
         "end": "MEL",
         "label": "",
         "properties": {},
         "start": "SYD",
         "thickness_factor": 1
        },
        {
         "color": "#15AFAC",
         "directed": false,
         "end": "SYD",
         "label": "",
         "properties": {},
         "start": "NAN",
         "thickness_factor": 1
        },
        {
         "color": "#15AFAC",
         "directed": false,
         "end": "SYD",
         "label": "",
         "properties": {},
         "start": "AKL",
         "thickness_factor": 1
        },
        {
         "color": "#15AFAC",
         "directed": false,
         "end": "AKL",
         "label": "",
         "properties": {},
         "start": "NAN",
         "thickness_factor": 1
        },
        {
         "color": "#15AFAC",
         "directed": false,
         "end": "LHR",
         "label": "",
         "properties": {},
         "start": "RKV",
         "thickness_factor": 1
        },
        {
         "color": "#15AFAC",
         "directed": false,
         "end": "CDG",
         "label": "",
         "properties": {},
         "start": "BCN",
         "thickness_factor": 1
        },
        {
         "color": "#15AFAC",
         "directed": false,
         "end": "FRA",
         "label": "",
         "properties": {},
         "start": "BCN",
         "thickness_factor": 1
        },
        {
         "color": "#15AFAC",
         "directed": false,
         "end": "FRA",
         "label": "",
         "properties": {},
         "start": "FCO",
         "thickness_factor": 1
        },
        {
         "color": "#15AFAC",
         "directed": false,
         "end": "MEX",
         "label": "",
         "properties": {},
         "start": "BOG",
         "thickness_factor": 1
        },
        {
         "color": "#15AFAC",
         "directed": false,
         "end": "GRU",
         "label": "",
         "properties": {},
         "start": "BOG",
         "thickness_factor": 1
        },
        {
         "color": "#15AFAC",
         "directed": false,
         "end": "MIA",
         "label": "",
         "properties": {},
         "start": "ATL",
         "thickness_factor": 1
        },
        {
         "color": "#15AFAC",
         "directed": false,
         "end": "IST",
         "label": "",
         "properties": {},
         "start": "FRA",
         "thickness_factor": 1
        },
        {
         "color": "#15AFAC",
         "directed": false,
         "end": "DEL",
         "label": "",
         "properties": {},
         "start": "IST",
         "thickness_factor": 1
        },
        {
         "color": "#15AFAC",
         "directed": false,
         "end": "BKK",
         "label": "",
         "properties": {},
         "start": "PVG",
         "thickness_factor": 1
        },
        {
         "color": "#15AFAC",
         "directed": false,
         "end": "BKK",
         "label": "",
         "properties": {},
         "start": "DEL",
         "thickness_factor": 1
        }
       ],
       "_model_module_version": "^1.7.3",
       "_nodes": [
        {
         "color": "#15AFAC",
         "coordinates": [
          33.942536,
          -118.408075
         ],
         "id": "LAX",
         "label": "Los Angeles",
         "parentId": "group#USA",
         "position": [
          0,
          0
         ],
         "properties": {
          "country": "USA",
          "label": "Los Angeles",
          "passengers": 65000000
         },
         "scale_factor": 1,
         "size": [
          55,
          55
         ],
         "styles": {},
         "type": "#15AFAC"
        },
        {
         "color": "#15AFAC",
         "coordinates": [
          -22.808903,
          -43.243647
         ],
         "id": "GIG",
         "label": "Rio de Janeiro",
         "parentId": "group#Brazil",
         "position": [
          0,
          0
         ],
         "properties": {
          "country": "Brazil",
          "label": "Rio de Janeiro",
          "passengers": 5000000
         },
         "scale_factor": 1,
         "size": [
          55,
          55
         ],
         "styles": {},
         "type": "#15AFAC"
        },
        {
         "color": "#15AFAC",
         "coordinates": [
          -12.021889,
          -77.114319
         ],
         "id": "LIM",
         "label": "Lima",
         "parentId": "group#Peru",
         "position": [
          0,
          0
         ],
         "properties": {
          "country": "Peru",
          "label": "Lima",
          "passengers": 18000000
         },
         "scale_factor": 1,
         "size": [
          55,
          55
         ],
         "styles": {},
         "type": "#15AFAC"
        },
        {
         "color": "#15AFAC",
         "coordinates": [
          51.4775,
          -0.461389
         ],
         "id": "LHR",
         "label": "London",
         "parentId": "group#UK",
         "position": [
          0,
          0
         ],
         "properties": {
          "country": "UK",
          "label": "London",
          "passengers": 61000000
         },
         "scale_factor": 1,
         "size": [
          55,
          55
         ],
         "styles": {},
         "type": "#15AFAC"
        },
        {
         "color": "#15AFAC",
         "coordinates": [
          50.033333,
          8.570556
         ],
         "id": "FRA",
         "label": "Frankfurt",
         "parentId": "group#Germany",
         "position": [
          0,
          0
         ],
         "properties": {
          "country": "Germany",
          "label": "Frankfurt",
          "passengers": 48000000
         },
         "scale_factor": 1,
         "size": [
          55,
          55
         ],
         "styles": {},
         "type": "#15AFAC"
        },
        {
         "color": "#15AFAC",
         "coordinates": [
          55.972642,
          37.414589
         ],
         "id": "SVO",
         "label": "Moscow",
         "parentId": "group#Russia",
         "position": [
          0,
          0
         ],
         "properties": {
          "country": "Russia",
          "label": "Moscow",
          "passengers": 49000000
         },
         "scale_factor": 1,
         "size": [
          55,
          55
         ],
         "styles": {},
         "type": "#15AFAC"
        },
        {
         "color": "#15AFAC",
         "coordinates": [
          28.5665,
          77.103089
         ],
         "id": "DEL",
         "label": "New Delhi",
         "parentId": "group#India",
         "position": [
          0,
          0
         ],
         "properties": {
          "country": "India",
          "label": "New Delhi",
          "passengers": 39000000
         },
         "scale_factor": 1,
         "size": [
          55,
          55
         ],
         "styles": {},
         "type": "#15AFAC"
        },
        {
         "color": "#15AFAC",
         "coordinates": [
          31.143378,
          121.805214
         ],
         "id": "PVG",
         "label": "Shanghai",
         "parentId": "group#China",
         "position": [
          0,
          0
         ],
         "properties": {
          "country": "China",
          "label": "Shanghai",
          "passengers": 32000000
         },
         "scale_factor": 1,
         "size": [
          55,
          55
         ],
         "styles": {},
         "type": "#15AFAC"
        },
        {
         "color": "#15AFAC",
         "coordinates": [
          22.308919,
          113.914603
         ],
         "id": "HKG",
         "label": "Hongkong",
         "parentId": "group#China",
         "position": [
          0,
          0
         ],
         "properties": {
          "country": "China",
          "label": "Hongkong",
          "passengers": 1000000
         },
         "scale_factor": 1,
         "size": [
          55,
          55
         ],
         "styles": {},
         "type": "#15AFAC"
        },
        {
         "color": "#15AFAC",
         "coordinates": [
          35.764722,
          140.386389
         ],
         "id": "NRT",
         "label": "Tokio",
         "parentId": "group#Japan",
         "position": [
          0,
          0
         ],
         "properties": {
          "country": "Japan",
          "label": "Tokio",
          "passengers": 15000000
         },
         "scale_factor": 1,
         "size": [
          55,
          55
         ],
         "styles": {},
         "type": "#15AFAC"
        },
        {
         "color": "#15AFAC",
         "coordinates": [
          25.252778,
          55.364444
         ],
         "id": "DXB",
         "label": "Dubai",
         "parentId": "group#UAE",
         "position": [
          0,
          0
         ],
         "properties": {
          "country": "UAE",
          "label": "Dubai",
          "passengers": 29000000
         },
         "scale_factor": 1,
         "size": [
          55,
          55
         ],
         "styles": {},
         "type": "#15AFAC"
        },
        {
         "color": "#15AFAC",
         "coordinates": [
          14.670833,
          -17.072778
         ],
         "id": "DKR",
         "label": "Dakar",
         "parentId": "group#Senegal",
         "position": [
          0,
          0
         ],
         "properties": {
          "country": "Senegal",
          "label": "Dakar",
          "passengers": 2000000
         },
         "scale_factor": 1,
         "size": [
          55,
          55
         ],
         "styles": {},
         "type": "#15AFAC"
        },
        {
         "color": "#15AFAC",
         "coordinates": [
          -26.133694,
          28.242317
         ],
         "id": "JNB",
         "label": "Johannesburg",
         "parentId": "group#South Africa",
         "position": [
          0,
          0
         ],
         "properties": {
          "country": "South Africa",
          "label": "Johannesburg",
          "passengers": 9000000
         },
         "scale_factor": 1,
         "size": [
          55,
          55
         ],
         "styles": {},
         "type": "#15AFAC"
        },
        {
         "color": "#15AFAC",
         "coordinates": [
          -33.946111,
          151.177222
         ],
         "id": "SYD",
         "label": "Sydney",
         "parentId": "group#Australia",
         "position": [
          0,
          0
         ],
         "properties": {
          "country": "Australia",
          "label": "Sydney",
          "passengers": 44000000
         },
         "scale_factor": 1,
         "size": [
          55,
          55
         ],
         "styles": {},
         "type": "#15AFAC"
        },
        {
         "color": "#15AFAC",
         "coordinates": [
          -1.319167,
          36.927778
         ],
         "id": "NBO",
         "label": "Nairobi",
         "parentId": "group#Kenya",
         "position": [
          0,
          0
         ],
         "properties": {
          "country": "Kenya",
          "label": "Nairobi",
          "passengers": 900000
         },
         "scale_factor": 1,
         "size": [
          55,
          55
         ],
         "styles": {},
         "type": "#15AFAC"
        },
        {
         "color": "#15AFAC",
         "coordinates": [
          33.639167,
          -84.427778
         ],
         "id": "ATL",
         "label": "Atlanta",
         "parentId": "group#USA",
         "position": [
          0,
          0
         ],
         "properties": {
          "country": "USA",
          "label": "Atlanta",
          "passengers": 93000000
         },
         "scale_factor": 1,
         "size": [
          55,
          55
         ],
         "styles": {},
         "type": "#15AFAC"
        },
        {
         "color": "#15AFAC",
         "coordinates": [
          40.63975,
          -73.778925
         ],
         "id": "JFK",
         "label": "New York City",
         "parentId": "group#USA",
         "position": [
          0,
          0
         ],
         "properties": {
          "country": "USA",
          "label": "New York City",
          "passengers": 55000000
         },
         "scale_factor": 1,
         "size": [
          55,
          55
         ],
         "styles": {},
         "type": "#15AFAC"
        },
        {
         "color": "#15AFAC",
         "coordinates": [
          30.121944,
          31.405556
         ],
         "id": "CAI",
         "label": "Cairo",
         "parentId": "group#Egypt",
         "position": [
          0,
          0
         ],
         "properties": {
          "country": "Egypt",
          "label": "Cairo",
          "passengers": 14000000
         },
         "scale_factor": 1,
         "size": [
          55,
          55
         ],
         "styles": {},
         "type": "#15AFAC"
        },
        {
         "color": "#15AFAC",
         "coordinates": [
          33.367467,
          -7.589967
         ],
         "id": "CMN",
         "label": "Casablanca",
         "parentId": "group#Morocco",
         "position": [
          0,
          0
         ],
         "properties": {
          "country": "Morocco",
          "label": "Casablanca",
          "passengers": 7000000
         },
         "scale_factor": 1,
         "size": [
          55,
          55
         ],
         "styles": {},
         "type": "#15AFAC"
        },
        {
         "color": "#15AFAC",
         "coordinates": [
          6.577222,
          3.321111
         ],
         "id": "LOS",
         "label": "Lagos",
         "parentId": "group#Nigeria",
         "position": [
          0,
          0
         ],
         "properties": {
          "country": "Nigeria",
          "label": "Lagos",
          "passengers": 5000000
         },
         "scale_factor": 1,
         "size": [
          55,
          55
         ],
         "styles": {},
         "type": "#15AFAC"
        },
        {
         "color": "#15AFAC",
         "coordinates": [
          -33.969444,
          18.597222
         ],
         "id": "CPT",
         "label": "Cape Town",
         "parentId": "group#South Africa",
         "position": [
          0,
          0
         ],
         "properties": {
          "country": "South Africa",
          "label": "Cape Town",
          "passengers": 5000000
         },
         "scale_factor": 1,
         "size": [
          55,
          55
         ],
         "styles": {},
         "type": "#15AFAC"
        },
        {
         "color": "#15AFAC",
         "coordinates": [
          30.578333,
          103.946944
         ],
         "id": "CTU",
         "label": "Chengdu",
         "parentId": "group#China",
         "position": [
          0,
          0
         ],
         "properties": {
          "country": "China",
          "label": "Chengdu",
          "passengers": 40000000
         },
         "scale_factor": 1,
         "size": [
          55,
          55
         ],
         "styles": {},
         "type": "#15AFAC"
        },
        {
         "color": "#15AFAC",
         "coordinates": [
          -6.125567,
          106.655897
         ],
         "id": "CGK",
         "label": "Jakarta",
         "parentId": "group#Indonesia",
         "position": [
          0,
          0
         ],
         "properties": {
          "country": "Indonesia",
          "label": "Jakarta",
          "passengers": 54000000
         },
         "scale_factor": 1,
         "size": [
          55,
          55
         ],
         "styles": {},
         "type": "#15AFAC"
        },
        {
         "color": "#15AFAC",
         "coordinates": [
          35.416111,
          51.152222
         ],
         "id": "IKA",
         "label": "Teheran",
         "parentId": "group#Iran",
         "position": [
          0,
          0
         ],
         "properties": {
          "country": "Iran",
          "label": "Teheran",
          "passengers": 8000000
         },
         "scale_factor": 1,
         "size": [
          55,
          55
         ],
         "styles": {},
         "type": "#15AFAC"
        },
        {
         "color": "#15AFAC",
         "coordinates": [
          32.011389,
          34.886667
         ],
         "id": "TLV",
         "label": "Tel Aviv",
         "parentId": "group#Israel",
         "position": [
          0,
          0
         ],
         "properties": {
          "country": "Israel",
          "label": "Tel Aviv",
          "passengers": 20000000
         },
         "scale_factor": 1,
         "size": [
          55,
          55
         ],
         "styles": {},
         "type": "#15AFAC"
        },
        {
         "color": "#15AFAC",
         "coordinates": [
          2.745578,
          101.709917
         ],
         "id": "KUL",
         "label": "Kuala Lumpur",
         "parentId": "group#Malaysia",
         "position": [
          0,
          0
         ],
         "properties": {
          "country": "Malaysia",
          "label": "Kuala Lumpur",
          "passengers": 25000000
         },
         "scale_factor": 1,
         "size": [
          55,
          55
         ],
         "styles": {},
         "type": "#15AFAC"
        },
        {
         "color": "#15AFAC",
         "coordinates": [
          14.508647,
          121.019581
         ],
         "id": "MNL",
         "label": "Manila",
         "parentId": "group#Philippines",
         "position": [
          0,
          0
         ],
         "properties": {
          "country": "Philippines",
          "label": "Manila",
          "passengers": 8000000
         },
         "scale_factor": 1,
         "size": [
          55,
          55
         ],
         "styles": {},
         "type": "#15AFAC"
        },
        {
         "color": "#15AFAC",
         "coordinates": [
          1.350189,
          103.994433
         ],
         "id": "SIN",
         "label": "Singapur",
         "parentId": "group#Singapore",
         "position": [
          0,
          0
         ],
         "properties": {
          "country": "Singapore",
          "label": "Singapur",
          "passengers": 32000000
         },
         "scale_factor": 1,
         "size": [
          55,
          55
         ],
         "styles": {},
         "type": "#15AFAC"
        },
        {
         "color": "#15AFAC",
         "coordinates": [
          25.077732,
          121.232822
         ],
         "id": "TPE",
         "label": "Taipeh",
         "parentId": "group#Taiwan",
         "position": [
          0,
          0
         ],
         "properties": {
          "country": "Taiwan",
          "label": "Taipeh",
          "passengers": 800000
         },
         "scale_factor": 1,
         "size": [
          55,
          55
         ],
         "styles": {},
         "type": "#15AFAC"
        },
        {
         "color": "#15AFAC",
         "coordinates": [
          13.681108,
          100.747283
         ],
         "id": "BKK",
         "label": "Bangkok",
         "parentId": "group#Thailand",
         "position": [
          0,
          0
         ],
         "properties": {
          "country": "Thailand",
          "label": "Bangkok",
          "passengers": 65000000
         },
         "scale_factor": 1,
         "size": [
          55,
          55
         ],
         "styles": {},
         "type": "#15AFAC"
        },
        {
         "color": "#15AFAC",
         "coordinates": [
          40.976922,
          28.814606
         ],
         "id": "IST",
         "label": "Istanbul",
         "parentId": "group#Turkey",
         "position": [
          0,
          0
         ],
         "properties": {
          "country": "Turkey",
          "label": "Istanbul",
          "passengers": 64000000
         },
         "scale_factor": 1,
         "size": [
          55,
          55
         ],
         "styles": {},
         "type": "#15AFAC"
        },
        {
         "color": "#15AFAC",
         "coordinates": [
          47.843056,
          106.766639
         ],
         "id": "ULN",
         "label": "Ulaanbaatar",
         "parentId": "group#Mongolia",
         "position": [
          0,
          0
         ],
         "properties": {
          "country": "Mongolia",
          "label": "Ulaanbaatar",
          "passengers": 1000000
         },
         "scale_factor": 1,
         "size": [
          55,
          55
         ],
         "styles": {},
         "type": "#15AFAC"
        },
        {
         "color": "#15AFAC",
         "coordinates": [
          -37.673333,
          144.843333
         ],
         "id": "MEL",
         "label": "Melbourne",
         "parentId": "group#Australia",
         "position": [
          0,
          0
         ],
         "properties": {
          "country": "Australia",
          "label": "Melbourne",
          "passengers": 12000000
         },
         "scale_factor": 1,
         "size": [
          55,
          55
         ],
         "styles": {},
         "type": "#15AFAC"
        },
        {
         "color": "#15AFAC",
         "coordinates": [
          -27.383333,
          153.118056
         ],
         "id": "BNE",
         "label": "Brisbane",
         "parentId": "group#Australia",
         "position": [
          0,
          0
         ],
         "properties": {
          "country": "Australia",
          "label": "Brisbane",
          "passengers": 23000000
         },
         "scale_factor": 1,
         "size": [
          55,
          55
         ],
         "styles": {},
         "type": "#15AFAC"
        },
        {
         "color": "#15AFAC",
         "coordinates": [
          -17.755392,
          177.443378
         ],
         "id": "NAN",
         "label": "Nadi",
         "parentId": "group#Fiji",
         "position": [
          0,
          0
         ],
         "properties": {
          "country": "Fiji",
          "label": "Nadi",
          "passengers": 2000000
         },
         "scale_factor": 1,
         "size": [
          55,
          55
         ],
         "styles": {},
         "type": "#15AFAC"
        },
        {
         "color": "#15AFAC",
         "coordinates": [
          -37.008056,
          174.791667
         ],
         "id": "AKL",
         "label": "Auckland",
         "parentId": "group#New Zealand",
         "position": [
          0,
          0
         ],
         "properties": {
          "country": "New Zealand",
          "label": "Auckland",
          "passengers": 21000000
         },
         "scale_factor": 1,
         "size": [
          55,
          55
         ],
         "styles": {},
         "type": "#15AFAC"
        },
        {
         "color": "#15AFAC",
         "coordinates": [
          49.009722,
          2.547778
         ],
         "id": "CDG",
         "label": "Paris",
         "parentId": "group#France",
         "position": [
          0,
          0
         ],
         "properties": {
          "country": "France",
          "label": "Paris",
          "passengers": 57000000
         },
         "scale_factor": 1,
         "size": [
          55,
          55
         ],
         "styles": {},
         "type": "#15AFAC"
        },
        {
         "color": "#15AFAC",
         "coordinates": [
          40.4675,
          -3.551944
         ],
         "id": "MAD",
         "label": "Madrid",
         "parentId": "group#Spain",
         "position": [
          0,
          0
         ],
         "properties": {
          "country": "Spain",
          "label": "Madrid",
          "passengers": 50000000
         },
         "scale_factor": 1,
         "size": [
          55,
          55
         ],
         "styles": {},
         "type": "#15AFAC"
        },
        {
         "color": "#15AFAC",
         "coordinates": [
          41.297078,
          2.078464
         ],
         "id": "BCN",
         "label": "Barcelona",
         "parentId": "group#Spain",
         "position": [
          0,
          0
         ],
         "properties": {
          "country": "Spain",
          "label": "Barcelona",
          "passengers": 41000000
         },
         "scale_factor": 1,
         "size": [
          55,
          55
         ],
         "styles": {},
         "type": "#15AFAC"
        },
        {
         "color": "#15AFAC",
         "coordinates": [
          41.804444,
          12.250833
         ],
         "id": "FCO",
         "label": "Rome",
         "parentId": "group#Italy",
         "position": [
          0,
          0
         ],
         "properties": {
          "country": "Italy",
          "label": "Rome",
          "passengers": 29000000
         },
         "scale_factor": 1,
         "size": [
          55,
          55
         ],
         "styles": {},
         "type": "#15AFAC"
        },
        {
         "color": "#15AFAC",
         "coordinates": [
          55.617917,
          12.655972
         ],
         "id": "CPH",
         "label": "Copenhagen",
         "parentId": "group#Denmark",
         "position": [
          0,
          0
         ],
         "properties": {
          "country": "Denmark",
          "label": "Copenhagen",
          "passengers": 30000000
         },
         "scale_factor": 1,
         "size": [
          55,
          55
         ],
         "styles": {},
         "type": "#15AFAC"
        },
        {
         "color": "#15AFAC",
         "coordinates": [
          60.317222,
          24.963333
         ],
         "id": "HEL",
         "label": "Helsinki",
         "parentId": "group#Finland",
         "position": [
          0,
          0
         ],
         "properties": {
          "country": "Finland",
          "label": "Helsinki",
          "passengers": 5000000
         },
         "scale_factor": 1,
         "size": [
          55,
          55
         ],
         "styles": {},
         "type": "#15AFAC"
        },
        {
         "color": "#15AFAC",
         "coordinates": [
          37.936358,
          23.944467
         ],
         "id": "ATH",
         "label": "Athens",
         "parentId": "group#Greece",
         "position": [
          0,
          0
         ],
         "properties": {
          "country": "Greece",
          "label": "Athens",
          "passengers": 22000000
         },
         "scale_factor": 1,
         "size": [
          55,
          55
         ],
         "styles": {},
         "type": "#15AFAC"
        },
        {
         "color": "#15AFAC",
         "coordinates": [
          53.421333,
          -6.270075
         ],
         "id": "DUB",
         "label": "Dublin",
         "parentId": "group#Ireland",
         "position": [
          0,
          0
         ],
         "properties": {
          "country": "Ireland",
          "label": "Dublin",
          "passengers": 32000000
         },
         "scale_factor": 1,
         "size": [
          55,
          55
         ],
         "styles": {},
         "type": "#15AFAC"
        },
        {
         "color": "#15AFAC",
         "coordinates": [
          64.13,
          -21.940556
         ],
         "id": "RKV",
         "label": "Reykjavik",
         "parentId": "group#Iceland",
         "position": [
          0,
          0
         ],
         "properties": {
          "country": "Iceland",
          "label": "Reykjavik",
          "passengers": 400000
         },
         "scale_factor": 1,
         "size": [
          55,
          55
         ],
         "styles": {},
         "type": "#15AFAC"
        },
        {
         "color": "#15AFAC",
         "coordinates": [
          60.193917,
          11.100361
         ],
         "id": "OSL",
         "label": "Oslo",
         "parentId": "group#Norway",
         "position": [
          0,
          0
         ],
         "properties": {
          "country": "Norway",
          "label": "Oslo",
          "passengers": 9000000
         },
         "scale_factor": 1,
         "size": [
          55,
          55
         ],
         "styles": {},
         "type": "#15AFAC"
        },
        {
         "color": "#15AFAC",
         "coordinates": [
          48.110833,
          16.570833
         ],
         "id": "VIE",
         "label": "Vienna",
         "parentId": "group#Austria",
         "position": [
          0,
          0
         ],
         "properties": {
          "country": "Austria",
          "label": "Vienna",
          "passengers": 10000000
         },
         "scale_factor": 1,
         "size": [
          55,
          55
         ],
         "styles": {},
         "type": "#15AFAC"
        },
        {
         "color": "#15AFAC",
         "coordinates": [
          38.774167,
          -9.134167
         ],
         "id": "LIS",
         "label": "Lisbon",
         "parentId": "group#Portugal",
         "position": [
          0,
          0
         ],
         "properties": {
          "country": "Portugal",
          "label": "Lisbon",
          "passengers": 28000000
         },
         "scale_factor": 1,
         "size": [
          55,
          55
         ],
         "styles": {},
         "type": "#15AFAC"
        },
        {
         "color": "#15AFAC",
         "coordinates": [
          59.651944,
          17.918611
         ],
         "id": "ARN",
         "label": "Stockholm",
         "parentId": "group#Sweden",
         "position": [
          0,
          0
         ],
         "properties": {
          "country": "Sweden",
          "label": "Stockholm",
          "passengers": 7000000
         },
         "scale_factor": 1,
         "size": [
          55,
          55
         ],
         "styles": {},
         "type": "#15AFAC"
        },
        {
         "color": "#15AFAC",
         "coordinates": [
          55.95,
          -3.3725
         ],
         "id": "EDI",
         "label": "Edinburgh",
         "parentId": "group#UK",
         "position": [
          0,
          0
         ],
         "properties": {
          "country": "UK",
          "label": "Edinburgh",
          "passengers": 14000000
         },
         "scale_factor": 1,
         "size": [
          55,
          55
         ],
         "styles": {},
         "type": "#15AFAC"
        },
        {
         "color": "#15AFAC",
         "coordinates": [
          41.978603,
          -87.904842
         ],
         "id": "ORD",
         "label": "Chicago",
         "parentId": "group#USA",
         "position": [
          0,
          0
         ],
         "properties": {
          "country": "USA",
          "label": "Chicago",
          "passengers": 54000000
         },
         "scale_factor": 1,
         "size": [
          55,
          55
         ],
         "styles": {},
         "type": "#15AFAC"
        },
        {
         "color": "#15AFAC",
         "coordinates": [
          32.896828,
          -97.037997
         ],
         "id": "DFW",
         "label": "Dallas",
         "parentId": "group#USA",
         "position": [
          0,
          0
         ],
         "properties": {
          "country": "USA",
          "label": "Dallas",
          "passengers": 73000000
         },
         "scale_factor": 1,
         "size": [
          55,
          55
         ],
         "styles": {},
         "type": "#15AFAC"
        },
        {
         "color": "#15AFAC",
         "coordinates": [
          37.618972,
          -122.374889
         ],
         "id": "SFO",
         "label": "San Francisco",
         "parentId": "group#USA",
         "position": [
          0,
          0
         ],
         "properties": {
          "country": "USA",
          "label": "San Francisco",
          "passengers": 42000000
         },
         "scale_factor": 1,
         "size": [
          55,
          55
         ],
         "styles": {},
         "type": "#15AFAC"
        },
        {
         "color": "#15AFAC",
         "coordinates": [
          36.080056,
          -115.15225
         ],
         "id": "LAS",
         "label": "Las Vegas",
         "parentId": "group#USA",
         "position": [
          0,
          0
         ],
         "properties": {
          "country": "USA",
          "label": "Las Vegas",
          "passengers": 52000000
         },
         "scale_factor": 1,
         "size": [
          55,
          55
         ],
         "styles": {},
         "type": "#15AFAC"
        },
        {
         "color": "#15AFAC",
         "coordinates": [
          25.79325,
          -80.290556
         ],
         "id": "MIA",
         "label": "Miami",
         "parentId": "group#USA",
         "position": [
          0,
          0
         ],
         "properties": {
          "country": "USA",
          "label": "Miami",
          "passengers": 50000000
         },
         "scale_factor": 1,
         "size": [
          55,
          55
         ],
         "styles": {},
         "type": "#15AFAC"
        },
        {
         "color": "#15AFAC",
         "coordinates": [
          43.677222,
          -79.630556
         ],
         "id": "YYZ",
         "label": "Toronto",
         "parentId": "group#Canada",
         "position": [
          0,
          0
         ],
         "properties": {
          "country": "Canada",
          "label": "Toronto",
          "passengers": 12000000
         },
         "scale_factor": 1,
         "size": [
          55,
          55
         ],
         "styles": {},
         "type": "#15AFAC"
        },
        {
         "color": "#15AFAC",
         "coordinates": [
          49.193889,
          -123.184444
         ],
         "id": "YVR",
         "label": "Vancouver",
         "parentId": "group#Canada",
         "position": [
          0,
          0
         ],
         "properties": {
          "country": "Canada",
          "label": "Vancouver",
          "passengers": 19000000
         },
         "scale_factor": 1,
         "size": [
          55,
          55
         ],
         "styles": {},
         "type": "#15AFAC"
        },
        {
         "color": "#15AFAC",
         "coordinates": [
          45.47175,
          -73.736569
         ],
         "id": "YUL",
         "label": "Montreal",
         "parentId": "group#Canada",
         "position": [
          0,
          0
         ],
         "properties": {
          "country": "Canada",
          "label": "Montreal",
          "passengers": 15000000
         },
         "scale_factor": 1,
         "size": [
          55,
          55
         ],
         "styles": {},
         "type": "#15AFAC"
        },
        {
         "color": "#15AFAC",
         "coordinates": [
          19.436303,
          -99.072097
         ],
         "id": "MEX",
         "label": "Mexico-City",
         "parentId": "group#Mexico",
         "position": [
          0,
          0
         ],
         "properties": {
          "country": "Mexico",
          "label": "Mexico-City",
          "passengers": 46000000
         },
         "scale_factor": 1,
         "size": [
          55,
          55
         ],
         "styles": {},
         "type": "#15AFAC"
        },
        {
         "color": "#15AFAC",
         "coordinates": [
          14.583272,
          -90.527475
         ],
         "id": "GUA",
         "label": "Guatemala-City",
         "parentId": "group#Guatemala",
         "position": [
          0,
          0
         ],
         "properties": {
          "country": "Guatemala",
          "label": "Guatemala-City",
          "passengers": 2000000
         },
         "scale_factor": 1,
         "size": [
          55,
          55
         ],
         "styles": {},
         "type": "#15AFAC"
        },
        {
         "color": "#15AFAC",
         "coordinates": [
          -34.822222,
          -58.535833
         ],
         "id": "EZE",
         "label": "Buenos Aires",
         "parentId": "group#Argentina",
         "position": [
          0,
          0
         ],
         "properties": {
          "country": "Argentina",
          "label": "Buenos Aires",
          "passengers": 5000000
         },
         "scale_factor": 1,
         "size": [
          55,
          55
         ],
         "styles": {},
         "type": "#15AFAC"
        },
        {
         "color": "#15AFAC",
         "coordinates": [
          -23.432075,
          -46.469511
         ],
         "id": "GRU",
         "label": "Sao Paulo",
         "parentId": "group#Brazil",
         "position": [
          0,
          0
         ],
         "properties": {
          "country": "Brazil",
          "label": "Sao Paulo",
          "passengers": 34000000
         },
         "scale_factor": 1,
         "size": [
          55,
          55
         ],
         "styles": {},
         "type": "#15AFAC"
        },
        {
         "color": "#15AFAC",
         "coordinates": [
          -33.392975,
          -70.785803
         ],
         "id": "SCL",
         "label": "Santiago de Chile",
         "parentId": "group#Chile",
         "position": [
          0,
          0
         ],
         "properties": {
          "country": "Chile",
          "label": "Santiago de Chile",
          "passengers": 20000000
         },
         "scale_factor": 1,
         "size": [
          55,
          55
         ],
         "styles": {},
         "type": "#15AFAC"
        },
        {
         "color": "#15AFAC",
         "coordinates": [
          -15.871111,
          -47.918611
         ],
         "id": "BSB",
         "label": "Brasilia",
         "parentId": "group#Brazil",
         "position": [
          0,
          0
         ],
         "properties": {
          "country": "Brazil",
          "label": "Brasilia",
          "passengers": 13000000
         },
         "scale_factor": 1,
         "size": [
          55,
          55
         ],
         "styles": {},
         "type": "#15AFAC"
        },
        {
         "color": "#15AFAC",
         "coordinates": [
          4.701594,
          -74.146947
         ],
         "id": "BOG",
         "label": "Bogota",
         "parentId": "group#Colombia",
         "position": [
          0,
          0
         ],
         "properties": {
          "country": "Colombia",
          "label": "Bogota",
          "passengers": 36000000
         },
         "scale_factor": 1,
         "size": [
          55,
          55
         ],
         "styles": {},
         "type": "#15AFAC"
        },
        {
         "color": "#15AFAC",
         "coordinates": [
          10.601194,
          -66.991222
         ],
         "id": "CCS",
         "label": "Caracas",
         "parentId": "group#Venezuela",
         "position": [
          0,
          0
         ],
         "properties": {
          "country": "Venezuela",
          "label": "Caracas",
          "passengers": 8000000
         },
         "scale_factor": 1,
         "size": [
          55,
          55
         ],
         "styles": {},
         "type": "#15AFAC"
        },
        {
         "color": "#9F4499",
         "id": "group#USA",
         "label": "USA",
         "position": [
          0,
          0
         ],
         "properties": {
          "char_count": 3,
          "color": "#9F4499",
          "label": "USA"
         },
         "scale_factor": 1,
         "size": [
          55,
          55
         ],
         "styles": {},
         "type": "#9F4499"
        },
        {
         "color": "#9F4499",
         "id": "group#Brazil",
         "label": "Brazil",
         "position": [
          0,
          0
         ],
         "properties": {
          "char_count": 6,
          "color": "#9F4499",
          "label": "Brazil"
         },
         "scale_factor": 1,
         "size": [
          55,
          55
         ],
         "styles": {},
         "type": "#9F4499"
        },
        {
         "color": "#9F4499",
         "id": "group#Peru",
         "label": "Peru",
         "position": [
          0,
          0
         ],
         "properties": {
          "char_count": 4,
          "color": "#9F4499",
          "label": "Peru"
         },
         "scale_factor": 1,
         "size": [
          55,
          55
         ],
         "styles": {},
         "type": "#9F4499"
        },
        {
         "color": "#9F4499",
         "id": "group#UK",
         "label": "UK",
         "position": [
          0,
          0
         ],
         "properties": {
          "char_count": 2,
          "color": "#9F4499",
          "label": "UK"
         },
         "scale_factor": 1,
         "size": [
          55,
          55
         ],
         "styles": {},
         "type": "#9F4499"
        },
        {
         "color": "#9F4499",
         "id": "group#Germany",
         "label": "Germany",
         "position": [
          0,
          0
         ],
         "properties": {
          "char_count": 7,
          "color": "#9F4499",
          "label": "Germany"
         },
         "scale_factor": 1,
         "size": [
          55,
          55
         ],
         "styles": {},
         "type": "#9F4499"
        },
        {
         "color": "#9F4499",
         "id": "group#Russia",
         "label": "Russia",
         "position": [
          0,
          0
         ],
         "properties": {
          "char_count": 6,
          "color": "#9F4499",
          "label": "Russia"
         },
         "scale_factor": 1,
         "size": [
          55,
          55
         ],
         "styles": {},
         "type": "#9F4499"
        },
        {
         "color": "#9F4499",
         "id": "group#India",
         "label": "India",
         "position": [
          0,
          0
         ],
         "properties": {
          "char_count": 5,
          "color": "#9F4499",
          "label": "India"
         },
         "scale_factor": 1,
         "size": [
          55,
          55
         ],
         "styles": {},
         "type": "#9F4499"
        },
        {
         "color": "#9F4499",
         "id": "group#China",
         "label": "China",
         "position": [
          0,
          0
         ],
         "properties": {
          "char_count": 5,
          "color": "#9F4499",
          "label": "China"
         },
         "scale_factor": 1,
         "size": [
          55,
          55
         ],
         "styles": {},
         "type": "#9F4499"
        },
        {
         "color": "#9F4499",
         "id": "group#China",
         "label": "China",
         "position": [
          0,
          0
         ],
         "properties": {
          "char_count": 5,
          "color": "#9F4499",
          "label": "China"
         },
         "scale_factor": 1,
         "size": [
          55,
          55
         ],
         "styles": {},
         "type": "#9F4499"
        },
        {
         "color": "#9F4499",
         "id": "group#Japan",
         "label": "Japan",
         "position": [
          0,
          0
         ],
         "properties": {
          "char_count": 5,
          "color": "#9F4499",
          "label": "Japan"
         },
         "scale_factor": 1,
         "size": [
          55,
          55
         ],
         "styles": {},
         "type": "#9F4499"
        },
        {
         "color": "#9F4499",
         "id": "group#UAE",
         "label": "UAE",
         "position": [
          0,
          0
         ],
         "properties": {
          "char_count": 3,
          "color": "#9F4499",
          "label": "UAE"
         },
         "scale_factor": 1,
         "size": [
          55,
          55
         ],
         "styles": {},
         "type": "#9F4499"
        },
        {
         "color": "#9F4499",
         "id": "group#Senegal",
         "label": "Senegal",
         "position": [
          0,
          0
         ],
         "properties": {
          "char_count": 7,
          "color": "#9F4499",
          "label": "Senegal"
         },
         "scale_factor": 1,
         "size": [
          55,
          55
         ],
         "styles": {},
         "type": "#9F4499"
        },
        {
         "color": "#9F4499",
         "id": "group#South Africa",
         "label": "South Africa",
         "position": [
          0,
          0
         ],
         "properties": {
          "char_count": 12,
          "color": "#9F4499",
          "label": "South Africa"
         },
         "scale_factor": 1,
         "size": [
          55,
          55
         ],
         "styles": {},
         "type": "#9F4499"
        },
        {
         "color": "#9F4499",
         "id": "group#Australia",
         "label": "Australia",
         "position": [
          0,
          0
         ],
         "properties": {
          "char_count": 9,
          "color": "#9F4499",
          "label": "Australia"
         },
         "scale_factor": 1,
         "size": [
          55,
          55
         ],
         "styles": {},
         "type": "#9F4499"
        },
        {
         "color": "#9F4499",
         "id": "group#Kenya",
         "label": "Kenya",
         "position": [
          0,
          0
         ],
         "properties": {
          "char_count": 5,
          "color": "#9F4499",
          "label": "Kenya"
         },
         "scale_factor": 1,
         "size": [
          55,
          55
         ],
         "styles": {},
         "type": "#9F4499"
        },
        {
         "color": "#9F4499",
         "id": "group#USA",
         "label": "USA",
         "position": [
          0,
          0
         ],
         "properties": {
          "char_count": 3,
          "color": "#9F4499",
          "label": "USA"
         },
         "scale_factor": 1,
         "size": [
          55,
          55
         ],
         "styles": {},
         "type": "#9F4499"
        },
        {
         "color": "#9F4499",
         "id": "group#USA",
         "label": "USA",
         "position": [
          0,
          0
         ],
         "properties": {
          "char_count": 3,
          "color": "#9F4499",
          "label": "USA"
         },
         "scale_factor": 1,
         "size": [
          55,
          55
         ],
         "styles": {},
         "type": "#9F4499"
        },
        {
         "color": "#9F4499",
         "id": "group#Egypt",
         "label": "Egypt",
         "position": [
          0,
          0
         ],
         "properties": {
          "char_count": 5,
          "color": "#9F4499",
          "label": "Egypt"
         },
         "scale_factor": 1,
         "size": [
          55,
          55
         ],
         "styles": {},
         "type": "#9F4499"
        },
        {
         "color": "#9F4499",
         "id": "group#Morocco",
         "label": "Morocco",
         "position": [
          0,
          0
         ],
         "properties": {
          "char_count": 7,
          "color": "#9F4499",
          "label": "Morocco"
         },
         "scale_factor": 1,
         "size": [
          55,
          55
         ],
         "styles": {},
         "type": "#9F4499"
        },
        {
         "color": "#9F4499",
         "id": "group#Nigeria",
         "label": "Nigeria",
         "position": [
          0,
          0
         ],
         "properties": {
          "char_count": 7,
          "color": "#9F4499",
          "label": "Nigeria"
         },
         "scale_factor": 1,
         "size": [
          55,
          55
         ],
         "styles": {},
         "type": "#9F4499"
        },
        {
         "color": "#9F4499",
         "id": "group#South Africa",
         "label": "South Africa",
         "position": [
          0,
          0
         ],
         "properties": {
          "char_count": 12,
          "color": "#9F4499",
          "label": "South Africa"
         },
         "scale_factor": 1,
         "size": [
          55,
          55
         ],
         "styles": {},
         "type": "#9F4499"
        },
        {
         "color": "#9F4499",
         "id": "group#China",
         "label": "China",
         "position": [
          0,
          0
         ],
         "properties": {
          "char_count": 5,
          "color": "#9F4499",
          "label": "China"
         },
         "scale_factor": 1,
         "size": [
          55,
          55
         ],
         "styles": {},
         "type": "#9F4499"
        },
        {
         "color": "#9F4499",
         "id": "group#Indonesia",
         "label": "Indonesia",
         "position": [
          0,
          0
         ],
         "properties": {
          "char_count": 9,
          "color": "#9F4499",
          "label": "Indonesia"
         },
         "scale_factor": 1,
         "size": [
          55,
          55
         ],
         "styles": {},
         "type": "#9F4499"
        },
        {
         "color": "#9F4499",
         "id": "group#Iran",
         "label": "Iran",
         "position": [
          0,
          0
         ],
         "properties": {
          "char_count": 4,
          "color": "#9F4499",
          "label": "Iran"
         },
         "scale_factor": 1,
         "size": [
          55,
          55
         ],
         "styles": {},
         "type": "#9F4499"
        },
        {
         "color": "#9F4499",
         "id": "group#Israel",
         "label": "Israel",
         "position": [
          0,
          0
         ],
         "properties": {
          "char_count": 6,
          "color": "#9F4499",
          "label": "Israel"
         },
         "scale_factor": 1,
         "size": [
          55,
          55
         ],
         "styles": {},
         "type": "#9F4499"
        },
        {
         "color": "#9F4499",
         "id": "group#Malaysia",
         "label": "Malaysia",
         "position": [
          0,
          0
         ],
         "properties": {
          "char_count": 8,
          "color": "#9F4499",
          "label": "Malaysia"
         },
         "scale_factor": 1,
         "size": [
          55,
          55
         ],
         "styles": {},
         "type": "#9F4499"
        },
        {
         "color": "#9F4499",
         "id": "group#Philippines",
         "label": "Philippines",
         "position": [
          0,
          0
         ],
         "properties": {
          "char_count": 11,
          "color": "#9F4499",
          "label": "Philippines"
         },
         "scale_factor": 1,
         "size": [
          55,
          55
         ],
         "styles": {},
         "type": "#9F4499"
        },
        {
         "color": "#9F4499",
         "id": "group#Singapore",
         "label": "Singapore",
         "position": [
          0,
          0
         ],
         "properties": {
          "char_count": 9,
          "color": "#9F4499",
          "label": "Singapore"
         },
         "scale_factor": 1,
         "size": [
          55,
          55
         ],
         "styles": {},
         "type": "#9F4499"
        },
        {
         "color": "#9F4499",
         "id": "group#Taiwan",
         "label": "Taiwan",
         "position": [
          0,
          0
         ],
         "properties": {
          "char_count": 6,
          "color": "#9F4499",
          "label": "Taiwan"
         },
         "scale_factor": 1,
         "size": [
          55,
          55
         ],
         "styles": {},
         "type": "#9F4499"
        },
        {
         "color": "#9F4499",
         "id": "group#Thailand",
         "label": "Thailand",
         "position": [
          0,
          0
         ],
         "properties": {
          "char_count": 8,
          "color": "#9F4499",
          "label": "Thailand"
         },
         "scale_factor": 1,
         "size": [
          55,
          55
         ],
         "styles": {},
         "type": "#9F4499"
        },
        {
         "color": "#9F4499",
         "id": "group#Turkey",
         "label": "Turkey",
         "position": [
          0,
          0
         ],
         "properties": {
          "char_count": 6,
          "color": "#9F4499",
          "label": "Turkey"
         },
         "scale_factor": 1,
         "size": [
          55,
          55
         ],
         "styles": {},
         "type": "#9F4499"
        },
        {
         "color": "#9F4499",
         "id": "group#Mongolia",
         "label": "Mongolia",
         "position": [
          0,
          0
         ],
         "properties": {
          "char_count": 8,
          "color": "#9F4499",
          "label": "Mongolia"
         },
         "scale_factor": 1,
         "size": [
          55,
          55
         ],
         "styles": {},
         "type": "#9F4499"
        },
        {
         "color": "#9F4499",
         "id": "group#Australia",
         "label": "Australia",
         "position": [
          0,
          0
         ],
         "properties": {
          "char_count": 9,
          "color": "#9F4499",
          "label": "Australia"
         },
         "scale_factor": 1,
         "size": [
          55,
          55
         ],
         "styles": {},
         "type": "#9F4499"
        },
        {
         "color": "#9F4499",
         "id": "group#Australia",
         "label": "Australia",
         "position": [
          0,
          0
         ],
         "properties": {
          "char_count": 9,
          "color": "#9F4499",
          "label": "Australia"
         },
         "scale_factor": 1,
         "size": [
          55,
          55
         ],
         "styles": {},
         "type": "#9F4499"
        },
        {
         "color": "#9F4499",
         "id": "group#Fiji",
         "label": "Fiji",
         "position": [
          0,
          0
         ],
         "properties": {
          "char_count": 4,
          "color": "#9F4499",
          "label": "Fiji"
         },
         "scale_factor": 1,
         "size": [
          55,
          55
         ],
         "styles": {},
         "type": "#9F4499"
        },
        {
         "color": "#9F4499",
         "id": "group#New Zealand",
         "label": "New Zealand",
         "position": [
          0,
          0
         ],
         "properties": {
          "char_count": 11,
          "color": "#9F4499",
          "label": "New Zealand"
         },
         "scale_factor": 1,
         "size": [
          55,
          55
         ],
         "styles": {},
         "type": "#9F4499"
        },
        {
         "color": "#9F4499",
         "id": "group#France",
         "label": "France",
         "position": [
          0,
          0
         ],
         "properties": {
          "char_count": 6,
          "color": "#9F4499",
          "label": "France"
         },
         "scale_factor": 1,
         "size": [
          55,
          55
         ],
         "styles": {},
         "type": "#9F4499"
        },
        {
         "color": "#9F4499",
         "id": "group#Spain",
         "label": "Spain",
         "position": [
          0,
          0
         ],
         "properties": {
          "char_count": 5,
          "color": "#9F4499",
          "label": "Spain"
         },
         "scale_factor": 1,
         "size": [
          55,
          55
         ],
         "styles": {},
         "type": "#9F4499"
        },
        {
         "color": "#9F4499",
         "id": "group#Spain",
         "label": "Spain",
         "position": [
          0,
          0
         ],
         "properties": {
          "char_count": 5,
          "color": "#9F4499",
          "label": "Spain"
         },
         "scale_factor": 1,
         "size": [
          55,
          55
         ],
         "styles": {},
         "type": "#9F4499"
        },
        {
         "color": "#9F4499",
         "id": "group#Italy",
         "label": "Italy",
         "position": [
          0,
          0
         ],
         "properties": {
          "char_count": 5,
          "color": "#9F4499",
          "label": "Italy"
         },
         "scale_factor": 1,
         "size": [
          55,
          55
         ],
         "styles": {},
         "type": "#9F4499"
        },
        {
         "color": "#9F4499",
         "id": "group#Denmark",
         "label": "Denmark",
         "position": [
          0,
          0
         ],
         "properties": {
          "char_count": 7,
          "color": "#9F4499",
          "label": "Denmark"
         },
         "scale_factor": 1,
         "size": [
          55,
          55
         ],
         "styles": {},
         "type": "#9F4499"
        },
        {
         "color": "#9F4499",
         "id": "group#Finland",
         "label": "Finland",
         "position": [
          0,
          0
         ],
         "properties": {
          "char_count": 7,
          "color": "#9F4499",
          "label": "Finland"
         },
         "scale_factor": 1,
         "size": [
          55,
          55
         ],
         "styles": {},
         "type": "#9F4499"
        },
        {
         "color": "#9F4499",
         "id": "group#Greece",
         "label": "Greece",
         "position": [
          0,
          0
         ],
         "properties": {
          "char_count": 6,
          "color": "#9F4499",
          "label": "Greece"
         },
         "scale_factor": 1,
         "size": [
          55,
          55
         ],
         "styles": {},
         "type": "#9F4499"
        },
        {
         "color": "#9F4499",
         "id": "group#Ireland",
         "label": "Ireland",
         "position": [
          0,
          0
         ],
         "properties": {
          "char_count": 7,
          "color": "#9F4499",
          "label": "Ireland"
         },
         "scale_factor": 1,
         "size": [
          55,
          55
         ],
         "styles": {},
         "type": "#9F4499"
        },
        {
         "color": "#9F4499",
         "id": "group#Iceland",
         "label": "Iceland",
         "position": [
          0,
          0
         ],
         "properties": {
          "char_count": 7,
          "color": "#9F4499",
          "label": "Iceland"
         },
         "scale_factor": 1,
         "size": [
          55,
          55
         ],
         "styles": {},
         "type": "#9F4499"
        },
        {
         "color": "#9F4499",
         "id": "group#Norway",
         "label": "Norway",
         "position": [
          0,
          0
         ],
         "properties": {
          "char_count": 6,
          "color": "#9F4499",
          "label": "Norway"
         },
         "scale_factor": 1,
         "size": [
          55,
          55
         ],
         "styles": {},
         "type": "#9F4499"
        },
        {
         "color": "#9F4499",
         "id": "group#Austria",
         "label": "Austria",
         "position": [
          0,
          0
         ],
         "properties": {
          "char_count": 7,
          "color": "#9F4499",
          "label": "Austria"
         },
         "scale_factor": 1,
         "size": [
          55,
          55
         ],
         "styles": {},
         "type": "#9F4499"
        },
        {
         "color": "#9F4499",
         "id": "group#Portugal",
         "label": "Portugal",
         "position": [
          0,
          0
         ],
         "properties": {
          "char_count": 8,
          "color": "#9F4499",
          "label": "Portugal"
         },
         "scale_factor": 1,
         "size": [
          55,
          55
         ],
         "styles": {},
         "type": "#9F4499"
        },
        {
         "color": "#9F4499",
         "id": "group#Sweden",
         "label": "Sweden",
         "position": [
          0,
          0
         ],
         "properties": {
          "char_count": 6,
          "color": "#9F4499",
          "label": "Sweden"
         },
         "scale_factor": 1,
         "size": [
          55,
          55
         ],
         "styles": {},
         "type": "#9F4499"
        },
        {
         "color": "#9F4499",
         "id": "group#UK",
         "label": "UK",
         "position": [
          0,
          0
         ],
         "properties": {
          "char_count": 2,
          "color": "#9F4499",
          "label": "UK"
         },
         "scale_factor": 1,
         "size": [
          55,
          55
         ],
         "styles": {},
         "type": "#9F4499"
        },
        {
         "color": "#9F4499",
         "id": "group#USA",
         "label": "USA",
         "position": [
          0,
          0
         ],
         "properties": {
          "char_count": 3,
          "color": "#9F4499",
          "label": "USA"
         },
         "scale_factor": 1,
         "size": [
          55,
          55
         ],
         "styles": {},
         "type": "#9F4499"
        },
        {
         "color": "#9F4499",
         "id": "group#USA",
         "label": "USA",
         "position": [
          0,
          0
         ],
         "properties": {
          "char_count": 3,
          "color": "#9F4499",
          "label": "USA"
         },
         "scale_factor": 1,
         "size": [
          55,
          55
         ],
         "styles": {},
         "type": "#9F4499"
        },
        {
         "color": "#9F4499",
         "id": "group#USA",
         "label": "USA",
         "position": [
          0,
          0
         ],
         "properties": {
          "char_count": 3,
          "color": "#9F4499",
          "label": "USA"
         },
         "scale_factor": 1,
         "size": [
          55,
          55
         ],
         "styles": {},
         "type": "#9F4499"
        },
        {
         "color": "#9F4499",
         "id": "group#USA",
         "label": "USA",
         "position": [
          0,
          0
         ],
         "properties": {
          "char_count": 3,
          "color": "#9F4499",
          "label": "USA"
         },
         "scale_factor": 1,
         "size": [
          55,
          55
         ],
         "styles": {},
         "type": "#9F4499"
        },
        {
         "color": "#9F4499",
         "id": "group#USA",
         "label": "USA",
         "position": [
          0,
          0
         ],
         "properties": {
          "char_count": 3,
          "color": "#9F4499",
          "label": "USA"
         },
         "scale_factor": 1,
         "size": [
          55,
          55
         ],
         "styles": {},
         "type": "#9F4499"
        },
        {
         "color": "#9F4499",
         "id": "group#Canada",
         "label": "Canada",
         "position": [
          0,
          0
         ],
         "properties": {
          "char_count": 6,
          "color": "#9F4499",
          "label": "Canada"
         },
         "scale_factor": 1,
         "size": [
          55,
          55
         ],
         "styles": {},
         "type": "#9F4499"
        },
        {
         "color": "#9F4499",
         "id": "group#Canada",
         "label": "Canada",
         "position": [
          0,
          0
         ],
         "properties": {
          "char_count": 6,
          "color": "#9F4499",
          "label": "Canada"
         },
         "scale_factor": 1,
         "size": [
          55,
          55
         ],
         "styles": {},
         "type": "#9F4499"
        },
        {
         "color": "#9F4499",
         "id": "group#Canada",
         "label": "Canada",
         "position": [
          0,
          0
         ],
         "properties": {
          "char_count": 6,
          "color": "#9F4499",
          "label": "Canada"
         },
         "scale_factor": 1,
         "size": [
          55,
          55
         ],
         "styles": {},
         "type": "#9F4499"
        },
        {
         "color": "#9F4499",
         "id": "group#Mexico",
         "label": "Mexico",
         "position": [
          0,
          0
         ],
         "properties": {
          "char_count": 6,
          "color": "#9F4499",
          "label": "Mexico"
         },
         "scale_factor": 1,
         "size": [
          55,
          55
         ],
         "styles": {},
         "type": "#9F4499"
        },
        {
         "color": "#9F4499",
         "id": "group#Guatemala",
         "label": "Guatemala",
         "position": [
          0,
          0
         ],
         "properties": {
          "char_count": 9,
          "color": "#9F4499",
          "label": "Guatemala"
         },
         "scale_factor": 1,
         "size": [
          55,
          55
         ],
         "styles": {},
         "type": "#9F4499"
        },
        {
         "color": "#9F4499",
         "id": "group#Argentina",
         "label": "Argentina",
         "position": [
          0,
          0
         ],
         "properties": {
          "char_count": 9,
          "color": "#9F4499",
          "label": "Argentina"
         },
         "scale_factor": 1,
         "size": [
          55,
          55
         ],
         "styles": {},
         "type": "#9F4499"
        },
        {
         "color": "#9F4499",
         "id": "group#Brazil",
         "label": "Brazil",
         "position": [
          0,
          0
         ],
         "properties": {
          "char_count": 6,
          "color": "#9F4499",
          "label": "Brazil"
         },
         "scale_factor": 1,
         "size": [
          55,
          55
         ],
         "styles": {},
         "type": "#9F4499"
        },
        {
         "color": "#9F4499",
         "id": "group#Chile",
         "label": "Chile",
         "position": [
          0,
          0
         ],
         "properties": {
          "char_count": 5,
          "color": "#9F4499",
          "label": "Chile"
         },
         "scale_factor": 1,
         "size": [
          55,
          55
         ],
         "styles": {},
         "type": "#9F4499"
        },
        {
         "color": "#9F4499",
         "id": "group#Brazil",
         "label": "Brazil",
         "position": [
          0,
          0
         ],
         "properties": {
          "char_count": 6,
          "color": "#9F4499",
          "label": "Brazil"
         },
         "scale_factor": 1,
         "size": [
          55,
          55
         ],
         "styles": {},
         "type": "#9F4499"
        },
        {
         "color": "#9F4499",
         "id": "group#Colombia",
         "label": "Colombia",
         "position": [
          0,
          0
         ],
         "properties": {
          "char_count": 8,
          "color": "#9F4499",
          "label": "Colombia"
         },
         "scale_factor": 1,
         "size": [
          55,
          55
         ],
         "styles": {},
         "type": "#9F4499"
        },
        {
         "color": "#9F4499",
         "id": "group#Venezuela",
         "label": "Venezuela",
         "position": [
          0,
          0
         ],
         "properties": {
          "char_count": 9,
          "color": "#9F4499",
          "label": "Venezuela"
         },
         "scale_factor": 1,
         "size": [
          55,
          55
         ],
         "styles": {},
         "type": "#9F4499"
        }
       ],
       "_overview": {
        "enabled": null,
        "overview_set": false
       },
       "_selected_graph": [
        [],
        []
       ],
       "_sidebar": {
        "enabled": false,
        "start_with": null
       },
       "_view_module_version": "^1.7.3",
       "layout": "IPY_MODEL_86085bffb94c4c7a83431a47de74006f"
      }
     },
     "23c350ee9cd7453194bfe73a9c48fec7": {
      "model_module": "yfiles-jupyter-graphs",
      "model_module_version": "^1.7.3",
      "model_name": "GraphModel",
      "state": {
       "_context_pane_mapping": [
        {
         "id": "Neighborhood",
         "title": "Neighborhood"
        },
        {
         "id": "Data",
         "title": "Data"
        },
        {
         "id": "Search",
         "title": "Search"
        },
        {
         "id": "About",
         "title": "About"
        }
       ],
       "_directed": false,
       "_edges": [
        {
         "color": "#15AFAC",
         "directed": false,
         "end": "JFK",
         "label": "",
         "properties": {},
         "start": "LAX",
         "thickness_factor": 1
        },
        {
         "color": "#15AFAC",
         "directed": false,
         "end": "GIG",
         "label": "",
         "properties": {},
         "start": "JFK",
         "thickness_factor": 1
        },
        {
         "color": "#15AFAC",
         "directed": false,
         "end": "LIM",
         "label": "",
         "properties": {},
         "start": "JFK",
         "thickness_factor": 1
        },
        {
         "color": "#15AFAC",
         "directed": false,
         "end": "LHR",
         "label": "",
         "properties": {},
         "start": "JFK",
         "thickness_factor": 1
        },
        {
         "color": "#15AFAC",
         "directed": false,
         "end": "FRA",
         "label": "",
         "properties": {},
         "start": "GIG",
         "thickness_factor": 1
        },
        {
         "color": "#15AFAC",
         "directed": false,
         "end": "GIG",
         "label": "",
         "properties": {},
         "start": "LIM",
         "thickness_factor": 1
        },
        {
         "color": "#15AFAC",
         "directed": false,
         "end": "JFK",
         "label": "",
         "properties": {},
         "start": "FRA",
         "thickness_factor": 1
        },
        {
         "color": "#15AFAC",
         "directed": false,
         "end": "FRA",
         "label": "",
         "properties": {},
         "start": "LHR",
         "thickness_factor": 1
        },
        {
         "color": "#15AFAC",
         "directed": false,
         "end": "SVO",
         "label": "",
         "properties": {},
         "start": "FRA",
         "thickness_factor": 1
        },
        {
         "color": "#15AFAC",
         "directed": false,
         "end": "DXB",
         "label": "",
         "properties": {},
         "start": "FRA",
         "thickness_factor": 1
        },
        {
         "color": "#15AFAC",
         "directed": false,
         "end": "DEL",
         "label": "",
         "properties": {},
         "start": "SVO",
         "thickness_factor": 1
        },
        {
         "color": "#15AFAC",
         "directed": false,
         "end": "PVG",
         "label": "",
         "properties": {},
         "start": "SVO",
         "thickness_factor": 1
        },
        {
         "color": "#15AFAC",
         "directed": false,
         "end": "HKG",
         "label": "",
         "properties": {},
         "start": "DEL",
         "thickness_factor": 1
        },
        {
         "color": "#15AFAC",
         "directed": false,
         "end": "HKG",
         "label": "",
         "properties": {},
         "start": "PVG",
         "thickness_factor": 1
        },
        {
         "color": "#15AFAC",
         "directed": false,
         "end": "NRT",
         "label": "",
         "properties": {},
         "start": "PVG",
         "thickness_factor": 1
        },
        {
         "color": "#15AFAC",
         "directed": false,
         "end": "SYD",
         "label": "",
         "properties": {},
         "start": "HKG",
         "thickness_factor": 1
        },
        {
         "color": "#15AFAC",
         "directed": false,
         "end": "SYD",
         "label": "",
         "properties": {},
         "start": "NRT",
         "thickness_factor": 1
        },
        {
         "color": "#15AFAC",
         "directed": false,
         "end": "SVO",
         "label": "",
         "properties": {},
         "start": "DXB",
         "thickness_factor": 1
        },
        {
         "color": "#15AFAC",
         "directed": false,
         "end": "DEL",
         "label": "",
         "properties": {},
         "start": "DXB",
         "thickness_factor": 1
        },
        {
         "color": "#15AFAC",
         "directed": false,
         "end": "DKR",
         "label": "",
         "properties": {},
         "start": "DXB",
         "thickness_factor": 1
        },
        {
         "color": "#15AFAC",
         "directed": false,
         "end": "JNB",
         "label": "",
         "properties": {},
         "start": "DXB",
         "thickness_factor": 1
        },
        {
         "color": "#15AFAC",
         "directed": false,
         "end": "LHR",
         "label": "",
         "properties": {},
         "start": "JNB",
         "thickness_factor": 1
        },
        {
         "color": "#15AFAC",
         "directed": false,
         "end": "DKR",
         "label": "",
         "properties": {},
         "start": "JNB",
         "thickness_factor": 1
        },
        {
         "color": "#15AFAC",
         "directed": false,
         "end": "DXB",
         "label": "",
         "properties": {},
         "start": "SYD",
         "thickness_factor": 1
        },
        {
         "color": "#15AFAC",
         "directed": false,
         "end": "JNB",
         "label": "",
         "properties": {},
         "start": "NBO",
         "thickness_factor": 1
        },
        {
         "color": "#15AFAC",
         "directed": false,
         "end": "DXB",
         "label": "",
         "properties": {},
         "start": "NBO",
         "thickness_factor": 1
        },
        {
         "color": "#15AFAC",
         "directed": false,
         "end": "JFK",
         "label": "",
         "properties": {},
         "start": "ATL",
         "thickness_factor": 1
        },
        {
         "color": "#15AFAC",
         "directed": false,
         "end": "ATL",
         "label": "",
         "properties": {},
         "start": "LAX",
         "thickness_factor": 1
        },
        {
         "color": "#15AFAC",
         "directed": false,
         "end": "LHR",
         "label": "",
         "properties": {},
         "start": "ATL",
         "thickness_factor": 1
        },
        {
         "color": "#15AFAC",
         "directed": false,
         "end": "LIM",
         "label": "",
         "properties": {},
         "start": "ATL",
         "thickness_factor": 1
        },
        {
         "color": "#15AFAC",
         "directed": false,
         "end": "LIM",
         "label": "",
         "properties": {},
         "start": "SCL",
         "thickness_factor": 1
        },
        {
         "color": "#15AFAC",
         "directed": false,
         "end": "SCL",
         "label": "",
         "properties": {},
         "start": "EZE",
         "thickness_factor": 1
        },
        {
         "color": "#15AFAC",
         "directed": false,
         "end": "GRU",
         "label": "",
         "properties": {},
         "start": "SCL",
         "thickness_factor": 1
        },
        {
         "color": "#15AFAC",
         "directed": false,
         "end": "EZE",
         "label": "",
         "properties": {},
         "start": "GIG",
         "thickness_factor": 1
        },
        {
         "color": "#15AFAC",
         "directed": false,
         "end": "GRU",
         "label": "",
         "properties": {},
         "start": "GIG",
         "thickness_factor": 1
        },
        {
         "color": "#15AFAC",
         "directed": false,
         "end": "GIG",
         "label": "",
         "properties": {},
         "start": "BSB",
         "thickness_factor": 1
        },
        {
         "color": "#15AFAC",
         "directed": false,
         "end": "BSB",
         "label": "",
         "properties": {},
         "start": "SCL",
         "thickness_factor": 1
        },
        {
         "color": "#15AFAC",
         "directed": false,
         "end": "BSB",
         "label": "",
         "properties": {},
         "start": "LIM",
         "thickness_factor": 1
        },
        {
         "color": "#15AFAC",
         "directed": false,
         "end": "BSB",
         "label": "",
         "properties": {},
         "start": "BOG",
         "thickness_factor": 1
        },
        {
         "color": "#15AFAC",
         "directed": false,
         "end": "BSB",
         "label": "",
         "properties": {},
         "start": "CCS",
         "thickness_factor": 1
        },
        {
         "color": "#15AFAC",
         "directed": false,
         "end": "GUA",
         "label": "",
         "properties": {},
         "start": "BOG",
         "thickness_factor": 1
        },
        {
         "color": "#15AFAC",
         "directed": false,
         "end": "MIA",
         "label": "",
         "properties": {},
         "start": "CCS",
         "thickness_factor": 1
        },
        {
         "color": "#15AFAC",
         "directed": false,
         "end": "MIA",
         "label": "",
         "properties": {},
         "start": "GUA",
         "thickness_factor": 1
        },
        {
         "color": "#15AFAC",
         "directed": false,
         "end": "MEX",
         "label": "",
         "properties": {},
         "start": "GUA",
         "thickness_factor": 1
        },
        {
         "color": "#15AFAC",
         "directed": false,
         "end": "LAX",
         "label": "",
         "properties": {},
         "start": "MEX",
         "thickness_factor": 1
        },
        {
         "color": "#15AFAC",
         "directed": false,
         "end": "LAX",
         "label": "",
         "properties": {},
         "start": "MEX",
         "thickness_factor": 1
        },
        {
         "color": "#15AFAC",
         "directed": false,
         "end": "SFO",
         "label": "",
         "properties": {},
         "start": "LAX",
         "thickness_factor": 1
        },
        {
         "color": "#15AFAC",
         "directed": false,
         "end": "YVR",
         "label": "",
         "properties": {},
         "start": "SFO",
         "thickness_factor": 1
        },
        {
         "color": "#15AFAC",
         "directed": false,
         "end": "LAS",
         "label": "",
         "properties": {},
         "start": "LAX",
         "thickness_factor": 1
        },
        {
         "color": "#15AFAC",
         "directed": false,
         "end": "DFW",
         "label": "",
         "properties": {},
         "start": "LAX",
         "thickness_factor": 1
        },
        {
         "color": "#15AFAC",
         "directed": false,
         "end": "ORD",
         "label": "",
         "properties": {},
         "start": "LAX",
         "thickness_factor": 1
        },
        {
         "color": "#15AFAC",
         "directed": false,
         "end": "LAS",
         "label": "",
         "properties": {},
         "start": "SFO",
         "thickness_factor": 1
        },
        {
         "color": "#15AFAC",
         "directed": false,
         "end": "ATL",
         "label": "",
         "properties": {},
         "start": "DFW",
         "thickness_factor": 1
        },
        {
         "color": "#15AFAC",
         "directed": false,
         "end": "YYZ",
         "label": "",
         "properties": {},
         "start": "ATL",
         "thickness_factor": 1
        },
        {
         "color": "#15AFAC",
         "directed": false,
         "end": "YYZ",
         "label": "",
         "properties": {},
         "start": "ORD",
         "thickness_factor": 1
        },
        {
         "color": "#15AFAC",
         "directed": false,
         "end": "YUL",
         "label": "",
         "properties": {},
         "start": "YYZ",
         "thickness_factor": 1
        },
        {
         "color": "#15AFAC",
         "directed": false,
         "end": "JFK",
         "label": "",
         "properties": {},
         "start": "YYZ",
         "thickness_factor": 1
        },
        {
         "color": "#15AFAC",
         "directed": false,
         "end": "JFK",
         "label": "",
         "properties": {},
         "start": "YUL",
         "thickness_factor": 1
        },
        {
         "color": "#15AFAC",
         "directed": false,
         "end": "CPT",
         "label": "",
         "properties": {},
         "start": "JNB",
         "thickness_factor": 1
        },
        {
         "color": "#15AFAC",
         "directed": false,
         "end": "DKR",
         "label": "",
         "properties": {},
         "start": "LOS",
         "thickness_factor": 1
        },
        {
         "color": "#15AFAC",
         "directed": false,
         "end": "LOS",
         "label": "",
         "properties": {},
         "start": "NBO",
         "thickness_factor": 1
        },
        {
         "color": "#15AFAC",
         "directed": false,
         "end": "CMN",
         "label": "",
         "properties": {},
         "start": "DKR",
         "thickness_factor": 1
        },
        {
         "color": "#15AFAC",
         "directed": false,
         "end": "CAI",
         "label": "",
         "properties": {},
         "start": "DKR",
         "thickness_factor": 1
        },
        {
         "color": "#15AFAC",
         "directed": false,
         "end": "CAI",
         "label": "",
         "properties": {},
         "start": "NBO",
         "thickness_factor": 1
        },
        {
         "color": "#15AFAC",
         "directed": false,
         "end": "CAI",
         "label": "",
         "properties": {},
         "start": "DXB",
         "thickness_factor": 1
        },
        {
         "color": "#15AFAC",
         "directed": false,
         "end": "DXB",
         "label": "",
         "properties": {},
         "start": "IKA",
         "thickness_factor": 1
        },
        {
         "color": "#15AFAC",
         "directed": false,
         "end": "IKA",
         "label": "",
         "properties": {},
         "start": "IST",
         "thickness_factor": 1
        },
        {
         "color": "#15AFAC",
         "directed": false,
         "end": "ATH",
         "label": "",
         "properties": {},
         "start": "TLV",
         "thickness_factor": 1
        },
        {
         "color": "#15AFAC",
         "directed": false,
         "end": "TLV",
         "label": "",
         "properties": {},
         "start": "CAI",
         "thickness_factor": 1
        },
        {
         "color": "#15AFAC",
         "directed": false,
         "end": "IST",
         "label": "",
         "properties": {},
         "start": "ATH",
         "thickness_factor": 1
        },
        {
         "color": "#15AFAC",
         "directed": false,
         "end": "ATH",
         "label": "",
         "properties": {},
         "start": "FCO",
         "thickness_factor": 1
        },
        {
         "color": "#15AFAC",
         "directed": false,
         "end": "LHR",
         "label": "",
         "properties": {},
         "start": "LIS",
         "thickness_factor": 1
        },
        {
         "color": "#15AFAC",
         "directed": false,
         "end": "MAD",
         "label": "",
         "properties": {},
         "start": "LIS",
         "thickness_factor": 1
        },
        {
         "color": "#15AFAC",
         "directed": false,
         "end": "BCN",
         "label": "",
         "properties": {},
         "start": "MAD",
         "thickness_factor": 1
        },
        {
         "color": "#15AFAC",
         "directed": false,
         "end": "LHR",
         "label": "",
         "properties": {},
         "start": "CDG",
         "thickness_factor": 1
        },
        {
         "color": "#15AFAC",
         "directed": false,
         "end": "LHR",
         "label": "",
         "properties": {},
         "start": "DUB",
         "thickness_factor": 1
        },
        {
         "color": "#15AFAC",
         "directed": false,
         "end": "LHR",
         "label": "",
         "properties": {},
         "start": "EDI",
         "thickness_factor": 1
        },
        {
         "color": "#15AFAC",
         "directed": false,
         "end": "BCN",
         "label": "",
         "properties": {},
         "start": "CDG",
         "thickness_factor": 1
        },
        {
         "color": "#15AFAC",
         "directed": false,
         "end": "FCO",
         "label": "",
         "properties": {},
         "start": "BCN",
         "thickness_factor": 1
        },
        {
         "color": "#15AFAC",
         "directed": false,
         "end": "IST",
         "label": "",
         "properties": {},
         "start": "VIE",
         "thickness_factor": 1
        },
        {
         "color": "#15AFAC",
         "directed": false,
         "end": "SVO",
         "label": "",
         "properties": {},
         "start": "VIE",
         "thickness_factor": 1
        },
        {
         "color": "#15AFAC",
         "directed": false,
         "end": "LIS",
         "label": "",
         "properties": {},
         "start": "CMN",
         "thickness_factor": 1
        },
        {
         "color": "#15AFAC",
         "directed": false,
         "end": "CMN",
         "label": "",
         "properties": {},
         "start": "MAD",
         "thickness_factor": 1
        },
        {
         "color": "#15AFAC",
         "directed": false,
         "end": "CPH",
         "label": "",
         "properties": {},
         "start": "FRA",
         "thickness_factor": 1
        },
        {
         "color": "#15AFAC",
         "directed": false,
         "end": "CPH",
         "label": "",
         "properties": {},
         "start": "LHR",
         "thickness_factor": 1
        },
        {
         "color": "#15AFAC",
         "directed": false,
         "end": "OSL",
         "label": "",
         "properties": {},
         "start": "CPH",
         "thickness_factor": 1
        },
        {
         "color": "#15AFAC",
         "directed": false,
         "end": "ARN",
         "label": "",
         "properties": {},
         "start": "CPH",
         "thickness_factor": 1
        },
        {
         "color": "#15AFAC",
         "directed": false,
         "end": "HEL",
         "label": "",
         "properties": {},
         "start": "ARN",
         "thickness_factor": 1
        },
        {
         "color": "#15AFAC",
         "directed": false,
         "end": "SVO",
         "label": "",
         "properties": {},
         "start": "HEL",
         "thickness_factor": 1
        },
        {
         "color": "#15AFAC",
         "directed": false,
         "end": "PVG",
         "label": "",
         "properties": {},
         "start": "ULN",
         "thickness_factor": 1
        },
        {
         "color": "#15AFAC",
         "directed": false,
         "end": "PVG",
         "label": "",
         "properties": {},
         "start": "CTU",
         "thickness_factor": 1
        },
        {
         "color": "#15AFAC",
         "directed": false,
         "end": "TPE",
         "label": "",
         "properties": {},
         "start": "PVG",
         "thickness_factor": 1
        },
        {
         "color": "#15AFAC",
         "directed": false,
         "end": "HKG",
         "label": "",
         "properties": {},
         "start": "CTU",
         "thickness_factor": 1
        },
        {
         "color": "#15AFAC",
         "directed": false,
         "end": "HKG",
         "label": "",
         "properties": {},
         "start": "TPE",
         "thickness_factor": 1
        },
        {
         "color": "#15AFAC",
         "directed": false,
         "end": "MNL",
         "label": "",
         "properties": {},
         "start": "HKG",
         "thickness_factor": 1
        },
        {
         "color": "#15AFAC",
         "directed": false,
         "end": "HKG",
         "label": "",
         "properties": {},
         "start": "BKK",
         "thickness_factor": 1
        },
        {
         "color": "#15AFAC",
         "directed": false,
         "end": "KUL",
         "label": "",
         "properties": {},
         "start": "SIN",
         "thickness_factor": 1
        },
        {
         "color": "#15AFAC",
         "directed": false,
         "end": "BKK",
         "label": "",
         "properties": {},
         "start": "SIN",
         "thickness_factor": 1
        },
        {
         "color": "#15AFAC",
         "directed": false,
         "end": "SIN",
         "label": "",
         "properties": {},
         "start": "CGK",
         "thickness_factor": 1
        },
        {
         "color": "#15AFAC",
         "directed": false,
         "end": "SIN",
         "label": "",
         "properties": {},
         "start": "MNL",
         "thickness_factor": 1
        },
        {
         "color": "#15AFAC",
         "directed": false,
         "end": "SYD",
         "label": "",
         "properties": {},
         "start": "SIN",
         "thickness_factor": 1
        },
        {
         "color": "#15AFAC",
         "directed": false,
         "end": "SYD",
         "label": "",
         "properties": {},
         "start": "BNE",
         "thickness_factor": 1
        },
        {
         "color": "#15AFAC",
         "directed": false,
         "end": "MEL",
         "label": "",
         "properties": {},
         "start": "SYD",
         "thickness_factor": 1
        },
        {
         "color": "#15AFAC",
         "directed": false,
         "end": "SYD",
         "label": "",
         "properties": {},
         "start": "NAN",
         "thickness_factor": 1
        },
        {
         "color": "#15AFAC",
         "directed": false,
         "end": "SYD",
         "label": "",
         "properties": {},
         "start": "AKL",
         "thickness_factor": 1
        },
        {
         "color": "#15AFAC",
         "directed": false,
         "end": "AKL",
         "label": "",
         "properties": {},
         "start": "NAN",
         "thickness_factor": 1
        },
        {
         "color": "#15AFAC",
         "directed": false,
         "end": "LHR",
         "label": "",
         "properties": {},
         "start": "RKV",
         "thickness_factor": 1
        },
        {
         "color": "#15AFAC",
         "directed": false,
         "end": "CDG",
         "label": "",
         "properties": {},
         "start": "BCN",
         "thickness_factor": 1
        },
        {
         "color": "#15AFAC",
         "directed": false,
         "end": "FRA",
         "label": "",
         "properties": {},
         "start": "BCN",
         "thickness_factor": 1
        },
        {
         "color": "#15AFAC",
         "directed": false,
         "end": "FRA",
         "label": "",
         "properties": {},
         "start": "FCO",
         "thickness_factor": 1
        },
        {
         "color": "#15AFAC",
         "directed": false,
         "end": "MEX",
         "label": "",
         "properties": {},
         "start": "BOG",
         "thickness_factor": 1
        },
        {
         "color": "#15AFAC",
         "directed": false,
         "end": "GRU",
         "label": "",
         "properties": {},
         "start": "BOG",
         "thickness_factor": 1
        },
        {
         "color": "#15AFAC",
         "directed": false,
         "end": "MIA",
         "label": "",
         "properties": {},
         "start": "ATL",
         "thickness_factor": 1
        },
        {
         "color": "#15AFAC",
         "directed": false,
         "end": "IST",
         "label": "",
         "properties": {},
         "start": "FRA",
         "thickness_factor": 1
        },
        {
         "color": "#15AFAC",
         "directed": false,
         "end": "DEL",
         "label": "",
         "properties": {},
         "start": "IST",
         "thickness_factor": 1
        },
        {
         "color": "#15AFAC",
         "directed": false,
         "end": "BKK",
         "label": "",
         "properties": {},
         "start": "PVG",
         "thickness_factor": 1
        },
        {
         "color": "#15AFAC",
         "directed": false,
         "end": "BKK",
         "label": "",
         "properties": {},
         "start": "DEL",
         "thickness_factor": 1
        }
       ],
       "_model_module_version": "^1.7.3",
       "_nodes": [
        {
         "color": "#15AFAC",
         "coordinates": [
          33.942536,
          -118.408075
         ],
         "id": "LAX",
         "label": "Los Angeles",
         "parentId": "group#USA",
         "position": [
          0,
          0
         ],
         "properties": {
          "country": "USA",
          "label": "Los Angeles",
          "passengers": 65000000
         },
         "scale_factor": 1,
         "size": [
          55,
          55
         ],
         "styles": {},
         "type": "#15AFAC"
        },
        {
         "color": "#15AFAC",
         "coordinates": [
          -22.808903,
          -43.243647
         ],
         "id": "GIG",
         "label": "Rio de Janeiro",
         "parentId": "group#Brazil",
         "position": [
          0,
          0
         ],
         "properties": {
          "country": "Brazil",
          "label": "Rio de Janeiro",
          "passengers": 5000000
         },
         "scale_factor": 1,
         "size": [
          55,
          55
         ],
         "styles": {},
         "type": "#15AFAC"
        },
        {
         "color": "#15AFAC",
         "coordinates": [
          -12.021889,
          -77.114319
         ],
         "id": "LIM",
         "label": "Lima",
         "parentId": "group#Peru",
         "position": [
          0,
          0
         ],
         "properties": {
          "country": "Peru",
          "label": "Lima",
          "passengers": 18000000
         },
         "scale_factor": 1,
         "size": [
          55,
          55
         ],
         "styles": {},
         "type": "#15AFAC"
        },
        {
         "color": "#15AFAC",
         "coordinates": [
          51.4775,
          -0.461389
         ],
         "id": "LHR",
         "label": "London",
         "parentId": "group#UK",
         "position": [
          0,
          0
         ],
         "properties": {
          "country": "UK",
          "label": "London",
          "passengers": 61000000
         },
         "scale_factor": 1,
         "size": [
          55,
          55
         ],
         "styles": {},
         "type": "#15AFAC"
        },
        {
         "color": "#15AFAC",
         "coordinates": [
          50.033333,
          8.570556
         ],
         "id": "FRA",
         "label": "Frankfurt",
         "parentId": "group#Germany",
         "position": [
          0,
          0
         ],
         "properties": {
          "country": "Germany",
          "label": "Frankfurt",
          "passengers": 48000000
         },
         "scale_factor": 1,
         "size": [
          55,
          55
         ],
         "styles": {},
         "type": "#15AFAC"
        },
        {
         "color": "#15AFAC",
         "coordinates": [
          55.972642,
          37.414589
         ],
         "id": "SVO",
         "label": "Moscow",
         "parentId": "group#Russia",
         "position": [
          0,
          0
         ],
         "properties": {
          "country": "Russia",
          "label": "Moscow",
          "passengers": 49000000
         },
         "scale_factor": 1,
         "size": [
          55,
          55
         ],
         "styles": {},
         "type": "#15AFAC"
        },
        {
         "color": "#15AFAC",
         "coordinates": [
          28.5665,
          77.103089
         ],
         "id": "DEL",
         "label": "New Delhi",
         "parentId": "group#India",
         "position": [
          0,
          0
         ],
         "properties": {
          "country": "India",
          "label": "New Delhi",
          "passengers": 39000000
         },
         "scale_factor": 1,
         "size": [
          55,
          55
         ],
         "styles": {},
         "type": "#15AFAC"
        },
        {
         "color": "#15AFAC",
         "coordinates": [
          31.143378,
          121.805214
         ],
         "id": "PVG",
         "label": "Shanghai",
         "parentId": "group#China",
         "position": [
          0,
          0
         ],
         "properties": {
          "country": "China",
          "label": "Shanghai",
          "passengers": 32000000
         },
         "scale_factor": 1,
         "size": [
          55,
          55
         ],
         "styles": {},
         "type": "#15AFAC"
        },
        {
         "color": "#15AFAC",
         "coordinates": [
          22.308919,
          113.914603
         ],
         "id": "HKG",
         "label": "Hongkong",
         "parentId": "group#China",
         "position": [
          0,
          0
         ],
         "properties": {
          "country": "China",
          "label": "Hongkong",
          "passengers": 1000000
         },
         "scale_factor": 1,
         "size": [
          55,
          55
         ],
         "styles": {},
         "type": "#15AFAC"
        },
        {
         "color": "#15AFAC",
         "coordinates": [
          35.764722,
          140.386389
         ],
         "id": "NRT",
         "label": "Tokio",
         "parentId": "group#Japan",
         "position": [
          0,
          0
         ],
         "properties": {
          "country": "Japan",
          "label": "Tokio",
          "passengers": 15000000
         },
         "scale_factor": 1,
         "size": [
          55,
          55
         ],
         "styles": {},
         "type": "#15AFAC"
        },
        {
         "color": "#15AFAC",
         "coordinates": [
          25.252778,
          55.364444
         ],
         "id": "DXB",
         "label": "Dubai",
         "parentId": "group#UAE",
         "position": [
          0,
          0
         ],
         "properties": {
          "country": "UAE",
          "label": "Dubai",
          "passengers": 29000000
         },
         "scale_factor": 1,
         "size": [
          55,
          55
         ],
         "styles": {},
         "type": "#15AFAC"
        },
        {
         "color": "#15AFAC",
         "coordinates": [
          14.670833,
          -17.072778
         ],
         "id": "DKR",
         "label": "Dakar",
         "parentId": "group#Senegal",
         "position": [
          0,
          0
         ],
         "properties": {
          "country": "Senegal",
          "label": "Dakar",
          "passengers": 2000000
         },
         "scale_factor": 1,
         "size": [
          55,
          55
         ],
         "styles": {},
         "type": "#15AFAC"
        },
        {
         "color": "#15AFAC",
         "coordinates": [
          -26.133694,
          28.242317
         ],
         "id": "JNB",
         "label": "Johannesburg",
         "parentId": "group#South Africa",
         "position": [
          0,
          0
         ],
         "properties": {
          "country": "South Africa",
          "label": "Johannesburg",
          "passengers": 9000000
         },
         "scale_factor": 1,
         "size": [
          55,
          55
         ],
         "styles": {},
         "type": "#15AFAC"
        },
        {
         "color": "#15AFAC",
         "coordinates": [
          -33.946111,
          151.177222
         ],
         "id": "SYD",
         "label": "Sydney",
         "parentId": "group#Australia",
         "position": [
          0,
          0
         ],
         "properties": {
          "country": "Australia",
          "label": "Sydney",
          "passengers": 44000000
         },
         "scale_factor": 1,
         "size": [
          55,
          55
         ],
         "styles": {},
         "type": "#15AFAC"
        },
        {
         "color": "#15AFAC",
         "coordinates": [
          -1.319167,
          36.927778
         ],
         "id": "NBO",
         "label": "Nairobi",
         "parentId": "group#Kenya",
         "position": [
          0,
          0
         ],
         "properties": {
          "country": "Kenya",
          "label": "Nairobi",
          "passengers": 900000
         },
         "scale_factor": 1,
         "size": [
          55,
          55
         ],
         "styles": {},
         "type": "#15AFAC"
        },
        {
         "color": "#15AFAC",
         "coordinates": [
          33.639167,
          -84.427778
         ],
         "id": "ATL",
         "label": "Atlanta",
         "parentId": "group#USA",
         "position": [
          0,
          0
         ],
         "properties": {
          "country": "USA",
          "label": "Atlanta",
          "passengers": 93000000
         },
         "scale_factor": 1,
         "size": [
          55,
          55
         ],
         "styles": {},
         "type": "#15AFAC"
        },
        {
         "color": "#15AFAC",
         "coordinates": [
          40.63975,
          -73.778925
         ],
         "id": "JFK",
         "label": "New York City",
         "parentId": "group#USA",
         "position": [
          0,
          0
         ],
         "properties": {
          "country": "USA",
          "label": "New York City",
          "passengers": 55000000
         },
         "scale_factor": 1,
         "size": [
          55,
          55
         ],
         "styles": {},
         "type": "#15AFAC"
        },
        {
         "color": "#15AFAC",
         "coordinates": [
          30.121944,
          31.405556
         ],
         "id": "CAI",
         "label": "Cairo",
         "parentId": "group#Egypt",
         "position": [
          0,
          0
         ],
         "properties": {
          "country": "Egypt",
          "label": "Cairo",
          "passengers": 14000000
         },
         "scale_factor": 1,
         "size": [
          55,
          55
         ],
         "styles": {},
         "type": "#15AFAC"
        },
        {
         "color": "#15AFAC",
         "coordinates": [
          33.367467,
          -7.589967
         ],
         "id": "CMN",
         "label": "Casablanca",
         "parentId": "group#Morocco",
         "position": [
          0,
          0
         ],
         "properties": {
          "country": "Morocco",
          "label": "Casablanca",
          "passengers": 7000000
         },
         "scale_factor": 1,
         "size": [
          55,
          55
         ],
         "styles": {},
         "type": "#15AFAC"
        },
        {
         "color": "#15AFAC",
         "coordinates": [
          6.577222,
          3.321111
         ],
         "id": "LOS",
         "label": "Lagos",
         "parentId": "group#Nigeria",
         "position": [
          0,
          0
         ],
         "properties": {
          "country": "Nigeria",
          "label": "Lagos",
          "passengers": 5000000
         },
         "scale_factor": 1,
         "size": [
          55,
          55
         ],
         "styles": {},
         "type": "#15AFAC"
        },
        {
         "color": "#15AFAC",
         "coordinates": [
          -33.969444,
          18.597222
         ],
         "id": "CPT",
         "label": "Cape Town",
         "parentId": "group#South Africa",
         "position": [
          0,
          0
         ],
         "properties": {
          "country": "South Africa",
          "label": "Cape Town",
          "passengers": 5000000
         },
         "scale_factor": 1,
         "size": [
          55,
          55
         ],
         "styles": {},
         "type": "#15AFAC"
        },
        {
         "color": "#15AFAC",
         "coordinates": [
          30.578333,
          103.946944
         ],
         "id": "CTU",
         "label": "Chengdu",
         "parentId": "group#China",
         "position": [
          0,
          0
         ],
         "properties": {
          "country": "China",
          "label": "Chengdu",
          "passengers": 40000000
         },
         "scale_factor": 1,
         "size": [
          55,
          55
         ],
         "styles": {},
         "type": "#15AFAC"
        },
        {
         "color": "#15AFAC",
         "coordinates": [
          -6.125567,
          106.655897
         ],
         "id": "CGK",
         "label": "Jakarta",
         "parentId": "group#Indonesia",
         "position": [
          0,
          0
         ],
         "properties": {
          "country": "Indonesia",
          "label": "Jakarta",
          "passengers": 54000000
         },
         "scale_factor": 1,
         "size": [
          55,
          55
         ],
         "styles": {},
         "type": "#15AFAC"
        },
        {
         "color": "#15AFAC",
         "coordinates": [
          35.416111,
          51.152222
         ],
         "id": "IKA",
         "label": "Teheran",
         "parentId": "group#Iran",
         "position": [
          0,
          0
         ],
         "properties": {
          "country": "Iran",
          "label": "Teheran",
          "passengers": 8000000
         },
         "scale_factor": 1,
         "size": [
          55,
          55
         ],
         "styles": {},
         "type": "#15AFAC"
        },
        {
         "color": "#15AFAC",
         "coordinates": [
          32.011389,
          34.886667
         ],
         "id": "TLV",
         "label": "Tel Aviv",
         "parentId": "group#Israel",
         "position": [
          0,
          0
         ],
         "properties": {
          "country": "Israel",
          "label": "Tel Aviv",
          "passengers": 20000000
         },
         "scale_factor": 1,
         "size": [
          55,
          55
         ],
         "styles": {},
         "type": "#15AFAC"
        },
        {
         "color": "#15AFAC",
         "coordinates": [
          2.745578,
          101.709917
         ],
         "id": "KUL",
         "label": "Kuala Lumpur",
         "parentId": "group#Malaysia",
         "position": [
          0,
          0
         ],
         "properties": {
          "country": "Malaysia",
          "label": "Kuala Lumpur",
          "passengers": 25000000
         },
         "scale_factor": 1,
         "size": [
          55,
          55
         ],
         "styles": {},
         "type": "#15AFAC"
        },
        {
         "color": "#15AFAC",
         "coordinates": [
          14.508647,
          121.019581
         ],
         "id": "MNL",
         "label": "Manila",
         "parentId": "group#Philippines",
         "position": [
          0,
          0
         ],
         "properties": {
          "country": "Philippines",
          "label": "Manila",
          "passengers": 8000000
         },
         "scale_factor": 1,
         "size": [
          55,
          55
         ],
         "styles": {},
         "type": "#15AFAC"
        },
        {
         "color": "#15AFAC",
         "coordinates": [
          1.350189,
          103.994433
         ],
         "id": "SIN",
         "label": "Singapur",
         "parentId": "group#Singapore",
         "position": [
          0,
          0
         ],
         "properties": {
          "country": "Singapore",
          "label": "Singapur",
          "passengers": 32000000
         },
         "scale_factor": 1,
         "size": [
          55,
          55
         ],
         "styles": {},
         "type": "#15AFAC"
        },
        {
         "color": "#15AFAC",
         "coordinates": [
          25.077732,
          121.232822
         ],
         "id": "TPE",
         "label": "Taipeh",
         "parentId": "group#Taiwan",
         "position": [
          0,
          0
         ],
         "properties": {
          "country": "Taiwan",
          "label": "Taipeh",
          "passengers": 800000
         },
         "scale_factor": 1,
         "size": [
          55,
          55
         ],
         "styles": {},
         "type": "#15AFAC"
        },
        {
         "color": "#15AFAC",
         "coordinates": [
          13.681108,
          100.747283
         ],
         "id": "BKK",
         "label": "Bangkok",
         "parentId": "group#Thailand",
         "position": [
          0,
          0
         ],
         "properties": {
          "country": "Thailand",
          "label": "Bangkok",
          "passengers": 65000000
         },
         "scale_factor": 1,
         "size": [
          55,
          55
         ],
         "styles": {},
         "type": "#15AFAC"
        },
        {
         "color": "#15AFAC",
         "coordinates": [
          40.976922,
          28.814606
         ],
         "id": "IST",
         "label": "Istanbul",
         "parentId": "group#Turkey",
         "position": [
          0,
          0
         ],
         "properties": {
          "country": "Turkey",
          "label": "Istanbul",
          "passengers": 64000000
         },
         "scale_factor": 1,
         "size": [
          55,
          55
         ],
         "styles": {},
         "type": "#15AFAC"
        },
        {
         "color": "#15AFAC",
         "coordinates": [
          47.843056,
          106.766639
         ],
         "id": "ULN",
         "label": "Ulaanbaatar",
         "parentId": "group#Mongolia",
         "position": [
          0,
          0
         ],
         "properties": {
          "country": "Mongolia",
          "label": "Ulaanbaatar",
          "passengers": 1000000
         },
         "scale_factor": 1,
         "size": [
          55,
          55
         ],
         "styles": {},
         "type": "#15AFAC"
        },
        {
         "color": "#15AFAC",
         "coordinates": [
          -37.673333,
          144.843333
         ],
         "id": "MEL",
         "label": "Melbourne",
         "parentId": "group#Australia",
         "position": [
          0,
          0
         ],
         "properties": {
          "country": "Australia",
          "label": "Melbourne",
          "passengers": 12000000
         },
         "scale_factor": 1,
         "size": [
          55,
          55
         ],
         "styles": {},
         "type": "#15AFAC"
        },
        {
         "color": "#15AFAC",
         "coordinates": [
          -27.383333,
          153.118056
         ],
         "id": "BNE",
         "label": "Brisbane",
         "parentId": "group#Australia",
         "position": [
          0,
          0
         ],
         "properties": {
          "country": "Australia",
          "label": "Brisbane",
          "passengers": 23000000
         },
         "scale_factor": 1,
         "size": [
          55,
          55
         ],
         "styles": {},
         "type": "#15AFAC"
        },
        {
         "color": "#15AFAC",
         "coordinates": [
          -17.755392,
          177.443378
         ],
         "id": "NAN",
         "label": "Nadi",
         "parentId": "group#Fiji",
         "position": [
          0,
          0
         ],
         "properties": {
          "country": "Fiji",
          "label": "Nadi",
          "passengers": 2000000
         },
         "scale_factor": 1,
         "size": [
          55,
          55
         ],
         "styles": {},
         "type": "#15AFAC"
        },
        {
         "color": "#15AFAC",
         "coordinates": [
          -37.008056,
          174.791667
         ],
         "id": "AKL",
         "label": "Auckland",
         "parentId": "group#New Zealand",
         "position": [
          0,
          0
         ],
         "properties": {
          "country": "New Zealand",
          "label": "Auckland",
          "passengers": 21000000
         },
         "scale_factor": 1,
         "size": [
          55,
          55
         ],
         "styles": {},
         "type": "#15AFAC"
        },
        {
         "color": "#15AFAC",
         "coordinates": [
          49.009722,
          2.547778
         ],
         "id": "CDG",
         "label": "Paris",
         "parentId": "group#France",
         "position": [
          0,
          0
         ],
         "properties": {
          "country": "France",
          "label": "Paris",
          "passengers": 57000000
         },
         "scale_factor": 1,
         "size": [
          55,
          55
         ],
         "styles": {},
         "type": "#15AFAC"
        },
        {
         "color": "#15AFAC",
         "coordinates": [
          40.4675,
          -3.551944
         ],
         "id": "MAD",
         "label": "Madrid",
         "parentId": "group#Spain",
         "position": [
          0,
          0
         ],
         "properties": {
          "country": "Spain",
          "label": "Madrid",
          "passengers": 50000000
         },
         "scale_factor": 1,
         "size": [
          55,
          55
         ],
         "styles": {},
         "type": "#15AFAC"
        },
        {
         "color": "#15AFAC",
         "coordinates": [
          41.297078,
          2.078464
         ],
         "id": "BCN",
         "label": "Barcelona",
         "parentId": "group#Spain",
         "position": [
          0,
          0
         ],
         "properties": {
          "country": "Spain",
          "label": "Barcelona",
          "passengers": 41000000
         },
         "scale_factor": 1,
         "size": [
          55,
          55
         ],
         "styles": {},
         "type": "#15AFAC"
        },
        {
         "color": "#15AFAC",
         "coordinates": [
          41.804444,
          12.250833
         ],
         "id": "FCO",
         "label": "Rome",
         "parentId": "group#Italy",
         "position": [
          0,
          0
         ],
         "properties": {
          "country": "Italy",
          "label": "Rome",
          "passengers": 29000000
         },
         "scale_factor": 1,
         "size": [
          55,
          55
         ],
         "styles": {},
         "type": "#15AFAC"
        },
        {
         "color": "#15AFAC",
         "coordinates": [
          55.617917,
          12.655972
         ],
         "id": "CPH",
         "label": "Copenhagen",
         "parentId": "group#Denmark",
         "position": [
          0,
          0
         ],
         "properties": {
          "country": "Denmark",
          "label": "Copenhagen",
          "passengers": 30000000
         },
         "scale_factor": 1,
         "size": [
          55,
          55
         ],
         "styles": {},
         "type": "#15AFAC"
        },
        {
         "color": "#15AFAC",
         "coordinates": [
          60.317222,
          24.963333
         ],
         "id": "HEL",
         "label": "Helsinki",
         "parentId": "group#Finland",
         "position": [
          0,
          0
         ],
         "properties": {
          "country": "Finland",
          "label": "Helsinki",
          "passengers": 5000000
         },
         "scale_factor": 1,
         "size": [
          55,
          55
         ],
         "styles": {},
         "type": "#15AFAC"
        },
        {
         "color": "#15AFAC",
         "coordinates": [
          37.936358,
          23.944467
         ],
         "id": "ATH",
         "label": "Athens",
         "parentId": "group#Greece",
         "position": [
          0,
          0
         ],
         "properties": {
          "country": "Greece",
          "label": "Athens",
          "passengers": 22000000
         },
         "scale_factor": 1,
         "size": [
          55,
          55
         ],
         "styles": {},
         "type": "#15AFAC"
        },
        {
         "color": "#15AFAC",
         "coordinates": [
          53.421333,
          -6.270075
         ],
         "id": "DUB",
         "label": "Dublin",
         "parentId": "group#Ireland",
         "position": [
          0,
          0
         ],
         "properties": {
          "country": "Ireland",
          "label": "Dublin",
          "passengers": 32000000
         },
         "scale_factor": 1,
         "size": [
          55,
          55
         ],
         "styles": {},
         "type": "#15AFAC"
        },
        {
         "color": "#15AFAC",
         "coordinates": [
          64.13,
          -21.940556
         ],
         "id": "RKV",
         "label": "Reykjavik",
         "parentId": "group#Iceland",
         "position": [
          0,
          0
         ],
         "properties": {
          "country": "Iceland",
          "label": "Reykjavik",
          "passengers": 400000
         },
         "scale_factor": 1,
         "size": [
          55,
          55
         ],
         "styles": {},
         "type": "#15AFAC"
        },
        {
         "color": "#15AFAC",
         "coordinates": [
          60.193917,
          11.100361
         ],
         "id": "OSL",
         "label": "Oslo",
         "parentId": "group#Norway",
         "position": [
          0,
          0
         ],
         "properties": {
          "country": "Norway",
          "label": "Oslo",
          "passengers": 9000000
         },
         "scale_factor": 1,
         "size": [
          55,
          55
         ],
         "styles": {},
         "type": "#15AFAC"
        },
        {
         "color": "#15AFAC",
         "coordinates": [
          48.110833,
          16.570833
         ],
         "id": "VIE",
         "label": "Vienna",
         "parentId": "group#Austria",
         "position": [
          0,
          0
         ],
         "properties": {
          "country": "Austria",
          "label": "Vienna",
          "passengers": 10000000
         },
         "scale_factor": 1,
         "size": [
          55,
          55
         ],
         "styles": {},
         "type": "#15AFAC"
        },
        {
         "color": "#15AFAC",
         "coordinates": [
          38.774167,
          -9.134167
         ],
         "id": "LIS",
         "label": "Lisbon",
         "parentId": "group#Portugal",
         "position": [
          0,
          0
         ],
         "properties": {
          "country": "Portugal",
          "label": "Lisbon",
          "passengers": 28000000
         },
         "scale_factor": 1,
         "size": [
          55,
          55
         ],
         "styles": {},
         "type": "#15AFAC"
        },
        {
         "color": "#15AFAC",
         "coordinates": [
          59.651944,
          17.918611
         ],
         "id": "ARN",
         "label": "Stockholm",
         "parentId": "group#Sweden",
         "position": [
          0,
          0
         ],
         "properties": {
          "country": "Sweden",
          "label": "Stockholm",
          "passengers": 7000000
         },
         "scale_factor": 1,
         "size": [
          55,
          55
         ],
         "styles": {},
         "type": "#15AFAC"
        },
        {
         "color": "#15AFAC",
         "coordinates": [
          55.95,
          -3.3725
         ],
         "id": "EDI",
         "label": "Edinburgh",
         "parentId": "group#UK",
         "position": [
          0,
          0
         ],
         "properties": {
          "country": "UK",
          "label": "Edinburgh",
          "passengers": 14000000
         },
         "scale_factor": 1,
         "size": [
          55,
          55
         ],
         "styles": {},
         "type": "#15AFAC"
        },
        {
         "color": "#15AFAC",
         "coordinates": [
          41.978603,
          -87.904842
         ],
         "id": "ORD",
         "label": "Chicago",
         "parentId": "group#USA",
         "position": [
          0,
          0
         ],
         "properties": {
          "country": "USA",
          "label": "Chicago",
          "passengers": 54000000
         },
         "scale_factor": 1,
         "size": [
          55,
          55
         ],
         "styles": {},
         "type": "#15AFAC"
        },
        {
         "color": "#15AFAC",
         "coordinates": [
          32.896828,
          -97.037997
         ],
         "id": "DFW",
         "label": "Dallas",
         "parentId": "group#USA",
         "position": [
          0,
          0
         ],
         "properties": {
          "country": "USA",
          "label": "Dallas",
          "passengers": 73000000
         },
         "scale_factor": 1,
         "size": [
          55,
          55
         ],
         "styles": {},
         "type": "#15AFAC"
        },
        {
         "color": "#15AFAC",
         "coordinates": [
          37.618972,
          -122.374889
         ],
         "id": "SFO",
         "label": "San Francisco",
         "parentId": "group#USA",
         "position": [
          0,
          0
         ],
         "properties": {
          "country": "USA",
          "label": "San Francisco",
          "passengers": 42000000
         },
         "scale_factor": 1,
         "size": [
          55,
          55
         ],
         "styles": {},
         "type": "#15AFAC"
        },
        {
         "color": "#15AFAC",
         "coordinates": [
          36.080056,
          -115.15225
         ],
         "id": "LAS",
         "label": "Las Vegas",
         "parentId": "group#USA",
         "position": [
          0,
          0
         ],
         "properties": {
          "country": "USA",
          "label": "Las Vegas",
          "passengers": 52000000
         },
         "scale_factor": 1,
         "size": [
          55,
          55
         ],
         "styles": {},
         "type": "#15AFAC"
        },
        {
         "color": "#15AFAC",
         "coordinates": [
          25.79325,
          -80.290556
         ],
         "id": "MIA",
         "label": "Miami",
         "parentId": "group#USA",
         "position": [
          0,
          0
         ],
         "properties": {
          "country": "USA",
          "label": "Miami",
          "passengers": 50000000
         },
         "scale_factor": 1,
         "size": [
          55,
          55
         ],
         "styles": {},
         "type": "#15AFAC"
        },
        {
         "color": "#15AFAC",
         "coordinates": [
          43.677222,
          -79.630556
         ],
         "id": "YYZ",
         "label": "Toronto",
         "parentId": "group#Canada",
         "position": [
          0,
          0
         ],
         "properties": {
          "country": "Canada",
          "label": "Toronto",
          "passengers": 12000000
         },
         "scale_factor": 1,
         "size": [
          55,
          55
         ],
         "styles": {},
         "type": "#15AFAC"
        },
        {
         "color": "#15AFAC",
         "coordinates": [
          49.193889,
          -123.184444
         ],
         "id": "YVR",
         "label": "Vancouver",
         "parentId": "group#Canada",
         "position": [
          0,
          0
         ],
         "properties": {
          "country": "Canada",
          "label": "Vancouver",
          "passengers": 19000000
         },
         "scale_factor": 1,
         "size": [
          55,
          55
         ],
         "styles": {},
         "type": "#15AFAC"
        },
        {
         "color": "#15AFAC",
         "coordinates": [
          45.47175,
          -73.736569
         ],
         "id": "YUL",
         "label": "Montreal",
         "parentId": "group#Canada",
         "position": [
          0,
          0
         ],
         "properties": {
          "country": "Canada",
          "label": "Montreal",
          "passengers": 15000000
         },
         "scale_factor": 1,
         "size": [
          55,
          55
         ],
         "styles": {},
         "type": "#15AFAC"
        },
        {
         "color": "#15AFAC",
         "coordinates": [
          19.436303,
          -99.072097
         ],
         "id": "MEX",
         "label": "Mexico-City",
         "parentId": "group#Mexico",
         "position": [
          0,
          0
         ],
         "properties": {
          "country": "Mexico",
          "label": "Mexico-City",
          "passengers": 46000000
         },
         "scale_factor": 1,
         "size": [
          55,
          55
         ],
         "styles": {},
         "type": "#15AFAC"
        },
        {
         "color": "#15AFAC",
         "coordinates": [
          14.583272,
          -90.527475
         ],
         "id": "GUA",
         "label": "Guatemala-City",
         "parentId": "group#Guatemala",
         "position": [
          0,
          0
         ],
         "properties": {
          "country": "Guatemala",
          "label": "Guatemala-City",
          "passengers": 2000000
         },
         "scale_factor": 1,
         "size": [
          55,
          55
         ],
         "styles": {},
         "type": "#15AFAC"
        },
        {
         "color": "#15AFAC",
         "coordinates": [
          -34.822222,
          -58.535833
         ],
         "id": "EZE",
         "label": "Buenos Aires",
         "parentId": "group#Argentina",
         "position": [
          0,
          0
         ],
         "properties": {
          "country": "Argentina",
          "label": "Buenos Aires",
          "passengers": 5000000
         },
         "scale_factor": 1,
         "size": [
          55,
          55
         ],
         "styles": {},
         "type": "#15AFAC"
        },
        {
         "color": "#15AFAC",
         "coordinates": [
          -23.432075,
          -46.469511
         ],
         "id": "GRU",
         "label": "Sao Paulo",
         "parentId": "group#Brazil",
         "position": [
          0,
          0
         ],
         "properties": {
          "country": "Brazil",
          "label": "Sao Paulo",
          "passengers": 34000000
         },
         "scale_factor": 1,
         "size": [
          55,
          55
         ],
         "styles": {},
         "type": "#15AFAC"
        },
        {
         "color": "#15AFAC",
         "coordinates": [
          -33.392975,
          -70.785803
         ],
         "id": "SCL",
         "label": "Santiago de Chile",
         "parentId": "group#Chile",
         "position": [
          0,
          0
         ],
         "properties": {
          "country": "Chile",
          "label": "Santiago de Chile",
          "passengers": 20000000
         },
         "scale_factor": 1,
         "size": [
          55,
          55
         ],
         "styles": {},
         "type": "#15AFAC"
        },
        {
         "color": "#15AFAC",
         "coordinates": [
          -15.871111,
          -47.918611
         ],
         "id": "BSB",
         "label": "Brasilia",
         "parentId": "group#Brazil",
         "position": [
          0,
          0
         ],
         "properties": {
          "country": "Brazil",
          "label": "Brasilia",
          "passengers": 13000000
         },
         "scale_factor": 1,
         "size": [
          55,
          55
         ],
         "styles": {},
         "type": "#15AFAC"
        },
        {
         "color": "#15AFAC",
         "coordinates": [
          4.701594,
          -74.146947
         ],
         "id": "BOG",
         "label": "Bogota",
         "parentId": "group#Colombia",
         "position": [
          0,
          0
         ],
         "properties": {
          "country": "Colombia",
          "label": "Bogota",
          "passengers": 36000000
         },
         "scale_factor": 1,
         "size": [
          55,
          55
         ],
         "styles": {},
         "type": "#15AFAC"
        },
        {
         "color": "#15AFAC",
         "coordinates": [
          10.601194,
          -66.991222
         ],
         "id": "CCS",
         "label": "Caracas",
         "parentId": "group#Venezuela",
         "position": [
          0,
          0
         ],
         "properties": {
          "country": "Venezuela",
          "label": "Caracas",
          "passengers": 8000000
         },
         "scale_factor": 1,
         "size": [
          55,
          55
         ],
         "styles": {},
         "type": "#15AFAC"
        }
       ],
       "_overview": {
        "enabled": null,
        "overview_set": false
       },
       "_selected_graph": [
        [],
        []
       ],
       "_sidebar": {
        "enabled": false,
        "start_with": null
       },
       "_view_module_version": "^1.7.3",
       "layout": "IPY_MODEL_55d532c74ff44053bb039394e9c0464d"
      }
     },
     "23d79e7ad121478389dfae5233523f2c": {
      "model_module": "@jupyter-widgets/base",
      "model_module_version": "2.0.0",
      "model_name": "LayoutModel",
      "state": {
       "height": "500px",
       "width": "100%"
      }
     },
     "28613a2b925f4c1b8b287d07dbf6d87e": {
      "model_module": "yfiles-jupyter-graphs",
      "model_module_version": "^1.7.3",
      "model_name": "GraphModel",
      "state": {
       "_context_pane_mapping": [
        {
         "id": "Neighborhood",
         "title": "Neighborhood"
        },
        {
         "id": "Data",
         "title": "Data"
        },
        {
         "id": "Search",
         "title": "Search"
        },
        {
         "id": "About",
         "title": "About"
        }
       ],
       "_directed": false,
       "_edges": [
        {
         "color": "#15AFAC",
         "directed": false,
         "end": "JFK",
         "label": "",
         "properties": {},
         "start": "LAX",
         "thickness_factor": 1
        },
        {
         "color": "#15AFAC",
         "directed": false,
         "end": "GIG",
         "label": "",
         "properties": {},
         "start": "JFK",
         "thickness_factor": 1
        },
        {
         "color": "#15AFAC",
         "directed": false,
         "end": "LIM",
         "label": "",
         "properties": {},
         "start": "JFK",
         "thickness_factor": 1
        },
        {
         "color": "#15AFAC",
         "directed": false,
         "end": "LHR",
         "label": "",
         "properties": {},
         "start": "JFK",
         "thickness_factor": 1
        },
        {
         "color": "#15AFAC",
         "directed": false,
         "end": "FRA",
         "label": "",
         "properties": {},
         "start": "GIG",
         "thickness_factor": 1
        },
        {
         "color": "#15AFAC",
         "directed": false,
         "end": "GIG",
         "label": "",
         "properties": {},
         "start": "LIM",
         "thickness_factor": 1
        },
        {
         "color": "#15AFAC",
         "directed": false,
         "end": "JFK",
         "label": "",
         "properties": {},
         "start": "FRA",
         "thickness_factor": 1
        },
        {
         "color": "#15AFAC",
         "directed": false,
         "end": "FRA",
         "label": "",
         "properties": {},
         "start": "LHR",
         "thickness_factor": 1
        },
        {
         "color": "#15AFAC",
         "directed": false,
         "end": "SVO",
         "label": "",
         "properties": {},
         "start": "FRA",
         "thickness_factor": 1
        },
        {
         "color": "#15AFAC",
         "directed": false,
         "end": "DXB",
         "label": "",
         "properties": {},
         "start": "FRA",
         "thickness_factor": 1
        },
        {
         "color": "#15AFAC",
         "directed": false,
         "end": "DEL",
         "label": "",
         "properties": {},
         "start": "SVO",
         "thickness_factor": 1
        },
        {
         "color": "#15AFAC",
         "directed": false,
         "end": "PVG",
         "label": "",
         "properties": {},
         "start": "SVO",
         "thickness_factor": 1
        },
        {
         "color": "#15AFAC",
         "directed": false,
         "end": "HKG",
         "label": "",
         "properties": {},
         "start": "DEL",
         "thickness_factor": 1
        },
        {
         "color": "#15AFAC",
         "directed": false,
         "end": "HKG",
         "label": "",
         "properties": {},
         "start": "PVG",
         "thickness_factor": 1
        },
        {
         "color": "#15AFAC",
         "directed": false,
         "end": "NRT",
         "label": "",
         "properties": {},
         "start": "PVG",
         "thickness_factor": 1
        },
        {
         "color": "#15AFAC",
         "directed": false,
         "end": "SYD",
         "label": "",
         "properties": {},
         "start": "HKG",
         "thickness_factor": 1
        },
        {
         "color": "#15AFAC",
         "directed": false,
         "end": "SYD",
         "label": "",
         "properties": {},
         "start": "NRT",
         "thickness_factor": 1
        },
        {
         "color": "#15AFAC",
         "directed": false,
         "end": "SVO",
         "label": "",
         "properties": {},
         "start": "DXB",
         "thickness_factor": 1
        },
        {
         "color": "#15AFAC",
         "directed": false,
         "end": "DEL",
         "label": "",
         "properties": {},
         "start": "DXB",
         "thickness_factor": 1
        },
        {
         "color": "#15AFAC",
         "directed": false,
         "end": "DKR",
         "label": "",
         "properties": {},
         "start": "DXB",
         "thickness_factor": 1
        },
        {
         "color": "#15AFAC",
         "directed": false,
         "end": "JNB",
         "label": "",
         "properties": {},
         "start": "DXB",
         "thickness_factor": 1
        },
        {
         "color": "#15AFAC",
         "directed": false,
         "end": "LHR",
         "label": "",
         "properties": {},
         "start": "JNB",
         "thickness_factor": 1
        },
        {
         "color": "#15AFAC",
         "directed": false,
         "end": "DKR",
         "label": "",
         "properties": {},
         "start": "JNB",
         "thickness_factor": 1
        },
        {
         "color": "#15AFAC",
         "directed": false,
         "end": "DXB",
         "label": "",
         "properties": {},
         "start": "SYD",
         "thickness_factor": 1
        },
        {
         "color": "#15AFAC",
         "directed": false,
         "end": "JNB",
         "label": "",
         "properties": {},
         "start": "NBO",
         "thickness_factor": 1
        },
        {
         "color": "#15AFAC",
         "directed": false,
         "end": "DXB",
         "label": "",
         "properties": {},
         "start": "NBO",
         "thickness_factor": 1
        },
        {
         "color": "#15AFAC",
         "directed": false,
         "end": "JFK",
         "label": "",
         "properties": {},
         "start": "ATL",
         "thickness_factor": 1
        },
        {
         "color": "#15AFAC",
         "directed": false,
         "end": "ATL",
         "label": "",
         "properties": {},
         "start": "LAX",
         "thickness_factor": 1
        },
        {
         "color": "#15AFAC",
         "directed": false,
         "end": "LHR",
         "label": "",
         "properties": {},
         "start": "ATL",
         "thickness_factor": 1
        },
        {
         "color": "#15AFAC",
         "directed": false,
         "end": "LIM",
         "label": "",
         "properties": {},
         "start": "ATL",
         "thickness_factor": 1
        },
        {
         "color": "#15AFAC",
         "directed": false,
         "end": "LIM",
         "label": "",
         "properties": {},
         "start": "SCL",
         "thickness_factor": 1
        },
        {
         "color": "#15AFAC",
         "directed": false,
         "end": "SCL",
         "label": "",
         "properties": {},
         "start": "EZE",
         "thickness_factor": 1
        },
        {
         "color": "#15AFAC",
         "directed": false,
         "end": "GRU",
         "label": "",
         "properties": {},
         "start": "SCL",
         "thickness_factor": 1
        },
        {
         "color": "#15AFAC",
         "directed": false,
         "end": "EZE",
         "label": "",
         "properties": {},
         "start": "GIG",
         "thickness_factor": 1
        },
        {
         "color": "#15AFAC",
         "directed": false,
         "end": "GRU",
         "label": "",
         "properties": {},
         "start": "GIG",
         "thickness_factor": 1
        },
        {
         "color": "#15AFAC",
         "directed": false,
         "end": "GIG",
         "label": "",
         "properties": {},
         "start": "BSB",
         "thickness_factor": 1
        },
        {
         "color": "#15AFAC",
         "directed": false,
         "end": "BSB",
         "label": "",
         "properties": {},
         "start": "SCL",
         "thickness_factor": 1
        },
        {
         "color": "#15AFAC",
         "directed": false,
         "end": "BSB",
         "label": "",
         "properties": {},
         "start": "LIM",
         "thickness_factor": 1
        },
        {
         "color": "#15AFAC",
         "directed": false,
         "end": "BSB",
         "label": "",
         "properties": {},
         "start": "BOG",
         "thickness_factor": 1
        },
        {
         "color": "#15AFAC",
         "directed": false,
         "end": "BSB",
         "label": "",
         "properties": {},
         "start": "CCS",
         "thickness_factor": 1
        },
        {
         "color": "#15AFAC",
         "directed": false,
         "end": "GUA",
         "label": "",
         "properties": {},
         "start": "BOG",
         "thickness_factor": 1
        },
        {
         "color": "#15AFAC",
         "directed": false,
         "end": "MIA",
         "label": "",
         "properties": {},
         "start": "CCS",
         "thickness_factor": 1
        },
        {
         "color": "#15AFAC",
         "directed": false,
         "end": "MIA",
         "label": "",
         "properties": {},
         "start": "GUA",
         "thickness_factor": 1
        },
        {
         "color": "#15AFAC",
         "directed": false,
         "end": "MEX",
         "label": "",
         "properties": {},
         "start": "GUA",
         "thickness_factor": 1
        },
        {
         "color": "#15AFAC",
         "directed": false,
         "end": "LAX",
         "label": "",
         "properties": {},
         "start": "MEX",
         "thickness_factor": 1
        },
        {
         "color": "#15AFAC",
         "directed": false,
         "end": "LAX",
         "label": "",
         "properties": {},
         "start": "MEX",
         "thickness_factor": 1
        },
        {
         "color": "#15AFAC",
         "directed": false,
         "end": "SFO",
         "label": "",
         "properties": {},
         "start": "LAX",
         "thickness_factor": 1
        },
        {
         "color": "#15AFAC",
         "directed": false,
         "end": "YVR",
         "label": "",
         "properties": {},
         "start": "SFO",
         "thickness_factor": 1
        },
        {
         "color": "#15AFAC",
         "directed": false,
         "end": "LAS",
         "label": "",
         "properties": {},
         "start": "LAX",
         "thickness_factor": 1
        },
        {
         "color": "#15AFAC",
         "directed": false,
         "end": "DFW",
         "label": "",
         "properties": {},
         "start": "LAX",
         "thickness_factor": 1
        },
        {
         "color": "#15AFAC",
         "directed": false,
         "end": "ORD",
         "label": "",
         "properties": {},
         "start": "LAX",
         "thickness_factor": 1
        },
        {
         "color": "#15AFAC",
         "directed": false,
         "end": "LAS",
         "label": "",
         "properties": {},
         "start": "SFO",
         "thickness_factor": 1
        },
        {
         "color": "#15AFAC",
         "directed": false,
         "end": "ATL",
         "label": "",
         "properties": {},
         "start": "DFW",
         "thickness_factor": 1
        },
        {
         "color": "#15AFAC",
         "directed": false,
         "end": "YYZ",
         "label": "",
         "properties": {},
         "start": "ATL",
         "thickness_factor": 1
        },
        {
         "color": "#15AFAC",
         "directed": false,
         "end": "YYZ",
         "label": "",
         "properties": {},
         "start": "ORD",
         "thickness_factor": 1
        },
        {
         "color": "#15AFAC",
         "directed": false,
         "end": "YUL",
         "label": "",
         "properties": {},
         "start": "YYZ",
         "thickness_factor": 1
        },
        {
         "color": "#15AFAC",
         "directed": false,
         "end": "JFK",
         "label": "",
         "properties": {},
         "start": "YYZ",
         "thickness_factor": 1
        },
        {
         "color": "#15AFAC",
         "directed": false,
         "end": "JFK",
         "label": "",
         "properties": {},
         "start": "YUL",
         "thickness_factor": 1
        },
        {
         "color": "#15AFAC",
         "directed": false,
         "end": "CPT",
         "label": "",
         "properties": {},
         "start": "JNB",
         "thickness_factor": 1
        },
        {
         "color": "#15AFAC",
         "directed": false,
         "end": "DKR",
         "label": "",
         "properties": {},
         "start": "LOS",
         "thickness_factor": 1
        },
        {
         "color": "#15AFAC",
         "directed": false,
         "end": "LOS",
         "label": "",
         "properties": {},
         "start": "NBO",
         "thickness_factor": 1
        },
        {
         "color": "#15AFAC",
         "directed": false,
         "end": "CMN",
         "label": "",
         "properties": {},
         "start": "DKR",
         "thickness_factor": 1
        },
        {
         "color": "#15AFAC",
         "directed": false,
         "end": "CAI",
         "label": "",
         "properties": {},
         "start": "DKR",
         "thickness_factor": 1
        },
        {
         "color": "#15AFAC",
         "directed": false,
         "end": "CAI",
         "label": "",
         "properties": {},
         "start": "NBO",
         "thickness_factor": 1
        },
        {
         "color": "#15AFAC",
         "directed": false,
         "end": "CAI",
         "label": "",
         "properties": {},
         "start": "DXB",
         "thickness_factor": 1
        },
        {
         "color": "#15AFAC",
         "directed": false,
         "end": "DXB",
         "label": "",
         "properties": {},
         "start": "IKA",
         "thickness_factor": 1
        },
        {
         "color": "#15AFAC",
         "directed": false,
         "end": "IKA",
         "label": "",
         "properties": {},
         "start": "IST",
         "thickness_factor": 1
        },
        {
         "color": "#15AFAC",
         "directed": false,
         "end": "ATH",
         "label": "",
         "properties": {},
         "start": "TLV",
         "thickness_factor": 1
        },
        {
         "color": "#15AFAC",
         "directed": false,
         "end": "TLV",
         "label": "",
         "properties": {},
         "start": "CAI",
         "thickness_factor": 1
        },
        {
         "color": "#15AFAC",
         "directed": false,
         "end": "IST",
         "label": "",
         "properties": {},
         "start": "ATH",
         "thickness_factor": 1
        },
        {
         "color": "#15AFAC",
         "directed": false,
         "end": "ATH",
         "label": "",
         "properties": {},
         "start": "FCO",
         "thickness_factor": 1
        },
        {
         "color": "#15AFAC",
         "directed": false,
         "end": "LHR",
         "label": "",
         "properties": {},
         "start": "LIS",
         "thickness_factor": 1
        },
        {
         "color": "#15AFAC",
         "directed": false,
         "end": "MAD",
         "label": "",
         "properties": {},
         "start": "LIS",
         "thickness_factor": 1
        },
        {
         "color": "#15AFAC",
         "directed": false,
         "end": "BCN",
         "label": "",
         "properties": {},
         "start": "MAD",
         "thickness_factor": 1
        },
        {
         "color": "#15AFAC",
         "directed": false,
         "end": "LHR",
         "label": "",
         "properties": {},
         "start": "CDG",
         "thickness_factor": 1
        },
        {
         "color": "#15AFAC",
         "directed": false,
         "end": "LHR",
         "label": "",
         "properties": {},
         "start": "DUB",
         "thickness_factor": 1
        },
        {
         "color": "#15AFAC",
         "directed": false,
         "end": "LHR",
         "label": "",
         "properties": {},
         "start": "EDI",
         "thickness_factor": 1
        },
        {
         "color": "#15AFAC",
         "directed": false,
         "end": "BCN",
         "label": "",
         "properties": {},
         "start": "CDG",
         "thickness_factor": 1
        },
        {
         "color": "#15AFAC",
         "directed": false,
         "end": "FCO",
         "label": "",
         "properties": {},
         "start": "BCN",
         "thickness_factor": 1
        },
        {
         "color": "#15AFAC",
         "directed": false,
         "end": "IST",
         "label": "",
         "properties": {},
         "start": "VIE",
         "thickness_factor": 1
        },
        {
         "color": "#15AFAC",
         "directed": false,
         "end": "SVO",
         "label": "",
         "properties": {},
         "start": "VIE",
         "thickness_factor": 1
        },
        {
         "color": "#15AFAC",
         "directed": false,
         "end": "LIS",
         "label": "",
         "properties": {},
         "start": "CMN",
         "thickness_factor": 1
        },
        {
         "color": "#15AFAC",
         "directed": false,
         "end": "CMN",
         "label": "",
         "properties": {},
         "start": "MAD",
         "thickness_factor": 1
        },
        {
         "color": "#15AFAC",
         "directed": false,
         "end": "CPH",
         "label": "",
         "properties": {},
         "start": "FRA",
         "thickness_factor": 1
        },
        {
         "color": "#15AFAC",
         "directed": false,
         "end": "CPH",
         "label": "",
         "properties": {},
         "start": "LHR",
         "thickness_factor": 1
        },
        {
         "color": "#15AFAC",
         "directed": false,
         "end": "OSL",
         "label": "",
         "properties": {},
         "start": "CPH",
         "thickness_factor": 1
        },
        {
         "color": "#15AFAC",
         "directed": false,
         "end": "ARN",
         "label": "",
         "properties": {},
         "start": "CPH",
         "thickness_factor": 1
        },
        {
         "color": "#15AFAC",
         "directed": false,
         "end": "HEL",
         "label": "",
         "properties": {},
         "start": "ARN",
         "thickness_factor": 1
        },
        {
         "color": "#15AFAC",
         "directed": false,
         "end": "SVO",
         "label": "",
         "properties": {},
         "start": "HEL",
         "thickness_factor": 1
        },
        {
         "color": "#15AFAC",
         "directed": false,
         "end": "PVG",
         "label": "",
         "properties": {},
         "start": "ULN",
         "thickness_factor": 1
        },
        {
         "color": "#15AFAC",
         "directed": false,
         "end": "PVG",
         "label": "",
         "properties": {},
         "start": "CTU",
         "thickness_factor": 1
        },
        {
         "color": "#15AFAC",
         "directed": false,
         "end": "TPE",
         "label": "",
         "properties": {},
         "start": "PVG",
         "thickness_factor": 1
        },
        {
         "color": "#15AFAC",
         "directed": false,
         "end": "HKG",
         "label": "",
         "properties": {},
         "start": "CTU",
         "thickness_factor": 1
        },
        {
         "color": "#15AFAC",
         "directed": false,
         "end": "HKG",
         "label": "",
         "properties": {},
         "start": "TPE",
         "thickness_factor": 1
        },
        {
         "color": "#15AFAC",
         "directed": false,
         "end": "MNL",
         "label": "",
         "properties": {},
         "start": "HKG",
         "thickness_factor": 1
        },
        {
         "color": "#15AFAC",
         "directed": false,
         "end": "HKG",
         "label": "",
         "properties": {},
         "start": "BKK",
         "thickness_factor": 1
        },
        {
         "color": "#15AFAC",
         "directed": false,
         "end": "KUL",
         "label": "",
         "properties": {},
         "start": "SIN",
         "thickness_factor": 1
        },
        {
         "color": "#15AFAC",
         "directed": false,
         "end": "BKK",
         "label": "",
         "properties": {},
         "start": "SIN",
         "thickness_factor": 1
        },
        {
         "color": "#15AFAC",
         "directed": false,
         "end": "SIN",
         "label": "",
         "properties": {},
         "start": "CGK",
         "thickness_factor": 1
        },
        {
         "color": "#15AFAC",
         "directed": false,
         "end": "SIN",
         "label": "",
         "properties": {},
         "start": "MNL",
         "thickness_factor": 1
        },
        {
         "color": "#15AFAC",
         "directed": false,
         "end": "SYD",
         "label": "",
         "properties": {},
         "start": "SIN",
         "thickness_factor": 1
        },
        {
         "color": "#15AFAC",
         "directed": false,
         "end": "SYD",
         "label": "",
         "properties": {},
         "start": "BNE",
         "thickness_factor": 1
        },
        {
         "color": "#15AFAC",
         "directed": false,
         "end": "MEL",
         "label": "",
         "properties": {},
         "start": "SYD",
         "thickness_factor": 1
        },
        {
         "color": "#15AFAC",
         "directed": false,
         "end": "SYD",
         "label": "",
         "properties": {},
         "start": "NAN",
         "thickness_factor": 1
        },
        {
         "color": "#15AFAC",
         "directed": false,
         "end": "SYD",
         "label": "",
         "properties": {},
         "start": "AKL",
         "thickness_factor": 1
        },
        {
         "color": "#15AFAC",
         "directed": false,
         "end": "AKL",
         "label": "",
         "properties": {},
         "start": "NAN",
         "thickness_factor": 1
        },
        {
         "color": "#15AFAC",
         "directed": false,
         "end": "LHR",
         "label": "",
         "properties": {},
         "start": "RKV",
         "thickness_factor": 1
        },
        {
         "color": "#15AFAC",
         "directed": false,
         "end": "CDG",
         "label": "",
         "properties": {},
         "start": "BCN",
         "thickness_factor": 1
        },
        {
         "color": "#15AFAC",
         "directed": false,
         "end": "FRA",
         "label": "",
         "properties": {},
         "start": "BCN",
         "thickness_factor": 1
        },
        {
         "color": "#15AFAC",
         "directed": false,
         "end": "FRA",
         "label": "",
         "properties": {},
         "start": "FCO",
         "thickness_factor": 1
        },
        {
         "color": "#15AFAC",
         "directed": false,
         "end": "MEX",
         "label": "",
         "properties": {},
         "start": "BOG",
         "thickness_factor": 1
        },
        {
         "color": "#15AFAC",
         "directed": false,
         "end": "GRU",
         "label": "",
         "properties": {},
         "start": "BOG",
         "thickness_factor": 1
        },
        {
         "color": "#15AFAC",
         "directed": false,
         "end": "MIA",
         "label": "",
         "properties": {},
         "start": "ATL",
         "thickness_factor": 1
        },
        {
         "color": "#15AFAC",
         "directed": false,
         "end": "IST",
         "label": "",
         "properties": {},
         "start": "FRA",
         "thickness_factor": 1
        },
        {
         "color": "#15AFAC",
         "directed": false,
         "end": "DEL",
         "label": "",
         "properties": {},
         "start": "IST",
         "thickness_factor": 1
        },
        {
         "color": "#15AFAC",
         "directed": false,
         "end": "BKK",
         "label": "",
         "properties": {},
         "start": "PVG",
         "thickness_factor": 1
        },
        {
         "color": "#15AFAC",
         "directed": false,
         "end": "BKK",
         "label": "",
         "properties": {},
         "start": "DEL",
         "thickness_factor": 1
        }
       ],
       "_model_module_version": "^1.7.3",
       "_nodes": [
        {
         "color": "#15AFAC",
         "coordinates": [
          33.942536,
          -118.408075
         ],
         "id": "LAX",
         "label": "Los Angeles",
         "parentId": "USA",
         "position": [
          0,
          0
         ],
         "properties": {
          "country": "USA",
          "label": "Los Angeles",
          "passengers": 65000000
         },
         "scale_factor": 1,
         "size": [
          55,
          55
         ],
         "styles": {},
         "type": "#15AFAC"
        },
        {
         "color": "#15AFAC",
         "coordinates": [
          -22.808903,
          -43.243647
         ],
         "id": "GIG",
         "label": "Rio de Janeiro",
         "parentId": "Brazil",
         "position": [
          0,
          0
         ],
         "properties": {
          "country": "Brazil",
          "label": "Rio de Janeiro",
          "passengers": 5000000
         },
         "scale_factor": 1,
         "size": [
          55,
          55
         ],
         "styles": {},
         "type": "#15AFAC"
        },
        {
         "color": "#15AFAC",
         "coordinates": [
          -12.021889,
          -77.114319
         ],
         "id": "LIM",
         "label": "Lima",
         "parentId": "Peru",
         "position": [
          0,
          0
         ],
         "properties": {
          "country": "Peru",
          "label": "Lima",
          "passengers": 18000000
         },
         "scale_factor": 1,
         "size": [
          55,
          55
         ],
         "styles": {},
         "type": "#15AFAC"
        },
        {
         "color": "#15AFAC",
         "coordinates": [
          51.4775,
          -0.461389
         ],
         "id": "LHR",
         "label": "London",
         "parentId": "UK",
         "position": [
          0,
          0
         ],
         "properties": {
          "country": "UK",
          "label": "London",
          "passengers": 61000000
         },
         "scale_factor": 1,
         "size": [
          55,
          55
         ],
         "styles": {},
         "type": "#15AFAC"
        },
        {
         "color": "#15AFAC",
         "coordinates": [
          50.033333,
          8.570556
         ],
         "id": "FRA",
         "label": "Frankfurt",
         "parentId": "Germany",
         "position": [
          0,
          0
         ],
         "properties": {
          "country": "Germany",
          "label": "Frankfurt",
          "passengers": 48000000
         },
         "scale_factor": 1,
         "size": [
          55,
          55
         ],
         "styles": {},
         "type": "#15AFAC"
        },
        {
         "color": "#15AFAC",
         "coordinates": [
          55.972642,
          37.414589
         ],
         "id": "SVO",
         "label": "Moscow",
         "parentId": "Russia",
         "position": [
          0,
          0
         ],
         "properties": {
          "country": "Russia",
          "label": "Moscow",
          "passengers": 49000000
         },
         "scale_factor": 1,
         "size": [
          55,
          55
         ],
         "styles": {},
         "type": "#15AFAC"
        },
        {
         "color": "#15AFAC",
         "coordinates": [
          28.5665,
          77.103089
         ],
         "id": "DEL",
         "label": "New Delhi",
         "parentId": "India",
         "position": [
          0,
          0
         ],
         "properties": {
          "country": "India",
          "label": "New Delhi",
          "passengers": 39000000
         },
         "scale_factor": 1,
         "size": [
          55,
          55
         ],
         "styles": {},
         "type": "#15AFAC"
        },
        {
         "color": "#15AFAC",
         "coordinates": [
          31.143378,
          121.805214
         ],
         "id": "PVG",
         "label": "Shanghai",
         "parentId": "China",
         "position": [
          0,
          0
         ],
         "properties": {
          "country": "China",
          "label": "Shanghai",
          "passengers": 32000000
         },
         "scale_factor": 1,
         "size": [
          55,
          55
         ],
         "styles": {},
         "type": "#15AFAC"
        },
        {
         "color": "#15AFAC",
         "coordinates": [
          22.308919,
          113.914603
         ],
         "id": "HKG",
         "label": "Hongkong",
         "parentId": "China",
         "position": [
          0,
          0
         ],
         "properties": {
          "country": "China",
          "label": "Hongkong",
          "passengers": 1000000
         },
         "scale_factor": 1,
         "size": [
          55,
          55
         ],
         "styles": {},
         "type": "#15AFAC"
        },
        {
         "color": "#15AFAC",
         "coordinates": [
          35.764722,
          140.386389
         ],
         "id": "NRT",
         "label": "Tokio",
         "parentId": "Japan",
         "position": [
          0,
          0
         ],
         "properties": {
          "country": "Japan",
          "label": "Tokio",
          "passengers": 15000000
         },
         "scale_factor": 1,
         "size": [
          55,
          55
         ],
         "styles": {},
         "type": "#15AFAC"
        },
        {
         "color": "#15AFAC",
         "coordinates": [
          25.252778,
          55.364444
         ],
         "id": "DXB",
         "label": "Dubai",
         "parentId": "UAE",
         "position": [
          0,
          0
         ],
         "properties": {
          "country": "UAE",
          "label": "Dubai",
          "passengers": 29000000
         },
         "scale_factor": 1,
         "size": [
          55,
          55
         ],
         "styles": {},
         "type": "#15AFAC"
        },
        {
         "color": "#15AFAC",
         "coordinates": [
          14.670833,
          -17.072778
         ],
         "id": "DKR",
         "label": "Dakar",
         "parentId": "Senegal",
         "position": [
          0,
          0
         ],
         "properties": {
          "country": "Senegal",
          "label": "Dakar",
          "passengers": 2000000
         },
         "scale_factor": 1,
         "size": [
          55,
          55
         ],
         "styles": {},
         "type": "#15AFAC"
        },
        {
         "color": "#15AFAC",
         "coordinates": [
          -26.133694,
          28.242317
         ],
         "id": "JNB",
         "label": "Johannesburg",
         "parentId": "South Africa",
         "position": [
          0,
          0
         ],
         "properties": {
          "country": "South Africa",
          "label": "Johannesburg",
          "passengers": 9000000
         },
         "scale_factor": 1,
         "size": [
          55,
          55
         ],
         "styles": {},
         "type": "#15AFAC"
        },
        {
         "color": "#15AFAC",
         "coordinates": [
          -33.946111,
          151.177222
         ],
         "id": "SYD",
         "label": "Sydney",
         "parentId": "Australia",
         "position": [
          0,
          0
         ],
         "properties": {
          "country": "Australia",
          "label": "Sydney",
          "passengers": 44000000
         },
         "scale_factor": 1,
         "size": [
          55,
          55
         ],
         "styles": {},
         "type": "#15AFAC"
        },
        {
         "color": "#15AFAC",
         "coordinates": [
          -1.319167,
          36.927778
         ],
         "id": "NBO",
         "label": "Nairobi",
         "parentId": "Kenya",
         "position": [
          0,
          0
         ],
         "properties": {
          "country": "Kenya",
          "label": "Nairobi",
          "passengers": 900000
         },
         "scale_factor": 1,
         "size": [
          55,
          55
         ],
         "styles": {},
         "type": "#15AFAC"
        },
        {
         "color": "#15AFAC",
         "coordinates": [
          33.639167,
          -84.427778
         ],
         "id": "ATL",
         "label": "Atlanta",
         "parentId": "USA",
         "position": [
          0,
          0
         ],
         "properties": {
          "country": "USA",
          "label": "Atlanta",
          "passengers": 93000000
         },
         "scale_factor": 1,
         "size": [
          55,
          55
         ],
         "styles": {},
         "type": "#15AFAC"
        },
        {
         "color": "#15AFAC",
         "coordinates": [
          40.63975,
          -73.778925
         ],
         "id": "JFK",
         "label": "New York City",
         "parentId": "USA",
         "position": [
          0,
          0
         ],
         "properties": {
          "country": "USA",
          "label": "New York City",
          "passengers": 55000000
         },
         "scale_factor": 1,
         "size": [
          55,
          55
         ],
         "styles": {},
         "type": "#15AFAC"
        },
        {
         "color": "#15AFAC",
         "coordinates": [
          30.121944,
          31.405556
         ],
         "id": "CAI",
         "label": "Cairo",
         "parentId": "Egypt",
         "position": [
          0,
          0
         ],
         "properties": {
          "country": "Egypt",
          "label": "Cairo",
          "passengers": 14000000
         },
         "scale_factor": 1,
         "size": [
          55,
          55
         ],
         "styles": {},
         "type": "#15AFAC"
        },
        {
         "color": "#15AFAC",
         "coordinates": [
          33.367467,
          -7.589967
         ],
         "id": "CMN",
         "label": "Casablanca",
         "parentId": "Morocco",
         "position": [
          0,
          0
         ],
         "properties": {
          "country": "Morocco",
          "label": "Casablanca",
          "passengers": 7000000
         },
         "scale_factor": 1,
         "size": [
          55,
          55
         ],
         "styles": {},
         "type": "#15AFAC"
        },
        {
         "color": "#15AFAC",
         "coordinates": [
          6.577222,
          3.321111
         ],
         "id": "LOS",
         "label": "Lagos",
         "parentId": "Nigeria",
         "position": [
          0,
          0
         ],
         "properties": {
          "country": "Nigeria",
          "label": "Lagos",
          "passengers": 5000000
         },
         "scale_factor": 1,
         "size": [
          55,
          55
         ],
         "styles": {},
         "type": "#15AFAC"
        },
        {
         "color": "#15AFAC",
         "coordinates": [
          -33.969444,
          18.597222
         ],
         "id": "CPT",
         "label": "Cape Town",
         "parentId": "South Africa",
         "position": [
          0,
          0
         ],
         "properties": {
          "country": "South Africa",
          "label": "Cape Town",
          "passengers": 5000000
         },
         "scale_factor": 1,
         "size": [
          55,
          55
         ],
         "styles": {},
         "type": "#15AFAC"
        },
        {
         "color": "#15AFAC",
         "coordinates": [
          30.578333,
          103.946944
         ],
         "id": "CTU",
         "label": "Chengdu",
         "parentId": "China",
         "position": [
          0,
          0
         ],
         "properties": {
          "country": "China",
          "label": "Chengdu",
          "passengers": 40000000
         },
         "scale_factor": 1,
         "size": [
          55,
          55
         ],
         "styles": {},
         "type": "#15AFAC"
        },
        {
         "color": "#15AFAC",
         "coordinates": [
          -6.125567,
          106.655897
         ],
         "id": "CGK",
         "label": "Jakarta",
         "parentId": "Indonesia",
         "position": [
          0,
          0
         ],
         "properties": {
          "country": "Indonesia",
          "label": "Jakarta",
          "passengers": 54000000
         },
         "scale_factor": 1,
         "size": [
          55,
          55
         ],
         "styles": {},
         "type": "#15AFAC"
        },
        {
         "color": "#15AFAC",
         "coordinates": [
          35.416111,
          51.152222
         ],
         "id": "IKA",
         "label": "Teheran",
         "parentId": "Iran",
         "position": [
          0,
          0
         ],
         "properties": {
          "country": "Iran",
          "label": "Teheran",
          "passengers": 8000000
         },
         "scale_factor": 1,
         "size": [
          55,
          55
         ],
         "styles": {},
         "type": "#15AFAC"
        },
        {
         "color": "#15AFAC",
         "coordinates": [
          32.011389,
          34.886667
         ],
         "id": "TLV",
         "label": "Tel Aviv",
         "parentId": "Israel",
         "position": [
          0,
          0
         ],
         "properties": {
          "country": "Israel",
          "label": "Tel Aviv",
          "passengers": 20000000
         },
         "scale_factor": 1,
         "size": [
          55,
          55
         ],
         "styles": {},
         "type": "#15AFAC"
        },
        {
         "color": "#15AFAC",
         "coordinates": [
          2.745578,
          101.709917
         ],
         "id": "KUL",
         "label": "Kuala Lumpur",
         "parentId": "Malaysia",
         "position": [
          0,
          0
         ],
         "properties": {
          "country": "Malaysia",
          "label": "Kuala Lumpur",
          "passengers": 25000000
         },
         "scale_factor": 1,
         "size": [
          55,
          55
         ],
         "styles": {},
         "type": "#15AFAC"
        },
        {
         "color": "#15AFAC",
         "coordinates": [
          14.508647,
          121.019581
         ],
         "id": "MNL",
         "label": "Manila",
         "parentId": "Philippines",
         "position": [
          0,
          0
         ],
         "properties": {
          "country": "Philippines",
          "label": "Manila",
          "passengers": 8000000
         },
         "scale_factor": 1,
         "size": [
          55,
          55
         ],
         "styles": {},
         "type": "#15AFAC"
        },
        {
         "color": "#15AFAC",
         "coordinates": [
          1.350189,
          103.994433
         ],
         "id": "SIN",
         "label": "Singapur",
         "parentId": "Singapore",
         "position": [
          0,
          0
         ],
         "properties": {
          "country": "Singapore",
          "label": "Singapur",
          "passengers": 32000000
         },
         "scale_factor": 1,
         "size": [
          55,
          55
         ],
         "styles": {},
         "type": "#15AFAC"
        },
        {
         "color": "#15AFAC",
         "coordinates": [
          25.077732,
          121.232822
         ],
         "id": "TPE",
         "label": "Taipeh",
         "parentId": "Taiwan",
         "position": [
          0,
          0
         ],
         "properties": {
          "country": "Taiwan",
          "label": "Taipeh",
          "passengers": 800000
         },
         "scale_factor": 1,
         "size": [
          55,
          55
         ],
         "styles": {},
         "type": "#15AFAC"
        },
        {
         "color": "#15AFAC",
         "coordinates": [
          13.681108,
          100.747283
         ],
         "id": "BKK",
         "label": "Bangkok",
         "parentId": "Thailand",
         "position": [
          0,
          0
         ],
         "properties": {
          "country": "Thailand",
          "label": "Bangkok",
          "passengers": 65000000
         },
         "scale_factor": 1,
         "size": [
          55,
          55
         ],
         "styles": {},
         "type": "#15AFAC"
        },
        {
         "color": "#15AFAC",
         "coordinates": [
          40.976922,
          28.814606
         ],
         "id": "IST",
         "label": "Istanbul",
         "parentId": "Turkey",
         "position": [
          0,
          0
         ],
         "properties": {
          "country": "Turkey",
          "label": "Istanbul",
          "passengers": 64000000
         },
         "scale_factor": 1,
         "size": [
          55,
          55
         ],
         "styles": {},
         "type": "#15AFAC"
        },
        {
         "color": "#15AFAC",
         "coordinates": [
          47.843056,
          106.766639
         ],
         "id": "ULN",
         "label": "Ulaanbaatar",
         "parentId": "Mongolia",
         "position": [
          0,
          0
         ],
         "properties": {
          "country": "Mongolia",
          "label": "Ulaanbaatar",
          "passengers": 1000000
         },
         "scale_factor": 1,
         "size": [
          55,
          55
         ],
         "styles": {},
         "type": "#15AFAC"
        },
        {
         "color": "#15AFAC",
         "coordinates": [
          -37.673333,
          144.843333
         ],
         "id": "MEL",
         "label": "Melbourne",
         "parentId": "Australia",
         "position": [
          0,
          0
         ],
         "properties": {
          "country": "Australia",
          "label": "Melbourne",
          "passengers": 12000000
         },
         "scale_factor": 1,
         "size": [
          55,
          55
         ],
         "styles": {},
         "type": "#15AFAC"
        },
        {
         "color": "#15AFAC",
         "coordinates": [
          -27.383333,
          153.118056
         ],
         "id": "BNE",
         "label": "Brisbane",
         "parentId": "Australia",
         "position": [
          0,
          0
         ],
         "properties": {
          "country": "Australia",
          "label": "Brisbane",
          "passengers": 23000000
         },
         "scale_factor": 1,
         "size": [
          55,
          55
         ],
         "styles": {},
         "type": "#15AFAC"
        },
        {
         "color": "#15AFAC",
         "coordinates": [
          -17.755392,
          177.443378
         ],
         "id": "NAN",
         "label": "Nadi",
         "parentId": "Fiji",
         "position": [
          0,
          0
         ],
         "properties": {
          "country": "Fiji",
          "label": "Nadi",
          "passengers": 2000000
         },
         "scale_factor": 1,
         "size": [
          55,
          55
         ],
         "styles": {},
         "type": "#15AFAC"
        },
        {
         "color": "#15AFAC",
         "coordinates": [
          -37.008056,
          174.791667
         ],
         "id": "AKL",
         "label": "Auckland",
         "parentId": "New Zealand",
         "position": [
          0,
          0
         ],
         "properties": {
          "country": "New Zealand",
          "label": "Auckland",
          "passengers": 21000000
         },
         "scale_factor": 1,
         "size": [
          55,
          55
         ],
         "styles": {},
         "type": "#15AFAC"
        },
        {
         "color": "#15AFAC",
         "coordinates": [
          49.009722,
          2.547778
         ],
         "id": "CDG",
         "label": "Paris",
         "parentId": "France",
         "position": [
          0,
          0
         ],
         "properties": {
          "country": "France",
          "label": "Paris",
          "passengers": 57000000
         },
         "scale_factor": 1,
         "size": [
          55,
          55
         ],
         "styles": {},
         "type": "#15AFAC"
        },
        {
         "color": "#15AFAC",
         "coordinates": [
          40.4675,
          -3.551944
         ],
         "id": "MAD",
         "label": "Madrid",
         "parentId": "Spain",
         "position": [
          0,
          0
         ],
         "properties": {
          "country": "Spain",
          "label": "Madrid",
          "passengers": 50000000
         },
         "scale_factor": 1,
         "size": [
          55,
          55
         ],
         "styles": {},
         "type": "#15AFAC"
        },
        {
         "color": "#15AFAC",
         "coordinates": [
          41.297078,
          2.078464
         ],
         "id": "BCN",
         "label": "Barcelona",
         "parentId": "Spain",
         "position": [
          0,
          0
         ],
         "properties": {
          "country": "Spain",
          "label": "Barcelona",
          "passengers": 41000000
         },
         "scale_factor": 1,
         "size": [
          55,
          55
         ],
         "styles": {},
         "type": "#15AFAC"
        },
        {
         "color": "#15AFAC",
         "coordinates": [
          41.804444,
          12.250833
         ],
         "id": "FCO",
         "label": "Rome",
         "parentId": "Italy",
         "position": [
          0,
          0
         ],
         "properties": {
          "country": "Italy",
          "label": "Rome",
          "passengers": 29000000
         },
         "scale_factor": 1,
         "size": [
          55,
          55
         ],
         "styles": {},
         "type": "#15AFAC"
        },
        {
         "color": "#15AFAC",
         "coordinates": [
          55.617917,
          12.655972
         ],
         "id": "CPH",
         "label": "Copenhagen",
         "parentId": "Denmark",
         "position": [
          0,
          0
         ],
         "properties": {
          "country": "Denmark",
          "label": "Copenhagen",
          "passengers": 30000000
         },
         "scale_factor": 1,
         "size": [
          55,
          55
         ],
         "styles": {},
         "type": "#15AFAC"
        },
        {
         "color": "#15AFAC",
         "coordinates": [
          60.317222,
          24.963333
         ],
         "id": "HEL",
         "label": "Helsinki",
         "parentId": "Finland",
         "position": [
          0,
          0
         ],
         "properties": {
          "country": "Finland",
          "label": "Helsinki",
          "passengers": 5000000
         },
         "scale_factor": 1,
         "size": [
          55,
          55
         ],
         "styles": {},
         "type": "#15AFAC"
        },
        {
         "color": "#15AFAC",
         "coordinates": [
          37.936358,
          23.944467
         ],
         "id": "ATH",
         "label": "Athens",
         "parentId": "Greece",
         "position": [
          0,
          0
         ],
         "properties": {
          "country": "Greece",
          "label": "Athens",
          "passengers": 22000000
         },
         "scale_factor": 1,
         "size": [
          55,
          55
         ],
         "styles": {},
         "type": "#15AFAC"
        },
        {
         "color": "#15AFAC",
         "coordinates": [
          53.421333,
          -6.270075
         ],
         "id": "DUB",
         "label": "Dublin",
         "parentId": "Ireland",
         "position": [
          0,
          0
         ],
         "properties": {
          "country": "Ireland",
          "label": "Dublin",
          "passengers": 32000000
         },
         "scale_factor": 1,
         "size": [
          55,
          55
         ],
         "styles": {},
         "type": "#15AFAC"
        },
        {
         "color": "#15AFAC",
         "coordinates": [
          64.13,
          -21.940556
         ],
         "id": "RKV",
         "label": "Reykjavik",
         "parentId": "Iceland",
         "position": [
          0,
          0
         ],
         "properties": {
          "country": "Iceland",
          "label": "Reykjavik",
          "passengers": 400000
         },
         "scale_factor": 1,
         "size": [
          55,
          55
         ],
         "styles": {},
         "type": "#15AFAC"
        },
        {
         "color": "#15AFAC",
         "coordinates": [
          60.193917,
          11.100361
         ],
         "id": "OSL",
         "label": "Oslo",
         "parentId": "Norway",
         "position": [
          0,
          0
         ],
         "properties": {
          "country": "Norway",
          "label": "Oslo",
          "passengers": 9000000
         },
         "scale_factor": 1,
         "size": [
          55,
          55
         ],
         "styles": {},
         "type": "#15AFAC"
        },
        {
         "color": "#15AFAC",
         "coordinates": [
          48.110833,
          16.570833
         ],
         "id": "VIE",
         "label": "Vienna",
         "parentId": "Austria",
         "position": [
          0,
          0
         ],
         "properties": {
          "country": "Austria",
          "label": "Vienna",
          "passengers": 10000000
         },
         "scale_factor": 1,
         "size": [
          55,
          55
         ],
         "styles": {},
         "type": "#15AFAC"
        },
        {
         "color": "#15AFAC",
         "coordinates": [
          38.774167,
          -9.134167
         ],
         "id": "LIS",
         "label": "Lisbon",
         "parentId": "Portugal",
         "position": [
          0,
          0
         ],
         "properties": {
          "country": "Portugal",
          "label": "Lisbon",
          "passengers": 28000000
         },
         "scale_factor": 1,
         "size": [
          55,
          55
         ],
         "styles": {},
         "type": "#15AFAC"
        },
        {
         "color": "#15AFAC",
         "coordinates": [
          59.651944,
          17.918611
         ],
         "id": "ARN",
         "label": "Stockholm",
         "parentId": "Sweden",
         "position": [
          0,
          0
         ],
         "properties": {
          "country": "Sweden",
          "label": "Stockholm",
          "passengers": 7000000
         },
         "scale_factor": 1,
         "size": [
          55,
          55
         ],
         "styles": {},
         "type": "#15AFAC"
        },
        {
         "color": "#15AFAC",
         "coordinates": [
          55.95,
          -3.3725
         ],
         "id": "EDI",
         "label": "Edinburgh",
         "parentId": "UK",
         "position": [
          0,
          0
         ],
         "properties": {
          "country": "UK",
          "label": "Edinburgh",
          "passengers": 14000000
         },
         "scale_factor": 1,
         "size": [
          55,
          55
         ],
         "styles": {},
         "type": "#15AFAC"
        },
        {
         "color": "#15AFAC",
         "coordinates": [
          41.978603,
          -87.904842
         ],
         "id": "ORD",
         "label": "Chicago",
         "parentId": "USA",
         "position": [
          0,
          0
         ],
         "properties": {
          "country": "USA",
          "label": "Chicago",
          "passengers": 54000000
         },
         "scale_factor": 1,
         "size": [
          55,
          55
         ],
         "styles": {},
         "type": "#15AFAC"
        },
        {
         "color": "#15AFAC",
         "coordinates": [
          32.896828,
          -97.037997
         ],
         "id": "DFW",
         "label": "Dallas",
         "parentId": "USA",
         "position": [
          0,
          0
         ],
         "properties": {
          "country": "USA",
          "label": "Dallas",
          "passengers": 73000000
         },
         "scale_factor": 1,
         "size": [
          55,
          55
         ],
         "styles": {},
         "type": "#15AFAC"
        },
        {
         "color": "#15AFAC",
         "coordinates": [
          37.618972,
          -122.374889
         ],
         "id": "SFO",
         "label": "San Francisco",
         "parentId": "USA",
         "position": [
          0,
          0
         ],
         "properties": {
          "country": "USA",
          "label": "San Francisco",
          "passengers": 42000000
         },
         "scale_factor": 1,
         "size": [
          55,
          55
         ],
         "styles": {},
         "type": "#15AFAC"
        },
        {
         "color": "#15AFAC",
         "coordinates": [
          36.080056,
          -115.15225
         ],
         "id": "LAS",
         "label": "Las Vegas",
         "parentId": "USA",
         "position": [
          0,
          0
         ],
         "properties": {
          "country": "USA",
          "label": "Las Vegas",
          "passengers": 52000000
         },
         "scale_factor": 1,
         "size": [
          55,
          55
         ],
         "styles": {},
         "type": "#15AFAC"
        },
        {
         "color": "#15AFAC",
         "coordinates": [
          25.79325,
          -80.290556
         ],
         "id": "MIA",
         "label": "Miami",
         "parentId": "USA",
         "position": [
          0,
          0
         ],
         "properties": {
          "country": "USA",
          "label": "Miami",
          "passengers": 50000000
         },
         "scale_factor": 1,
         "size": [
          55,
          55
         ],
         "styles": {},
         "type": "#15AFAC"
        },
        {
         "color": "#15AFAC",
         "coordinates": [
          43.677222,
          -79.630556
         ],
         "id": "YYZ",
         "label": "Toronto",
         "parentId": "Canada",
         "position": [
          0,
          0
         ],
         "properties": {
          "country": "Canada",
          "label": "Toronto",
          "passengers": 12000000
         },
         "scale_factor": 1,
         "size": [
          55,
          55
         ],
         "styles": {},
         "type": "#15AFAC"
        },
        {
         "color": "#15AFAC",
         "coordinates": [
          49.193889,
          -123.184444
         ],
         "id": "YVR",
         "label": "Vancouver",
         "parentId": "Canada",
         "position": [
          0,
          0
         ],
         "properties": {
          "country": "Canada",
          "label": "Vancouver",
          "passengers": 19000000
         },
         "scale_factor": 1,
         "size": [
          55,
          55
         ],
         "styles": {},
         "type": "#15AFAC"
        },
        {
         "color": "#15AFAC",
         "coordinates": [
          45.47175,
          -73.736569
         ],
         "id": "YUL",
         "label": "Montreal",
         "parentId": "Canada",
         "position": [
          0,
          0
         ],
         "properties": {
          "country": "Canada",
          "label": "Montreal",
          "passengers": 15000000
         },
         "scale_factor": 1,
         "size": [
          55,
          55
         ],
         "styles": {},
         "type": "#15AFAC"
        },
        {
         "color": "#15AFAC",
         "coordinates": [
          19.436303,
          -99.072097
         ],
         "id": "MEX",
         "label": "Mexico-City",
         "parentId": "Mexico",
         "position": [
          0,
          0
         ],
         "properties": {
          "country": "Mexico",
          "label": "Mexico-City",
          "passengers": 46000000
         },
         "scale_factor": 1,
         "size": [
          55,
          55
         ],
         "styles": {},
         "type": "#15AFAC"
        },
        {
         "color": "#15AFAC",
         "coordinates": [
          14.583272,
          -90.527475
         ],
         "id": "GUA",
         "label": "Guatemala-City",
         "parentId": "Guatemala",
         "position": [
          0,
          0
         ],
         "properties": {
          "country": "Guatemala",
          "label": "Guatemala-City",
          "passengers": 2000000
         },
         "scale_factor": 1,
         "size": [
          55,
          55
         ],
         "styles": {},
         "type": "#15AFAC"
        },
        {
         "color": "#15AFAC",
         "coordinates": [
          -34.822222,
          -58.535833
         ],
         "id": "EZE",
         "label": "Buenos Aires",
         "parentId": "Argentina",
         "position": [
          0,
          0
         ],
         "properties": {
          "country": "Argentina",
          "label": "Buenos Aires",
          "passengers": 5000000
         },
         "scale_factor": 1,
         "size": [
          55,
          55
         ],
         "styles": {},
         "type": "#15AFAC"
        },
        {
         "color": "#15AFAC",
         "coordinates": [
          -23.432075,
          -46.469511
         ],
         "id": "GRU",
         "label": "Sao Paulo",
         "parentId": "Brazil",
         "position": [
          0,
          0
         ],
         "properties": {
          "country": "Brazil",
          "label": "Sao Paulo",
          "passengers": 34000000
         },
         "scale_factor": 1,
         "size": [
          55,
          55
         ],
         "styles": {},
         "type": "#15AFAC"
        },
        {
         "color": "#15AFAC",
         "coordinates": [
          -33.392975,
          -70.785803
         ],
         "id": "SCL",
         "label": "Santiago de Chile",
         "parentId": "Chile",
         "position": [
          0,
          0
         ],
         "properties": {
          "country": "Chile",
          "label": "Santiago de Chile",
          "passengers": 20000000
         },
         "scale_factor": 1,
         "size": [
          55,
          55
         ],
         "styles": {},
         "type": "#15AFAC"
        },
        {
         "color": "#15AFAC",
         "coordinates": [
          -15.871111,
          -47.918611
         ],
         "id": "BSB",
         "label": "Brasilia",
         "parentId": "Brazil",
         "position": [
          0,
          0
         ],
         "properties": {
          "country": "Brazil",
          "label": "Brasilia",
          "passengers": 13000000
         },
         "scale_factor": 1,
         "size": [
          55,
          55
         ],
         "styles": {},
         "type": "#15AFAC"
        },
        {
         "color": "#15AFAC",
         "coordinates": [
          4.701594,
          -74.146947
         ],
         "id": "BOG",
         "label": "Bogota",
         "parentId": "Colombia",
         "position": [
          0,
          0
         ],
         "properties": {
          "country": "Colombia",
          "label": "Bogota",
          "passengers": 36000000
         },
         "scale_factor": 1,
         "size": [
          55,
          55
         ],
         "styles": {},
         "type": "#15AFAC"
        },
        {
         "color": "#15AFAC",
         "coordinates": [
          10.601194,
          -66.991222
         ],
         "id": "CCS",
         "label": "Caracas",
         "parentId": "Venezuela",
         "position": [
          0,
          0
         ],
         "properties": {
          "country": "Venezuela",
          "label": "Caracas",
          "passengers": 8000000
         },
         "scale_factor": 1,
         "size": [
          55,
          55
         ],
         "styles": {},
         "type": "#15AFAC"
        },
        {
         "color": "#15AFAC",
         "id": "USA",
         "label": "USA",
         "position": [
          0,
          0
         ],
         "properties": {
          "label": "USA"
         },
         "scale_factor": 1,
         "size": [
          55,
          55
         ],
         "styles": {},
         "type": "#15AFAC"
        },
        {
         "color": "#15AFAC",
         "id": "Brazil",
         "label": "Brazil",
         "position": [
          0,
          0
         ],
         "properties": {
          "label": "Brazil"
         },
         "scale_factor": 1,
         "size": [
          55,
          55
         ],
         "styles": {},
         "type": "#15AFAC"
        },
        {
         "color": "#15AFAC",
         "id": "Peru",
         "label": "Peru",
         "position": [
          0,
          0
         ],
         "properties": {
          "label": "Peru"
         },
         "scale_factor": 1,
         "size": [
          55,
          55
         ],
         "styles": {},
         "type": "#15AFAC"
        },
        {
         "color": "#15AFAC",
         "id": "UK",
         "label": "UK",
         "position": [
          0,
          0
         ],
         "properties": {
          "label": "UK"
         },
         "scale_factor": 1,
         "size": [
          55,
          55
         ],
         "styles": {},
         "type": "#15AFAC"
        },
        {
         "color": "#15AFAC",
         "id": "Germany",
         "label": "Germany",
         "position": [
          0,
          0
         ],
         "properties": {
          "label": "Germany"
         },
         "scale_factor": 1,
         "size": [
          55,
          55
         ],
         "styles": {},
         "type": "#15AFAC"
        },
        {
         "color": "#15AFAC",
         "id": "Russia",
         "label": "Russia",
         "position": [
          0,
          0
         ],
         "properties": {
          "label": "Russia"
         },
         "scale_factor": 1,
         "size": [
          55,
          55
         ],
         "styles": {},
         "type": "#15AFAC"
        },
        {
         "color": "#15AFAC",
         "id": "India",
         "label": "India",
         "position": [
          0,
          0
         ],
         "properties": {
          "label": "India"
         },
         "scale_factor": 1,
         "size": [
          55,
          55
         ],
         "styles": {},
         "type": "#15AFAC"
        },
        {
         "color": "#15AFAC",
         "id": "China",
         "label": "China",
         "position": [
          0,
          0
         ],
         "properties": {
          "label": "China"
         },
         "scale_factor": 1,
         "size": [
          55,
          55
         ],
         "styles": {},
         "type": "#15AFAC"
        },
        {
         "color": "#15AFAC",
         "id": "Japan",
         "label": "Japan",
         "position": [
          0,
          0
         ],
         "properties": {
          "label": "Japan"
         },
         "scale_factor": 1,
         "size": [
          55,
          55
         ],
         "styles": {},
         "type": "#15AFAC"
        },
        {
         "color": "#15AFAC",
         "id": "UAE",
         "label": "UAE",
         "position": [
          0,
          0
         ],
         "properties": {
          "label": "UAE"
         },
         "scale_factor": 1,
         "size": [
          55,
          55
         ],
         "styles": {},
         "type": "#15AFAC"
        },
        {
         "color": "#15AFAC",
         "id": "Senegal",
         "label": "Senegal",
         "position": [
          0,
          0
         ],
         "properties": {
          "label": "Senegal"
         },
         "scale_factor": 1,
         "size": [
          55,
          55
         ],
         "styles": {},
         "type": "#15AFAC"
        },
        {
         "color": "#15AFAC",
         "id": "South Africa",
         "label": "South Africa",
         "position": [
          0,
          0
         ],
         "properties": {
          "label": "South Africa"
         },
         "scale_factor": 1,
         "size": [
          55,
          55
         ],
         "styles": {},
         "type": "#15AFAC"
        },
        {
         "color": "#15AFAC",
         "id": "Australia",
         "label": "Australia",
         "position": [
          0,
          0
         ],
         "properties": {
          "label": "Australia"
         },
         "scale_factor": 1,
         "size": [
          55,
          55
         ],
         "styles": {},
         "type": "#15AFAC"
        },
        {
         "color": "#15AFAC",
         "id": "Kenya",
         "label": "Kenya",
         "position": [
          0,
          0
         ],
         "properties": {
          "label": "Kenya"
         },
         "scale_factor": 1,
         "size": [
          55,
          55
         ],
         "styles": {},
         "type": "#15AFAC"
        },
        {
         "color": "#15AFAC",
         "id": "Egypt",
         "label": "Egypt",
         "position": [
          0,
          0
         ],
         "properties": {
          "label": "Egypt"
         },
         "scale_factor": 1,
         "size": [
          55,
          55
         ],
         "styles": {},
         "type": "#15AFAC"
        },
        {
         "color": "#15AFAC",
         "id": "Morocco",
         "label": "Morocco",
         "position": [
          0,
          0
         ],
         "properties": {
          "label": "Morocco"
         },
         "scale_factor": 1,
         "size": [
          55,
          55
         ],
         "styles": {},
         "type": "#15AFAC"
        },
        {
         "color": "#15AFAC",
         "id": "Nigeria",
         "label": "Nigeria",
         "position": [
          0,
          0
         ],
         "properties": {
          "label": "Nigeria"
         },
         "scale_factor": 1,
         "size": [
          55,
          55
         ],
         "styles": {},
         "type": "#15AFAC"
        },
        {
         "color": "#15AFAC",
         "id": "Indonesia",
         "label": "Indonesia",
         "position": [
          0,
          0
         ],
         "properties": {
          "label": "Indonesia"
         },
         "scale_factor": 1,
         "size": [
          55,
          55
         ],
         "styles": {},
         "type": "#15AFAC"
        },
        {
         "color": "#15AFAC",
         "id": "Iran",
         "label": "Iran",
         "position": [
          0,
          0
         ],
         "properties": {
          "label": "Iran"
         },
         "scale_factor": 1,
         "size": [
          55,
          55
         ],
         "styles": {},
         "type": "#15AFAC"
        },
        {
         "color": "#15AFAC",
         "id": "Israel",
         "label": "Israel",
         "position": [
          0,
          0
         ],
         "properties": {
          "label": "Israel"
         },
         "scale_factor": 1,
         "size": [
          55,
          55
         ],
         "styles": {},
         "type": "#15AFAC"
        },
        {
         "color": "#15AFAC",
         "id": "Malaysia",
         "label": "Malaysia",
         "position": [
          0,
          0
         ],
         "properties": {
          "label": "Malaysia"
         },
         "scale_factor": 1,
         "size": [
          55,
          55
         ],
         "styles": {},
         "type": "#15AFAC"
        },
        {
         "color": "#15AFAC",
         "id": "Philippines",
         "label": "Philippines",
         "position": [
          0,
          0
         ],
         "properties": {
          "label": "Philippines"
         },
         "scale_factor": 1,
         "size": [
          55,
          55
         ],
         "styles": {},
         "type": "#15AFAC"
        },
        {
         "color": "#15AFAC",
         "id": "Singapore",
         "label": "Singapore",
         "position": [
          0,
          0
         ],
         "properties": {
          "label": "Singapore"
         },
         "scale_factor": 1,
         "size": [
          55,
          55
         ],
         "styles": {},
         "type": "#15AFAC"
        },
        {
         "color": "#15AFAC",
         "id": "Taiwan",
         "label": "Taiwan",
         "position": [
          0,
          0
         ],
         "properties": {
          "label": "Taiwan"
         },
         "scale_factor": 1,
         "size": [
          55,
          55
         ],
         "styles": {},
         "type": "#15AFAC"
        },
        {
         "color": "#15AFAC",
         "id": "Thailand",
         "label": "Thailand",
         "position": [
          0,
          0
         ],
         "properties": {
          "label": "Thailand"
         },
         "scale_factor": 1,
         "size": [
          55,
          55
         ],
         "styles": {},
         "type": "#15AFAC"
        },
        {
         "color": "#15AFAC",
         "id": "Turkey",
         "label": "Turkey",
         "position": [
          0,
          0
         ],
         "properties": {
          "label": "Turkey"
         },
         "scale_factor": 1,
         "size": [
          55,
          55
         ],
         "styles": {},
         "type": "#15AFAC"
        },
        {
         "color": "#15AFAC",
         "id": "Mongolia",
         "label": "Mongolia",
         "position": [
          0,
          0
         ],
         "properties": {
          "label": "Mongolia"
         },
         "scale_factor": 1,
         "size": [
          55,
          55
         ],
         "styles": {},
         "type": "#15AFAC"
        },
        {
         "color": "#15AFAC",
         "id": "Fiji",
         "label": "Fiji",
         "position": [
          0,
          0
         ],
         "properties": {
          "label": "Fiji"
         },
         "scale_factor": 1,
         "size": [
          55,
          55
         ],
         "styles": {},
         "type": "#15AFAC"
        },
        {
         "color": "#15AFAC",
         "id": "New Zealand",
         "label": "New Zealand",
         "position": [
          0,
          0
         ],
         "properties": {
          "label": "New Zealand"
         },
         "scale_factor": 1,
         "size": [
          55,
          55
         ],
         "styles": {},
         "type": "#15AFAC"
        },
        {
         "color": "#15AFAC",
         "id": "France",
         "label": "France",
         "position": [
          0,
          0
         ],
         "properties": {
          "label": "France"
         },
         "scale_factor": 1,
         "size": [
          55,
          55
         ],
         "styles": {},
         "type": "#15AFAC"
        },
        {
         "color": "#15AFAC",
         "id": "Spain",
         "label": "Spain",
         "position": [
          0,
          0
         ],
         "properties": {
          "label": "Spain"
         },
         "scale_factor": 1,
         "size": [
          55,
          55
         ],
         "styles": {},
         "type": "#15AFAC"
        },
        {
         "color": "#15AFAC",
         "id": "Italy",
         "label": "Italy",
         "position": [
          0,
          0
         ],
         "properties": {
          "label": "Italy"
         },
         "scale_factor": 1,
         "size": [
          55,
          55
         ],
         "styles": {},
         "type": "#15AFAC"
        },
        {
         "color": "#15AFAC",
         "id": "Denmark",
         "label": "Denmark",
         "position": [
          0,
          0
         ],
         "properties": {
          "label": "Denmark"
         },
         "scale_factor": 1,
         "size": [
          55,
          55
         ],
         "styles": {},
         "type": "#15AFAC"
        },
        {
         "color": "#15AFAC",
         "id": "Finland",
         "label": "Finland",
         "position": [
          0,
          0
         ],
         "properties": {
          "label": "Finland"
         },
         "scale_factor": 1,
         "size": [
          55,
          55
         ],
         "styles": {},
         "type": "#15AFAC"
        },
        {
         "color": "#15AFAC",
         "id": "Greece",
         "label": "Greece",
         "position": [
          0,
          0
         ],
         "properties": {
          "label": "Greece"
         },
         "scale_factor": 1,
         "size": [
          55,
          55
         ],
         "styles": {},
         "type": "#15AFAC"
        },
        {
         "color": "#15AFAC",
         "id": "Ireland",
         "label": "Ireland",
         "position": [
          0,
          0
         ],
         "properties": {
          "label": "Ireland"
         },
         "scale_factor": 1,
         "size": [
          55,
          55
         ],
         "styles": {},
         "type": "#15AFAC"
        },
        {
         "color": "#15AFAC",
         "id": "Iceland",
         "label": "Iceland",
         "position": [
          0,
          0
         ],
         "properties": {
          "label": "Iceland"
         },
         "scale_factor": 1,
         "size": [
          55,
          55
         ],
         "styles": {},
         "type": "#15AFAC"
        },
        {
         "color": "#15AFAC",
         "id": "Norway",
         "label": "Norway",
         "position": [
          0,
          0
         ],
         "properties": {
          "label": "Norway"
         },
         "scale_factor": 1,
         "size": [
          55,
          55
         ],
         "styles": {},
         "type": "#15AFAC"
        },
        {
         "color": "#15AFAC",
         "id": "Austria",
         "label": "Austria",
         "position": [
          0,
          0
         ],
         "properties": {
          "label": "Austria"
         },
         "scale_factor": 1,
         "size": [
          55,
          55
         ],
         "styles": {},
         "type": "#15AFAC"
        },
        {
         "color": "#15AFAC",
         "id": "Portugal",
         "label": "Portugal",
         "position": [
          0,
          0
         ],
         "properties": {
          "label": "Portugal"
         },
         "scale_factor": 1,
         "size": [
          55,
          55
         ],
         "styles": {},
         "type": "#15AFAC"
        },
        {
         "color": "#15AFAC",
         "id": "Sweden",
         "label": "Sweden",
         "position": [
          0,
          0
         ],
         "properties": {
          "label": "Sweden"
         },
         "scale_factor": 1,
         "size": [
          55,
          55
         ],
         "styles": {},
         "type": "#15AFAC"
        },
        {
         "color": "#15AFAC",
         "id": "Canada",
         "label": "Canada",
         "position": [
          0,
          0
         ],
         "properties": {
          "label": "Canada"
         },
         "scale_factor": 1,
         "size": [
          55,
          55
         ],
         "styles": {},
         "type": "#15AFAC"
        },
        {
         "color": "#15AFAC",
         "id": "Mexico",
         "label": "Mexico",
         "position": [
          0,
          0
         ],
         "properties": {
          "label": "Mexico"
         },
         "scale_factor": 1,
         "size": [
          55,
          55
         ],
         "styles": {},
         "type": "#15AFAC"
        },
        {
         "color": "#15AFAC",
         "id": "Guatemala",
         "label": "Guatemala",
         "position": [
          0,
          0
         ],
         "properties": {
          "label": "Guatemala"
         },
         "scale_factor": 1,
         "size": [
          55,
          55
         ],
         "styles": {},
         "type": "#15AFAC"
        },
        {
         "color": "#15AFAC",
         "id": "Argentina",
         "label": "Argentina",
         "position": [
          0,
          0
         ],
         "properties": {
          "label": "Argentina"
         },
         "scale_factor": 1,
         "size": [
          55,
          55
         ],
         "styles": {},
         "type": "#15AFAC"
        },
        {
         "color": "#15AFAC",
         "id": "Chile",
         "label": "Chile",
         "position": [
          0,
          0
         ],
         "properties": {
          "label": "Chile"
         },
         "scale_factor": 1,
         "size": [
          55,
          55
         ],
         "styles": {},
         "type": "#15AFAC"
        },
        {
         "color": "#15AFAC",
         "id": "Colombia",
         "label": "Colombia",
         "position": [
          0,
          0
         ],
         "properties": {
          "label": "Colombia"
         },
         "scale_factor": 1,
         "size": [
          55,
          55
         ],
         "styles": {},
         "type": "#15AFAC"
        },
        {
         "color": "#15AFAC",
         "id": "Venezuela",
         "label": "Venezuela",
         "position": [
          0,
          0
         ],
         "properties": {
          "label": "Venezuela"
         },
         "scale_factor": 1,
         "size": [
          55,
          55
         ],
         "styles": {},
         "type": "#15AFAC"
        }
       ],
       "_overview": {
        "enabled": null,
        "overview_set": false
       },
       "_selected_graph": [
        [],
        []
       ],
       "_sidebar": {
        "enabled": false,
        "start_with": null
       },
       "_view_module_version": "^1.7.3",
       "layout": "IPY_MODEL_7c9faf68e09a479d98fa92c72d68f45b"
      }
     },
     "40c805c4cf2644c0bda26388c205899b": {
      "model_module": "@jupyter-widgets/base",
      "model_module_version": "2.0.0",
      "model_name": "LayoutModel",
      "state": {
       "height": "800px",
       "width": "100%"
      }
     },
     "55d532c74ff44053bb039394e9c0464d": {
      "model_module": "@jupyter-widgets/base",
      "model_module_version": "2.0.0",
      "model_name": "LayoutModel",
      "state": {
       "height": "800px",
       "width": "100%"
      }
     },
     "5ef5bc7871c7410195a56c567e318196": {
      "model_module": "yfiles-jupyter-graphs",
      "model_module_version": "^1.7.3",
      "model_name": "GraphModel",
      "state": {
       "_context_pane_mapping": [
        {
         "id": "Neighborhood",
         "title": "Neighborhood"
        },
        {
         "id": "Data",
         "title": "Data"
        },
        {
         "id": "Search",
         "title": "Search"
        },
        {
         "id": "About",
         "title": "About"
        }
       ],
       "_directed": false,
       "_edges": [
        {
         "color": "#15AFAC",
         "directed": false,
         "end": "JFK",
         "label": "",
         "properties": {},
         "start": "LAX",
         "thickness_factor": 1
        },
        {
         "color": "#15AFAC",
         "directed": false,
         "end": "GIG",
         "label": "",
         "properties": {},
         "start": "JFK",
         "thickness_factor": 1
        },
        {
         "color": "#15AFAC",
         "directed": false,
         "end": "LIM",
         "label": "",
         "properties": {},
         "start": "JFK",
         "thickness_factor": 1
        },
        {
         "color": "#15AFAC",
         "directed": false,
         "end": "LHR",
         "label": "",
         "properties": {},
         "start": "JFK",
         "thickness_factor": 1
        },
        {
         "color": "#15AFAC",
         "directed": false,
         "end": "FRA",
         "label": "",
         "properties": {},
         "start": "GIG",
         "thickness_factor": 1
        },
        {
         "color": "#15AFAC",
         "directed": false,
         "end": "GIG",
         "label": "",
         "properties": {},
         "start": "LIM",
         "thickness_factor": 1
        },
        {
         "color": "#15AFAC",
         "directed": false,
         "end": "JFK",
         "label": "",
         "properties": {},
         "start": "FRA",
         "thickness_factor": 1
        },
        {
         "color": "#15AFAC",
         "directed": false,
         "end": "FRA",
         "label": "",
         "properties": {},
         "start": "LHR",
         "thickness_factor": 1
        },
        {
         "color": "#15AFAC",
         "directed": false,
         "end": "SVO",
         "label": "",
         "properties": {},
         "start": "FRA",
         "thickness_factor": 1
        },
        {
         "color": "#15AFAC",
         "directed": false,
         "end": "DXB",
         "label": "",
         "properties": {},
         "start": "FRA",
         "thickness_factor": 1
        },
        {
         "color": "#15AFAC",
         "directed": false,
         "end": "DEL",
         "label": "",
         "properties": {},
         "start": "SVO",
         "thickness_factor": 1
        },
        {
         "color": "#15AFAC",
         "directed": false,
         "end": "PVG",
         "label": "",
         "properties": {},
         "start": "SVO",
         "thickness_factor": 1
        },
        {
         "color": "#15AFAC",
         "directed": false,
         "end": "HKG",
         "label": "",
         "properties": {},
         "start": "DEL",
         "thickness_factor": 1
        },
        {
         "color": "#15AFAC",
         "directed": false,
         "end": "HKG",
         "label": "",
         "properties": {},
         "start": "PVG",
         "thickness_factor": 1
        },
        {
         "color": "#15AFAC",
         "directed": false,
         "end": "NRT",
         "label": "",
         "properties": {},
         "start": "PVG",
         "thickness_factor": 1
        },
        {
         "color": "#15AFAC",
         "directed": false,
         "end": "SYD",
         "label": "",
         "properties": {},
         "start": "HKG",
         "thickness_factor": 1
        },
        {
         "color": "#15AFAC",
         "directed": false,
         "end": "SYD",
         "label": "",
         "properties": {},
         "start": "NRT",
         "thickness_factor": 1
        },
        {
         "color": "#15AFAC",
         "directed": false,
         "end": "SVO",
         "label": "",
         "properties": {},
         "start": "DXB",
         "thickness_factor": 1
        },
        {
         "color": "#15AFAC",
         "directed": false,
         "end": "DEL",
         "label": "",
         "properties": {},
         "start": "DXB",
         "thickness_factor": 1
        },
        {
         "color": "#15AFAC",
         "directed": false,
         "end": "DKR",
         "label": "",
         "properties": {},
         "start": "DXB",
         "thickness_factor": 1
        },
        {
         "color": "#15AFAC",
         "directed": false,
         "end": "JNB",
         "label": "",
         "properties": {},
         "start": "DXB",
         "thickness_factor": 1
        },
        {
         "color": "#15AFAC",
         "directed": false,
         "end": "LHR",
         "label": "",
         "properties": {},
         "start": "JNB",
         "thickness_factor": 1
        },
        {
         "color": "#15AFAC",
         "directed": false,
         "end": "DKR",
         "label": "",
         "properties": {},
         "start": "JNB",
         "thickness_factor": 1
        },
        {
         "color": "#15AFAC",
         "directed": false,
         "end": "DXB",
         "label": "",
         "properties": {},
         "start": "SYD",
         "thickness_factor": 1
        },
        {
         "color": "#15AFAC",
         "directed": false,
         "end": "JNB",
         "label": "",
         "properties": {},
         "start": "NBO",
         "thickness_factor": 1
        },
        {
         "color": "#15AFAC",
         "directed": false,
         "end": "DXB",
         "label": "",
         "properties": {},
         "start": "NBO",
         "thickness_factor": 1
        },
        {
         "color": "#15AFAC",
         "directed": false,
         "end": "JFK",
         "label": "",
         "properties": {},
         "start": "ATL",
         "thickness_factor": 1
        },
        {
         "color": "#15AFAC",
         "directed": false,
         "end": "ATL",
         "label": "",
         "properties": {},
         "start": "LAX",
         "thickness_factor": 1
        },
        {
         "color": "#15AFAC",
         "directed": false,
         "end": "LHR",
         "label": "",
         "properties": {},
         "start": "ATL",
         "thickness_factor": 1
        },
        {
         "color": "#15AFAC",
         "directed": false,
         "end": "LIM",
         "label": "",
         "properties": {},
         "start": "ATL",
         "thickness_factor": 1
        },
        {
         "color": "#15AFAC",
         "directed": false,
         "end": "LIM",
         "label": "",
         "properties": {},
         "start": "SCL",
         "thickness_factor": 1
        },
        {
         "color": "#15AFAC",
         "directed": false,
         "end": "SCL",
         "label": "",
         "properties": {},
         "start": "EZE",
         "thickness_factor": 1
        },
        {
         "color": "#15AFAC",
         "directed": false,
         "end": "GRU",
         "label": "",
         "properties": {},
         "start": "SCL",
         "thickness_factor": 1
        },
        {
         "color": "#15AFAC",
         "directed": false,
         "end": "EZE",
         "label": "",
         "properties": {},
         "start": "GIG",
         "thickness_factor": 1
        },
        {
         "color": "#15AFAC",
         "directed": false,
         "end": "GRU",
         "label": "",
         "properties": {},
         "start": "GIG",
         "thickness_factor": 1
        },
        {
         "color": "#15AFAC",
         "directed": false,
         "end": "GIG",
         "label": "",
         "properties": {},
         "start": "BSB",
         "thickness_factor": 1
        },
        {
         "color": "#15AFAC",
         "directed": false,
         "end": "BSB",
         "label": "",
         "properties": {},
         "start": "SCL",
         "thickness_factor": 1
        },
        {
         "color": "#15AFAC",
         "directed": false,
         "end": "BSB",
         "label": "",
         "properties": {},
         "start": "LIM",
         "thickness_factor": 1
        },
        {
         "color": "#15AFAC",
         "directed": false,
         "end": "BSB",
         "label": "",
         "properties": {},
         "start": "BOG",
         "thickness_factor": 1
        },
        {
         "color": "#15AFAC",
         "directed": false,
         "end": "BSB",
         "label": "",
         "properties": {},
         "start": "CCS",
         "thickness_factor": 1
        },
        {
         "color": "#15AFAC",
         "directed": false,
         "end": "GUA",
         "label": "",
         "properties": {},
         "start": "BOG",
         "thickness_factor": 1
        },
        {
         "color": "#15AFAC",
         "directed": false,
         "end": "MIA",
         "label": "",
         "properties": {},
         "start": "CCS",
         "thickness_factor": 1
        },
        {
         "color": "#15AFAC",
         "directed": false,
         "end": "MIA",
         "label": "",
         "properties": {},
         "start": "GUA",
         "thickness_factor": 1
        },
        {
         "color": "#15AFAC",
         "directed": false,
         "end": "MEX",
         "label": "",
         "properties": {},
         "start": "GUA",
         "thickness_factor": 1
        },
        {
         "color": "#15AFAC",
         "directed": false,
         "end": "LAX",
         "label": "",
         "properties": {},
         "start": "MEX",
         "thickness_factor": 1
        },
        {
         "color": "#15AFAC",
         "directed": false,
         "end": "LAX",
         "label": "",
         "properties": {},
         "start": "MEX",
         "thickness_factor": 1
        },
        {
         "color": "#15AFAC",
         "directed": false,
         "end": "SFO",
         "label": "",
         "properties": {},
         "start": "LAX",
         "thickness_factor": 1
        },
        {
         "color": "#15AFAC",
         "directed": false,
         "end": "YVR",
         "label": "",
         "properties": {},
         "start": "SFO",
         "thickness_factor": 1
        },
        {
         "color": "#15AFAC",
         "directed": false,
         "end": "LAS",
         "label": "",
         "properties": {},
         "start": "LAX",
         "thickness_factor": 1
        },
        {
         "color": "#15AFAC",
         "directed": false,
         "end": "DFW",
         "label": "",
         "properties": {},
         "start": "LAX",
         "thickness_factor": 1
        },
        {
         "color": "#15AFAC",
         "directed": false,
         "end": "ORD",
         "label": "",
         "properties": {},
         "start": "LAX",
         "thickness_factor": 1
        },
        {
         "color": "#15AFAC",
         "directed": false,
         "end": "LAS",
         "label": "",
         "properties": {},
         "start": "SFO",
         "thickness_factor": 1
        },
        {
         "color": "#15AFAC",
         "directed": false,
         "end": "ATL",
         "label": "",
         "properties": {},
         "start": "DFW",
         "thickness_factor": 1
        },
        {
         "color": "#15AFAC",
         "directed": false,
         "end": "YYZ",
         "label": "",
         "properties": {},
         "start": "ATL",
         "thickness_factor": 1
        },
        {
         "color": "#15AFAC",
         "directed": false,
         "end": "YYZ",
         "label": "",
         "properties": {},
         "start": "ORD",
         "thickness_factor": 1
        },
        {
         "color": "#15AFAC",
         "directed": false,
         "end": "YUL",
         "label": "",
         "properties": {},
         "start": "YYZ",
         "thickness_factor": 1
        },
        {
         "color": "#15AFAC",
         "directed": false,
         "end": "JFK",
         "label": "",
         "properties": {},
         "start": "YYZ",
         "thickness_factor": 1
        },
        {
         "color": "#15AFAC",
         "directed": false,
         "end": "JFK",
         "label": "",
         "properties": {},
         "start": "YUL",
         "thickness_factor": 1
        },
        {
         "color": "#15AFAC",
         "directed": false,
         "end": "CPT",
         "label": "",
         "properties": {},
         "start": "JNB",
         "thickness_factor": 1
        },
        {
         "color": "#15AFAC",
         "directed": false,
         "end": "DKR",
         "label": "",
         "properties": {},
         "start": "LOS",
         "thickness_factor": 1
        },
        {
         "color": "#15AFAC",
         "directed": false,
         "end": "LOS",
         "label": "",
         "properties": {},
         "start": "NBO",
         "thickness_factor": 1
        },
        {
         "color": "#15AFAC",
         "directed": false,
         "end": "CMN",
         "label": "",
         "properties": {},
         "start": "DKR",
         "thickness_factor": 1
        },
        {
         "color": "#15AFAC",
         "directed": false,
         "end": "CAI",
         "label": "",
         "properties": {},
         "start": "DKR",
         "thickness_factor": 1
        },
        {
         "color": "#15AFAC",
         "directed": false,
         "end": "CAI",
         "label": "",
         "properties": {},
         "start": "NBO",
         "thickness_factor": 1
        },
        {
         "color": "#15AFAC",
         "directed": false,
         "end": "CAI",
         "label": "",
         "properties": {},
         "start": "DXB",
         "thickness_factor": 1
        },
        {
         "color": "#15AFAC",
         "directed": false,
         "end": "DXB",
         "label": "",
         "properties": {},
         "start": "IKA",
         "thickness_factor": 1
        },
        {
         "color": "#15AFAC",
         "directed": false,
         "end": "IKA",
         "label": "",
         "properties": {},
         "start": "IST",
         "thickness_factor": 1
        },
        {
         "color": "#15AFAC",
         "directed": false,
         "end": "ATH",
         "label": "",
         "properties": {},
         "start": "TLV",
         "thickness_factor": 1
        },
        {
         "color": "#15AFAC",
         "directed": false,
         "end": "TLV",
         "label": "",
         "properties": {},
         "start": "CAI",
         "thickness_factor": 1
        },
        {
         "color": "#15AFAC",
         "directed": false,
         "end": "IST",
         "label": "",
         "properties": {},
         "start": "ATH",
         "thickness_factor": 1
        },
        {
         "color": "#15AFAC",
         "directed": false,
         "end": "ATH",
         "label": "",
         "properties": {},
         "start": "FCO",
         "thickness_factor": 1
        },
        {
         "color": "#15AFAC",
         "directed": false,
         "end": "LHR",
         "label": "",
         "properties": {},
         "start": "LIS",
         "thickness_factor": 1
        },
        {
         "color": "#15AFAC",
         "directed": false,
         "end": "MAD",
         "label": "",
         "properties": {},
         "start": "LIS",
         "thickness_factor": 1
        },
        {
         "color": "#15AFAC",
         "directed": false,
         "end": "BCN",
         "label": "",
         "properties": {},
         "start": "MAD",
         "thickness_factor": 1
        },
        {
         "color": "#15AFAC",
         "directed": false,
         "end": "LHR",
         "label": "",
         "properties": {},
         "start": "CDG",
         "thickness_factor": 1
        },
        {
         "color": "#15AFAC",
         "directed": false,
         "end": "LHR",
         "label": "",
         "properties": {},
         "start": "DUB",
         "thickness_factor": 1
        },
        {
         "color": "#15AFAC",
         "directed": false,
         "end": "LHR",
         "label": "",
         "properties": {},
         "start": "EDI",
         "thickness_factor": 1
        },
        {
         "color": "#15AFAC",
         "directed": false,
         "end": "BCN",
         "label": "",
         "properties": {},
         "start": "CDG",
         "thickness_factor": 1
        },
        {
         "color": "#15AFAC",
         "directed": false,
         "end": "FCO",
         "label": "",
         "properties": {},
         "start": "BCN",
         "thickness_factor": 1
        },
        {
         "color": "#15AFAC",
         "directed": false,
         "end": "IST",
         "label": "",
         "properties": {},
         "start": "VIE",
         "thickness_factor": 1
        },
        {
         "color": "#15AFAC",
         "directed": false,
         "end": "SVO",
         "label": "",
         "properties": {},
         "start": "VIE",
         "thickness_factor": 1
        },
        {
         "color": "#15AFAC",
         "directed": false,
         "end": "LIS",
         "label": "",
         "properties": {},
         "start": "CMN",
         "thickness_factor": 1
        },
        {
         "color": "#15AFAC",
         "directed": false,
         "end": "CMN",
         "label": "",
         "properties": {},
         "start": "MAD",
         "thickness_factor": 1
        },
        {
         "color": "#15AFAC",
         "directed": false,
         "end": "CPH",
         "label": "",
         "properties": {},
         "start": "FRA",
         "thickness_factor": 1
        },
        {
         "color": "#15AFAC",
         "directed": false,
         "end": "CPH",
         "label": "",
         "properties": {},
         "start": "LHR",
         "thickness_factor": 1
        },
        {
         "color": "#15AFAC",
         "directed": false,
         "end": "OSL",
         "label": "",
         "properties": {},
         "start": "CPH",
         "thickness_factor": 1
        },
        {
         "color": "#15AFAC",
         "directed": false,
         "end": "ARN",
         "label": "",
         "properties": {},
         "start": "CPH",
         "thickness_factor": 1
        },
        {
         "color": "#15AFAC",
         "directed": false,
         "end": "HEL",
         "label": "",
         "properties": {},
         "start": "ARN",
         "thickness_factor": 1
        },
        {
         "color": "#15AFAC",
         "directed": false,
         "end": "SVO",
         "label": "",
         "properties": {},
         "start": "HEL",
         "thickness_factor": 1
        },
        {
         "color": "#15AFAC",
         "directed": false,
         "end": "PVG",
         "label": "",
         "properties": {},
         "start": "ULN",
         "thickness_factor": 1
        },
        {
         "color": "#15AFAC",
         "directed": false,
         "end": "PVG",
         "label": "",
         "properties": {},
         "start": "CTU",
         "thickness_factor": 1
        },
        {
         "color": "#15AFAC",
         "directed": false,
         "end": "TPE",
         "label": "",
         "properties": {},
         "start": "PVG",
         "thickness_factor": 1
        },
        {
         "color": "#15AFAC",
         "directed": false,
         "end": "HKG",
         "label": "",
         "properties": {},
         "start": "CTU",
         "thickness_factor": 1
        },
        {
         "color": "#15AFAC",
         "directed": false,
         "end": "HKG",
         "label": "",
         "properties": {},
         "start": "TPE",
         "thickness_factor": 1
        },
        {
         "color": "#15AFAC",
         "directed": false,
         "end": "MNL",
         "label": "",
         "properties": {},
         "start": "HKG",
         "thickness_factor": 1
        },
        {
         "color": "#15AFAC",
         "directed": false,
         "end": "HKG",
         "label": "",
         "properties": {},
         "start": "BKK",
         "thickness_factor": 1
        },
        {
         "color": "#15AFAC",
         "directed": false,
         "end": "KUL",
         "label": "",
         "properties": {},
         "start": "SIN",
         "thickness_factor": 1
        },
        {
         "color": "#15AFAC",
         "directed": false,
         "end": "BKK",
         "label": "",
         "properties": {},
         "start": "SIN",
         "thickness_factor": 1
        },
        {
         "color": "#15AFAC",
         "directed": false,
         "end": "SIN",
         "label": "",
         "properties": {},
         "start": "CGK",
         "thickness_factor": 1
        },
        {
         "color": "#15AFAC",
         "directed": false,
         "end": "SIN",
         "label": "",
         "properties": {},
         "start": "MNL",
         "thickness_factor": 1
        },
        {
         "color": "#15AFAC",
         "directed": false,
         "end": "SYD",
         "label": "",
         "properties": {},
         "start": "SIN",
         "thickness_factor": 1
        },
        {
         "color": "#15AFAC",
         "directed": false,
         "end": "SYD",
         "label": "",
         "properties": {},
         "start": "BNE",
         "thickness_factor": 1
        },
        {
         "color": "#15AFAC",
         "directed": false,
         "end": "MEL",
         "label": "",
         "properties": {},
         "start": "SYD",
         "thickness_factor": 1
        },
        {
         "color": "#15AFAC",
         "directed": false,
         "end": "SYD",
         "label": "",
         "properties": {},
         "start": "NAN",
         "thickness_factor": 1
        },
        {
         "color": "#15AFAC",
         "directed": false,
         "end": "SYD",
         "label": "",
         "properties": {},
         "start": "AKL",
         "thickness_factor": 1
        },
        {
         "color": "#15AFAC",
         "directed": false,
         "end": "AKL",
         "label": "",
         "properties": {},
         "start": "NAN",
         "thickness_factor": 1
        },
        {
         "color": "#15AFAC",
         "directed": false,
         "end": "LHR",
         "label": "",
         "properties": {},
         "start": "RKV",
         "thickness_factor": 1
        },
        {
         "color": "#15AFAC",
         "directed": false,
         "end": "CDG",
         "label": "",
         "properties": {},
         "start": "BCN",
         "thickness_factor": 1
        },
        {
         "color": "#15AFAC",
         "directed": false,
         "end": "FRA",
         "label": "",
         "properties": {},
         "start": "BCN",
         "thickness_factor": 1
        },
        {
         "color": "#15AFAC",
         "directed": false,
         "end": "FRA",
         "label": "",
         "properties": {},
         "start": "FCO",
         "thickness_factor": 1
        },
        {
         "color": "#15AFAC",
         "directed": false,
         "end": "MEX",
         "label": "",
         "properties": {},
         "start": "BOG",
         "thickness_factor": 1
        },
        {
         "color": "#15AFAC",
         "directed": false,
         "end": "GRU",
         "label": "",
         "properties": {},
         "start": "BOG",
         "thickness_factor": 1
        },
        {
         "color": "#15AFAC",
         "directed": false,
         "end": "MIA",
         "label": "",
         "properties": {},
         "start": "ATL",
         "thickness_factor": 1
        },
        {
         "color": "#15AFAC",
         "directed": false,
         "end": "IST",
         "label": "",
         "properties": {},
         "start": "FRA",
         "thickness_factor": 1
        },
        {
         "color": "#15AFAC",
         "directed": false,
         "end": "DEL",
         "label": "",
         "properties": {},
         "start": "IST",
         "thickness_factor": 1
        },
        {
         "color": "#15AFAC",
         "directed": false,
         "end": "BKK",
         "label": "",
         "properties": {},
         "start": "PVG",
         "thickness_factor": 1
        },
        {
         "color": "#15AFAC",
         "directed": false,
         "end": "BKK",
         "label": "",
         "properties": {},
         "start": "DEL",
         "thickness_factor": 1
        }
       ],
       "_model_module_version": "^1.7.3",
       "_nodes": [
        {
         "color": "#15AFAC",
         "coordinates": [
          33.942536,
          -118.408075
         ],
         "id": "LAX",
         "label": "Los Angeles",
         "parentId": "group#USA",
         "position": [
          0,
          0
         ],
         "properties": {
          "country": "USA",
          "label": "Los Angeles",
          "passengers": 65000000
         },
         "scale_factor": 1,
         "size": [
          55,
          55
         ],
         "styles": {},
         "type": "#15AFAC"
        },
        {
         "color": "#15AFAC",
         "coordinates": [
          -22.808903,
          -43.243647
         ],
         "id": "GIG",
         "label": "Rio de Janeiro",
         "parentId": "group#Brazil",
         "position": [
          0,
          0
         ],
         "properties": {
          "country": "Brazil",
          "label": "Rio de Janeiro",
          "passengers": 5000000
         },
         "scale_factor": 1,
         "size": [
          55,
          55
         ],
         "styles": {},
         "type": "#15AFAC"
        },
        {
         "color": "#15AFAC",
         "coordinates": [
          -12.021889,
          -77.114319
         ],
         "id": "LIM",
         "label": "Lima",
         "parentId": "group#Peru",
         "position": [
          0,
          0
         ],
         "properties": {
          "country": "Peru",
          "label": "Lima",
          "passengers": 18000000
         },
         "scale_factor": 1,
         "size": [
          55,
          55
         ],
         "styles": {},
         "type": "#15AFAC"
        },
        {
         "color": "#15AFAC",
         "coordinates": [
          51.4775,
          -0.461389
         ],
         "id": "LHR",
         "label": "London",
         "parentId": "group#UK",
         "position": [
          0,
          0
         ],
         "properties": {
          "country": "UK",
          "label": "London",
          "passengers": 61000000
         },
         "scale_factor": 1,
         "size": [
          55,
          55
         ],
         "styles": {},
         "type": "#15AFAC"
        },
        {
         "color": "#15AFAC",
         "coordinates": [
          50.033333,
          8.570556
         ],
         "id": "FRA",
         "label": "Frankfurt",
         "parentId": "group#Germany",
         "position": [
          0,
          0
         ],
         "properties": {
          "country": "Germany",
          "label": "Frankfurt",
          "passengers": 48000000
         },
         "scale_factor": 1,
         "size": [
          55,
          55
         ],
         "styles": {},
         "type": "#15AFAC"
        },
        {
         "color": "#15AFAC",
         "coordinates": [
          55.972642,
          37.414589
         ],
         "id": "SVO",
         "label": "Moscow",
         "parentId": "group#Russia",
         "position": [
          0,
          0
         ],
         "properties": {
          "country": "Russia",
          "label": "Moscow",
          "passengers": 49000000
         },
         "scale_factor": 1,
         "size": [
          55,
          55
         ],
         "styles": {},
         "type": "#15AFAC"
        },
        {
         "color": "#15AFAC",
         "coordinates": [
          28.5665,
          77.103089
         ],
         "id": "DEL",
         "label": "New Delhi",
         "parentId": "group#India",
         "position": [
          0,
          0
         ],
         "properties": {
          "country": "India",
          "label": "New Delhi",
          "passengers": 39000000
         },
         "scale_factor": 1,
         "size": [
          55,
          55
         ],
         "styles": {},
         "type": "#15AFAC"
        },
        {
         "color": "#15AFAC",
         "coordinates": [
          31.143378,
          121.805214
         ],
         "id": "PVG",
         "label": "Shanghai",
         "parentId": "group#China",
         "position": [
          0,
          0
         ],
         "properties": {
          "country": "China",
          "label": "Shanghai",
          "passengers": 32000000
         },
         "scale_factor": 1,
         "size": [
          55,
          55
         ],
         "styles": {},
         "type": "#15AFAC"
        },
        {
         "color": "#15AFAC",
         "coordinates": [
          22.308919,
          113.914603
         ],
         "id": "HKG",
         "label": "Hongkong",
         "parentId": "group#China",
         "position": [
          0,
          0
         ],
         "properties": {
          "country": "China",
          "label": "Hongkong",
          "passengers": 1000000
         },
         "scale_factor": 1,
         "size": [
          55,
          55
         ],
         "styles": {},
         "type": "#15AFAC"
        },
        {
         "color": "#15AFAC",
         "coordinates": [
          35.764722,
          140.386389
         ],
         "id": "NRT",
         "label": "Tokio",
         "parentId": "group#Japan",
         "position": [
          0,
          0
         ],
         "properties": {
          "country": "Japan",
          "label": "Tokio",
          "passengers": 15000000
         },
         "scale_factor": 1,
         "size": [
          55,
          55
         ],
         "styles": {},
         "type": "#15AFAC"
        },
        {
         "color": "#15AFAC",
         "coordinates": [
          25.252778,
          55.364444
         ],
         "id": "DXB",
         "label": "Dubai",
         "parentId": "group#UAE",
         "position": [
          0,
          0
         ],
         "properties": {
          "country": "UAE",
          "label": "Dubai",
          "passengers": 29000000
         },
         "scale_factor": 1,
         "size": [
          55,
          55
         ],
         "styles": {},
         "type": "#15AFAC"
        },
        {
         "color": "#15AFAC",
         "coordinates": [
          14.670833,
          -17.072778
         ],
         "id": "DKR",
         "label": "Dakar",
         "parentId": "group#Senegal",
         "position": [
          0,
          0
         ],
         "properties": {
          "country": "Senegal",
          "label": "Dakar",
          "passengers": 2000000
         },
         "scale_factor": 1,
         "size": [
          55,
          55
         ],
         "styles": {},
         "type": "#15AFAC"
        },
        {
         "color": "#15AFAC",
         "coordinates": [
          -26.133694,
          28.242317
         ],
         "id": "JNB",
         "label": "Johannesburg",
         "parentId": "group#South Africa",
         "position": [
          0,
          0
         ],
         "properties": {
          "country": "South Africa",
          "label": "Johannesburg",
          "passengers": 9000000
         },
         "scale_factor": 1,
         "size": [
          55,
          55
         ],
         "styles": {},
         "type": "#15AFAC"
        },
        {
         "color": "#15AFAC",
         "coordinates": [
          -33.946111,
          151.177222
         ],
         "id": "SYD",
         "label": "Sydney",
         "parentId": "group#Australia",
         "position": [
          0,
          0
         ],
         "properties": {
          "country": "Australia",
          "label": "Sydney",
          "passengers": 44000000
         },
         "scale_factor": 1,
         "size": [
          55,
          55
         ],
         "styles": {},
         "type": "#15AFAC"
        },
        {
         "color": "#15AFAC",
         "coordinates": [
          -1.319167,
          36.927778
         ],
         "id": "NBO",
         "label": "Nairobi",
         "parentId": "group#Kenya",
         "position": [
          0,
          0
         ],
         "properties": {
          "country": "Kenya",
          "label": "Nairobi",
          "passengers": 900000
         },
         "scale_factor": 1,
         "size": [
          55,
          55
         ],
         "styles": {},
         "type": "#15AFAC"
        },
        {
         "color": "#15AFAC",
         "coordinates": [
          33.639167,
          -84.427778
         ],
         "id": "ATL",
         "label": "Atlanta",
         "parentId": "group#USA",
         "position": [
          0,
          0
         ],
         "properties": {
          "country": "USA",
          "label": "Atlanta",
          "passengers": 93000000
         },
         "scale_factor": 1,
         "size": [
          55,
          55
         ],
         "styles": {},
         "type": "#15AFAC"
        },
        {
         "color": "#15AFAC",
         "coordinates": [
          40.63975,
          -73.778925
         ],
         "id": "JFK",
         "label": "New York City",
         "parentId": "group#USA",
         "position": [
          0,
          0
         ],
         "properties": {
          "country": "USA",
          "label": "New York City",
          "passengers": 55000000
         },
         "scale_factor": 1,
         "size": [
          55,
          55
         ],
         "styles": {},
         "type": "#15AFAC"
        },
        {
         "color": "#15AFAC",
         "coordinates": [
          30.121944,
          31.405556
         ],
         "id": "CAI",
         "label": "Cairo",
         "parentId": "group#Egypt",
         "position": [
          0,
          0
         ],
         "properties": {
          "country": "Egypt",
          "label": "Cairo",
          "passengers": 14000000
         },
         "scale_factor": 1,
         "size": [
          55,
          55
         ],
         "styles": {},
         "type": "#15AFAC"
        },
        {
         "color": "#15AFAC",
         "coordinates": [
          33.367467,
          -7.589967
         ],
         "id": "CMN",
         "label": "Casablanca",
         "parentId": "group#Morocco",
         "position": [
          0,
          0
         ],
         "properties": {
          "country": "Morocco",
          "label": "Casablanca",
          "passengers": 7000000
         },
         "scale_factor": 1,
         "size": [
          55,
          55
         ],
         "styles": {},
         "type": "#15AFAC"
        },
        {
         "color": "#15AFAC",
         "coordinates": [
          6.577222,
          3.321111
         ],
         "id": "LOS",
         "label": "Lagos",
         "parentId": "group#Nigeria",
         "position": [
          0,
          0
         ],
         "properties": {
          "country": "Nigeria",
          "label": "Lagos",
          "passengers": 5000000
         },
         "scale_factor": 1,
         "size": [
          55,
          55
         ],
         "styles": {},
         "type": "#15AFAC"
        },
        {
         "color": "#15AFAC",
         "coordinates": [
          -33.969444,
          18.597222
         ],
         "id": "CPT",
         "label": "Cape Town",
         "parentId": "group#South Africa",
         "position": [
          0,
          0
         ],
         "properties": {
          "country": "South Africa",
          "label": "Cape Town",
          "passengers": 5000000
         },
         "scale_factor": 1,
         "size": [
          55,
          55
         ],
         "styles": {},
         "type": "#15AFAC"
        },
        {
         "color": "#15AFAC",
         "coordinates": [
          30.578333,
          103.946944
         ],
         "id": "CTU",
         "label": "Chengdu",
         "parentId": "group#China",
         "position": [
          0,
          0
         ],
         "properties": {
          "country": "China",
          "label": "Chengdu",
          "passengers": 40000000
         },
         "scale_factor": 1,
         "size": [
          55,
          55
         ],
         "styles": {},
         "type": "#15AFAC"
        },
        {
         "color": "#15AFAC",
         "coordinates": [
          -6.125567,
          106.655897
         ],
         "id": "CGK",
         "label": "Jakarta",
         "parentId": "group#Indonesia",
         "position": [
          0,
          0
         ],
         "properties": {
          "country": "Indonesia",
          "label": "Jakarta",
          "passengers": 54000000
         },
         "scale_factor": 1,
         "size": [
          55,
          55
         ],
         "styles": {},
         "type": "#15AFAC"
        },
        {
         "color": "#15AFAC",
         "coordinates": [
          35.416111,
          51.152222
         ],
         "id": "IKA",
         "label": "Teheran",
         "parentId": "group#Iran",
         "position": [
          0,
          0
         ],
         "properties": {
          "country": "Iran",
          "label": "Teheran",
          "passengers": 8000000
         },
         "scale_factor": 1,
         "size": [
          55,
          55
         ],
         "styles": {},
         "type": "#15AFAC"
        },
        {
         "color": "#15AFAC",
         "coordinates": [
          32.011389,
          34.886667
         ],
         "id": "TLV",
         "label": "Tel Aviv",
         "parentId": "group#Israel",
         "position": [
          0,
          0
         ],
         "properties": {
          "country": "Israel",
          "label": "Tel Aviv",
          "passengers": 20000000
         },
         "scale_factor": 1,
         "size": [
          55,
          55
         ],
         "styles": {},
         "type": "#15AFAC"
        },
        {
         "color": "#15AFAC",
         "coordinates": [
          2.745578,
          101.709917
         ],
         "id": "KUL",
         "label": "Kuala Lumpur",
         "parentId": "group#Malaysia",
         "position": [
          0,
          0
         ],
         "properties": {
          "country": "Malaysia",
          "label": "Kuala Lumpur",
          "passengers": 25000000
         },
         "scale_factor": 1,
         "size": [
          55,
          55
         ],
         "styles": {},
         "type": "#15AFAC"
        },
        {
         "color": "#15AFAC",
         "coordinates": [
          14.508647,
          121.019581
         ],
         "id": "MNL",
         "label": "Manila",
         "parentId": "group#Philippines",
         "position": [
          0,
          0
         ],
         "properties": {
          "country": "Philippines",
          "label": "Manila",
          "passengers": 8000000
         },
         "scale_factor": 1,
         "size": [
          55,
          55
         ],
         "styles": {},
         "type": "#15AFAC"
        },
        {
         "color": "#15AFAC",
         "coordinates": [
          1.350189,
          103.994433
         ],
         "id": "SIN",
         "label": "Singapur",
         "parentId": "group#Singapore",
         "position": [
          0,
          0
         ],
         "properties": {
          "country": "Singapore",
          "label": "Singapur",
          "passengers": 32000000
         },
         "scale_factor": 1,
         "size": [
          55,
          55
         ],
         "styles": {},
         "type": "#15AFAC"
        },
        {
         "color": "#15AFAC",
         "coordinates": [
          25.077732,
          121.232822
         ],
         "id": "TPE",
         "label": "Taipeh",
         "parentId": "group#Taiwan",
         "position": [
          0,
          0
         ],
         "properties": {
          "country": "Taiwan",
          "label": "Taipeh",
          "passengers": 800000
         },
         "scale_factor": 1,
         "size": [
          55,
          55
         ],
         "styles": {},
         "type": "#15AFAC"
        },
        {
         "color": "#15AFAC",
         "coordinates": [
          13.681108,
          100.747283
         ],
         "id": "BKK",
         "label": "Bangkok",
         "parentId": "group#Thailand",
         "position": [
          0,
          0
         ],
         "properties": {
          "country": "Thailand",
          "label": "Bangkok",
          "passengers": 65000000
         },
         "scale_factor": 1,
         "size": [
          55,
          55
         ],
         "styles": {},
         "type": "#15AFAC"
        },
        {
         "color": "#15AFAC",
         "coordinates": [
          40.976922,
          28.814606
         ],
         "id": "IST",
         "label": "Istanbul",
         "parentId": "group#Turkey",
         "position": [
          0,
          0
         ],
         "properties": {
          "country": "Turkey",
          "label": "Istanbul",
          "passengers": 64000000
         },
         "scale_factor": 1,
         "size": [
          55,
          55
         ],
         "styles": {},
         "type": "#15AFAC"
        },
        {
         "color": "#15AFAC",
         "coordinates": [
          47.843056,
          106.766639
         ],
         "id": "ULN",
         "label": "Ulaanbaatar",
         "parentId": "group#Mongolia",
         "position": [
          0,
          0
         ],
         "properties": {
          "country": "Mongolia",
          "label": "Ulaanbaatar",
          "passengers": 1000000
         },
         "scale_factor": 1,
         "size": [
          55,
          55
         ],
         "styles": {},
         "type": "#15AFAC"
        },
        {
         "color": "#15AFAC",
         "coordinates": [
          -37.673333,
          144.843333
         ],
         "id": "MEL",
         "label": "Melbourne",
         "parentId": "group#Australia",
         "position": [
          0,
          0
         ],
         "properties": {
          "country": "Australia",
          "label": "Melbourne",
          "passengers": 12000000
         },
         "scale_factor": 1,
         "size": [
          55,
          55
         ],
         "styles": {},
         "type": "#15AFAC"
        },
        {
         "color": "#15AFAC",
         "coordinates": [
          -27.383333,
          153.118056
         ],
         "id": "BNE",
         "label": "Brisbane",
         "parentId": "group#Australia",
         "position": [
          0,
          0
         ],
         "properties": {
          "country": "Australia",
          "label": "Brisbane",
          "passengers": 23000000
         },
         "scale_factor": 1,
         "size": [
          55,
          55
         ],
         "styles": {},
         "type": "#15AFAC"
        },
        {
         "color": "#15AFAC",
         "coordinates": [
          -17.755392,
          177.443378
         ],
         "id": "NAN",
         "label": "Nadi",
         "parentId": "group#Fiji",
         "position": [
          0,
          0
         ],
         "properties": {
          "country": "Fiji",
          "label": "Nadi",
          "passengers": 2000000
         },
         "scale_factor": 1,
         "size": [
          55,
          55
         ],
         "styles": {},
         "type": "#15AFAC"
        },
        {
         "color": "#15AFAC",
         "coordinates": [
          -37.008056,
          174.791667
         ],
         "id": "AKL",
         "label": "Auckland",
         "parentId": "group#New Zealand",
         "position": [
          0,
          0
         ],
         "properties": {
          "country": "New Zealand",
          "label": "Auckland",
          "passengers": 21000000
         },
         "scale_factor": 1,
         "size": [
          55,
          55
         ],
         "styles": {},
         "type": "#15AFAC"
        },
        {
         "color": "#15AFAC",
         "coordinates": [
          49.009722,
          2.547778
         ],
         "id": "CDG",
         "label": "Paris",
         "parentId": "group#France",
         "position": [
          0,
          0
         ],
         "properties": {
          "country": "France",
          "label": "Paris",
          "passengers": 57000000
         },
         "scale_factor": 1,
         "size": [
          55,
          55
         ],
         "styles": {},
         "type": "#15AFAC"
        },
        {
         "color": "#15AFAC",
         "coordinates": [
          40.4675,
          -3.551944
         ],
         "id": "MAD",
         "label": "Madrid",
         "parentId": "group#Spain",
         "position": [
          0,
          0
         ],
         "properties": {
          "country": "Spain",
          "label": "Madrid",
          "passengers": 50000000
         },
         "scale_factor": 1,
         "size": [
          55,
          55
         ],
         "styles": {},
         "type": "#15AFAC"
        },
        {
         "color": "#15AFAC",
         "coordinates": [
          41.297078,
          2.078464
         ],
         "id": "BCN",
         "label": "Barcelona",
         "parentId": "group#Spain",
         "position": [
          0,
          0
         ],
         "properties": {
          "country": "Spain",
          "label": "Barcelona",
          "passengers": 41000000
         },
         "scale_factor": 1,
         "size": [
          55,
          55
         ],
         "styles": {},
         "type": "#15AFAC"
        },
        {
         "color": "#15AFAC",
         "coordinates": [
          41.804444,
          12.250833
         ],
         "id": "FCO",
         "label": "Rome",
         "parentId": "group#Italy",
         "position": [
          0,
          0
         ],
         "properties": {
          "country": "Italy",
          "label": "Rome",
          "passengers": 29000000
         },
         "scale_factor": 1,
         "size": [
          55,
          55
         ],
         "styles": {},
         "type": "#15AFAC"
        },
        {
         "color": "#15AFAC",
         "coordinates": [
          55.617917,
          12.655972
         ],
         "id": "CPH",
         "label": "Copenhagen",
         "parentId": "group#Denmark",
         "position": [
          0,
          0
         ],
         "properties": {
          "country": "Denmark",
          "label": "Copenhagen",
          "passengers": 30000000
         },
         "scale_factor": 1,
         "size": [
          55,
          55
         ],
         "styles": {},
         "type": "#15AFAC"
        },
        {
         "color": "#15AFAC",
         "coordinates": [
          60.317222,
          24.963333
         ],
         "id": "HEL",
         "label": "Helsinki",
         "parentId": "group#Finland",
         "position": [
          0,
          0
         ],
         "properties": {
          "country": "Finland",
          "label": "Helsinki",
          "passengers": 5000000
         },
         "scale_factor": 1,
         "size": [
          55,
          55
         ],
         "styles": {},
         "type": "#15AFAC"
        },
        {
         "color": "#15AFAC",
         "coordinates": [
          37.936358,
          23.944467
         ],
         "id": "ATH",
         "label": "Athens",
         "parentId": "group#Greece",
         "position": [
          0,
          0
         ],
         "properties": {
          "country": "Greece",
          "label": "Athens",
          "passengers": 22000000
         },
         "scale_factor": 1,
         "size": [
          55,
          55
         ],
         "styles": {},
         "type": "#15AFAC"
        },
        {
         "color": "#15AFAC",
         "coordinates": [
          53.421333,
          -6.270075
         ],
         "id": "DUB",
         "label": "Dublin",
         "parentId": "group#Ireland",
         "position": [
          0,
          0
         ],
         "properties": {
          "country": "Ireland",
          "label": "Dublin",
          "passengers": 32000000
         },
         "scale_factor": 1,
         "size": [
          55,
          55
         ],
         "styles": {},
         "type": "#15AFAC"
        },
        {
         "color": "#15AFAC",
         "coordinates": [
          64.13,
          -21.940556
         ],
         "id": "RKV",
         "label": "Reykjavik",
         "parentId": "group#Iceland",
         "position": [
          0,
          0
         ],
         "properties": {
          "country": "Iceland",
          "label": "Reykjavik",
          "passengers": 400000
         },
         "scale_factor": 1,
         "size": [
          55,
          55
         ],
         "styles": {},
         "type": "#15AFAC"
        },
        {
         "color": "#15AFAC",
         "coordinates": [
          60.193917,
          11.100361
         ],
         "id": "OSL",
         "label": "Oslo",
         "parentId": "group#Norway",
         "position": [
          0,
          0
         ],
         "properties": {
          "country": "Norway",
          "label": "Oslo",
          "passengers": 9000000
         },
         "scale_factor": 1,
         "size": [
          55,
          55
         ],
         "styles": {},
         "type": "#15AFAC"
        },
        {
         "color": "#15AFAC",
         "coordinates": [
          48.110833,
          16.570833
         ],
         "id": "VIE",
         "label": "Vienna",
         "parentId": "group#Austria",
         "position": [
          0,
          0
         ],
         "properties": {
          "country": "Austria",
          "label": "Vienna",
          "passengers": 10000000
         },
         "scale_factor": 1,
         "size": [
          55,
          55
         ],
         "styles": {},
         "type": "#15AFAC"
        },
        {
         "color": "#15AFAC",
         "coordinates": [
          38.774167,
          -9.134167
         ],
         "id": "LIS",
         "label": "Lisbon",
         "parentId": "group#Portugal",
         "position": [
          0,
          0
         ],
         "properties": {
          "country": "Portugal",
          "label": "Lisbon",
          "passengers": 28000000
         },
         "scale_factor": 1,
         "size": [
          55,
          55
         ],
         "styles": {},
         "type": "#15AFAC"
        },
        {
         "color": "#15AFAC",
         "coordinates": [
          59.651944,
          17.918611
         ],
         "id": "ARN",
         "label": "Stockholm",
         "parentId": "group#Sweden",
         "position": [
          0,
          0
         ],
         "properties": {
          "country": "Sweden",
          "label": "Stockholm",
          "passengers": 7000000
         },
         "scale_factor": 1,
         "size": [
          55,
          55
         ],
         "styles": {},
         "type": "#15AFAC"
        },
        {
         "color": "#15AFAC",
         "coordinates": [
          55.95,
          -3.3725
         ],
         "id": "EDI",
         "label": "Edinburgh",
         "parentId": "group#UK",
         "position": [
          0,
          0
         ],
         "properties": {
          "country": "UK",
          "label": "Edinburgh",
          "passengers": 14000000
         },
         "scale_factor": 1,
         "size": [
          55,
          55
         ],
         "styles": {},
         "type": "#15AFAC"
        },
        {
         "color": "#15AFAC",
         "coordinates": [
          41.978603,
          -87.904842
         ],
         "id": "ORD",
         "label": "Chicago",
         "parentId": "group#USA",
         "position": [
          0,
          0
         ],
         "properties": {
          "country": "USA",
          "label": "Chicago",
          "passengers": 54000000
         },
         "scale_factor": 1,
         "size": [
          55,
          55
         ],
         "styles": {},
         "type": "#15AFAC"
        },
        {
         "color": "#15AFAC",
         "coordinates": [
          32.896828,
          -97.037997
         ],
         "id": "DFW",
         "label": "Dallas",
         "parentId": "group#USA",
         "position": [
          0,
          0
         ],
         "properties": {
          "country": "USA",
          "label": "Dallas",
          "passengers": 73000000
         },
         "scale_factor": 1,
         "size": [
          55,
          55
         ],
         "styles": {},
         "type": "#15AFAC"
        },
        {
         "color": "#15AFAC",
         "coordinates": [
          37.618972,
          -122.374889
         ],
         "id": "SFO",
         "label": "San Francisco",
         "parentId": "group#USA",
         "position": [
          0,
          0
         ],
         "properties": {
          "country": "USA",
          "label": "San Francisco",
          "passengers": 42000000
         },
         "scale_factor": 1,
         "size": [
          55,
          55
         ],
         "styles": {},
         "type": "#15AFAC"
        },
        {
         "color": "#15AFAC",
         "coordinates": [
          36.080056,
          -115.15225
         ],
         "id": "LAS",
         "label": "Las Vegas",
         "parentId": "group#USA",
         "position": [
          0,
          0
         ],
         "properties": {
          "country": "USA",
          "label": "Las Vegas",
          "passengers": 52000000
         },
         "scale_factor": 1,
         "size": [
          55,
          55
         ],
         "styles": {},
         "type": "#15AFAC"
        },
        {
         "color": "#15AFAC",
         "coordinates": [
          25.79325,
          -80.290556
         ],
         "id": "MIA",
         "label": "Miami",
         "parentId": "group#USA",
         "position": [
          0,
          0
         ],
         "properties": {
          "country": "USA",
          "label": "Miami",
          "passengers": 50000000
         },
         "scale_factor": 1,
         "size": [
          55,
          55
         ],
         "styles": {},
         "type": "#15AFAC"
        },
        {
         "color": "#15AFAC",
         "coordinates": [
          43.677222,
          -79.630556
         ],
         "id": "YYZ",
         "label": "Toronto",
         "parentId": "group#Canada",
         "position": [
          0,
          0
         ],
         "properties": {
          "country": "Canada",
          "label": "Toronto",
          "passengers": 12000000
         },
         "scale_factor": 1,
         "size": [
          55,
          55
         ],
         "styles": {},
         "type": "#15AFAC"
        },
        {
         "color": "#15AFAC",
         "coordinates": [
          49.193889,
          -123.184444
         ],
         "id": "YVR",
         "label": "Vancouver",
         "parentId": "group#Canada",
         "position": [
          0,
          0
         ],
         "properties": {
          "country": "Canada",
          "label": "Vancouver",
          "passengers": 19000000
         },
         "scale_factor": 1,
         "size": [
          55,
          55
         ],
         "styles": {},
         "type": "#15AFAC"
        },
        {
         "color": "#15AFAC",
         "coordinates": [
          45.47175,
          -73.736569
         ],
         "id": "YUL",
         "label": "Montreal",
         "parentId": "group#Canada",
         "position": [
          0,
          0
         ],
         "properties": {
          "country": "Canada",
          "label": "Montreal",
          "passengers": 15000000
         },
         "scale_factor": 1,
         "size": [
          55,
          55
         ],
         "styles": {},
         "type": "#15AFAC"
        },
        {
         "color": "#15AFAC",
         "coordinates": [
          19.436303,
          -99.072097
         ],
         "id": "MEX",
         "label": "Mexico-City",
         "parentId": "group#Mexico",
         "position": [
          0,
          0
         ],
         "properties": {
          "country": "Mexico",
          "label": "Mexico-City",
          "passengers": 46000000
         },
         "scale_factor": 1,
         "size": [
          55,
          55
         ],
         "styles": {},
         "type": "#15AFAC"
        },
        {
         "color": "#15AFAC",
         "coordinates": [
          14.583272,
          -90.527475
         ],
         "id": "GUA",
         "label": "Guatemala-City",
         "parentId": "group#Guatemala",
         "position": [
          0,
          0
         ],
         "properties": {
          "country": "Guatemala",
          "label": "Guatemala-City",
          "passengers": 2000000
         },
         "scale_factor": 1,
         "size": [
          55,
          55
         ],
         "styles": {},
         "type": "#15AFAC"
        },
        {
         "color": "#15AFAC",
         "coordinates": [
          -34.822222,
          -58.535833
         ],
         "id": "EZE",
         "label": "Buenos Aires",
         "parentId": "group#Argentina",
         "position": [
          0,
          0
         ],
         "properties": {
          "country": "Argentina",
          "label": "Buenos Aires",
          "passengers": 5000000
         },
         "scale_factor": 1,
         "size": [
          55,
          55
         ],
         "styles": {},
         "type": "#15AFAC"
        },
        {
         "color": "#15AFAC",
         "coordinates": [
          -23.432075,
          -46.469511
         ],
         "id": "GRU",
         "label": "Sao Paulo",
         "parentId": "group#Brazil",
         "position": [
          0,
          0
         ],
         "properties": {
          "country": "Brazil",
          "label": "Sao Paulo",
          "passengers": 34000000
         },
         "scale_factor": 1,
         "size": [
          55,
          55
         ],
         "styles": {},
         "type": "#15AFAC"
        },
        {
         "color": "#15AFAC",
         "coordinates": [
          -33.392975,
          -70.785803
         ],
         "id": "SCL",
         "label": "Santiago de Chile",
         "parentId": "group#Chile",
         "position": [
          0,
          0
         ],
         "properties": {
          "country": "Chile",
          "label": "Santiago de Chile",
          "passengers": 20000000
         },
         "scale_factor": 1,
         "size": [
          55,
          55
         ],
         "styles": {},
         "type": "#15AFAC"
        },
        {
         "color": "#15AFAC",
         "coordinates": [
          -15.871111,
          -47.918611
         ],
         "id": "BSB",
         "label": "Brasilia",
         "parentId": "group#Brazil",
         "position": [
          0,
          0
         ],
         "properties": {
          "country": "Brazil",
          "label": "Brasilia",
          "passengers": 13000000
         },
         "scale_factor": 1,
         "size": [
          55,
          55
         ],
         "styles": {},
         "type": "#15AFAC"
        },
        {
         "color": "#15AFAC",
         "coordinates": [
          4.701594,
          -74.146947
         ],
         "id": "BOG",
         "label": "Bogota",
         "parentId": "group#Colombia",
         "position": [
          0,
          0
         ],
         "properties": {
          "country": "Colombia",
          "label": "Bogota",
          "passengers": 36000000
         },
         "scale_factor": 1,
         "size": [
          55,
          55
         ],
         "styles": {},
         "type": "#15AFAC"
        },
        {
         "color": "#15AFAC",
         "coordinates": [
          10.601194,
          -66.991222
         ],
         "id": "CCS",
         "label": "Caracas",
         "parentId": "group#Venezuela",
         "position": [
          0,
          0
         ],
         "properties": {
          "country": "Venezuela",
          "label": "Caracas",
          "passengers": 8000000
         },
         "scale_factor": 1,
         "size": [
          55,
          55
         ],
         "styles": {},
         "type": "#15AFAC"
        },
        {
         "color": "#15AFAC",
         "id": "group#USA",
         "label": "USA",
         "position": [
          0,
          0
         ],
         "properties": {
          "label": "USA"
         },
         "scale_factor": 1,
         "size": [
          55,
          55
         ],
         "styles": {},
         "type": "#15AFAC"
        },
        {
         "color": "#15AFAC",
         "id": "group#Brazil",
         "label": "Brazil",
         "position": [
          0,
          0
         ],
         "properties": {
          "label": "Brazil"
         },
         "scale_factor": 1,
         "size": [
          55,
          55
         ],
         "styles": {},
         "type": "#15AFAC"
        },
        {
         "color": "#15AFAC",
         "id": "group#Peru",
         "label": "Peru",
         "position": [
          0,
          0
         ],
         "properties": {
          "label": "Peru"
         },
         "scale_factor": 1,
         "size": [
          55,
          55
         ],
         "styles": {},
         "type": "#15AFAC"
        },
        {
         "color": "#15AFAC",
         "id": "group#UK",
         "label": "UK",
         "position": [
          0,
          0
         ],
         "properties": {
          "label": "UK"
         },
         "scale_factor": 1,
         "size": [
          55,
          55
         ],
         "styles": {},
         "type": "#15AFAC"
        },
        {
         "color": "#15AFAC",
         "id": "group#Germany",
         "label": "Germany",
         "position": [
          0,
          0
         ],
         "properties": {
          "label": "Germany"
         },
         "scale_factor": 1,
         "size": [
          55,
          55
         ],
         "styles": {},
         "type": "#15AFAC"
        },
        {
         "color": "#15AFAC",
         "id": "group#Russia",
         "label": "Russia",
         "position": [
          0,
          0
         ],
         "properties": {
          "label": "Russia"
         },
         "scale_factor": 1,
         "size": [
          55,
          55
         ],
         "styles": {},
         "type": "#15AFAC"
        },
        {
         "color": "#15AFAC",
         "id": "group#India",
         "label": "India",
         "position": [
          0,
          0
         ],
         "properties": {
          "label": "India"
         },
         "scale_factor": 1,
         "size": [
          55,
          55
         ],
         "styles": {},
         "type": "#15AFAC"
        },
        {
         "color": "#15AFAC",
         "id": "group#China",
         "label": "China",
         "position": [
          0,
          0
         ],
         "properties": {
          "label": "China"
         },
         "scale_factor": 1,
         "size": [
          55,
          55
         ],
         "styles": {},
         "type": "#15AFAC"
        },
        {
         "color": "#15AFAC",
         "id": "group#China",
         "label": "China",
         "position": [
          0,
          0
         ],
         "properties": {
          "label": "China"
         },
         "scale_factor": 1,
         "size": [
          55,
          55
         ],
         "styles": {},
         "type": "#15AFAC"
        },
        {
         "color": "#15AFAC",
         "id": "group#Japan",
         "label": "Japan",
         "position": [
          0,
          0
         ],
         "properties": {
          "label": "Japan"
         },
         "scale_factor": 1,
         "size": [
          55,
          55
         ],
         "styles": {},
         "type": "#15AFAC"
        },
        {
         "color": "#15AFAC",
         "id": "group#UAE",
         "label": "UAE",
         "position": [
          0,
          0
         ],
         "properties": {
          "label": "UAE"
         },
         "scale_factor": 1,
         "size": [
          55,
          55
         ],
         "styles": {},
         "type": "#15AFAC"
        },
        {
         "color": "#15AFAC",
         "id": "group#Senegal",
         "label": "Senegal",
         "position": [
          0,
          0
         ],
         "properties": {
          "label": "Senegal"
         },
         "scale_factor": 1,
         "size": [
          55,
          55
         ],
         "styles": {},
         "type": "#15AFAC"
        },
        {
         "color": "#15AFAC",
         "id": "group#South Africa",
         "label": "South Africa",
         "position": [
          0,
          0
         ],
         "properties": {
          "label": "South Africa"
         },
         "scale_factor": 1,
         "size": [
          55,
          55
         ],
         "styles": {},
         "type": "#15AFAC"
        },
        {
         "color": "#15AFAC",
         "id": "group#Australia",
         "label": "Australia",
         "position": [
          0,
          0
         ],
         "properties": {
          "label": "Australia"
         },
         "scale_factor": 1,
         "size": [
          55,
          55
         ],
         "styles": {},
         "type": "#15AFAC"
        },
        {
         "color": "#15AFAC",
         "id": "group#Kenya",
         "label": "Kenya",
         "position": [
          0,
          0
         ],
         "properties": {
          "label": "Kenya"
         },
         "scale_factor": 1,
         "size": [
          55,
          55
         ],
         "styles": {},
         "type": "#15AFAC"
        },
        {
         "color": "#15AFAC",
         "id": "group#USA",
         "label": "USA",
         "position": [
          0,
          0
         ],
         "properties": {
          "label": "USA"
         },
         "scale_factor": 1,
         "size": [
          55,
          55
         ],
         "styles": {},
         "type": "#15AFAC"
        },
        {
         "color": "#15AFAC",
         "id": "group#USA",
         "label": "USA",
         "position": [
          0,
          0
         ],
         "properties": {
          "label": "USA"
         },
         "scale_factor": 1,
         "size": [
          55,
          55
         ],
         "styles": {},
         "type": "#15AFAC"
        },
        {
         "color": "#15AFAC",
         "id": "group#Egypt",
         "label": "Egypt",
         "position": [
          0,
          0
         ],
         "properties": {
          "label": "Egypt"
         },
         "scale_factor": 1,
         "size": [
          55,
          55
         ],
         "styles": {},
         "type": "#15AFAC"
        },
        {
         "color": "#15AFAC",
         "id": "group#Morocco",
         "label": "Morocco",
         "position": [
          0,
          0
         ],
         "properties": {
          "label": "Morocco"
         },
         "scale_factor": 1,
         "size": [
          55,
          55
         ],
         "styles": {},
         "type": "#15AFAC"
        },
        {
         "color": "#15AFAC",
         "id": "group#Nigeria",
         "label": "Nigeria",
         "position": [
          0,
          0
         ],
         "properties": {
          "label": "Nigeria"
         },
         "scale_factor": 1,
         "size": [
          55,
          55
         ],
         "styles": {},
         "type": "#15AFAC"
        },
        {
         "color": "#15AFAC",
         "id": "group#South Africa",
         "label": "South Africa",
         "position": [
          0,
          0
         ],
         "properties": {
          "label": "South Africa"
         },
         "scale_factor": 1,
         "size": [
          55,
          55
         ],
         "styles": {},
         "type": "#15AFAC"
        },
        {
         "color": "#15AFAC",
         "id": "group#China",
         "label": "China",
         "position": [
          0,
          0
         ],
         "properties": {
          "label": "China"
         },
         "scale_factor": 1,
         "size": [
          55,
          55
         ],
         "styles": {},
         "type": "#15AFAC"
        },
        {
         "color": "#15AFAC",
         "id": "group#Indonesia",
         "label": "Indonesia",
         "position": [
          0,
          0
         ],
         "properties": {
          "label": "Indonesia"
         },
         "scale_factor": 1,
         "size": [
          55,
          55
         ],
         "styles": {},
         "type": "#15AFAC"
        },
        {
         "color": "#15AFAC",
         "id": "group#Iran",
         "label": "Iran",
         "position": [
          0,
          0
         ],
         "properties": {
          "label": "Iran"
         },
         "scale_factor": 1,
         "size": [
          55,
          55
         ],
         "styles": {},
         "type": "#15AFAC"
        },
        {
         "color": "#15AFAC",
         "id": "group#Israel",
         "label": "Israel",
         "position": [
          0,
          0
         ],
         "properties": {
          "label": "Israel"
         },
         "scale_factor": 1,
         "size": [
          55,
          55
         ],
         "styles": {},
         "type": "#15AFAC"
        },
        {
         "color": "#15AFAC",
         "id": "group#Malaysia",
         "label": "Malaysia",
         "position": [
          0,
          0
         ],
         "properties": {
          "label": "Malaysia"
         },
         "scale_factor": 1,
         "size": [
          55,
          55
         ],
         "styles": {},
         "type": "#15AFAC"
        },
        {
         "color": "#15AFAC",
         "id": "group#Philippines",
         "label": "Philippines",
         "position": [
          0,
          0
         ],
         "properties": {
          "label": "Philippines"
         },
         "scale_factor": 1,
         "size": [
          55,
          55
         ],
         "styles": {},
         "type": "#15AFAC"
        },
        {
         "color": "#15AFAC",
         "id": "group#Singapore",
         "label": "Singapore",
         "position": [
          0,
          0
         ],
         "properties": {
          "label": "Singapore"
         },
         "scale_factor": 1,
         "size": [
          55,
          55
         ],
         "styles": {},
         "type": "#15AFAC"
        },
        {
         "color": "#15AFAC",
         "id": "group#Taiwan",
         "label": "Taiwan",
         "position": [
          0,
          0
         ],
         "properties": {
          "label": "Taiwan"
         },
         "scale_factor": 1,
         "size": [
          55,
          55
         ],
         "styles": {},
         "type": "#15AFAC"
        },
        {
         "color": "#15AFAC",
         "id": "group#Thailand",
         "label": "Thailand",
         "position": [
          0,
          0
         ],
         "properties": {
          "label": "Thailand"
         },
         "scale_factor": 1,
         "size": [
          55,
          55
         ],
         "styles": {},
         "type": "#15AFAC"
        },
        {
         "color": "#15AFAC",
         "id": "group#Turkey",
         "label": "Turkey",
         "position": [
          0,
          0
         ],
         "properties": {
          "label": "Turkey"
         },
         "scale_factor": 1,
         "size": [
          55,
          55
         ],
         "styles": {},
         "type": "#15AFAC"
        },
        {
         "color": "#15AFAC",
         "id": "group#Mongolia",
         "label": "Mongolia",
         "position": [
          0,
          0
         ],
         "properties": {
          "label": "Mongolia"
         },
         "scale_factor": 1,
         "size": [
          55,
          55
         ],
         "styles": {},
         "type": "#15AFAC"
        },
        {
         "color": "#15AFAC",
         "id": "group#Australia",
         "label": "Australia",
         "position": [
          0,
          0
         ],
         "properties": {
          "label": "Australia"
         },
         "scale_factor": 1,
         "size": [
          55,
          55
         ],
         "styles": {},
         "type": "#15AFAC"
        },
        {
         "color": "#15AFAC",
         "id": "group#Australia",
         "label": "Australia",
         "position": [
          0,
          0
         ],
         "properties": {
          "label": "Australia"
         },
         "scale_factor": 1,
         "size": [
          55,
          55
         ],
         "styles": {},
         "type": "#15AFAC"
        },
        {
         "color": "#15AFAC",
         "id": "group#Fiji",
         "label": "Fiji",
         "position": [
          0,
          0
         ],
         "properties": {
          "label": "Fiji"
         },
         "scale_factor": 1,
         "size": [
          55,
          55
         ],
         "styles": {},
         "type": "#15AFAC"
        },
        {
         "color": "#15AFAC",
         "id": "group#New Zealand",
         "label": "New Zealand",
         "position": [
          0,
          0
         ],
         "properties": {
          "label": "New Zealand"
         },
         "scale_factor": 1,
         "size": [
          55,
          55
         ],
         "styles": {},
         "type": "#15AFAC"
        },
        {
         "color": "#15AFAC",
         "id": "group#France",
         "label": "France",
         "position": [
          0,
          0
         ],
         "properties": {
          "label": "France"
         },
         "scale_factor": 1,
         "size": [
          55,
          55
         ],
         "styles": {},
         "type": "#15AFAC"
        },
        {
         "color": "#15AFAC",
         "id": "group#Spain",
         "label": "Spain",
         "position": [
          0,
          0
         ],
         "properties": {
          "label": "Spain"
         },
         "scale_factor": 1,
         "size": [
          55,
          55
         ],
         "styles": {},
         "type": "#15AFAC"
        },
        {
         "color": "#15AFAC",
         "id": "group#Spain",
         "label": "Spain",
         "position": [
          0,
          0
         ],
         "properties": {
          "label": "Spain"
         },
         "scale_factor": 1,
         "size": [
          55,
          55
         ],
         "styles": {},
         "type": "#15AFAC"
        },
        {
         "color": "#15AFAC",
         "id": "group#Italy",
         "label": "Italy",
         "position": [
          0,
          0
         ],
         "properties": {
          "label": "Italy"
         },
         "scale_factor": 1,
         "size": [
          55,
          55
         ],
         "styles": {},
         "type": "#15AFAC"
        },
        {
         "color": "#15AFAC",
         "id": "group#Denmark",
         "label": "Denmark",
         "position": [
          0,
          0
         ],
         "properties": {
          "label": "Denmark"
         },
         "scale_factor": 1,
         "size": [
          55,
          55
         ],
         "styles": {},
         "type": "#15AFAC"
        },
        {
         "color": "#15AFAC",
         "id": "group#Finland",
         "label": "Finland",
         "position": [
          0,
          0
         ],
         "properties": {
          "label": "Finland"
         },
         "scale_factor": 1,
         "size": [
          55,
          55
         ],
         "styles": {},
         "type": "#15AFAC"
        },
        {
         "color": "#15AFAC",
         "id": "group#Greece",
         "label": "Greece",
         "position": [
          0,
          0
         ],
         "properties": {
          "label": "Greece"
         },
         "scale_factor": 1,
         "size": [
          55,
          55
         ],
         "styles": {},
         "type": "#15AFAC"
        },
        {
         "color": "#15AFAC",
         "id": "group#Ireland",
         "label": "Ireland",
         "position": [
          0,
          0
         ],
         "properties": {
          "label": "Ireland"
         },
         "scale_factor": 1,
         "size": [
          55,
          55
         ],
         "styles": {},
         "type": "#15AFAC"
        },
        {
         "color": "#15AFAC",
         "id": "group#Iceland",
         "label": "Iceland",
         "position": [
          0,
          0
         ],
         "properties": {
          "label": "Iceland"
         },
         "scale_factor": 1,
         "size": [
          55,
          55
         ],
         "styles": {},
         "type": "#15AFAC"
        },
        {
         "color": "#15AFAC",
         "id": "group#Norway",
         "label": "Norway",
         "position": [
          0,
          0
         ],
         "properties": {
          "label": "Norway"
         },
         "scale_factor": 1,
         "size": [
          55,
          55
         ],
         "styles": {},
         "type": "#15AFAC"
        },
        {
         "color": "#15AFAC",
         "id": "group#Austria",
         "label": "Austria",
         "position": [
          0,
          0
         ],
         "properties": {
          "label": "Austria"
         },
         "scale_factor": 1,
         "size": [
          55,
          55
         ],
         "styles": {},
         "type": "#15AFAC"
        },
        {
         "color": "#15AFAC",
         "id": "group#Portugal",
         "label": "Portugal",
         "position": [
          0,
          0
         ],
         "properties": {
          "label": "Portugal"
         },
         "scale_factor": 1,
         "size": [
          55,
          55
         ],
         "styles": {},
         "type": "#15AFAC"
        },
        {
         "color": "#15AFAC",
         "id": "group#Sweden",
         "label": "Sweden",
         "position": [
          0,
          0
         ],
         "properties": {
          "label": "Sweden"
         },
         "scale_factor": 1,
         "size": [
          55,
          55
         ],
         "styles": {},
         "type": "#15AFAC"
        },
        {
         "color": "#15AFAC",
         "id": "group#UK",
         "label": "UK",
         "position": [
          0,
          0
         ],
         "properties": {
          "label": "UK"
         },
         "scale_factor": 1,
         "size": [
          55,
          55
         ],
         "styles": {},
         "type": "#15AFAC"
        },
        {
         "color": "#15AFAC",
         "id": "group#USA",
         "label": "USA",
         "position": [
          0,
          0
         ],
         "properties": {
          "label": "USA"
         },
         "scale_factor": 1,
         "size": [
          55,
          55
         ],
         "styles": {},
         "type": "#15AFAC"
        },
        {
         "color": "#15AFAC",
         "id": "group#USA",
         "label": "USA",
         "position": [
          0,
          0
         ],
         "properties": {
          "label": "USA"
         },
         "scale_factor": 1,
         "size": [
          55,
          55
         ],
         "styles": {},
         "type": "#15AFAC"
        },
        {
         "color": "#15AFAC",
         "id": "group#USA",
         "label": "USA",
         "position": [
          0,
          0
         ],
         "properties": {
          "label": "USA"
         },
         "scale_factor": 1,
         "size": [
          55,
          55
         ],
         "styles": {},
         "type": "#15AFAC"
        },
        {
         "color": "#15AFAC",
         "id": "group#USA",
         "label": "USA",
         "position": [
          0,
          0
         ],
         "properties": {
          "label": "USA"
         },
         "scale_factor": 1,
         "size": [
          55,
          55
         ],
         "styles": {},
         "type": "#15AFAC"
        },
        {
         "color": "#15AFAC",
         "id": "group#USA",
         "label": "USA",
         "position": [
          0,
          0
         ],
         "properties": {
          "label": "USA"
         },
         "scale_factor": 1,
         "size": [
          55,
          55
         ],
         "styles": {},
         "type": "#15AFAC"
        },
        {
         "color": "#15AFAC",
         "id": "group#Canada",
         "label": "Canada",
         "position": [
          0,
          0
         ],
         "properties": {
          "label": "Canada"
         },
         "scale_factor": 1,
         "size": [
          55,
          55
         ],
         "styles": {},
         "type": "#15AFAC"
        },
        {
         "color": "#15AFAC",
         "id": "group#Canada",
         "label": "Canada",
         "position": [
          0,
          0
         ],
         "properties": {
          "label": "Canada"
         },
         "scale_factor": 1,
         "size": [
          55,
          55
         ],
         "styles": {},
         "type": "#15AFAC"
        },
        {
         "color": "#15AFAC",
         "id": "group#Canada",
         "label": "Canada",
         "position": [
          0,
          0
         ],
         "properties": {
          "label": "Canada"
         },
         "scale_factor": 1,
         "size": [
          55,
          55
         ],
         "styles": {},
         "type": "#15AFAC"
        },
        {
         "color": "#15AFAC",
         "id": "group#Mexico",
         "label": "Mexico",
         "position": [
          0,
          0
         ],
         "properties": {
          "label": "Mexico"
         },
         "scale_factor": 1,
         "size": [
          55,
          55
         ],
         "styles": {},
         "type": "#15AFAC"
        },
        {
         "color": "#15AFAC",
         "id": "group#Guatemala",
         "label": "Guatemala",
         "position": [
          0,
          0
         ],
         "properties": {
          "label": "Guatemala"
         },
         "scale_factor": 1,
         "size": [
          55,
          55
         ],
         "styles": {},
         "type": "#15AFAC"
        },
        {
         "color": "#15AFAC",
         "id": "group#Argentina",
         "label": "Argentina",
         "position": [
          0,
          0
         ],
         "properties": {
          "label": "Argentina"
         },
         "scale_factor": 1,
         "size": [
          55,
          55
         ],
         "styles": {},
         "type": "#15AFAC"
        },
        {
         "color": "#15AFAC",
         "id": "group#Brazil",
         "label": "Brazil",
         "position": [
          0,
          0
         ],
         "properties": {
          "label": "Brazil"
         },
         "scale_factor": 1,
         "size": [
          55,
          55
         ],
         "styles": {},
         "type": "#15AFAC"
        },
        {
         "color": "#15AFAC",
         "id": "group#Chile",
         "label": "Chile",
         "position": [
          0,
          0
         ],
         "properties": {
          "label": "Chile"
         },
         "scale_factor": 1,
         "size": [
          55,
          55
         ],
         "styles": {},
         "type": "#15AFAC"
        },
        {
         "color": "#15AFAC",
         "id": "group#Brazil",
         "label": "Brazil",
         "position": [
          0,
          0
         ],
         "properties": {
          "label": "Brazil"
         },
         "scale_factor": 1,
         "size": [
          55,
          55
         ],
         "styles": {},
         "type": "#15AFAC"
        },
        {
         "color": "#15AFAC",
         "id": "group#Colombia",
         "label": "Colombia",
         "position": [
          0,
          0
         ],
         "properties": {
          "label": "Colombia"
         },
         "scale_factor": 1,
         "size": [
          55,
          55
         ],
         "styles": {},
         "type": "#15AFAC"
        },
        {
         "color": "#15AFAC",
         "id": "group#Venezuela",
         "label": "Venezuela",
         "position": [
          0,
          0
         ],
         "properties": {
          "label": "Venezuela"
         },
         "scale_factor": 1,
         "size": [
          55,
          55
         ],
         "styles": {},
         "type": "#15AFAC"
        }
       ],
       "_overview": {
        "enabled": null,
        "overview_set": false
       },
       "_selected_graph": [
        [],
        []
       ],
       "_sidebar": {
        "enabled": false,
        "start_with": null
       },
       "_view_module_version": "^1.7.3",
       "layout": "IPY_MODEL_dc1b9827b77e447eaff6661160ac997f"
      }
     },
     "6ed759c89a7f46359e21c955e6212111": {
      "model_module": "yfiles-jupyter-graphs",
      "model_module_version": "^1.7.3",
      "model_name": "GraphModel",
      "state": {
       "_context_pane_mapping": [
        {
         "id": "Neighborhood",
         "title": "Neighborhood"
        },
        {
         "id": "Data",
         "title": "Data"
        },
        {
         "id": "Search",
         "title": "Search"
        },
        {
         "id": "About",
         "title": "About"
        }
       ],
       "_directed": false,
       "_edges": [
        {
         "color": "#15AFAC",
         "directed": false,
         "end": "JFK",
         "label": "",
         "properties": {},
         "start": "LAX",
         "thickness_factor": 1
        },
        {
         "color": "#15AFAC",
         "directed": false,
         "end": "GIG",
         "label": "",
         "properties": {},
         "start": "JFK",
         "thickness_factor": 1
        },
        {
         "color": "#15AFAC",
         "directed": false,
         "end": "LIM",
         "label": "",
         "properties": {},
         "start": "JFK",
         "thickness_factor": 1
        },
        {
         "color": "#15AFAC",
         "directed": false,
         "end": "LHR",
         "label": "",
         "properties": {},
         "start": "JFK",
         "thickness_factor": 1
        },
        {
         "color": "#15AFAC",
         "directed": false,
         "end": "FRA",
         "label": "",
         "properties": {},
         "start": "GIG",
         "thickness_factor": 1
        },
        {
         "color": "#15AFAC",
         "directed": false,
         "end": "GIG",
         "label": "",
         "properties": {},
         "start": "LIM",
         "thickness_factor": 1
        },
        {
         "color": "#15AFAC",
         "directed": false,
         "end": "JFK",
         "label": "",
         "properties": {},
         "start": "FRA",
         "thickness_factor": 1
        },
        {
         "color": "#15AFAC",
         "directed": false,
         "end": "FRA",
         "label": "",
         "properties": {},
         "start": "LHR",
         "thickness_factor": 1
        },
        {
         "color": "#15AFAC",
         "directed": false,
         "end": "SVO",
         "label": "",
         "properties": {},
         "start": "FRA",
         "thickness_factor": 1
        },
        {
         "color": "#15AFAC",
         "directed": false,
         "end": "DXB",
         "label": "",
         "properties": {},
         "start": "FRA",
         "thickness_factor": 1
        },
        {
         "color": "#15AFAC",
         "directed": false,
         "end": "DEL",
         "label": "",
         "properties": {},
         "start": "SVO",
         "thickness_factor": 1
        },
        {
         "color": "#15AFAC",
         "directed": false,
         "end": "PVG",
         "label": "",
         "properties": {},
         "start": "SVO",
         "thickness_factor": 1
        },
        {
         "color": "#15AFAC",
         "directed": false,
         "end": "HKG",
         "label": "",
         "properties": {},
         "start": "DEL",
         "thickness_factor": 1
        },
        {
         "color": "#15AFAC",
         "directed": false,
         "end": "HKG",
         "label": "",
         "properties": {},
         "start": "PVG",
         "thickness_factor": 1
        },
        {
         "color": "#15AFAC",
         "directed": false,
         "end": "NRT",
         "label": "",
         "properties": {},
         "start": "PVG",
         "thickness_factor": 1
        },
        {
         "color": "#15AFAC",
         "directed": false,
         "end": "SYD",
         "label": "",
         "properties": {},
         "start": "HKG",
         "thickness_factor": 1
        },
        {
         "color": "#15AFAC",
         "directed": false,
         "end": "SYD",
         "label": "",
         "properties": {},
         "start": "NRT",
         "thickness_factor": 1
        },
        {
         "color": "#15AFAC",
         "directed": false,
         "end": "SVO",
         "label": "",
         "properties": {},
         "start": "DXB",
         "thickness_factor": 1
        },
        {
         "color": "#15AFAC",
         "directed": false,
         "end": "DEL",
         "label": "",
         "properties": {},
         "start": "DXB",
         "thickness_factor": 1
        },
        {
         "color": "#15AFAC",
         "directed": false,
         "end": "DKR",
         "label": "",
         "properties": {},
         "start": "DXB",
         "thickness_factor": 1
        },
        {
         "color": "#15AFAC",
         "directed": false,
         "end": "JNB",
         "label": "",
         "properties": {},
         "start": "DXB",
         "thickness_factor": 1
        },
        {
         "color": "#15AFAC",
         "directed": false,
         "end": "LHR",
         "label": "",
         "properties": {},
         "start": "JNB",
         "thickness_factor": 1
        },
        {
         "color": "#15AFAC",
         "directed": false,
         "end": "DKR",
         "label": "",
         "properties": {},
         "start": "JNB",
         "thickness_factor": 1
        },
        {
         "color": "#15AFAC",
         "directed": false,
         "end": "DXB",
         "label": "",
         "properties": {},
         "start": "SYD",
         "thickness_factor": 1
        },
        {
         "color": "#15AFAC",
         "directed": false,
         "end": "JNB",
         "label": "",
         "properties": {},
         "start": "NBO",
         "thickness_factor": 1
        },
        {
         "color": "#15AFAC",
         "directed": false,
         "end": "DXB",
         "label": "",
         "properties": {},
         "start": "NBO",
         "thickness_factor": 1
        },
        {
         "color": "#15AFAC",
         "directed": false,
         "end": "JFK",
         "label": "",
         "properties": {},
         "start": "ATL",
         "thickness_factor": 1
        },
        {
         "color": "#15AFAC",
         "directed": false,
         "end": "ATL",
         "label": "",
         "properties": {},
         "start": "LAX",
         "thickness_factor": 1
        },
        {
         "color": "#15AFAC",
         "directed": false,
         "end": "LHR",
         "label": "",
         "properties": {},
         "start": "ATL",
         "thickness_factor": 1
        },
        {
         "color": "#15AFAC",
         "directed": false,
         "end": "LIM",
         "label": "",
         "properties": {},
         "start": "ATL",
         "thickness_factor": 1
        },
        {
         "color": "#15AFAC",
         "directed": false,
         "end": "LIM",
         "label": "",
         "properties": {},
         "start": "SCL",
         "thickness_factor": 1
        },
        {
         "color": "#15AFAC",
         "directed": false,
         "end": "SCL",
         "label": "",
         "properties": {},
         "start": "EZE",
         "thickness_factor": 1
        },
        {
         "color": "#15AFAC",
         "directed": false,
         "end": "GRU",
         "label": "",
         "properties": {},
         "start": "SCL",
         "thickness_factor": 1
        },
        {
         "color": "#15AFAC",
         "directed": false,
         "end": "EZE",
         "label": "",
         "properties": {},
         "start": "GIG",
         "thickness_factor": 1
        },
        {
         "color": "#15AFAC",
         "directed": false,
         "end": "GRU",
         "label": "",
         "properties": {},
         "start": "GIG",
         "thickness_factor": 1
        },
        {
         "color": "#15AFAC",
         "directed": false,
         "end": "GIG",
         "label": "",
         "properties": {},
         "start": "BSB",
         "thickness_factor": 1
        },
        {
         "color": "#15AFAC",
         "directed": false,
         "end": "BSB",
         "label": "",
         "properties": {},
         "start": "SCL",
         "thickness_factor": 1
        },
        {
         "color": "#15AFAC",
         "directed": false,
         "end": "BSB",
         "label": "",
         "properties": {},
         "start": "LIM",
         "thickness_factor": 1
        },
        {
         "color": "#15AFAC",
         "directed": false,
         "end": "BSB",
         "label": "",
         "properties": {},
         "start": "BOG",
         "thickness_factor": 1
        },
        {
         "color": "#15AFAC",
         "directed": false,
         "end": "BSB",
         "label": "",
         "properties": {},
         "start": "CCS",
         "thickness_factor": 1
        },
        {
         "color": "#15AFAC",
         "directed": false,
         "end": "GUA",
         "label": "",
         "properties": {},
         "start": "BOG",
         "thickness_factor": 1
        },
        {
         "color": "#15AFAC",
         "directed": false,
         "end": "MIA",
         "label": "",
         "properties": {},
         "start": "CCS",
         "thickness_factor": 1
        },
        {
         "color": "#15AFAC",
         "directed": false,
         "end": "MIA",
         "label": "",
         "properties": {},
         "start": "GUA",
         "thickness_factor": 1
        },
        {
         "color": "#15AFAC",
         "directed": false,
         "end": "MEX",
         "label": "",
         "properties": {},
         "start": "GUA",
         "thickness_factor": 1
        },
        {
         "color": "#15AFAC",
         "directed": false,
         "end": "LAX",
         "label": "",
         "properties": {},
         "start": "MEX",
         "thickness_factor": 1
        },
        {
         "color": "#15AFAC",
         "directed": false,
         "end": "LAX",
         "label": "",
         "properties": {},
         "start": "MEX",
         "thickness_factor": 1
        },
        {
         "color": "#15AFAC",
         "directed": false,
         "end": "SFO",
         "label": "",
         "properties": {},
         "start": "LAX",
         "thickness_factor": 1
        },
        {
         "color": "#15AFAC",
         "directed": false,
         "end": "YVR",
         "label": "",
         "properties": {},
         "start": "SFO",
         "thickness_factor": 1
        },
        {
         "color": "#15AFAC",
         "directed": false,
         "end": "LAS",
         "label": "",
         "properties": {},
         "start": "LAX",
         "thickness_factor": 1
        },
        {
         "color": "#15AFAC",
         "directed": false,
         "end": "DFW",
         "label": "",
         "properties": {},
         "start": "LAX",
         "thickness_factor": 1
        },
        {
         "color": "#15AFAC",
         "directed": false,
         "end": "ORD",
         "label": "",
         "properties": {},
         "start": "LAX",
         "thickness_factor": 1
        },
        {
         "color": "#15AFAC",
         "directed": false,
         "end": "LAS",
         "label": "",
         "properties": {},
         "start": "SFO",
         "thickness_factor": 1
        },
        {
         "color": "#15AFAC",
         "directed": false,
         "end": "ATL",
         "label": "",
         "properties": {},
         "start": "DFW",
         "thickness_factor": 1
        },
        {
         "color": "#15AFAC",
         "directed": false,
         "end": "YYZ",
         "label": "",
         "properties": {},
         "start": "ATL",
         "thickness_factor": 1
        },
        {
         "color": "#15AFAC",
         "directed": false,
         "end": "YYZ",
         "label": "",
         "properties": {},
         "start": "ORD",
         "thickness_factor": 1
        },
        {
         "color": "#15AFAC",
         "directed": false,
         "end": "YUL",
         "label": "",
         "properties": {},
         "start": "YYZ",
         "thickness_factor": 1
        },
        {
         "color": "#15AFAC",
         "directed": false,
         "end": "JFK",
         "label": "",
         "properties": {},
         "start": "YYZ",
         "thickness_factor": 1
        },
        {
         "color": "#15AFAC",
         "directed": false,
         "end": "JFK",
         "label": "",
         "properties": {},
         "start": "YUL",
         "thickness_factor": 1
        },
        {
         "color": "#15AFAC",
         "directed": false,
         "end": "CPT",
         "label": "",
         "properties": {},
         "start": "JNB",
         "thickness_factor": 1
        },
        {
         "color": "#15AFAC",
         "directed": false,
         "end": "DKR",
         "label": "",
         "properties": {},
         "start": "LOS",
         "thickness_factor": 1
        },
        {
         "color": "#15AFAC",
         "directed": false,
         "end": "LOS",
         "label": "",
         "properties": {},
         "start": "NBO",
         "thickness_factor": 1
        },
        {
         "color": "#15AFAC",
         "directed": false,
         "end": "CMN",
         "label": "",
         "properties": {},
         "start": "DKR",
         "thickness_factor": 1
        },
        {
         "color": "#15AFAC",
         "directed": false,
         "end": "CAI",
         "label": "",
         "properties": {},
         "start": "DKR",
         "thickness_factor": 1
        },
        {
         "color": "#15AFAC",
         "directed": false,
         "end": "CAI",
         "label": "",
         "properties": {},
         "start": "NBO",
         "thickness_factor": 1
        },
        {
         "color": "#15AFAC",
         "directed": false,
         "end": "CAI",
         "label": "",
         "properties": {},
         "start": "DXB",
         "thickness_factor": 1
        },
        {
         "color": "#15AFAC",
         "directed": false,
         "end": "DXB",
         "label": "",
         "properties": {},
         "start": "IKA",
         "thickness_factor": 1
        },
        {
         "color": "#15AFAC",
         "directed": false,
         "end": "IKA",
         "label": "",
         "properties": {},
         "start": "IST",
         "thickness_factor": 1
        },
        {
         "color": "#15AFAC",
         "directed": false,
         "end": "ATH",
         "label": "",
         "properties": {},
         "start": "TLV",
         "thickness_factor": 1
        },
        {
         "color": "#15AFAC",
         "directed": false,
         "end": "TLV",
         "label": "",
         "properties": {},
         "start": "CAI",
         "thickness_factor": 1
        },
        {
         "color": "#15AFAC",
         "directed": false,
         "end": "IST",
         "label": "",
         "properties": {},
         "start": "ATH",
         "thickness_factor": 1
        },
        {
         "color": "#15AFAC",
         "directed": false,
         "end": "ATH",
         "label": "",
         "properties": {},
         "start": "FCO",
         "thickness_factor": 1
        },
        {
         "color": "#15AFAC",
         "directed": false,
         "end": "LHR",
         "label": "",
         "properties": {},
         "start": "LIS",
         "thickness_factor": 1
        },
        {
         "color": "#15AFAC",
         "directed": false,
         "end": "MAD",
         "label": "",
         "properties": {},
         "start": "LIS",
         "thickness_factor": 1
        },
        {
         "color": "#15AFAC",
         "directed": false,
         "end": "BCN",
         "label": "",
         "properties": {},
         "start": "MAD",
         "thickness_factor": 1
        },
        {
         "color": "#15AFAC",
         "directed": false,
         "end": "LHR",
         "label": "",
         "properties": {},
         "start": "CDG",
         "thickness_factor": 1
        },
        {
         "color": "#15AFAC",
         "directed": false,
         "end": "LHR",
         "label": "",
         "properties": {},
         "start": "DUB",
         "thickness_factor": 1
        },
        {
         "color": "#15AFAC",
         "directed": false,
         "end": "LHR",
         "label": "",
         "properties": {},
         "start": "EDI",
         "thickness_factor": 1
        },
        {
         "color": "#15AFAC",
         "directed": false,
         "end": "BCN",
         "label": "",
         "properties": {},
         "start": "CDG",
         "thickness_factor": 1
        },
        {
         "color": "#15AFAC",
         "directed": false,
         "end": "FCO",
         "label": "",
         "properties": {},
         "start": "BCN",
         "thickness_factor": 1
        },
        {
         "color": "#15AFAC",
         "directed": false,
         "end": "IST",
         "label": "",
         "properties": {},
         "start": "VIE",
         "thickness_factor": 1
        },
        {
         "color": "#15AFAC",
         "directed": false,
         "end": "SVO",
         "label": "",
         "properties": {},
         "start": "VIE",
         "thickness_factor": 1
        },
        {
         "color": "#15AFAC",
         "directed": false,
         "end": "LIS",
         "label": "",
         "properties": {},
         "start": "CMN",
         "thickness_factor": 1
        },
        {
         "color": "#15AFAC",
         "directed": false,
         "end": "CMN",
         "label": "",
         "properties": {},
         "start": "MAD",
         "thickness_factor": 1
        },
        {
         "color": "#15AFAC",
         "directed": false,
         "end": "CPH",
         "label": "",
         "properties": {},
         "start": "FRA",
         "thickness_factor": 1
        },
        {
         "color": "#15AFAC",
         "directed": false,
         "end": "CPH",
         "label": "",
         "properties": {},
         "start": "LHR",
         "thickness_factor": 1
        },
        {
         "color": "#15AFAC",
         "directed": false,
         "end": "OSL",
         "label": "",
         "properties": {},
         "start": "CPH",
         "thickness_factor": 1
        },
        {
         "color": "#15AFAC",
         "directed": false,
         "end": "ARN",
         "label": "",
         "properties": {},
         "start": "CPH",
         "thickness_factor": 1
        },
        {
         "color": "#15AFAC",
         "directed": false,
         "end": "HEL",
         "label": "",
         "properties": {},
         "start": "ARN",
         "thickness_factor": 1
        },
        {
         "color": "#15AFAC",
         "directed": false,
         "end": "SVO",
         "label": "",
         "properties": {},
         "start": "HEL",
         "thickness_factor": 1
        },
        {
         "color": "#15AFAC",
         "directed": false,
         "end": "PVG",
         "label": "",
         "properties": {},
         "start": "ULN",
         "thickness_factor": 1
        },
        {
         "color": "#15AFAC",
         "directed": false,
         "end": "PVG",
         "label": "",
         "properties": {},
         "start": "CTU",
         "thickness_factor": 1
        },
        {
         "color": "#15AFAC",
         "directed": false,
         "end": "TPE",
         "label": "",
         "properties": {},
         "start": "PVG",
         "thickness_factor": 1
        },
        {
         "color": "#15AFAC",
         "directed": false,
         "end": "HKG",
         "label": "",
         "properties": {},
         "start": "CTU",
         "thickness_factor": 1
        },
        {
         "color": "#15AFAC",
         "directed": false,
         "end": "HKG",
         "label": "",
         "properties": {},
         "start": "TPE",
         "thickness_factor": 1
        },
        {
         "color": "#15AFAC",
         "directed": false,
         "end": "MNL",
         "label": "",
         "properties": {},
         "start": "HKG",
         "thickness_factor": 1
        },
        {
         "color": "#15AFAC",
         "directed": false,
         "end": "HKG",
         "label": "",
         "properties": {},
         "start": "BKK",
         "thickness_factor": 1
        },
        {
         "color": "#15AFAC",
         "directed": false,
         "end": "KUL",
         "label": "",
         "properties": {},
         "start": "SIN",
         "thickness_factor": 1
        },
        {
         "color": "#15AFAC",
         "directed": false,
         "end": "BKK",
         "label": "",
         "properties": {},
         "start": "SIN",
         "thickness_factor": 1
        },
        {
         "color": "#15AFAC",
         "directed": false,
         "end": "SIN",
         "label": "",
         "properties": {},
         "start": "CGK",
         "thickness_factor": 1
        },
        {
         "color": "#15AFAC",
         "directed": false,
         "end": "SIN",
         "label": "",
         "properties": {},
         "start": "MNL",
         "thickness_factor": 1
        },
        {
         "color": "#15AFAC",
         "directed": false,
         "end": "SYD",
         "label": "",
         "properties": {},
         "start": "SIN",
         "thickness_factor": 1
        },
        {
         "color": "#15AFAC",
         "directed": false,
         "end": "SYD",
         "label": "",
         "properties": {},
         "start": "BNE",
         "thickness_factor": 1
        },
        {
         "color": "#15AFAC",
         "directed": false,
         "end": "MEL",
         "label": "",
         "properties": {},
         "start": "SYD",
         "thickness_factor": 1
        },
        {
         "color": "#15AFAC",
         "directed": false,
         "end": "SYD",
         "label": "",
         "properties": {},
         "start": "NAN",
         "thickness_factor": 1
        },
        {
         "color": "#15AFAC",
         "directed": false,
         "end": "SYD",
         "label": "",
         "properties": {},
         "start": "AKL",
         "thickness_factor": 1
        },
        {
         "color": "#15AFAC",
         "directed": false,
         "end": "AKL",
         "label": "",
         "properties": {},
         "start": "NAN",
         "thickness_factor": 1
        },
        {
         "color": "#15AFAC",
         "directed": false,
         "end": "LHR",
         "label": "",
         "properties": {},
         "start": "RKV",
         "thickness_factor": 1
        },
        {
         "color": "#15AFAC",
         "directed": false,
         "end": "CDG",
         "label": "",
         "properties": {},
         "start": "BCN",
         "thickness_factor": 1
        },
        {
         "color": "#15AFAC",
         "directed": false,
         "end": "FRA",
         "label": "",
         "properties": {},
         "start": "BCN",
         "thickness_factor": 1
        },
        {
         "color": "#15AFAC",
         "directed": false,
         "end": "FRA",
         "label": "",
         "properties": {},
         "start": "FCO",
         "thickness_factor": 1
        },
        {
         "color": "#15AFAC",
         "directed": false,
         "end": "MEX",
         "label": "",
         "properties": {},
         "start": "BOG",
         "thickness_factor": 1
        },
        {
         "color": "#15AFAC",
         "directed": false,
         "end": "GRU",
         "label": "",
         "properties": {},
         "start": "BOG",
         "thickness_factor": 1
        },
        {
         "color": "#15AFAC",
         "directed": false,
         "end": "MIA",
         "label": "",
         "properties": {},
         "start": "ATL",
         "thickness_factor": 1
        },
        {
         "color": "#15AFAC",
         "directed": false,
         "end": "IST",
         "label": "",
         "properties": {},
         "start": "FRA",
         "thickness_factor": 1
        },
        {
         "color": "#15AFAC",
         "directed": false,
         "end": "DEL",
         "label": "",
         "properties": {},
         "start": "IST",
         "thickness_factor": 1
        },
        {
         "color": "#15AFAC",
         "directed": false,
         "end": "BKK",
         "label": "",
         "properties": {},
         "start": "PVG",
         "thickness_factor": 1
        },
        {
         "color": "#15AFAC",
         "directed": false,
         "end": "BKK",
         "label": "",
         "properties": {},
         "start": "DEL",
         "thickness_factor": 1
        }
       ],
       "_model_module_version": "^1.7.3",
       "_nodes": [
        {
         "color": "#15AFAC",
         "coordinates": [
          33.942536,
          -118.408075
         ],
         "id": "LAX",
         "label": "Los Angeles",
         "parentId": "group#USA",
         "position": [
          0,
          0
         ],
         "properties": {
          "country": "USA",
          "label": "Los Angeles",
          "passengers": 65000000
         },
         "scale_factor": 1,
         "size": [
          55,
          55
         ],
         "styles": {},
         "type": "#15AFAC"
        },
        {
         "color": "#15AFAC",
         "coordinates": [
          -22.808903,
          -43.243647
         ],
         "id": "GIG",
         "label": "Rio de Janeiro",
         "parentId": "group#Brazil",
         "position": [
          0,
          0
         ],
         "properties": {
          "country": "Brazil",
          "label": "Rio de Janeiro",
          "passengers": 5000000
         },
         "scale_factor": 1,
         "size": [
          55,
          55
         ],
         "styles": {},
         "type": "#15AFAC"
        },
        {
         "color": "#15AFAC",
         "coordinates": [
          -12.021889,
          -77.114319
         ],
         "id": "LIM",
         "label": "Lima",
         "parentId": "group#Peru",
         "position": [
          0,
          0
         ],
         "properties": {
          "country": "Peru",
          "label": "Lima",
          "passengers": 18000000
         },
         "scale_factor": 1,
         "size": [
          55,
          55
         ],
         "styles": {},
         "type": "#15AFAC"
        },
        {
         "color": "#15AFAC",
         "coordinates": [
          51.4775,
          -0.461389
         ],
         "id": "LHR",
         "label": "London",
         "parentId": "group#UK",
         "position": [
          0,
          0
         ],
         "properties": {
          "country": "UK",
          "label": "London",
          "passengers": 61000000
         },
         "scale_factor": 1,
         "size": [
          55,
          55
         ],
         "styles": {},
         "type": "#15AFAC"
        },
        {
         "color": "#15AFAC",
         "coordinates": [
          50.033333,
          8.570556
         ],
         "id": "FRA",
         "label": "Frankfurt",
         "parentId": "group#Germany",
         "position": [
          0,
          0
         ],
         "properties": {
          "country": "Germany",
          "label": "Frankfurt",
          "passengers": 48000000
         },
         "scale_factor": 1,
         "size": [
          55,
          55
         ],
         "styles": {},
         "type": "#15AFAC"
        },
        {
         "color": "#15AFAC",
         "coordinates": [
          55.972642,
          37.414589
         ],
         "id": "SVO",
         "label": "Moscow",
         "parentId": "group#Russia",
         "position": [
          0,
          0
         ],
         "properties": {
          "country": "Russia",
          "label": "Moscow",
          "passengers": 49000000
         },
         "scale_factor": 1,
         "size": [
          55,
          55
         ],
         "styles": {},
         "type": "#15AFAC"
        },
        {
         "color": "#15AFAC",
         "coordinates": [
          28.5665,
          77.103089
         ],
         "id": "DEL",
         "label": "New Delhi",
         "parentId": "group#India",
         "position": [
          0,
          0
         ],
         "properties": {
          "country": "India",
          "label": "New Delhi",
          "passengers": 39000000
         },
         "scale_factor": 1,
         "size": [
          55,
          55
         ],
         "styles": {},
         "type": "#15AFAC"
        },
        {
         "color": "#15AFAC",
         "coordinates": [
          31.143378,
          121.805214
         ],
         "id": "PVG",
         "label": "Shanghai",
         "parentId": "group#China",
         "position": [
          0,
          0
         ],
         "properties": {
          "country": "China",
          "label": "Shanghai",
          "passengers": 32000000
         },
         "scale_factor": 1,
         "size": [
          55,
          55
         ],
         "styles": {},
         "type": "#15AFAC"
        },
        {
         "color": "#15AFAC",
         "coordinates": [
          22.308919,
          113.914603
         ],
         "id": "HKG",
         "label": "Hongkong",
         "parentId": "group#China",
         "position": [
          0,
          0
         ],
         "properties": {
          "country": "China",
          "label": "Hongkong",
          "passengers": 1000000
         },
         "scale_factor": 1,
         "size": [
          55,
          55
         ],
         "styles": {},
         "type": "#15AFAC"
        },
        {
         "color": "#15AFAC",
         "coordinates": [
          35.764722,
          140.386389
         ],
         "id": "NRT",
         "label": "Tokio",
         "parentId": "group#Japan",
         "position": [
          0,
          0
         ],
         "properties": {
          "country": "Japan",
          "label": "Tokio",
          "passengers": 15000000
         },
         "scale_factor": 1,
         "size": [
          55,
          55
         ],
         "styles": {},
         "type": "#15AFAC"
        },
        {
         "color": "#15AFAC",
         "coordinates": [
          25.252778,
          55.364444
         ],
         "id": "DXB",
         "label": "Dubai",
         "parentId": "group#UAE",
         "position": [
          0,
          0
         ],
         "properties": {
          "country": "UAE",
          "label": "Dubai",
          "passengers": 29000000
         },
         "scale_factor": 1,
         "size": [
          55,
          55
         ],
         "styles": {},
         "type": "#15AFAC"
        },
        {
         "color": "#15AFAC",
         "coordinates": [
          14.670833,
          -17.072778
         ],
         "id": "DKR",
         "label": "Dakar",
         "parentId": "group#Senegal",
         "position": [
          0,
          0
         ],
         "properties": {
          "country": "Senegal",
          "label": "Dakar",
          "passengers": 2000000
         },
         "scale_factor": 1,
         "size": [
          55,
          55
         ],
         "styles": {},
         "type": "#15AFAC"
        },
        {
         "color": "#15AFAC",
         "coordinates": [
          -26.133694,
          28.242317
         ],
         "id": "JNB",
         "label": "Johannesburg",
         "parentId": "group#South Africa",
         "position": [
          0,
          0
         ],
         "properties": {
          "country": "South Africa",
          "label": "Johannesburg",
          "passengers": 9000000
         },
         "scale_factor": 1,
         "size": [
          55,
          55
         ],
         "styles": {},
         "type": "#15AFAC"
        },
        {
         "color": "#15AFAC",
         "coordinates": [
          -33.946111,
          151.177222
         ],
         "id": "SYD",
         "label": "Sydney",
         "parentId": "group#Australia",
         "position": [
          0,
          0
         ],
         "properties": {
          "country": "Australia",
          "label": "Sydney",
          "passengers": 44000000
         },
         "scale_factor": 1,
         "size": [
          55,
          55
         ],
         "styles": {},
         "type": "#15AFAC"
        },
        {
         "color": "#15AFAC",
         "coordinates": [
          -1.319167,
          36.927778
         ],
         "id": "NBO",
         "label": "Nairobi",
         "parentId": "group#Kenya",
         "position": [
          0,
          0
         ],
         "properties": {
          "country": "Kenya",
          "label": "Nairobi",
          "passengers": 900000
         },
         "scale_factor": 1,
         "size": [
          55,
          55
         ],
         "styles": {},
         "type": "#15AFAC"
        },
        {
         "color": "#15AFAC",
         "coordinates": [
          33.639167,
          -84.427778
         ],
         "id": "ATL",
         "label": "Atlanta",
         "parentId": "group#USA",
         "position": [
          0,
          0
         ],
         "properties": {
          "country": "USA",
          "label": "Atlanta",
          "passengers": 93000000
         },
         "scale_factor": 1,
         "size": [
          55,
          55
         ],
         "styles": {},
         "type": "#15AFAC"
        },
        {
         "color": "#15AFAC",
         "coordinates": [
          40.63975,
          -73.778925
         ],
         "id": "JFK",
         "label": "New York City",
         "parentId": "group#USA",
         "position": [
          0,
          0
         ],
         "properties": {
          "country": "USA",
          "label": "New York City",
          "passengers": 55000000
         },
         "scale_factor": 1,
         "size": [
          55,
          55
         ],
         "styles": {},
         "type": "#15AFAC"
        },
        {
         "color": "#15AFAC",
         "coordinates": [
          30.121944,
          31.405556
         ],
         "id": "CAI",
         "label": "Cairo",
         "parentId": "group#Egypt",
         "position": [
          0,
          0
         ],
         "properties": {
          "country": "Egypt",
          "label": "Cairo",
          "passengers": 14000000
         },
         "scale_factor": 1,
         "size": [
          55,
          55
         ],
         "styles": {},
         "type": "#15AFAC"
        },
        {
         "color": "#15AFAC",
         "coordinates": [
          33.367467,
          -7.589967
         ],
         "id": "CMN",
         "label": "Casablanca",
         "parentId": "group#Morocco",
         "position": [
          0,
          0
         ],
         "properties": {
          "country": "Morocco",
          "label": "Casablanca",
          "passengers": 7000000
         },
         "scale_factor": 1,
         "size": [
          55,
          55
         ],
         "styles": {},
         "type": "#15AFAC"
        },
        {
         "color": "#15AFAC",
         "coordinates": [
          6.577222,
          3.321111
         ],
         "id": "LOS",
         "label": "Lagos",
         "parentId": "group#Nigeria",
         "position": [
          0,
          0
         ],
         "properties": {
          "country": "Nigeria",
          "label": "Lagos",
          "passengers": 5000000
         },
         "scale_factor": 1,
         "size": [
          55,
          55
         ],
         "styles": {},
         "type": "#15AFAC"
        },
        {
         "color": "#15AFAC",
         "coordinates": [
          -33.969444,
          18.597222
         ],
         "id": "CPT",
         "label": "Cape Town",
         "parentId": "group#South Africa",
         "position": [
          0,
          0
         ],
         "properties": {
          "country": "South Africa",
          "label": "Cape Town",
          "passengers": 5000000
         },
         "scale_factor": 1,
         "size": [
          55,
          55
         ],
         "styles": {},
         "type": "#15AFAC"
        },
        {
         "color": "#15AFAC",
         "coordinates": [
          30.578333,
          103.946944
         ],
         "id": "CTU",
         "label": "Chengdu",
         "parentId": "group#China",
         "position": [
          0,
          0
         ],
         "properties": {
          "country": "China",
          "label": "Chengdu",
          "passengers": 40000000
         },
         "scale_factor": 1,
         "size": [
          55,
          55
         ],
         "styles": {},
         "type": "#15AFAC"
        },
        {
         "color": "#15AFAC",
         "coordinates": [
          -6.125567,
          106.655897
         ],
         "id": "CGK",
         "label": "Jakarta",
         "parentId": "group#Indonesia",
         "position": [
          0,
          0
         ],
         "properties": {
          "country": "Indonesia",
          "label": "Jakarta",
          "passengers": 54000000
         },
         "scale_factor": 1,
         "size": [
          55,
          55
         ],
         "styles": {},
         "type": "#15AFAC"
        },
        {
         "color": "#15AFAC",
         "coordinates": [
          35.416111,
          51.152222
         ],
         "id": "IKA",
         "label": "Teheran",
         "parentId": "group#Iran",
         "position": [
          0,
          0
         ],
         "properties": {
          "country": "Iran",
          "label": "Teheran",
          "passengers": 8000000
         },
         "scale_factor": 1,
         "size": [
          55,
          55
         ],
         "styles": {},
         "type": "#15AFAC"
        },
        {
         "color": "#15AFAC",
         "coordinates": [
          32.011389,
          34.886667
         ],
         "id": "TLV",
         "label": "Tel Aviv",
         "parentId": "group#Israel",
         "position": [
          0,
          0
         ],
         "properties": {
          "country": "Israel",
          "label": "Tel Aviv",
          "passengers": 20000000
         },
         "scale_factor": 1,
         "size": [
          55,
          55
         ],
         "styles": {},
         "type": "#15AFAC"
        },
        {
         "color": "#15AFAC",
         "coordinates": [
          2.745578,
          101.709917
         ],
         "id": "KUL",
         "label": "Kuala Lumpur",
         "parentId": "group#Malaysia",
         "position": [
          0,
          0
         ],
         "properties": {
          "country": "Malaysia",
          "label": "Kuala Lumpur",
          "passengers": 25000000
         },
         "scale_factor": 1,
         "size": [
          55,
          55
         ],
         "styles": {},
         "type": "#15AFAC"
        },
        {
         "color": "#15AFAC",
         "coordinates": [
          14.508647,
          121.019581
         ],
         "id": "MNL",
         "label": "Manila",
         "parentId": "group#Philippines",
         "position": [
          0,
          0
         ],
         "properties": {
          "country": "Philippines",
          "label": "Manila",
          "passengers": 8000000
         },
         "scale_factor": 1,
         "size": [
          55,
          55
         ],
         "styles": {},
         "type": "#15AFAC"
        },
        {
         "color": "#15AFAC",
         "coordinates": [
          1.350189,
          103.994433
         ],
         "id": "SIN",
         "label": "Singapur",
         "parentId": "group#Singapore",
         "position": [
          0,
          0
         ],
         "properties": {
          "country": "Singapore",
          "label": "Singapur",
          "passengers": 32000000
         },
         "scale_factor": 1,
         "size": [
          55,
          55
         ],
         "styles": {},
         "type": "#15AFAC"
        },
        {
         "color": "#15AFAC",
         "coordinates": [
          25.077732,
          121.232822
         ],
         "id": "TPE",
         "label": "Taipeh",
         "parentId": "group#Taiwan",
         "position": [
          0,
          0
         ],
         "properties": {
          "country": "Taiwan",
          "label": "Taipeh",
          "passengers": 800000
         },
         "scale_factor": 1,
         "size": [
          55,
          55
         ],
         "styles": {},
         "type": "#15AFAC"
        },
        {
         "color": "#15AFAC",
         "coordinates": [
          13.681108,
          100.747283
         ],
         "id": "BKK",
         "label": "Bangkok",
         "parentId": "group#Thailand",
         "position": [
          0,
          0
         ],
         "properties": {
          "country": "Thailand",
          "label": "Bangkok",
          "passengers": 65000000
         },
         "scale_factor": 1,
         "size": [
          55,
          55
         ],
         "styles": {},
         "type": "#15AFAC"
        },
        {
         "color": "#15AFAC",
         "coordinates": [
          40.976922,
          28.814606
         ],
         "id": "IST",
         "label": "Istanbul",
         "parentId": "group#Turkey",
         "position": [
          0,
          0
         ],
         "properties": {
          "country": "Turkey",
          "label": "Istanbul",
          "passengers": 64000000
         },
         "scale_factor": 1,
         "size": [
          55,
          55
         ],
         "styles": {},
         "type": "#15AFAC"
        },
        {
         "color": "#15AFAC",
         "coordinates": [
          47.843056,
          106.766639
         ],
         "id": "ULN",
         "label": "Ulaanbaatar",
         "parentId": "group#Mongolia",
         "position": [
          0,
          0
         ],
         "properties": {
          "country": "Mongolia",
          "label": "Ulaanbaatar",
          "passengers": 1000000
         },
         "scale_factor": 1,
         "size": [
          55,
          55
         ],
         "styles": {},
         "type": "#15AFAC"
        },
        {
         "color": "#15AFAC",
         "coordinates": [
          -37.673333,
          144.843333
         ],
         "id": "MEL",
         "label": "Melbourne",
         "parentId": "group#Australia",
         "position": [
          0,
          0
         ],
         "properties": {
          "country": "Australia",
          "label": "Melbourne",
          "passengers": 12000000
         },
         "scale_factor": 1,
         "size": [
          55,
          55
         ],
         "styles": {},
         "type": "#15AFAC"
        },
        {
         "color": "#15AFAC",
         "coordinates": [
          -27.383333,
          153.118056
         ],
         "id": "BNE",
         "label": "Brisbane",
         "parentId": "group#Australia",
         "position": [
          0,
          0
         ],
         "properties": {
          "country": "Australia",
          "label": "Brisbane",
          "passengers": 23000000
         },
         "scale_factor": 1,
         "size": [
          55,
          55
         ],
         "styles": {},
         "type": "#15AFAC"
        },
        {
         "color": "#15AFAC",
         "coordinates": [
          -17.755392,
          177.443378
         ],
         "id": "NAN",
         "label": "Nadi",
         "parentId": "group#Fiji",
         "position": [
          0,
          0
         ],
         "properties": {
          "country": "Fiji",
          "label": "Nadi",
          "passengers": 2000000
         },
         "scale_factor": 1,
         "size": [
          55,
          55
         ],
         "styles": {},
         "type": "#15AFAC"
        },
        {
         "color": "#15AFAC",
         "coordinates": [
          -37.008056,
          174.791667
         ],
         "id": "AKL",
         "label": "Auckland",
         "parentId": "group#New Zealand",
         "position": [
          0,
          0
         ],
         "properties": {
          "country": "New Zealand",
          "label": "Auckland",
          "passengers": 21000000
         },
         "scale_factor": 1,
         "size": [
          55,
          55
         ],
         "styles": {},
         "type": "#15AFAC"
        },
        {
         "color": "#15AFAC",
         "coordinates": [
          49.009722,
          2.547778
         ],
         "id": "CDG",
         "label": "Paris",
         "parentId": "group#France",
         "position": [
          0,
          0
         ],
         "properties": {
          "country": "France",
          "label": "Paris",
          "passengers": 57000000
         },
         "scale_factor": 1,
         "size": [
          55,
          55
         ],
         "styles": {},
         "type": "#15AFAC"
        },
        {
         "color": "#15AFAC",
         "coordinates": [
          40.4675,
          -3.551944
         ],
         "id": "MAD",
         "label": "Madrid",
         "parentId": "group#Spain",
         "position": [
          0,
          0
         ],
         "properties": {
          "country": "Spain",
          "label": "Madrid",
          "passengers": 50000000
         },
         "scale_factor": 1,
         "size": [
          55,
          55
         ],
         "styles": {},
         "type": "#15AFAC"
        },
        {
         "color": "#15AFAC",
         "coordinates": [
          41.297078,
          2.078464
         ],
         "id": "BCN",
         "label": "Barcelona",
         "parentId": "group#Spain",
         "position": [
          0,
          0
         ],
         "properties": {
          "country": "Spain",
          "label": "Barcelona",
          "passengers": 41000000
         },
         "scale_factor": 1,
         "size": [
          55,
          55
         ],
         "styles": {},
         "type": "#15AFAC"
        },
        {
         "color": "#15AFAC",
         "coordinates": [
          41.804444,
          12.250833
         ],
         "id": "FCO",
         "label": "Rome",
         "parentId": "group#Italy",
         "position": [
          0,
          0
         ],
         "properties": {
          "country": "Italy",
          "label": "Rome",
          "passengers": 29000000
         },
         "scale_factor": 1,
         "size": [
          55,
          55
         ],
         "styles": {},
         "type": "#15AFAC"
        },
        {
         "color": "#15AFAC",
         "coordinates": [
          55.617917,
          12.655972
         ],
         "id": "CPH",
         "label": "Copenhagen",
         "parentId": "group#Denmark",
         "position": [
          0,
          0
         ],
         "properties": {
          "country": "Denmark",
          "label": "Copenhagen",
          "passengers": 30000000
         },
         "scale_factor": 1,
         "size": [
          55,
          55
         ],
         "styles": {},
         "type": "#15AFAC"
        },
        {
         "color": "#15AFAC",
         "coordinates": [
          60.317222,
          24.963333
         ],
         "id": "HEL",
         "label": "Helsinki",
         "parentId": "group#Finland",
         "position": [
          0,
          0
         ],
         "properties": {
          "country": "Finland",
          "label": "Helsinki",
          "passengers": 5000000
         },
         "scale_factor": 1,
         "size": [
          55,
          55
         ],
         "styles": {},
         "type": "#15AFAC"
        },
        {
         "color": "#15AFAC",
         "coordinates": [
          37.936358,
          23.944467
         ],
         "id": "ATH",
         "label": "Athens",
         "parentId": "group#Greece",
         "position": [
          0,
          0
         ],
         "properties": {
          "country": "Greece",
          "label": "Athens",
          "passengers": 22000000
         },
         "scale_factor": 1,
         "size": [
          55,
          55
         ],
         "styles": {},
         "type": "#15AFAC"
        },
        {
         "color": "#15AFAC",
         "coordinates": [
          53.421333,
          -6.270075
         ],
         "id": "DUB",
         "label": "Dublin",
         "parentId": "group#Ireland",
         "position": [
          0,
          0
         ],
         "properties": {
          "country": "Ireland",
          "label": "Dublin",
          "passengers": 32000000
         },
         "scale_factor": 1,
         "size": [
          55,
          55
         ],
         "styles": {},
         "type": "#15AFAC"
        },
        {
         "color": "#15AFAC",
         "coordinates": [
          64.13,
          -21.940556
         ],
         "id": "RKV",
         "label": "Reykjavik",
         "parentId": "group#Iceland",
         "position": [
          0,
          0
         ],
         "properties": {
          "country": "Iceland",
          "label": "Reykjavik",
          "passengers": 400000
         },
         "scale_factor": 1,
         "size": [
          55,
          55
         ],
         "styles": {},
         "type": "#15AFAC"
        },
        {
         "color": "#15AFAC",
         "coordinates": [
          60.193917,
          11.100361
         ],
         "id": "OSL",
         "label": "Oslo",
         "parentId": "group#Norway",
         "position": [
          0,
          0
         ],
         "properties": {
          "country": "Norway",
          "label": "Oslo",
          "passengers": 9000000
         },
         "scale_factor": 1,
         "size": [
          55,
          55
         ],
         "styles": {},
         "type": "#15AFAC"
        },
        {
         "color": "#15AFAC",
         "coordinates": [
          48.110833,
          16.570833
         ],
         "id": "VIE",
         "label": "Vienna",
         "parentId": "group#Austria",
         "position": [
          0,
          0
         ],
         "properties": {
          "country": "Austria",
          "label": "Vienna",
          "passengers": 10000000
         },
         "scale_factor": 1,
         "size": [
          55,
          55
         ],
         "styles": {},
         "type": "#15AFAC"
        },
        {
         "color": "#15AFAC",
         "coordinates": [
          38.774167,
          -9.134167
         ],
         "id": "LIS",
         "label": "Lisbon",
         "parentId": "group#Portugal",
         "position": [
          0,
          0
         ],
         "properties": {
          "country": "Portugal",
          "label": "Lisbon",
          "passengers": 28000000
         },
         "scale_factor": 1,
         "size": [
          55,
          55
         ],
         "styles": {},
         "type": "#15AFAC"
        },
        {
         "color": "#15AFAC",
         "coordinates": [
          59.651944,
          17.918611
         ],
         "id": "ARN",
         "label": "Stockholm",
         "parentId": "group#Sweden",
         "position": [
          0,
          0
         ],
         "properties": {
          "country": "Sweden",
          "label": "Stockholm",
          "passengers": 7000000
         },
         "scale_factor": 1,
         "size": [
          55,
          55
         ],
         "styles": {},
         "type": "#15AFAC"
        },
        {
         "color": "#15AFAC",
         "coordinates": [
          55.95,
          -3.3725
         ],
         "id": "EDI",
         "label": "Edinburgh",
         "parentId": "group#UK",
         "position": [
          0,
          0
         ],
         "properties": {
          "country": "UK",
          "label": "Edinburgh",
          "passengers": 14000000
         },
         "scale_factor": 1,
         "size": [
          55,
          55
         ],
         "styles": {},
         "type": "#15AFAC"
        },
        {
         "color": "#15AFAC",
         "coordinates": [
          41.978603,
          -87.904842
         ],
         "id": "ORD",
         "label": "Chicago",
         "parentId": "group#USA",
         "position": [
          0,
          0
         ],
         "properties": {
          "country": "USA",
          "label": "Chicago",
          "passengers": 54000000
         },
         "scale_factor": 1,
         "size": [
          55,
          55
         ],
         "styles": {},
         "type": "#15AFAC"
        },
        {
         "color": "#15AFAC",
         "coordinates": [
          32.896828,
          -97.037997
         ],
         "id": "DFW",
         "label": "Dallas",
         "parentId": "group#USA",
         "position": [
          0,
          0
         ],
         "properties": {
          "country": "USA",
          "label": "Dallas",
          "passengers": 73000000
         },
         "scale_factor": 1,
         "size": [
          55,
          55
         ],
         "styles": {},
         "type": "#15AFAC"
        },
        {
         "color": "#15AFAC",
         "coordinates": [
          37.618972,
          -122.374889
         ],
         "id": "SFO",
         "label": "San Francisco",
         "parentId": "group#USA",
         "position": [
          0,
          0
         ],
         "properties": {
          "country": "USA",
          "label": "San Francisco",
          "passengers": 42000000
         },
         "scale_factor": 1,
         "size": [
          55,
          55
         ],
         "styles": {},
         "type": "#15AFAC"
        },
        {
         "color": "#15AFAC",
         "coordinates": [
          36.080056,
          -115.15225
         ],
         "id": "LAS",
         "label": "Las Vegas",
         "parentId": "group#USA",
         "position": [
          0,
          0
         ],
         "properties": {
          "country": "USA",
          "label": "Las Vegas",
          "passengers": 52000000
         },
         "scale_factor": 1,
         "size": [
          55,
          55
         ],
         "styles": {},
         "type": "#15AFAC"
        },
        {
         "color": "#15AFAC",
         "coordinates": [
          25.79325,
          -80.290556
         ],
         "id": "MIA",
         "label": "Miami",
         "parentId": "group#USA",
         "position": [
          0,
          0
         ],
         "properties": {
          "country": "USA",
          "label": "Miami",
          "passengers": 50000000
         },
         "scale_factor": 1,
         "size": [
          55,
          55
         ],
         "styles": {},
         "type": "#15AFAC"
        },
        {
         "color": "#15AFAC",
         "coordinates": [
          43.677222,
          -79.630556
         ],
         "id": "YYZ",
         "label": "Toronto",
         "parentId": "group#Canada",
         "position": [
          0,
          0
         ],
         "properties": {
          "country": "Canada",
          "label": "Toronto",
          "passengers": 12000000
         },
         "scale_factor": 1,
         "size": [
          55,
          55
         ],
         "styles": {},
         "type": "#15AFAC"
        },
        {
         "color": "#15AFAC",
         "coordinates": [
          49.193889,
          -123.184444
         ],
         "id": "YVR",
         "label": "Vancouver",
         "parentId": "group#Canada",
         "position": [
          0,
          0
         ],
         "properties": {
          "country": "Canada",
          "label": "Vancouver",
          "passengers": 19000000
         },
         "scale_factor": 1,
         "size": [
          55,
          55
         ],
         "styles": {},
         "type": "#15AFAC"
        },
        {
         "color": "#15AFAC",
         "coordinates": [
          45.47175,
          -73.736569
         ],
         "id": "YUL",
         "label": "Montreal",
         "parentId": "group#Canada",
         "position": [
          0,
          0
         ],
         "properties": {
          "country": "Canada",
          "label": "Montreal",
          "passengers": 15000000
         },
         "scale_factor": 1,
         "size": [
          55,
          55
         ],
         "styles": {},
         "type": "#15AFAC"
        },
        {
         "color": "#15AFAC",
         "coordinates": [
          19.436303,
          -99.072097
         ],
         "id": "MEX",
         "label": "Mexico-City",
         "parentId": "group#Mexico",
         "position": [
          0,
          0
         ],
         "properties": {
          "country": "Mexico",
          "label": "Mexico-City",
          "passengers": 46000000
         },
         "scale_factor": 1,
         "size": [
          55,
          55
         ],
         "styles": {},
         "type": "#15AFAC"
        },
        {
         "color": "#15AFAC",
         "coordinates": [
          14.583272,
          -90.527475
         ],
         "id": "GUA",
         "label": "Guatemala-City",
         "parentId": "group#Guatemala",
         "position": [
          0,
          0
         ],
         "properties": {
          "country": "Guatemala",
          "label": "Guatemala-City",
          "passengers": 2000000
         },
         "scale_factor": 1,
         "size": [
          55,
          55
         ],
         "styles": {},
         "type": "#15AFAC"
        },
        {
         "color": "#15AFAC",
         "coordinates": [
          -34.822222,
          -58.535833
         ],
         "id": "EZE",
         "label": "Buenos Aires",
         "parentId": "group#Argentina",
         "position": [
          0,
          0
         ],
         "properties": {
          "country": "Argentina",
          "label": "Buenos Aires",
          "passengers": 5000000
         },
         "scale_factor": 1,
         "size": [
          55,
          55
         ],
         "styles": {},
         "type": "#15AFAC"
        },
        {
         "color": "#15AFAC",
         "coordinates": [
          -23.432075,
          -46.469511
         ],
         "id": "GRU",
         "label": "Sao Paulo",
         "parentId": "group#Brazil",
         "position": [
          0,
          0
         ],
         "properties": {
          "country": "Brazil",
          "label": "Sao Paulo",
          "passengers": 34000000
         },
         "scale_factor": 1,
         "size": [
          55,
          55
         ],
         "styles": {},
         "type": "#15AFAC"
        },
        {
         "color": "#15AFAC",
         "coordinates": [
          -33.392975,
          -70.785803
         ],
         "id": "SCL",
         "label": "Santiago de Chile",
         "parentId": "group#Chile",
         "position": [
          0,
          0
         ],
         "properties": {
          "country": "Chile",
          "label": "Santiago de Chile",
          "passengers": 20000000
         },
         "scale_factor": 1,
         "size": [
          55,
          55
         ],
         "styles": {},
         "type": "#15AFAC"
        },
        {
         "color": "#15AFAC",
         "coordinates": [
          -15.871111,
          -47.918611
         ],
         "id": "BSB",
         "label": "Brasilia",
         "parentId": "group#Brazil",
         "position": [
          0,
          0
         ],
         "properties": {
          "country": "Brazil",
          "label": "Brasilia",
          "passengers": 13000000
         },
         "scale_factor": 1,
         "size": [
          55,
          55
         ],
         "styles": {},
         "type": "#15AFAC"
        },
        {
         "color": "#15AFAC",
         "coordinates": [
          4.701594,
          -74.146947
         ],
         "id": "BOG",
         "label": "Bogota",
         "parentId": "group#Colombia",
         "position": [
          0,
          0
         ],
         "properties": {
          "country": "Colombia",
          "label": "Bogota",
          "passengers": 36000000
         },
         "scale_factor": 1,
         "size": [
          55,
          55
         ],
         "styles": {},
         "type": "#15AFAC"
        },
        {
         "color": "#15AFAC",
         "coordinates": [
          10.601194,
          -66.991222
         ],
         "id": "CCS",
         "label": "Caracas",
         "parentId": "group#Venezuela",
         "position": [
          0,
          0
         ],
         "properties": {
          "country": "Venezuela",
          "label": "Caracas",
          "passengers": 8000000
         },
         "scale_factor": 1,
         "size": [
          55,
          55
         ],
         "styles": {},
         "type": "#15AFAC"
        },
        {
         "color": "gray",
         "id": "group#USA",
         "label": "USA",
         "position": [
          0,
          0
         ],
         "properties": {
          "label": "USA"
         },
         "scale_factor": 1,
         "size": [
          55,
          55
         ],
         "styles": {},
         "type": "gray"
        },
        {
         "color": "gray",
         "id": "group#Brazil",
         "label": "Brazil",
         "position": [
          0,
          0
         ],
         "properties": {
          "label": "Brazil"
         },
         "scale_factor": 1,
         "size": [
          55,
          55
         ],
         "styles": {},
         "type": "gray"
        },
        {
         "color": "gray",
         "id": "group#Peru",
         "label": "Peru",
         "position": [
          0,
          0
         ],
         "properties": {
          "label": "Peru"
         },
         "scale_factor": 1,
         "size": [
          55,
          55
         ],
         "styles": {},
         "type": "gray"
        },
        {
         "color": "gray",
         "id": "group#UK",
         "label": "UK",
         "position": [
          0,
          0
         ],
         "properties": {
          "label": "UK"
         },
         "scale_factor": 1,
         "size": [
          55,
          55
         ],
         "styles": {},
         "type": "gray"
        },
        {
         "color": "gray",
         "id": "group#Germany",
         "label": "Germany",
         "position": [
          0,
          0
         ],
         "properties": {
          "label": "Germany"
         },
         "scale_factor": 1,
         "size": [
          55,
          55
         ],
         "styles": {},
         "type": "gray"
        },
        {
         "color": "gray",
         "id": "group#Russia",
         "label": "Russia",
         "position": [
          0,
          0
         ],
         "properties": {
          "label": "Russia"
         },
         "scale_factor": 1,
         "size": [
          55,
          55
         ],
         "styles": {},
         "type": "gray"
        },
        {
         "color": "gray",
         "id": "group#India",
         "label": "India",
         "position": [
          0,
          0
         ],
         "properties": {
          "label": "India"
         },
         "scale_factor": 1,
         "size": [
          55,
          55
         ],
         "styles": {},
         "type": "gray"
        },
        {
         "color": "gray",
         "id": "group#China",
         "label": "China",
         "position": [
          0,
          0
         ],
         "properties": {
          "label": "China"
         },
         "scale_factor": 1,
         "size": [
          55,
          55
         ],
         "styles": {},
         "type": "gray"
        },
        {
         "color": "gray",
         "id": "group#China",
         "label": "China",
         "position": [
          0,
          0
         ],
         "properties": {
          "label": "China"
         },
         "scale_factor": 1,
         "size": [
          55,
          55
         ],
         "styles": {},
         "type": "gray"
        },
        {
         "color": "gray",
         "id": "group#Japan",
         "label": "Japan",
         "position": [
          0,
          0
         ],
         "properties": {
          "label": "Japan"
         },
         "scale_factor": 1,
         "size": [
          55,
          55
         ],
         "styles": {},
         "type": "gray"
        },
        {
         "color": "gray",
         "id": "group#UAE",
         "label": "UAE",
         "position": [
          0,
          0
         ],
         "properties": {
          "label": "UAE"
         },
         "scale_factor": 1,
         "size": [
          55,
          55
         ],
         "styles": {},
         "type": "gray"
        },
        {
         "color": "gray",
         "id": "group#Senegal",
         "label": "Senegal",
         "position": [
          0,
          0
         ],
         "properties": {
          "label": "Senegal"
         },
         "scale_factor": 1,
         "size": [
          55,
          55
         ],
         "styles": {},
         "type": "gray"
        },
        {
         "color": "gray",
         "id": "group#South Africa",
         "label": "South Africa",
         "position": [
          0,
          0
         ],
         "properties": {
          "label": "South Africa"
         },
         "scale_factor": 1,
         "size": [
          55,
          55
         ],
         "styles": {},
         "type": "gray"
        },
        {
         "color": "gray",
         "id": "group#Australia",
         "label": "Australia",
         "position": [
          0,
          0
         ],
         "properties": {
          "label": "Australia"
         },
         "scale_factor": 1,
         "size": [
          55,
          55
         ],
         "styles": {},
         "type": "gray"
        },
        {
         "color": "gray",
         "id": "group#Kenya",
         "label": "Kenya",
         "position": [
          0,
          0
         ],
         "properties": {
          "label": "Kenya"
         },
         "scale_factor": 1,
         "size": [
          55,
          55
         ],
         "styles": {},
         "type": "gray"
        },
        {
         "color": "gray",
         "id": "group#USA",
         "label": "USA",
         "position": [
          0,
          0
         ],
         "properties": {
          "label": "USA"
         },
         "scale_factor": 1,
         "size": [
          55,
          55
         ],
         "styles": {},
         "type": "gray"
        },
        {
         "color": "gray",
         "id": "group#USA",
         "label": "USA",
         "position": [
          0,
          0
         ],
         "properties": {
          "label": "USA"
         },
         "scale_factor": 1,
         "size": [
          55,
          55
         ],
         "styles": {},
         "type": "gray"
        },
        {
         "color": "gray",
         "id": "group#Egypt",
         "label": "Egypt",
         "position": [
          0,
          0
         ],
         "properties": {
          "label": "Egypt"
         },
         "scale_factor": 1,
         "size": [
          55,
          55
         ],
         "styles": {},
         "type": "gray"
        },
        {
         "color": "gray",
         "id": "group#Morocco",
         "label": "Morocco",
         "position": [
          0,
          0
         ],
         "properties": {
          "label": "Morocco"
         },
         "scale_factor": 1,
         "size": [
          55,
          55
         ],
         "styles": {},
         "type": "gray"
        },
        {
         "color": "gray",
         "id": "group#Nigeria",
         "label": "Nigeria",
         "position": [
          0,
          0
         ],
         "properties": {
          "label": "Nigeria"
         },
         "scale_factor": 1,
         "size": [
          55,
          55
         ],
         "styles": {},
         "type": "gray"
        },
        {
         "color": "gray",
         "id": "group#South Africa",
         "label": "South Africa",
         "position": [
          0,
          0
         ],
         "properties": {
          "label": "South Africa"
         },
         "scale_factor": 1,
         "size": [
          55,
          55
         ],
         "styles": {},
         "type": "gray"
        },
        {
         "color": "gray",
         "id": "group#China",
         "label": "China",
         "position": [
          0,
          0
         ],
         "properties": {
          "label": "China"
         },
         "scale_factor": 1,
         "size": [
          55,
          55
         ],
         "styles": {},
         "type": "gray"
        },
        {
         "color": "gray",
         "id": "group#Indonesia",
         "label": "Indonesia",
         "position": [
          0,
          0
         ],
         "properties": {
          "label": "Indonesia"
         },
         "scale_factor": 1,
         "size": [
          55,
          55
         ],
         "styles": {},
         "type": "gray"
        },
        {
         "color": "gray",
         "id": "group#Iran",
         "label": "Iran",
         "position": [
          0,
          0
         ],
         "properties": {
          "label": "Iran"
         },
         "scale_factor": 1,
         "size": [
          55,
          55
         ],
         "styles": {},
         "type": "gray"
        },
        {
         "color": "gray",
         "id": "group#Israel",
         "label": "Israel",
         "position": [
          0,
          0
         ],
         "properties": {
          "label": "Israel"
         },
         "scale_factor": 1,
         "size": [
          55,
          55
         ],
         "styles": {},
         "type": "gray"
        },
        {
         "color": "gray",
         "id": "group#Malaysia",
         "label": "Malaysia",
         "position": [
          0,
          0
         ],
         "properties": {
          "label": "Malaysia"
         },
         "scale_factor": 1,
         "size": [
          55,
          55
         ],
         "styles": {},
         "type": "gray"
        },
        {
         "color": "gray",
         "id": "group#Philippines",
         "label": "Philippines",
         "position": [
          0,
          0
         ],
         "properties": {
          "label": "Philippines"
         },
         "scale_factor": 1,
         "size": [
          55,
          55
         ],
         "styles": {},
         "type": "gray"
        },
        {
         "color": "gray",
         "id": "group#Singapore",
         "label": "Singapore",
         "position": [
          0,
          0
         ],
         "properties": {
          "label": "Singapore"
         },
         "scale_factor": 1,
         "size": [
          55,
          55
         ],
         "styles": {},
         "type": "gray"
        },
        {
         "color": "gray",
         "id": "group#Taiwan",
         "label": "Taiwan",
         "position": [
          0,
          0
         ],
         "properties": {
          "label": "Taiwan"
         },
         "scale_factor": 1,
         "size": [
          55,
          55
         ],
         "styles": {},
         "type": "gray"
        },
        {
         "color": "gray",
         "id": "group#Thailand",
         "label": "Thailand",
         "position": [
          0,
          0
         ],
         "properties": {
          "label": "Thailand"
         },
         "scale_factor": 1,
         "size": [
          55,
          55
         ],
         "styles": {},
         "type": "gray"
        },
        {
         "color": "gray",
         "id": "group#Turkey",
         "label": "Turkey",
         "position": [
          0,
          0
         ],
         "properties": {
          "label": "Turkey"
         },
         "scale_factor": 1,
         "size": [
          55,
          55
         ],
         "styles": {},
         "type": "gray"
        },
        {
         "color": "gray",
         "id": "group#Mongolia",
         "label": "Mongolia",
         "position": [
          0,
          0
         ],
         "properties": {
          "label": "Mongolia"
         },
         "scale_factor": 1,
         "size": [
          55,
          55
         ],
         "styles": {},
         "type": "gray"
        },
        {
         "color": "gray",
         "id": "group#Australia",
         "label": "Australia",
         "position": [
          0,
          0
         ],
         "properties": {
          "label": "Australia"
         },
         "scale_factor": 1,
         "size": [
          55,
          55
         ],
         "styles": {},
         "type": "gray"
        },
        {
         "color": "gray",
         "id": "group#Australia",
         "label": "Australia",
         "position": [
          0,
          0
         ],
         "properties": {
          "label": "Australia"
         },
         "scale_factor": 1,
         "size": [
          55,
          55
         ],
         "styles": {},
         "type": "gray"
        },
        {
         "color": "gray",
         "id": "group#Fiji",
         "label": "Fiji",
         "position": [
          0,
          0
         ],
         "properties": {
          "label": "Fiji"
         },
         "scale_factor": 1,
         "size": [
          55,
          55
         ],
         "styles": {},
         "type": "gray"
        },
        {
         "color": "gray",
         "id": "group#New Zealand",
         "label": "New Zealand",
         "position": [
          0,
          0
         ],
         "properties": {
          "label": "New Zealand"
         },
         "scale_factor": 1,
         "size": [
          55,
          55
         ],
         "styles": {},
         "type": "gray"
        },
        {
         "color": "gray",
         "id": "group#France",
         "label": "France",
         "position": [
          0,
          0
         ],
         "properties": {
          "label": "France"
         },
         "scale_factor": 1,
         "size": [
          55,
          55
         ],
         "styles": {},
         "type": "gray"
        },
        {
         "color": "gray",
         "id": "group#Spain",
         "label": "Spain",
         "position": [
          0,
          0
         ],
         "properties": {
          "label": "Spain"
         },
         "scale_factor": 1,
         "size": [
          55,
          55
         ],
         "styles": {},
         "type": "gray"
        },
        {
         "color": "gray",
         "id": "group#Spain",
         "label": "Spain",
         "position": [
          0,
          0
         ],
         "properties": {
          "label": "Spain"
         },
         "scale_factor": 1,
         "size": [
          55,
          55
         ],
         "styles": {},
         "type": "gray"
        },
        {
         "color": "gray",
         "id": "group#Italy",
         "label": "Italy",
         "position": [
          0,
          0
         ],
         "properties": {
          "label": "Italy"
         },
         "scale_factor": 1,
         "size": [
          55,
          55
         ],
         "styles": {},
         "type": "gray"
        },
        {
         "color": "gray",
         "id": "group#Denmark",
         "label": "Denmark",
         "position": [
          0,
          0
         ],
         "properties": {
          "label": "Denmark"
         },
         "scale_factor": 1,
         "size": [
          55,
          55
         ],
         "styles": {},
         "type": "gray"
        },
        {
         "color": "gray",
         "id": "group#Finland",
         "label": "Finland",
         "position": [
          0,
          0
         ],
         "properties": {
          "label": "Finland"
         },
         "scale_factor": 1,
         "size": [
          55,
          55
         ],
         "styles": {},
         "type": "gray"
        },
        {
         "color": "gray",
         "id": "group#Greece",
         "label": "Greece",
         "position": [
          0,
          0
         ],
         "properties": {
          "label": "Greece"
         },
         "scale_factor": 1,
         "size": [
          55,
          55
         ],
         "styles": {},
         "type": "gray"
        },
        {
         "color": "gray",
         "id": "group#Ireland",
         "label": "Ireland",
         "position": [
          0,
          0
         ],
         "properties": {
          "label": "Ireland"
         },
         "scale_factor": 1,
         "size": [
          55,
          55
         ],
         "styles": {},
         "type": "gray"
        },
        {
         "color": "gray",
         "id": "group#Iceland",
         "label": "Iceland",
         "position": [
          0,
          0
         ],
         "properties": {
          "label": "Iceland"
         },
         "scale_factor": 1,
         "size": [
          55,
          55
         ],
         "styles": {},
         "type": "gray"
        },
        {
         "color": "gray",
         "id": "group#Norway",
         "label": "Norway",
         "position": [
          0,
          0
         ],
         "properties": {
          "label": "Norway"
         },
         "scale_factor": 1,
         "size": [
          55,
          55
         ],
         "styles": {},
         "type": "gray"
        },
        {
         "color": "gray",
         "id": "group#Austria",
         "label": "Austria",
         "position": [
          0,
          0
         ],
         "properties": {
          "label": "Austria"
         },
         "scale_factor": 1,
         "size": [
          55,
          55
         ],
         "styles": {},
         "type": "gray"
        },
        {
         "color": "gray",
         "id": "group#Portugal",
         "label": "Portugal",
         "position": [
          0,
          0
         ],
         "properties": {
          "label": "Portugal"
         },
         "scale_factor": 1,
         "size": [
          55,
          55
         ],
         "styles": {},
         "type": "gray"
        },
        {
         "color": "gray",
         "id": "group#Sweden",
         "label": "Sweden",
         "position": [
          0,
          0
         ],
         "properties": {
          "label": "Sweden"
         },
         "scale_factor": 1,
         "size": [
          55,
          55
         ],
         "styles": {},
         "type": "gray"
        },
        {
         "color": "gray",
         "id": "group#UK",
         "label": "UK",
         "position": [
          0,
          0
         ],
         "properties": {
          "label": "UK"
         },
         "scale_factor": 1,
         "size": [
          55,
          55
         ],
         "styles": {},
         "type": "gray"
        },
        {
         "color": "gray",
         "id": "group#USA",
         "label": "USA",
         "position": [
          0,
          0
         ],
         "properties": {
          "label": "USA"
         },
         "scale_factor": 1,
         "size": [
          55,
          55
         ],
         "styles": {},
         "type": "gray"
        },
        {
         "color": "gray",
         "id": "group#USA",
         "label": "USA",
         "position": [
          0,
          0
         ],
         "properties": {
          "label": "USA"
         },
         "scale_factor": 1,
         "size": [
          55,
          55
         ],
         "styles": {},
         "type": "gray"
        },
        {
         "color": "gray",
         "id": "group#USA",
         "label": "USA",
         "position": [
          0,
          0
         ],
         "properties": {
          "label": "USA"
         },
         "scale_factor": 1,
         "size": [
          55,
          55
         ],
         "styles": {},
         "type": "gray"
        },
        {
         "color": "gray",
         "id": "group#USA",
         "label": "USA",
         "position": [
          0,
          0
         ],
         "properties": {
          "label": "USA"
         },
         "scale_factor": 1,
         "size": [
          55,
          55
         ],
         "styles": {},
         "type": "gray"
        },
        {
         "color": "gray",
         "id": "group#USA",
         "label": "USA",
         "position": [
          0,
          0
         ],
         "properties": {
          "label": "USA"
         },
         "scale_factor": 1,
         "size": [
          55,
          55
         ],
         "styles": {},
         "type": "gray"
        },
        {
         "color": "gray",
         "id": "group#Canada",
         "label": "Canada",
         "position": [
          0,
          0
         ],
         "properties": {
          "label": "Canada"
         },
         "scale_factor": 1,
         "size": [
          55,
          55
         ],
         "styles": {},
         "type": "gray"
        },
        {
         "color": "gray",
         "id": "group#Canada",
         "label": "Canada",
         "position": [
          0,
          0
         ],
         "properties": {
          "label": "Canada"
         },
         "scale_factor": 1,
         "size": [
          55,
          55
         ],
         "styles": {},
         "type": "gray"
        },
        {
         "color": "gray",
         "id": "group#Canada",
         "label": "Canada",
         "position": [
          0,
          0
         ],
         "properties": {
          "label": "Canada"
         },
         "scale_factor": 1,
         "size": [
          55,
          55
         ],
         "styles": {},
         "type": "gray"
        },
        {
         "color": "gray",
         "id": "group#Mexico",
         "label": "Mexico",
         "position": [
          0,
          0
         ],
         "properties": {
          "label": "Mexico"
         },
         "scale_factor": 1,
         "size": [
          55,
          55
         ],
         "styles": {},
         "type": "gray"
        },
        {
         "color": "gray",
         "id": "group#Guatemala",
         "label": "Guatemala",
         "position": [
          0,
          0
         ],
         "properties": {
          "label": "Guatemala"
         },
         "scale_factor": 1,
         "size": [
          55,
          55
         ],
         "styles": {},
         "type": "gray"
        },
        {
         "color": "gray",
         "id": "group#Argentina",
         "label": "Argentina",
         "position": [
          0,
          0
         ],
         "properties": {
          "label": "Argentina"
         },
         "scale_factor": 1,
         "size": [
          55,
          55
         ],
         "styles": {},
         "type": "gray"
        },
        {
         "color": "gray",
         "id": "group#Brazil",
         "label": "Brazil",
         "position": [
          0,
          0
         ],
         "properties": {
          "label": "Brazil"
         },
         "scale_factor": 1,
         "size": [
          55,
          55
         ],
         "styles": {},
         "type": "gray"
        },
        {
         "color": "gray",
         "id": "group#Chile",
         "label": "Chile",
         "position": [
          0,
          0
         ],
         "properties": {
          "label": "Chile"
         },
         "scale_factor": 1,
         "size": [
          55,
          55
         ],
         "styles": {},
         "type": "gray"
        },
        {
         "color": "gray",
         "id": "group#Brazil",
         "label": "Brazil",
         "position": [
          0,
          0
         ],
         "properties": {
          "label": "Brazil"
         },
         "scale_factor": 1,
         "size": [
          55,
          55
         ],
         "styles": {},
         "type": "gray"
        },
        {
         "color": "gray",
         "id": "group#Colombia",
         "label": "Colombia",
         "position": [
          0,
          0
         ],
         "properties": {
          "label": "Colombia"
         },
         "scale_factor": 1,
         "size": [
          55,
          55
         ],
         "styles": {},
         "type": "gray"
        },
        {
         "color": "gray",
         "id": "group#Venezuela",
         "label": "Venezuela",
         "position": [
          0,
          0
         ],
         "properties": {
          "label": "Venezuela"
         },
         "scale_factor": 1,
         "size": [
          55,
          55
         ],
         "styles": {},
         "type": "gray"
        }
       ],
       "_overview": {
        "enabled": null,
        "overview_set": false
       },
       "_selected_graph": [
        [],
        []
       ],
       "_sidebar": {
        "enabled": false,
        "start_with": null
       },
       "_view_module_version": "^1.7.3",
       "layout": "IPY_MODEL_40c805c4cf2644c0bda26388c205899b"
      }
     },
     "7c9faf68e09a479d98fa92c72d68f45b": {
      "model_module": "@jupyter-widgets/base",
      "model_module_version": "2.0.0",
      "model_name": "LayoutModel",
      "state": {
       "height": "800px",
       "width": "100%"
      }
     },
     "86085bffb94c4c7a83431a47de74006f": {
      "model_module": "@jupyter-widgets/base",
      "model_module_version": "2.0.0",
      "model_name": "LayoutModel",
      "state": {
       "height": "800px",
       "width": "100%"
      }
     },
     "92205251e80544d5a62e4a8985e759a4": {
      "model_module": "@jupyter-widgets/base",
      "model_module_version": "2.0.0",
      "model_name": "LayoutModel",
      "state": {
       "height": "500px",
       "width": "100%"
      }
     },
     "b331bc525f044de19188e914a00bd20e": {
      "model_module": "@jupyter-widgets/base",
      "model_module_version": "2.0.0",
      "model_name": "LayoutModel",
      "state": {
       "height": "500px",
       "width": "100%"
      }
     },
     "dc1b9827b77e447eaff6661160ac997f": {
      "model_module": "@jupyter-widgets/base",
      "model_module_version": "2.0.0",
      "model_name": "LayoutModel",
      "state": {
       "height": "800px",
       "width": "100%"
      }
     },
     "df5ac2c109dc410395752bf306fe89b4": {
      "model_module": "@jupyter-widgets/base",
      "model_module_version": "2.0.0",
      "model_name": "LayoutModel",
      "state": {
       "height": "500px",
       "width": "100%"
      }
     },
     "e7b4d7f98e744180bdd39624102ebf18": {
      "model_module": "@jupyter-widgets/base",
      "model_module_version": "2.0.0",
      "model_name": "LayoutModel",
      "state": {
       "height": "500px",
       "width": "100%"
      }
     }
    },
    "version_major": 2,
    "version_minor": 0
   }
  }
 },
 "nbformat": 4,
 "nbformat_minor": 5
}
