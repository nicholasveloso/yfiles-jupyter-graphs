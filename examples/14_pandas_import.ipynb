{
 "cells": [
  {
   "cell_type": "markdown",
   "id": "32d03e09-094d-40f1-bdb1-5ee752ed94b8",
   "metadata": {},
   "source": [
    "# Visualizing Pandas DataFrames in yFiles Graphs for Jupyter <a target=\"_blank\" href=\"https://colab.research.google.com/github/yWorks/yfiles-jupyter-graphs/blob/main/examples/14_pandas_import.ipynb\"><img src=\"https://colab.research.google.com/assets/colab-badge.svg\" alt=\"Open In Colab\"/></a>"
   ]
  },
  {
   "cell_type": "markdown",
   "id": "87dc4803-39b0-434f-bba4-eac433d6016b",
   "metadata": {},
   "source": [
    "Before using the graph widget, install all necessary packages."
   ]
  },
  {
   "cell_type": "code",
   "execution_count": null,
   "id": "5c411c64-1368-454d-b725-c949e09330f6",
   "metadata": {},
   "outputs": [],
   "source": [
    "%pip install yfiles_jupyter_graphs --quiet\n",
    "%pip install pandas --quiet\n",
    "import pandas as pd\n",
    "from yfiles_jupyter_graphs import GraphWidget"
   ]
  },
  {
   "cell_type": "markdown",
   "id": "c6ea79b9-6287-475e-9c3b-094b63177e56",
   "metadata": {},
   "source": [
    "You can also open this notebook in Google Colab when Google Colab's custom widget manager is enabled:"
   ]
  },
  {
   "cell_type": "code",
   "execution_count": null,
   "id": "03e06677-a479-4977-83ac-7e8382f0ca08",
   "metadata": {},
   "outputs": [],
   "source": [
    "try:\n",
    "  import google.colab\n",
    "  from google.colab import output\n",
    "  output.enable_custom_widget_manager()\n",
    "except:\n",
    "  pass"
   ]
  },
  {
   "cell_type": "markdown",
   "id": "c5c6deb9-87cc-4f04-8576-e01e2452976d",
   "metadata": {},
   "source": [
    "<a target=\"_blank\" href=\"https://colab.research.google.com/github/yWorks/yfiles-jupyter-graphs/blob/main/examples/14_pandas_import.ipynb\"><img src=\"https://colab.research.google.com/assets/colab-badge.svg\" alt=\"Open In Colab\"/></a>"
   ]
  },
  {
   "cell_type": "markdown",
   "id": "dfb0c218-6da5-48d2-8eba-3a0edacde699",
   "metadata": {},
   "source": [
    "## How to import a graph\n",
    "- either import the graph directly when initilizing: `GraphWidget(graph=your_graph)`\n",
    "- or use the `w.import_graph(your_graph)` function, if you already initilized a Widget called `w`"
   ]
  },
  {
   "cell_type": "markdown",
   "id": "2e31422e-3de0-452c-8147-26780b1b1fab",
   "metadata": {},
   "source": [
    "## Notes about pandas importer\n",
    "- each row corresponds to an edge\n",
    "- the edges are defined by pairs of 'source' and 'target' indices\n",
    "- if you have a 'label' column in your DataFrame, the edges automatically have this label\n",
    "- the default edge is always directed\n",
    "- nodes are created for every id used in `source` and `target`\n",
    "- any additional DataFrame columns are stored in `properties` under the same name"
   ]
  },
  {
   "cell_type": "markdown",
   "id": "fb7a4ebd-c29e-47be-9445-d13cbee5cbec",
   "metadata": {},
   "source": [
    "## Sample data"
   ]
  },
  {
   "cell_type": "code",
   "execution_count": null,
   "id": "e810300a-7e22-48d7-a1ac-d1106364aba0",
   "metadata": {},
   "outputs": [],
   "source": [
    "data = {'source': ['Node 0','Node 0','Node 1','Node 2','Node 2','Node 2','Node 3','Node 3','Node 4','Node 5'],\n",
    "       'target': ['Node 3','Node 4','Node 4', 'Node 5', 'Node 6','Node 7','Node 8','Node 9','Node 6','Node 6'],\n",
    "       'label': ['Row 0','Row 1','Row 2','Row 3','Row 4','Row 5','Row 6','Row 7','Row 8','Row 9'],\n",
    "       'id': ['0','1','2','3','4','5','6','7','8','9'],\n",
    "       'age': [31, 56, 27, 43, 19, 84, 38, 70, 5, 92],\n",
    "        'color': ['red','blue','green','orange','purple','yellow','grey','pink','black','brown']}\n",
    "df = pd.DataFrame(data)\n",
    "df"
   ]
  },
  {
   "cell_type": "markdown",
   "id": "f13f87af-def7-42bd-8222-25cff4666150",
   "metadata": {},
   "source": [
    "## Visualizing the sample data"
   ]
  },
  {
   "cell_type": "code",
   "execution_count": null,
   "id": "0e640a88-6512-4638-97ba-ce34e7c93a14",
   "metadata": {},
   "outputs": [],
   "source": [
    "w = GraphWidget(graph = df)\n",
    "display(w)"
   ]
  },
  {
   "cell_type": "markdown",
   "id": "b13b64ac-25b1-4cf6-8ad6-378f4892a59d",
   "metadata": {},
   "source": [
    "When hovering over a edge, you can see the age and color data for each edge. You can look into the edge data as well.\n",
    "\n",
    "To access the 'properties' data, you can use the data key in squared brackets: `['properties']['key'] `\n",
    "\n",
    "Possible edge keys in this example are 'label', 'age' and 'color' \n",
    "\n",
    "To display all properties, we remove any additional edge data except the properties"
   ]
  },
  {
   "cell_type": "code",
   "execution_count": null,
   "id": "50579e0a-88c0-4bd5-94c6-7d7113c6b0e4",
   "metadata": {},
   "outputs": [],
   "source": [
    "properties = [edge['properties'] for edge in w.edges]\n",
    "formattedProperties = ''.join(f\"Edge {edge['label']}: {edge}\\n\" for edge in properties)\n",
    "print(formattedProperties)"
   ]
  },
  {
   "cell_type": "markdown",
   "id": "361a0f2f-ff40-4e14-bb5e-cb0c08904b01",
   "metadata": {},
   "source": [
    "### Using column data stored in 'properties'\n",
    "\n",
    "To utilize the age and color data, we set the thickness factor of the edge as the age and the color as the edge color"
   ]
  },
  {
   "cell_type": "code",
   "execution_count": null,
   "id": "31594712-81a6-4811-9cb8-1fc606f967d9",
   "metadata": {},
   "outputs": [],
   "source": [
    "w.edge_color_mapping = 'color'\n",
    "w.edge_thickness_factor_mapping = lambda item: item['properties']['age'] / 35\n",
    "display(w)"
   ]
  }
 ],
 "metadata": {
  "kernelspec": {
   "display_name": "Python 3 (ipykernel)",
   "language": "python",
   "name": "python3"
  },
  "language_info": {
   "codemirror_mode": {
    "name": "ipython",
    "version": 3
   },
   "file_extension": ".py",
   "mimetype": "text/x-python",
   "name": "python",
   "nbconvert_exporter": "python",
   "pygments_lexer": "ipython3",
   "version": "3.12.3"
  }
 },
 "nbformat": 4,
 "nbformat_minor": 5
}
