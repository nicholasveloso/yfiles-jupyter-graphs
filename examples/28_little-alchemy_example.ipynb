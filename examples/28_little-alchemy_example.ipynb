{
  "cells": [
    {
      "cell_type": "markdown",
      "id": "473ff031-02a0-4081-86cc-6317944d79e8",
      "metadata": {
        "id": "473ff031-02a0-4081-86cc-6317944d79e8"
      },
      "source": [
        "# Example using Little Alchemy 2 <a target=\"_blank\" href=\"https://colab.research.google.com/github/yWorks/yfiles-jupyter-graphs/blob/main/examples/28_little-alchemy_example.ipynb\"><img src=\"https://colab.research.google.com/assets/colab-badge.svg\" alt=\"Open In Colab\"/></a>"
      ]
    },
    {
      "cell_type": "markdown",
      "id": "f144d219-1189-402e-a067-cd643832d7fb",
      "metadata": {
        "id": "f144d219-1189-402e-a067-cd643832d7fb"
      },
      "source": [
        "Little Alchemy 2 is a game, where the goal is to guess recipes to create over 600 elements just using the 4 prime elements air, earth, fire and water.\n",
        "\n",
        "\n",
        "In this example, we create a small bill of material (BoM) graph using these recipes\n",
        "\n",
        "Before using the graph widget, install all necessary packages."
      ]
    },
    {
      "cell_type": "code",
      "execution_count": 1,
      "id": "0f48d90d-4800-4776-9909-2b346846f24f",
      "metadata": {
        "id": "0f48d90d-4800-4776-9909-2b346846f24f",
        "outputId": "dbc175b7-ef5c-4103-84ea-472b154e0048",
        "colab": {
          "base_uri": "https://localhost:8080/"
        }
      },
      "outputs": [
        {
          "output_type": "stream",
          "name": "stdout",
          "text": [
            "\u001b[2K   \u001b[90m━━━━━━━━━━━━━━━━━━━━━━━━━━━━━━━━━━━━━━━━\u001b[0m \u001b[32m15.6/15.6 MB\u001b[0m \u001b[31m19.9 MB/s\u001b[0m eta \u001b[36m0:00:00\u001b[0m\n",
            "\u001b[2K   \u001b[90m━━━━━━━━━━━━━━━━━━━━━━━━━━━━━━━━━━━━━━━━\u001b[0m \u001b[32m139.8/139.8 kB\u001b[0m \u001b[31m4.5 MB/s\u001b[0m eta \u001b[36m0:00:00\u001b[0m\n",
            "\u001b[2K   \u001b[90m━━━━━━━━━━━━━━━━━━━━━━━━━━━━━━━━━━━━━━━━\u001b[0m \u001b[32m2.3/2.3 MB\u001b[0m \u001b[31m27.8 MB/s\u001b[0m eta \u001b[36m0:00:00\u001b[0m\n",
            "\u001b[2K   \u001b[90m━━━━━━━━━━━━━━━━━━━━━━━━━━━━━━━━━━━━━━━━\u001b[0m \u001b[32m1.6/1.6 MB\u001b[0m \u001b[31m8.7 MB/s\u001b[0m eta \u001b[36m0:00:00\u001b[0m\n",
            "\u001b[?25h"
          ]
        }
      ],
      "source": [
        "%pip install yfiles_jupyter_graphs --quiet\n",
        "from yfiles_jupyter_graphs import GraphWidget"
      ]
    },
    {
      "cell_type": "markdown",
      "id": "122b620f-f292-4131-8a03-4667b5ccfe97",
      "metadata": {
        "id": "122b620f-f292-4131-8a03-4667b5ccfe97"
      },
      "source": [
        "You can also open this notebook in Google Colab when Google Colab's custom widget manager is enabled:"
      ]
    },
    {
      "cell_type": "code",
      "execution_count": 2,
      "id": "342cc1c8-6bd3-4d27-ba34-7c1a264209b6",
      "metadata": {
        "tags": [],
        "id": "342cc1c8-6bd3-4d27-ba34-7c1a264209b6"
      },
      "outputs": [],
      "source": [
        "try:\n",
        "  import google.colab\n",
        "  from google.colab import output\n",
        "  output.enable_custom_widget_manager()\n",
        "except:\n",
        "  pass"
      ]
    },
    {
      "cell_type": "markdown",
      "id": "5c84fd6f-46df-45c4-8a97-95a4f8f6eea0",
      "metadata": {
        "tags": [],
        "id": "5c84fd6f-46df-45c4-8a97-95a4f8f6eea0"
      },
      "source": [
        "<a target=\"_blank\" href=\"https://colab.research.google.com/github/yWorks/yfiles-jupyter-graphs/blob/main/examples/28_little-alchemy_example.ipynb\"><img src=\"https://colab.research.google.com/assets/colab-badge.svg\" alt=\"Open In Colab\"/></a>"
      ]
    },
    {
      "cell_type": "markdown",
      "id": "98a951aa-1f51-4d00-9151-01cec6f9b6bf",
      "metadata": {
        "id": "98a951aa-1f51-4d00-9151-01cec6f9b6bf"
      },
      "source": [
        "This is the library containing all recipe information:"
      ]
    },
    {
      "cell_type": "code",
      "execution_count": 3,
      "id": "6d27665f-9313-42bf-b1f3-941158830b2e",
      "metadata": {
        "id": "6d27665f-9313-42bf-b1f3-941158830b2e"
      },
      "outputs": [],
      "source": [
        "import urllib.request, json\n",
        "with urllib.request.urlopen(\"https://unpkg.com/little-alchemy-2@0.0.1/dist/alchemy.json\") as url:\n",
        "    data = json.load(url)"
      ]
    },
    {
      "cell_type": "markdown",
      "id": "5d73654c-2b9c-4885-af26-36b805e84176",
      "metadata": {
        "id": "5d73654c-2b9c-4885-af26-36b805e84176"
      },
      "source": [
        "We parse the resulting data to create our nodes and edges.\n",
        "In the given data, each element has a name and parent information.\n",
        "\n",
        "We only use a small sample of elements, but you can adjust the constant ```num_elements``` to see more recipes."
      ]
    },
    {
      "cell_type": "code",
      "execution_count": 4,
      "id": "bac9a02a-5386-4dd2-8322-9afb931f56ef",
      "metadata": {
        "id": "bac9a02a-5386-4dd2-8322-9afb931f56ef"
      },
      "outputs": [],
      "source": [
        "import itertools\n",
        "\n",
        "# we'll use a subset of the graph here\n",
        "num_elements = 50\n",
        "dataset = dict(itertools.islice(data.items(), num_elements))\n",
        "\n",
        "nodes = []\n",
        "edges = []\n",
        "\n",
        "for key, item in dataset.items():\n",
        "    nodes.append({\"id\": key, 'properties': {'label': item['n']}})\n",
        "    # for simplicity, we just examine the parents of the items\n",
        "    if 'p' in item:\n",
        "        # each element has exactly two (or none) source elements in Little Alchemy 2\n",
        "        for source1, source2 in item['p']:\n",
        "            if source1 in dataset and source2 in dataset:\n",
        "                if not source1 == source2:\n",
        "                    edges.append({\"start\": source1, \"end\": key, \"properties\": {'label': ('+ ' + data[source2]['n'])}})\n",
        "                    edges.append({\"start\": source2, \"end\": key, \"properties\": {'label': ('+ ' + data[source1]['n'])}})\n",
        "                else:\n",
        "                    edges.append({\"start\": source1, \"end\": key, \"properties\": {'label': ('+ ' + data[source2]['n'])}})"
      ]
    },
    {
      "cell_type": "code",
      "execution_count": 5,
      "id": "fbfd87ea-7e6d-4263-8e4a-7db33b254dd5",
      "metadata": {
        "id": "fbfd87ea-7e6d-4263-8e4a-7db33b254dd5",
        "outputId": "a08e58ae-a1a6-4f27-d9b6-998a14fce632",
        "colab": {
          "base_uri": "https://localhost:8080/",
          "height": 817,
          "referenced_widgets": [
            "4c3581a96a73445a8c82bcaa5109bd0b",
            "4cf51a0aed384a45a6912f9ef5b132dd"
          ]
        }
      },
      "outputs": [
        {
          "output_type": "display_data",
          "data": {
            "text/plain": [
              "GraphWidget(layout=Layout(height='800px', width='100%'))"
            ],
            "application/vnd.jupyter.widget-view+json": {
              "version_major": 2,
              "version_minor": 0,
              "model_id": "4c3581a96a73445a8c82bcaa5109bd0b"
            }
          },
          "metadata": {
            "application/vnd.jupyter.widget-view+json": {
              "colab": {
                "custom_widget_manager": {
                  "url": "https://ssl.gstatic.com/colaboratory-static/widgets/colab-cdn-widget-manager/2b70e893a8ba7c0f/manager.min.js"
                }
              }
            }
          }
        }
      ],
      "source": [
        "w = GraphWidget()\n",
        "w.nodes = nodes\n",
        "w.edges = edges\n",
        "w.directed = True\n",
        "display(w)"
      ]
    },
    {
      "cell_type": "markdown",
      "id": "e8fadf33-ffa4-42a8-b21c-3a92bf29cce0",
      "metadata": {
        "id": "e8fadf33-ffa4-42a8-b21c-3a92bf29cce0"
      },
      "source": [
        "To make the graph easier to read, we add the game images and make the prime elements bigger as well as use the hierarchic layout.\n",
        "\n",
        "You can check out the other examples like [size mappings](./05_size_mapping.ipynb) and [styles mappings](./08_styles_mapping.ipynb) to learn more about graph customization."
      ]
    },
    {
      "cell_type": "code",
      "execution_count": 6,
      "id": "63c59e05-3bda-43de-8b3d-a6c576f0685b",
      "metadata": {
        "id": "63c59e05-3bda-43de-8b3d-a6c576f0685b",
        "outputId": "f9a75f3b-359f-46ac-dca1-9b7c87f5f4db",
        "colab": {
          "base_uri": "https://localhost:8080/",
          "height": 817,
          "referenced_widgets": [
            "fb360f3ed7b6416bad8fbdf69eb0fbe1",
            "2519a5ce09d44ca5a0536a6f196888f4"
          ]
        }
      },
      "outputs": [
        {
          "output_type": "display_data",
          "data": {
            "text/plain": [
              "GraphWidget(layout=Layout(height='800px', width='100%'))"
            ],
            "application/vnd.jupyter.widget-view+json": {
              "version_major": 2,
              "version_minor": 0,
              "model_id": "fb360f3ed7b6416bad8fbdf69eb0fbe1"
            }
          },
          "metadata": {
            "application/vnd.jupyter.widget-view+json": {
              "colab": {
                "custom_widget_manager": {
                  "url": "https://ssl.gstatic.com/colaboratory-static/widgets/colab-cdn-widget-manager/2b70e893a8ba7c0f/manager.min.js"
                }
              }
            }
          }
        }
      ],
      "source": [
        "w3 = GraphWidget()\n",
        "w3.nodes = nodes\n",
        "w3.edges = edges\n",
        "w3.directed = True\n",
        "\n",
        "def custom_images(index, node):\n",
        "    return {'image': \"https://littlealchemy2.com/static/icons/\" + node['id'] + \".svg\"}\n",
        "\n",
        "w3.set_node_styles_mapping(custom_images)\n",
        "\n",
        "def custom_size(index, node):\n",
        "    if 'prime' in data[str(index+1)]:\n",
        "        return 80,80\n",
        "    return 55,55\n",
        "\n",
        "w3.set_node_size_mapping(custom_size)\n",
        "w3.hierarchic_layout()\n",
        "w3.edge_color_mapping = lambda : 'grey'\n",
        "w3.set_overview(enabled=False)\n",
        "w3.set_sidebar(enabled=False)\n",
        "display(w3)"
      ]
    },
    {
      "cell_type": "markdown",
      "id": "fdfd148b-9ab1-4ac8-96d6-24f9dbd00ceb",
      "metadata": {
        "id": "fdfd148b-9ab1-4ac8-96d6-24f9dbd00ceb"
      },
      "source": [
        "You can use the Neighborhood Tab in the sidebar to explore single elements.\n",
        "\n",
        "However to focus on just one element you're interested in, you can use the following code.\n",
        "\n",
        "Change the constant ```element_name``` to only see the defined element with its children and parent nodes"
      ]
    },
    {
      "cell_type": "code",
      "execution_count": 7,
      "id": "d6606494-1829-4177-b19b-a03246974033",
      "metadata": {
        "id": "d6606494-1829-4177-b19b-a03246974033"
      },
      "outputs": [],
      "source": [
        "# change this to focus on a different element\n",
        "element_name = 'cat'\n",
        "\n",
        "nodes2 = []\n",
        "edges2 = []\n",
        "parentSet = set()\n",
        "element_id = None\n",
        "\n",
        "\n",
        "#This function generates edge labels\n",
        "def getCombinations(id, target_id):\n",
        "    result = []\n",
        "    item = data[target_id]\n",
        "    for source1, source2 in item['p']:\n",
        "        if source1 == id:\n",
        "            result.append(data[source2]['n'])\n",
        "        if source2 == id:\n",
        "            result.append(data[source1]['n'])\n",
        "    return result\n",
        "\n",
        "for key, item in data.items():\n",
        "    if item['n'] == element_name:\n",
        "        nodes2.append({\"id\": key, 'properties': {'label': item['n']}})\n",
        "        element_id = key\n",
        "        if 'p' in item:\n",
        "            for source1, source2 in item['p']:\n",
        "                parentSet.add(source1)\n",
        "                parentSet.add(source2)\n",
        "        if 'c' in item:\n",
        "            for child in item['c']:\n",
        "                if child not in parentSet:\n",
        "                    nodes2.append({\"id\":child, 'properties': {'label': data[child]['n']}})\n",
        "                    edges2.append({\"start\": key, \"end\": child, \"properties\": {'label': '+ ' + str(getCombinations(element_id, child))[1:-1].replace(\"\\'\", \"\")}})\n",
        "                else:\n",
        "                    edges2.append({\"start\": key, \"end\": child, \"properties\": {'label': '+ ' + str(getCombinations(element_id, child))[1:-1].replace(\"\\'\", \"\")}})\n",
        "\n",
        "\n",
        "for source in parentSet:\n",
        "    if not source == element_id:\n",
        "        nodes2.append({\"id\": source, 'properties': {'label': data[source]['n']}})\n",
        "    edges2.append({\"start\": source, \"end\": element_id, \"properties\": {'label': '+ ' + str(getCombinations(source, element_id))[1:-1].replace(\"\\'\", \"\")}})\n"
      ]
    },
    {
      "cell_type": "markdown",
      "id": "0f3affbf-745b-490e-832e-67245d8a43ba",
      "metadata": {
        "id": "0f3affbf-745b-490e-832e-67245d8a43ba"
      },
      "source": [
        "We use some of the mappings above:\n",
        "\n",
        "- Game image node styling\n",
        "- directed, grey edges\n",
        "- hierarchic layout\n"
      ]
    },
    {
      "cell_type": "code",
      "execution_count": 8,
      "id": "c02fb72d-a09e-449e-9325-63b8b3302db8",
      "metadata": {
        "id": "c02fb72d-a09e-449e-9325-63b8b3302db8",
        "outputId": "360d2d8b-c1b0-464c-ad8e-a2bf87e9d29a",
        "colab": {
          "base_uri": "https://localhost:8080/",
          "height": 517,
          "referenced_widgets": [
            "1ac612c14dbd49c7b487caeaf192c63a",
            "007c47d5a7bd40759b94ead98defc2fe"
          ]
        }
      },
      "outputs": [
        {
          "output_type": "display_data",
          "data": {
            "text/plain": [
              "GraphWidget(layout=Layout(height='500px', width='100%'))"
            ],
            "application/vnd.jupyter.widget-view+json": {
              "version_major": 2,
              "version_minor": 0,
              "model_id": "1ac612c14dbd49c7b487caeaf192c63a"
            }
          },
          "metadata": {
            "application/vnd.jupyter.widget-view+json": {
              "colab": {
                "custom_widget_manager": {
                  "url": "https://ssl.gstatic.com/colaboratory-static/widgets/colab-cdn-widget-manager/2b70e893a8ba7c0f/manager.min.js"
                }
              }
            }
          }
        }
      ],
      "source": [
        "w2 = GraphWidget()\n",
        "w2.nodes = nodes2\n",
        "w2.edges = edges2\n",
        "w2.set_node_styles_mapping(custom_images)\n",
        "w2.directed = True\n",
        "w2.hierarchic_layout()\n",
        "w2.edge_color_mapping = lambda : 'grey'\n",
        "display(w2)"
      ]
    }
  ],
  "metadata": {
    "kernelspec": {
      "display_name": "Python 3 (ipykernel)",
      "language": "python",
      "name": "python3"
    },
    "language_info": {
      "codemirror_mode": {
        "name": "ipython",
        "version": 3
      },
      "file_extension": ".py",
      "mimetype": "text/x-python",
      "name": "python",
      "nbconvert_exporter": "python",
      "pygments_lexer": "ipython3",
      "version": "3.11.3"
    },
    "colab": {
      "provenance": []
    },
    "widgets": {
      "application/vnd.jupyter.widget-state+json": {
        "4c3581a96a73445a8c82bcaa5109bd0b": {
          "model_module": "yfiles-jupyter-graphs",
          "model_name": "GraphModel",
          "model_module_version": "^1.8.1",
          "state": {
            "_context_pane_mapping": [
              {
                "id": "Neighborhood",
                "title": "Neighborhood"
              },
              {
                "id": "Data",
                "title": "Data"
              },
              {
                "id": "Search",
                "title": "Search"
              },
              {
                "id": "About",
                "title": "About"
              }
            ],
            "_data_importer": "unknown",
            "_directed": true,
            "_dom_classes": [],
            "_edges": [
              {
                "start": "2",
                "end": "2",
                "properties": {
                  "label": "+ coal"
                },
                "label": "+ coal",
                "color": "#15AFAC",
                "thickness_factor": 1,
                "directed": true
              },
              {
                "start": "30",
                "end": "2",
                "properties": {
                  "label": "+ fire"
                },
                "label": "+ fire",
                "color": "#15AFAC",
                "thickness_factor": 1,
                "directed": true
              },
              {
                "start": "1",
                "end": "5",
                "properties": {
                  "label": "+ fire"
                },
                "label": "+ fire",
                "color": "#15AFAC",
                "thickness_factor": 1,
                "directed": true
              },
              {
                "start": "2",
                "end": "5",
                "properties": {
                  "label": "+ water"
                },
                "label": "+ water",
                "color": "#15AFAC",
                "thickness_factor": 1,
                "directed": true
              },
              {
                "start": "1",
                "end": "5",
                "properties": {
                  "label": "+ lava"
                },
                "label": "+ lava",
                "color": "#15AFAC",
                "thickness_factor": 1,
                "directed": true
              },
              {
                "start": "6",
                "end": "5",
                "properties": {
                  "label": "+ water"
                },
                "label": "+ water",
                "color": "#15AFAC",
                "thickness_factor": 1,
                "directed": true
              },
              {
                "start": "2",
                "end": "6",
                "properties": {
                  "label": "+ earth"
                },
                "label": "+ earth",
                "color": "#15AFAC",
                "thickness_factor": 1,
                "directed": true
              },
              {
                "start": "3",
                "end": "6",
                "properties": {
                  "label": "+ fire"
                },
                "label": "+ fire",
                "color": "#15AFAC",
                "thickness_factor": 1,
                "directed": true
              },
              {
                "start": "4",
                "end": "7",
                "properties": {
                  "label": "+ air"
                },
                "label": "+ air",
                "color": "#15AFAC",
                "thickness_factor": 1,
                "directed": true
              },
              {
                "start": "10",
                "end": "7",
                "properties": {
                  "label": "+ ocean"
                },
                "label": "+ ocean",
                "color": "#15AFAC",
                "thickness_factor": 1,
                "directed": true
              },
              {
                "start": "3",
                "end": "8",
                "properties": {
                  "label": "+ lava"
                },
                "label": "+ lava",
                "color": "#15AFAC",
                "thickness_factor": 1,
                "directed": true
              },
              {
                "start": "6",
                "end": "8",
                "properties": {
                  "label": "+ earth"
                },
                "label": "+ earth",
                "color": "#15AFAC",
                "thickness_factor": 1,
                "directed": true
              },
              {
                "start": "1",
                "end": "10",
                "properties": {
                  "label": "+ sea"
                },
                "label": "+ sea",
                "color": "#15AFAC",
                "thickness_factor": 1,
                "directed": true
              },
              {
                "start": "9",
                "end": "10",
                "properties": {
                  "label": "+ water"
                },
                "label": "+ water",
                "color": "#15AFAC",
                "thickness_factor": 1,
                "directed": true
              },
              {
                "start": "9",
                "end": "10",
                "properties": {
                  "label": "+ sea"
                },
                "label": "+ sea",
                "color": "#15AFAC",
                "thickness_factor": 1,
                "directed": true
              },
              {
                "start": "2",
                "end": "11",
                "properties": {
                  "label": "+ fire"
                },
                "label": "+ fire",
                "color": "#15AFAC",
                "thickness_factor": 1,
                "directed": true
              },
              {
                "start": "1",
                "end": "12",
                "properties": {
                  "label": "+ earth"
                },
                "label": "+ earth",
                "color": "#15AFAC",
                "thickness_factor": 1,
                "directed": true
              },
              {
                "start": "3",
                "end": "12",
                "properties": {
                  "label": "+ water"
                },
                "label": "+ water",
                "color": "#15AFAC",
                "thickness_factor": 1,
                "directed": true
              },
              {
                "start": "7",
                "end": "13",
                "properties": {
                  "label": "+ cloud"
                },
                "label": "+ cloud",
                "color": "#15AFAC",
                "thickness_factor": 1,
                "directed": true
              },
              {
                "start": "15",
                "end": "13",
                "properties": {
                  "label": "+ pressure"
                },
                "label": "+ pressure",
                "color": "#15AFAC",
                "thickness_factor": 1,
                "directed": true
              },
              {
                "start": "1",
                "end": "13",
                "properties": {
                  "label": "+ cloud"
                },
                "label": "+ cloud",
                "color": "#15AFAC",
                "thickness_factor": 1,
                "directed": true
              },
              {
                "start": "15",
                "end": "13",
                "properties": {
                  "label": "+ water"
                },
                "label": "+ water",
                "color": "#15AFAC",
                "thickness_factor": 1,
                "directed": true
              },
              {
                "start": "3",
                "end": "14",
                "properties": {
                  "label": "+ air"
                },
                "label": "+ air",
                "color": "#15AFAC",
                "thickness_factor": 1,
                "directed": true
              },
              {
                "start": "4",
                "end": "14",
                "properties": {
                  "label": "+ earth"
                },
                "label": "+ earth",
                "color": "#15AFAC",
                "thickness_factor": 1,
                "directed": true
              },
              {
                "start": "1",
                "end": "15",
                "properties": {
                  "label": "+ sky"
                },
                "label": "+ sky",
                "color": "#15AFAC",
                "thickness_factor": 1,
                "directed": true
              },
              {
                "start": "22",
                "end": "15",
                "properties": {
                  "label": "+ water"
                },
                "label": "+ water",
                "color": "#15AFAC",
                "thickness_factor": 1,
                "directed": true
              },
              {
                "start": "15",
                "end": "16",
                "properties": {
                  "label": "+ cloud"
                },
                "label": "+ cloud",
                "color": "#15AFAC",
                "thickness_factor": 1,
                "directed": true
              },
              {
                "start": "13",
                "end": "16",
                "properties": {
                  "label": "+ wind"
                },
                "label": "+ wind",
                "color": "#15AFAC",
                "thickness_factor": 1,
                "directed": true
              },
              {
                "start": "20",
                "end": "16",
                "properties": {
                  "label": "+ rain"
                },
                "label": "+ rain",
                "color": "#15AFAC",
                "thickness_factor": 1,
                "directed": true
              },
              {
                "start": "3",
                "end": "17",
                "properties": {
                  "label": "+ steam"
                },
                "label": "+ steam",
                "color": "#15AFAC",
                "thickness_factor": 1,
                "directed": true
              },
              {
                "start": "5",
                "end": "17",
                "properties": {
                  "label": "+ earth"
                },
                "label": "+ earth",
                "color": "#15AFAC",
                "thickness_factor": 1,
                "directed": true
              },
              {
                "start": "5",
                "end": "17",
                "properties": {
                  "label": "+ pressure"
                },
                "label": "+ pressure",
                "color": "#15AFAC",
                "thickness_factor": 1,
                "directed": true
              },
              {
                "start": "7",
                "end": "17",
                "properties": {
                  "label": "+ steam"
                },
                "label": "+ steam",
                "color": "#15AFAC",
                "thickness_factor": 1,
                "directed": true
              },
              {
                "start": "8",
                "end": "18",
                "properties": {
                  "label": "+ ocean"
                },
                "label": "+ ocean",
                "color": "#15AFAC",
                "thickness_factor": 1,
                "directed": true
              },
              {
                "start": "10",
                "end": "18",
                "properties": {
                  "label": "+ volcano"
                },
                "label": "+ volcano",
                "color": "#15AFAC",
                "thickness_factor": 1,
                "directed": true
              },
              {
                "start": "8",
                "end": "18",
                "properties": {
                  "label": "+ sea"
                },
                "label": "+ sea",
                "color": "#15AFAC",
                "thickness_factor": 1,
                "directed": true
              },
              {
                "start": "9",
                "end": "18",
                "properties": {
                  "label": "+ volcano"
                },
                "label": "+ volcano",
                "color": "#15AFAC",
                "thickness_factor": 1,
                "directed": true
              },
              {
                "start": "3",
                "end": "19",
                "properties": {
                  "label": "+ energy"
                },
                "label": "+ energy",
                "color": "#15AFAC",
                "thickness_factor": 1,
                "directed": true
              },
              {
                "start": "11",
                "end": "19",
                "properties": {
                  "label": "+ earth"
                },
                "label": "+ earth",
                "color": "#15AFAC",
                "thickness_factor": 1,
                "directed": true
              },
              {
                "start": "4",
                "end": "20",
                "properties": {
                  "label": "+ pressure"
                },
                "label": "+ pressure",
                "color": "#15AFAC",
                "thickness_factor": 1,
                "directed": true
              },
              {
                "start": "7",
                "end": "20",
                "properties": {
                  "label": "+ air"
                },
                "label": "+ air",
                "color": "#15AFAC",
                "thickness_factor": 1,
                "directed": true
              },
              {
                "start": "7",
                "end": "21",
                "properties": {
                  "label": "+ volcano"
                },
                "label": "+ volcano",
                "color": "#15AFAC",
                "thickness_factor": 1,
                "directed": true
              },
              {
                "start": "8",
                "end": "21",
                "properties": {
                  "label": "+ pressure"
                },
                "label": "+ pressure",
                "color": "#15AFAC",
                "thickness_factor": 1,
                "directed": true
              },
              {
                "start": "6",
                "end": "21",
                "properties": {
                  "label": "+ pressure"
                },
                "label": "+ pressure",
                "color": "#15AFAC",
                "thickness_factor": 1,
                "directed": true
              },
              {
                "start": "7",
                "end": "21",
                "properties": {
                  "label": "+ lava"
                },
                "label": "+ lava",
                "color": "#15AFAC",
                "thickness_factor": 1,
                "directed": true
              },
              {
                "start": "8",
                "end": "21",
                "properties": {
                  "label": "+ time"
                },
                "label": "+ time",
                "color": "#15AFAC",
                "thickness_factor": 1,
                "directed": true
              },
              {
                "start": "41",
                "end": "21",
                "properties": {
                  "label": "+ volcano"
                },
                "label": "+ volcano",
                "color": "#15AFAC",
                "thickness_factor": 1,
                "directed": true
              },
              {
                "start": "4",
                "end": "22",
                "properties": {
                  "label": "+ cloud"
                },
                "label": "+ cloud",
                "color": "#15AFAC",
                "thickness_factor": 1,
                "directed": true
              },
              {
                "start": "15",
                "end": "22",
                "properties": {
                  "label": "+ air"
                },
                "label": "+ air",
                "color": "#15AFAC",
                "thickness_factor": 1,
                "directed": true
              },
              {
                "start": "16",
                "end": "23",
                "properties": {
                  "label": "+ storm"
                },
                "label": "+ storm",
                "color": "#15AFAC",
                "thickness_factor": 1,
                "directed": true
              },
              {
                "start": "16",
                "end": "23",
                "properties": {
                  "label": "+ wind"
                },
                "label": "+ wind",
                "color": "#15AFAC",
                "thickness_factor": 1,
                "directed": true
              },
              {
                "start": "20",
                "end": "23",
                "properties": {
                  "label": "+ storm"
                },
                "label": "+ storm",
                "color": "#15AFAC",
                "thickness_factor": 1,
                "directed": true
              },
              {
                "start": "20",
                "end": "23",
                "properties": {
                  "label": "+ wind"
                },
                "label": "+ wind",
                "color": "#15AFAC",
                "thickness_factor": 1,
                "directed": true
              },
              {
                "start": "2",
                "end": "25",
                "properties": {
                  "label": "+ dust"
                },
                "label": "+ dust",
                "color": "#15AFAC",
                "thickness_factor": 1,
                "directed": true
              },
              {
                "start": "14",
                "end": "25",
                "properties": {
                  "label": "+ fire"
                },
                "label": "+ fire",
                "color": "#15AFAC",
                "thickness_factor": 1,
                "directed": true
              },
              {
                "start": "11",
                "end": "25",
                "properties": {
                  "label": "+ dust"
                },
                "label": "+ dust",
                "color": "#15AFAC",
                "thickness_factor": 1,
                "directed": true
              },
              {
                "start": "14",
                "end": "25",
                "properties": {
                  "label": "+ energy"
                },
                "label": "+ energy",
                "color": "#15AFAC",
                "thickness_factor": 1,
                "directed": true
              },
              {
                "start": "2",
                "end": "26",
                "properties": {
                  "label": "+ gunpowder"
                },
                "label": "+ gunpowder",
                "color": "#15AFAC",
                "thickness_factor": 1,
                "directed": true
              },
              {
                "start": "25",
                "end": "26",
                "properties": {
                  "label": "+ fire"
                },
                "label": "+ fire",
                "color": "#15AFAC",
                "thickness_factor": 1,
                "directed": true
              },
              {
                "start": "7",
                "end": "26",
                "properties": {
                  "label": "+ volcano"
                },
                "label": "+ volcano",
                "color": "#15AFAC",
                "thickness_factor": 1,
                "directed": true
              },
              {
                "start": "8",
                "end": "26",
                "properties": {
                  "label": "+ pressure"
                },
                "label": "+ pressure",
                "color": "#15AFAC",
                "thickness_factor": 1,
                "directed": true
              },
              {
                "start": "3",
                "end": "27",
                "properties": {
                  "label": "+ pressure"
                },
                "label": "+ pressure",
                "color": "#15AFAC",
                "thickness_factor": 1,
                "directed": true
              },
              {
                "start": "7",
                "end": "27",
                "properties": {
                  "label": "+ earth"
                },
                "label": "+ earth",
                "color": "#15AFAC",
                "thickness_factor": 1,
                "directed": true
              },
              {
                "start": "4",
                "end": "27",
                "properties": {
                  "label": "+ lava"
                },
                "label": "+ lava",
                "color": "#15AFAC",
                "thickness_factor": 1,
                "directed": true
              },
              {
                "start": "6",
                "end": "27",
                "properties": {
                  "label": "+ air"
                },
                "label": "+ air",
                "color": "#15AFAC",
                "thickness_factor": 1,
                "directed": true
              },
              {
                "start": "4",
                "end": "28",
                "properties": {
                  "label": "+ stone"
                },
                "label": "+ stone",
                "color": "#15AFAC",
                "thickness_factor": 1,
                "directed": true
              },
              {
                "start": "27",
                "end": "28",
                "properties": {
                  "label": "+ air"
                },
                "label": "+ air",
                "color": "#15AFAC",
                "thickness_factor": 1,
                "directed": true
              },
              {
                "start": "20",
                "end": "28",
                "properties": {
                  "label": "+ stone"
                },
                "label": "+ stone",
                "color": "#15AFAC",
                "thickness_factor": 1,
                "directed": true
              },
              {
                "start": "27",
                "end": "28",
                "properties": {
                  "label": "+ wind"
                },
                "label": "+ wind",
                "color": "#15AFAC",
                "thickness_factor": 1,
                "directed": true
              },
              {
                "start": "2",
                "end": "29",
                "properties": {
                  "label": "+ plant"
                },
                "label": "+ plant",
                "color": "#15AFAC",
                "thickness_factor": 1,
                "directed": true
              },
              {
                "start": "24",
                "end": "29",
                "properties": {
                  "label": "+ fire"
                },
                "label": "+ fire",
                "color": "#15AFAC",
                "thickness_factor": 1,
                "directed": true
              },
              {
                "start": "2",
                "end": "29",
                "properties": {
                  "label": "+ tree"
                },
                "label": "+ tree",
                "color": "#15AFAC",
                "thickness_factor": 1,
                "directed": true
              },
              {
                "start": "42",
                "end": "29",
                "properties": {
                  "label": "+ fire"
                },
                "label": "+ fire",
                "color": "#15AFAC",
                "thickness_factor": 1,
                "directed": true
              },
              {
                "start": "7",
                "end": "31",
                "properties": {
                  "label": "+ coal"
                },
                "label": "+ coal",
                "color": "#15AFAC",
                "thickness_factor": 1,
                "directed": true
              },
              {
                "start": "30",
                "end": "31",
                "properties": {
                  "label": "+ pressure"
                },
                "label": "+ pressure",
                "color": "#15AFAC",
                "thickness_factor": 1,
                "directed": true
              },
              {
                "start": "2",
                "end": "32",
                "properties": {
                  "label": "+ sand"
                },
                "label": "+ sand",
                "color": "#15AFAC",
                "thickness_factor": 1,
                "directed": true
              },
              {
                "start": "28",
                "end": "32",
                "properties": {
                  "label": "+ fire"
                },
                "label": "+ fire",
                "color": "#15AFAC",
                "thickness_factor": 1,
                "directed": true
              },
              {
                "start": "28",
                "end": "33",
                "properties": {
                  "label": "+ glass"
                },
                "label": "+ glass",
                "color": "#15AFAC",
                "thickness_factor": 1,
                "directed": true
              },
              {
                "start": "32",
                "end": "33",
                "properties": {
                  "label": "+ sand"
                },
                "label": "+ sand",
                "color": "#15AFAC",
                "thickness_factor": 1,
                "directed": true
              },
              {
                "start": "28",
                "end": "33",
                "properties": {
                  "label": "+ time"
                },
                "label": "+ time",
                "color": "#15AFAC",
                "thickness_factor": 1,
                "directed": true
              },
              {
                "start": "41",
                "end": "33",
                "properties": {
                  "label": "+ sand"
                },
                "label": "+ sand",
                "color": "#15AFAC",
                "thickness_factor": 1,
                "directed": true
              },
              {
                "start": "32",
                "end": "33",
                "properties": {
                  "label": "+ time"
                },
                "label": "+ time",
                "color": "#15AFAC",
                "thickness_factor": 1,
                "directed": true
              },
              {
                "start": "41",
                "end": "33",
                "properties": {
                  "label": "+ glass"
                },
                "label": "+ glass",
                "color": "#15AFAC",
                "thickness_factor": 1,
                "directed": true
              },
              {
                "start": "1",
                "end": "34",
                "properties": {
                  "label": "+ glass"
                },
                "label": "+ glass",
                "color": "#15AFAC",
                "thickness_factor": 1,
                "directed": true
              },
              {
                "start": "32",
                "end": "34",
                "properties": {
                  "label": "+ water"
                },
                "label": "+ water",
                "color": "#15AFAC",
                "thickness_factor": 1,
                "directed": true
              },
              {
                "start": "24",
                "end": "35",
                "properties": {
                  "label": "+ glass"
                },
                "label": "+ glass",
                "color": "#15AFAC",
                "thickness_factor": 1,
                "directed": true
              },
              {
                "start": "32",
                "end": "35",
                "properties": {
                  "label": "+ plant"
                },
                "label": "+ plant",
                "color": "#15AFAC",
                "thickness_factor": 1,
                "directed": true
              },
              {
                "start": "32",
                "end": "35",
                "properties": {
                  "label": "+ tree"
                },
                "label": "+ tree",
                "color": "#15AFAC",
                "thickness_factor": 1,
                "directed": true
              },
              {
                "start": "42",
                "end": "35",
                "properties": {
                  "label": "+ glass"
                },
                "label": "+ glass",
                "color": "#15AFAC",
                "thickness_factor": 1,
                "directed": true
              },
              {
                "start": "24",
                "end": "35",
                "properties": {
                  "label": "+ aquarium"
                },
                "label": "+ aquarium",
                "color": "#15AFAC",
                "thickness_factor": 1,
                "directed": true
              },
              {
                "start": "34",
                "end": "35",
                "properties": {
                  "label": "+ plant"
                },
                "label": "+ plant",
                "color": "#15AFAC",
                "thickness_factor": 1,
                "directed": true
              },
              {
                "start": "34",
                "end": "35",
                "properties": {
                  "label": "+ tree"
                },
                "label": "+ tree",
                "color": "#15AFAC",
                "thickness_factor": 1,
                "directed": true
              },
              {
                "start": "42",
                "end": "35",
                "properties": {
                  "label": "+ aquarium"
                },
                "label": "+ aquarium",
                "color": "#15AFAC",
                "thickness_factor": 1,
                "directed": true
              },
              {
                "start": "2",
                "end": "36",
                "properties": {
                  "label": "+ stone"
                },
                "label": "+ stone",
                "color": "#15AFAC",
                "thickness_factor": 1,
                "directed": true
              },
              {
                "start": "27",
                "end": "36",
                "properties": {
                  "label": "+ fire"
                },
                "label": "+ fire",
                "color": "#15AFAC",
                "thickness_factor": 1,
                "directed": true
              },
              {
                "start": "4",
                "end": "37",
                "properties": {
                  "label": "+ metal"
                },
                "label": "+ metal",
                "color": "#15AFAC",
                "thickness_factor": 1,
                "directed": true
              },
              {
                "start": "36",
                "end": "37",
                "properties": {
                  "label": "+ air"
                },
                "label": "+ air",
                "color": "#15AFAC",
                "thickness_factor": 1,
                "directed": true
              },
              {
                "start": "4",
                "end": "37",
                "properties": {
                  "label": "+ steel"
                },
                "label": "+ steel",
                "color": "#15AFAC",
                "thickness_factor": 1,
                "directed": true
              },
              {
                "start": "40",
                "end": "37",
                "properties": {
                  "label": "+ air"
                },
                "label": "+ air",
                "color": "#15AFAC",
                "thickness_factor": 1,
                "directed": true
              },
              {
                "start": "7",
                "end": "38",
                "properties": {
                  "label": "+ metal"
                },
                "label": "+ metal",
                "color": "#15AFAC",
                "thickness_factor": 1,
                "directed": true
              },
              {
                "start": "36",
                "end": "38",
                "properties": {
                  "label": "+ pressure"
                },
                "label": "+ pressure",
                "color": "#15AFAC",
                "thickness_factor": 1,
                "directed": true
              },
              {
                "start": "5",
                "end": "38",
                "properties": {
                  "label": "+ metal"
                },
                "label": "+ metal",
                "color": "#15AFAC",
                "thickness_factor": 1,
                "directed": true
              },
              {
                "start": "36",
                "end": "38",
                "properties": {
                  "label": "+ steam"
                },
                "label": "+ steam",
                "color": "#15AFAC",
                "thickness_factor": 1,
                "directed": true
              },
              {
                "start": "25",
                "end": "39",
                "properties": {
                  "label": "+ metal"
                },
                "label": "+ metal",
                "color": "#15AFAC",
                "thickness_factor": 1,
                "directed": true
              },
              {
                "start": "36",
                "end": "39",
                "properties": {
                  "label": "+ gunpowder"
                },
                "label": "+ gunpowder",
                "color": "#15AFAC",
                "thickness_factor": 1,
                "directed": true
              },
              {
                "start": "25",
                "end": "39",
                "properties": {
                  "label": "+ steel"
                },
                "label": "+ steel",
                "color": "#15AFAC",
                "thickness_factor": 1,
                "directed": true
              },
              {
                "start": "40",
                "end": "39",
                "properties": {
                  "label": "+ gunpowder"
                },
                "label": "+ gunpowder",
                "color": "#15AFAC",
                "thickness_factor": 1,
                "directed": true
              },
              {
                "start": "30",
                "end": "40",
                "properties": {
                  "label": "+ metal"
                },
                "label": "+ metal",
                "color": "#15AFAC",
                "thickness_factor": 1,
                "directed": true
              },
              {
                "start": "36",
                "end": "40",
                "properties": {
                  "label": "+ coal"
                },
                "label": "+ coal",
                "color": "#15AFAC",
                "thickness_factor": 1,
                "directed": true
              },
              {
                "start": "29",
                "end": "40",
                "properties": {
                  "label": "+ metal"
                },
                "label": "+ metal",
                "color": "#15AFAC",
                "thickness_factor": 1,
                "directed": true
              },
              {
                "start": "36",
                "end": "40",
                "properties": {
                  "label": "+ ash"
                },
                "label": "+ ash",
                "color": "#15AFAC",
                "thickness_factor": 1,
                "directed": true
              },
              {
                "start": "24",
                "end": "42",
                "properties": {
                  "label": "+ time"
                },
                "label": "+ time",
                "color": "#15AFAC",
                "thickness_factor": 1,
                "directed": true
              },
              {
                "start": "41",
                "end": "42",
                "properties": {
                  "label": "+ plant"
                },
                "label": "+ plant",
                "color": "#15AFAC",
                "thickness_factor": 1,
                "directed": true
              },
              {
                "start": "12",
                "end": "43",
                "properties": {
                  "label": "+ tree"
                },
                "label": "+ tree",
                "color": "#15AFAC",
                "thickness_factor": 1,
                "directed": true
              },
              {
                "start": "42",
                "end": "43",
                "properties": {
                  "label": "+ mud"
                },
                "label": "+ mud",
                "color": "#15AFAC",
                "thickness_factor": 1,
                "directed": true
              },
              {
                "start": "1",
                "end": "45",
                "properties": {
                  "label": "+ life"
                },
                "label": "+ life",
                "color": "#15AFAC",
                "thickness_factor": 1,
                "directed": true
              },
              {
                "start": "44",
                "end": "45",
                "properties": {
                  "label": "+ water"
                },
                "label": "+ water",
                "color": "#15AFAC",
                "thickness_factor": 1,
                "directed": true
              },
              {
                "start": "10",
                "end": "45",
                "properties": {
                  "label": "+ life"
                },
                "label": "+ life",
                "color": "#15AFAC",
                "thickness_factor": 1,
                "directed": true
              },
              {
                "start": "44",
                "end": "45",
                "properties": {
                  "label": "+ ocean"
                },
                "label": "+ ocean",
                "color": "#15AFAC",
                "thickness_factor": 1,
                "directed": true
              },
              {
                "start": "9",
                "end": "45",
                "properties": {
                  "label": "+ life"
                },
                "label": "+ life",
                "color": "#15AFAC",
                "thickness_factor": 1,
                "directed": true
              },
              {
                "start": "44",
                "end": "45",
                "properties": {
                  "label": "+ sea"
                },
                "label": "+ sea",
                "color": "#15AFAC",
                "thickness_factor": 1,
                "directed": true
              },
              {
                "start": "22",
                "end": "46",
                "properties": {
                  "label": "+ egg"
                },
                "label": "+ egg",
                "color": "#15AFAC",
                "thickness_factor": 1,
                "directed": true
              },
              {
                "start": "49",
                "end": "46",
                "properties": {
                  "label": "+ sky"
                },
                "label": "+ sky",
                "color": "#15AFAC",
                "thickness_factor": 1,
                "directed": true
              },
              {
                "start": "4",
                "end": "46",
                "properties": {
                  "label": "+ egg"
                },
                "label": "+ egg",
                "color": "#15AFAC",
                "thickness_factor": 1,
                "directed": true
              },
              {
                "start": "49",
                "end": "46",
                "properties": {
                  "label": "+ air"
                },
                "label": "+ air",
                "color": "#15AFAC",
                "thickness_factor": 1,
                "directed": true
              },
              {
                "start": "2",
                "end": "47",
                "properties": {
                  "label": "+ bird"
                },
                "label": "+ bird",
                "color": "#15AFAC",
                "thickness_factor": 1,
                "directed": true
              },
              {
                "start": "46",
                "end": "47",
                "properties": {
                  "label": "+ fire"
                },
                "label": "+ fire",
                "color": "#15AFAC",
                "thickness_factor": 1,
                "directed": true
              },
              {
                "start": "2",
                "end": "47",
                "properties": {
                  "label": "+ life"
                },
                "label": "+ life",
                "color": "#15AFAC",
                "thickness_factor": 1,
                "directed": true
              },
              {
                "start": "44",
                "end": "47",
                "properties": {
                  "label": "+ fire"
                },
                "label": "+ fire",
                "color": "#15AFAC",
                "thickness_factor": 1,
                "directed": true
              },
              {
                "start": "2",
                "end": "47",
                "properties": {
                  "label": "+ egg"
                },
                "label": "+ egg",
                "color": "#15AFAC",
                "thickness_factor": 1,
                "directed": true
              },
              {
                "start": "49",
                "end": "47",
                "properties": {
                  "label": "+ fire"
                },
                "label": "+ fire",
                "color": "#15AFAC",
                "thickness_factor": 1,
                "directed": true
              },
              {
                "start": "44",
                "end": "48",
                "properties": {
                  "label": "+ clay"
                },
                "label": "+ clay",
                "color": "#15AFAC",
                "thickness_factor": 1,
                "directed": true
              },
              {
                "start": "50",
                "end": "48",
                "properties": {
                  "label": "+ life"
                },
                "label": "+ life",
                "color": "#15AFAC",
                "thickness_factor": 1,
                "directed": true
              },
              {
                "start": "46",
                "end": "49",
                "properties": {
                  "label": "+ bird"
                },
                "label": "+ bird",
                "color": "#15AFAC",
                "thickness_factor": 1,
                "directed": true
              },
              {
                "start": "47",
                "end": "49",
                "properties": {
                  "label": "+ phoenix"
                },
                "label": "+ phoenix",
                "color": "#15AFAC",
                "thickness_factor": 1,
                "directed": true
              },
              {
                "start": "12",
                "end": "50",
                "properties": {
                  "label": "+ sand"
                },
                "label": "+ sand",
                "color": "#15AFAC",
                "thickness_factor": 1,
                "directed": true
              },
              {
                "start": "28",
                "end": "50",
                "properties": {
                  "label": "+ mud"
                },
                "label": "+ mud",
                "color": "#15AFAC",
                "thickness_factor": 1,
                "directed": true
              },
              {
                "start": "12",
                "end": "50",
                "properties": {
                  "label": "+ stone"
                },
                "label": "+ stone",
                "color": "#15AFAC",
                "thickness_factor": 1,
                "directed": true
              },
              {
                "start": "27",
                "end": "50",
                "properties": {
                  "label": "+ mud"
                },
                "label": "+ mud",
                "color": "#15AFAC",
                "thickness_factor": 1,
                "directed": true
              }
            ],
            "_graph_layout": {},
            "_highlight": [],
            "_license": {},
            "_model_module": "yfiles-jupyter-graphs",
            "_model_module_version": "^1.8.1",
            "_model_name": "GraphModel",
            "_neighborhood": {},
            "_nodes": [
              {
                "id": "1",
                "properties": {
                  "label": "water"
                },
                "color": "#15AFAC",
                "styles": {},
                "label": "water",
                "scale_factor": 1,
                "type": "#15AFAC",
                "size": [
                  55,
                  55
                ],
                "position": [
                  0,
                  0
                ]
              },
              {
                "id": "2",
                "properties": {
                  "label": "fire"
                },
                "color": "#15AFAC",
                "styles": {},
                "label": "fire",
                "scale_factor": 1,
                "type": "#15AFAC",
                "size": [
                  55,
                  55
                ],
                "position": [
                  0,
                  0
                ]
              },
              {
                "id": "3",
                "properties": {
                  "label": "earth"
                },
                "color": "#15AFAC",
                "styles": {},
                "label": "earth",
                "scale_factor": 1,
                "type": "#15AFAC",
                "size": [
                  55,
                  55
                ],
                "position": [
                  0,
                  0
                ]
              },
              {
                "id": "4",
                "properties": {
                  "label": "air"
                },
                "color": "#15AFAC",
                "styles": {},
                "label": "air",
                "scale_factor": 1,
                "type": "#15AFAC",
                "size": [
                  55,
                  55
                ],
                "position": [
                  0,
                  0
                ]
              },
              {
                "id": "5",
                "properties": {
                  "label": "steam"
                },
                "color": "#15AFAC",
                "styles": {},
                "label": "steam",
                "scale_factor": 1,
                "type": "#15AFAC",
                "size": [
                  55,
                  55
                ],
                "position": [
                  0,
                  0
                ]
              },
              {
                "id": "6",
                "properties": {
                  "label": "lava"
                },
                "color": "#15AFAC",
                "styles": {},
                "label": "lava",
                "scale_factor": 1,
                "type": "#15AFAC",
                "size": [
                  55,
                  55
                ],
                "position": [
                  0,
                  0
                ]
              },
              {
                "id": "7",
                "properties": {
                  "label": "pressure"
                },
                "color": "#15AFAC",
                "styles": {},
                "label": "pressure",
                "scale_factor": 1,
                "type": "#15AFAC",
                "size": [
                  55,
                  55
                ],
                "position": [
                  0,
                  0
                ]
              },
              {
                "id": "8",
                "properties": {
                  "label": "volcano"
                },
                "color": "#15AFAC",
                "styles": {},
                "label": "volcano",
                "scale_factor": 1,
                "type": "#15AFAC",
                "size": [
                  55,
                  55
                ],
                "position": [
                  0,
                  0
                ]
              },
              {
                "id": "9",
                "properties": {
                  "label": "sea"
                },
                "color": "#15AFAC",
                "styles": {},
                "label": "sea",
                "scale_factor": 1,
                "type": "#15AFAC",
                "size": [
                  55,
                  55
                ],
                "position": [
                  0,
                  0
                ]
              },
              {
                "id": "10",
                "properties": {
                  "label": "ocean"
                },
                "color": "#15AFAC",
                "styles": {},
                "label": "ocean",
                "scale_factor": 1,
                "type": "#15AFAC",
                "size": [
                  55,
                  55
                ],
                "position": [
                  0,
                  0
                ]
              },
              {
                "id": "11",
                "properties": {
                  "label": "energy"
                },
                "color": "#15AFAC",
                "styles": {},
                "label": "energy",
                "scale_factor": 1,
                "type": "#15AFAC",
                "size": [
                  55,
                  55
                ],
                "position": [
                  0,
                  0
                ]
              },
              {
                "id": "12",
                "properties": {
                  "label": "mud"
                },
                "color": "#15AFAC",
                "styles": {},
                "label": "mud",
                "scale_factor": 1,
                "type": "#15AFAC",
                "size": [
                  55,
                  55
                ],
                "position": [
                  0,
                  0
                ]
              },
              {
                "id": "13",
                "properties": {
                  "label": "rain"
                },
                "color": "#15AFAC",
                "styles": {},
                "label": "rain",
                "scale_factor": 1,
                "type": "#15AFAC",
                "size": [
                  55,
                  55
                ],
                "position": [
                  0,
                  0
                ]
              },
              {
                "id": "14",
                "properties": {
                  "label": "dust"
                },
                "color": "#15AFAC",
                "styles": {},
                "label": "dust",
                "scale_factor": 1,
                "type": "#15AFAC",
                "size": [
                  55,
                  55
                ],
                "position": [
                  0,
                  0
                ]
              },
              {
                "id": "15",
                "properties": {
                  "label": "cloud"
                },
                "color": "#15AFAC",
                "styles": {},
                "label": "cloud",
                "scale_factor": 1,
                "type": "#15AFAC",
                "size": [
                  55,
                  55
                ],
                "position": [
                  0,
                  0
                ]
              },
              {
                "id": "16",
                "properties": {
                  "label": "storm"
                },
                "color": "#15AFAC",
                "styles": {},
                "label": "storm",
                "scale_factor": 1,
                "type": "#15AFAC",
                "size": [
                  55,
                  55
                ],
                "position": [
                  0,
                  0
                ]
              },
              {
                "id": "17",
                "properties": {
                  "label": "geyser"
                },
                "color": "#15AFAC",
                "styles": {},
                "label": "geyser",
                "scale_factor": 1,
                "type": "#15AFAC",
                "size": [
                  55,
                  55
                ],
                "position": [
                  0,
                  0
                ]
              },
              {
                "id": "18",
                "properties": {
                  "label": "island"
                },
                "color": "#15AFAC",
                "styles": {},
                "label": "island",
                "scale_factor": 1,
                "type": "#15AFAC",
                "size": [
                  55,
                  55
                ],
                "position": [
                  0,
                  0
                ]
              },
              {
                "id": "19",
                "properties": {
                  "label": "earthquake"
                },
                "color": "#15AFAC",
                "styles": {},
                "label": "earthquake",
                "scale_factor": 1,
                "type": "#15AFAC",
                "size": [
                  55,
                  55
                ],
                "position": [
                  0,
                  0
                ]
              },
              {
                "id": "20",
                "properties": {
                  "label": "wind"
                },
                "color": "#15AFAC",
                "styles": {},
                "label": "wind",
                "scale_factor": 1,
                "type": "#15AFAC",
                "size": [
                  55,
                  55
                ],
                "position": [
                  0,
                  0
                ]
              },
              {
                "id": "21",
                "properties": {
                  "label": "eruption"
                },
                "color": "#15AFAC",
                "styles": {},
                "label": "eruption",
                "scale_factor": 1,
                "type": "#15AFAC",
                "size": [
                  55,
                  55
                ],
                "position": [
                  0,
                  0
                ]
              },
              {
                "id": "22",
                "properties": {
                  "label": "sky"
                },
                "color": "#15AFAC",
                "styles": {},
                "label": "sky",
                "scale_factor": 1,
                "type": "#15AFAC",
                "size": [
                  55,
                  55
                ],
                "position": [
                  0,
                  0
                ]
              },
              {
                "id": "23",
                "properties": {
                  "label": "tornado"
                },
                "color": "#15AFAC",
                "styles": {},
                "label": "tornado",
                "scale_factor": 1,
                "type": "#15AFAC",
                "size": [
                  55,
                  55
                ],
                "position": [
                  0,
                  0
                ]
              },
              {
                "id": "24",
                "properties": {
                  "label": "plant"
                },
                "color": "#15AFAC",
                "styles": {},
                "label": "plant",
                "scale_factor": 1,
                "type": "#15AFAC",
                "size": [
                  55,
                  55
                ],
                "position": [
                  0,
                  0
                ]
              },
              {
                "id": "25",
                "properties": {
                  "label": "gunpowder"
                },
                "color": "#15AFAC",
                "styles": {},
                "label": "gunpowder",
                "scale_factor": 1,
                "type": "#15AFAC",
                "size": [
                  55,
                  55
                ],
                "position": [
                  0,
                  0
                ]
              },
              {
                "id": "26",
                "properties": {
                  "label": "explosion"
                },
                "color": "#15AFAC",
                "styles": {},
                "label": "explosion",
                "scale_factor": 1,
                "type": "#15AFAC",
                "size": [
                  55,
                  55
                ],
                "position": [
                  0,
                  0
                ]
              },
              {
                "id": "27",
                "properties": {
                  "label": "stone"
                },
                "color": "#15AFAC",
                "styles": {},
                "label": "stone",
                "scale_factor": 1,
                "type": "#15AFAC",
                "size": [
                  55,
                  55
                ],
                "position": [
                  0,
                  0
                ]
              },
              {
                "id": "28",
                "properties": {
                  "label": "sand"
                },
                "color": "#15AFAC",
                "styles": {},
                "label": "sand",
                "scale_factor": 1,
                "type": "#15AFAC",
                "size": [
                  55,
                  55
                ],
                "position": [
                  0,
                  0
                ]
              },
              {
                "id": "29",
                "properties": {
                  "label": "ash"
                },
                "color": "#15AFAC",
                "styles": {},
                "label": "ash",
                "scale_factor": 1,
                "type": "#15AFAC",
                "size": [
                  55,
                  55
                ],
                "position": [
                  0,
                  0
                ]
              },
              {
                "id": "30",
                "properties": {
                  "label": "coal"
                },
                "color": "#15AFAC",
                "styles": {},
                "label": "coal",
                "scale_factor": 1,
                "type": "#15AFAC",
                "size": [
                  55,
                  55
                ],
                "position": [
                  0,
                  0
                ]
              },
              {
                "id": "31",
                "properties": {
                  "label": "diamond"
                },
                "color": "#15AFAC",
                "styles": {},
                "label": "diamond",
                "scale_factor": 1,
                "type": "#15AFAC",
                "size": [
                  55,
                  55
                ],
                "position": [
                  0,
                  0
                ]
              },
              {
                "id": "32",
                "properties": {
                  "label": "glass"
                },
                "color": "#15AFAC",
                "styles": {},
                "label": "glass",
                "scale_factor": 1,
                "type": "#15AFAC",
                "size": [
                  55,
                  55
                ],
                "position": [
                  0,
                  0
                ]
              },
              {
                "id": "33",
                "properties": {
                  "label": "hourglass"
                },
                "color": "#15AFAC",
                "styles": {},
                "label": "hourglass",
                "scale_factor": 1,
                "type": "#15AFAC",
                "size": [
                  55,
                  55
                ],
                "position": [
                  0,
                  0
                ]
              },
              {
                "id": "34",
                "properties": {
                  "label": "aquarium"
                },
                "color": "#15AFAC",
                "styles": {},
                "label": "aquarium",
                "scale_factor": 1,
                "type": "#15AFAC",
                "size": [
                  55,
                  55
                ],
                "position": [
                  0,
                  0
                ]
              },
              {
                "id": "35",
                "properties": {
                  "label": "greenhouse"
                },
                "color": "#15AFAC",
                "styles": {},
                "label": "greenhouse",
                "scale_factor": 1,
                "type": "#15AFAC",
                "size": [
                  55,
                  55
                ],
                "position": [
                  0,
                  0
                ]
              },
              {
                "id": "36",
                "properties": {
                  "label": "metal"
                },
                "color": "#15AFAC",
                "styles": {},
                "label": "metal",
                "scale_factor": 1,
                "type": "#15AFAC",
                "size": [
                  55,
                  55
                ],
                "position": [
                  0,
                  0
                ]
              },
              {
                "id": "37",
                "properties": {
                  "label": "rust"
                },
                "color": "#15AFAC",
                "styles": {},
                "label": "rust",
                "scale_factor": 1,
                "type": "#15AFAC",
                "size": [
                  55,
                  55
                ],
                "position": [
                  0,
                  0
                ]
              },
              {
                "id": "38",
                "properties": {
                  "label": "boiler"
                },
                "color": "#15AFAC",
                "styles": {},
                "label": "boiler",
                "scale_factor": 1,
                "type": "#15AFAC",
                "size": [
                  55,
                  55
                ],
                "position": [
                  0,
                  0
                ]
              },
              {
                "id": "39",
                "properties": {
                  "label": "bullet"
                },
                "color": "#15AFAC",
                "styles": {},
                "label": "bullet",
                "scale_factor": 1,
                "type": "#15AFAC",
                "size": [
                  55,
                  55
                ],
                "position": [
                  0,
                  0
                ]
              },
              {
                "id": "40",
                "properties": {
                  "label": "steel"
                },
                "color": "#15AFAC",
                "styles": {},
                "label": "steel",
                "scale_factor": 1,
                "type": "#15AFAC",
                "size": [
                  55,
                  55
                ],
                "position": [
                  0,
                  0
                ]
              },
              {
                "id": "41",
                "properties": {
                  "label": "time"
                },
                "color": "#15AFAC",
                "styles": {},
                "label": "time",
                "scale_factor": 1,
                "type": "#15AFAC",
                "size": [
                  55,
                  55
                ],
                "position": [
                  0,
                  0
                ]
              },
              {
                "id": "42",
                "properties": {
                  "label": "tree"
                },
                "color": "#15AFAC",
                "styles": {},
                "label": "tree",
                "scale_factor": 1,
                "type": "#15AFAC",
                "size": [
                  55,
                  55
                ],
                "position": [
                  0,
                  0
                ]
              },
              {
                "id": "43",
                "properties": {
                  "label": "swamp"
                },
                "color": "#15AFAC",
                "styles": {},
                "label": "swamp",
                "scale_factor": 1,
                "type": "#15AFAC",
                "size": [
                  55,
                  55
                ],
                "position": [
                  0,
                  0
                ]
              },
              {
                "id": "44",
                "properties": {
                  "label": "life"
                },
                "color": "#15AFAC",
                "styles": {},
                "label": "life",
                "scale_factor": 1,
                "type": "#15AFAC",
                "size": [
                  55,
                  55
                ],
                "position": [
                  0,
                  0
                ]
              },
              {
                "id": "45",
                "properties": {
                  "label": "plankton"
                },
                "color": "#15AFAC",
                "styles": {},
                "label": "plankton",
                "scale_factor": 1,
                "type": "#15AFAC",
                "size": [
                  55,
                  55
                ],
                "position": [
                  0,
                  0
                ]
              },
              {
                "id": "46",
                "properties": {
                  "label": "bird"
                },
                "color": "#15AFAC",
                "styles": {},
                "label": "bird",
                "scale_factor": 1,
                "type": "#15AFAC",
                "size": [
                  55,
                  55
                ],
                "position": [
                  0,
                  0
                ]
              },
              {
                "id": "47",
                "properties": {
                  "label": "phoenix"
                },
                "color": "#15AFAC",
                "styles": {},
                "label": "phoenix",
                "scale_factor": 1,
                "type": "#15AFAC",
                "size": [
                  55,
                  55
                ],
                "position": [
                  0,
                  0
                ]
              },
              {
                "id": "48",
                "properties": {
                  "label": "human"
                },
                "color": "#15AFAC",
                "styles": {},
                "label": "human",
                "scale_factor": 1,
                "type": "#15AFAC",
                "size": [
                  55,
                  55
                ],
                "position": [
                  0,
                  0
                ]
              },
              {
                "id": "49",
                "properties": {
                  "label": "egg"
                },
                "color": "#15AFAC",
                "styles": {},
                "label": "egg",
                "scale_factor": 1,
                "type": "#15AFAC",
                "size": [
                  55,
                  55
                ],
                "position": [
                  0,
                  0
                ]
              },
              {
                "id": "50",
                "properties": {
                  "label": "clay"
                },
                "color": "#15AFAC",
                "styles": {},
                "label": "clay",
                "scale_factor": 1,
                "type": "#15AFAC",
                "size": [
                  55,
                  55
                ],
                "position": [
                  0,
                  0
                ]
              }
            ],
            "_overview": {
              "enabled": null,
              "overview_set": false
            },
            "_selected_graph": [
              [],
              []
            ],
            "_sidebar": {
              "enabled": false,
              "start_with": null
            },
            "_view_count": null,
            "_view_module": "yfiles-jupyter-graphs",
            "_view_module_version": "^1.8.1",
            "_view_name": "GraphView",
            "layout": "IPY_MODEL_4cf51a0aed384a45a6912f9ef5b132dd",
            "tabbable": null,
            "tooltip": null
          }
        },
        "4cf51a0aed384a45a6912f9ef5b132dd": {
          "model_module": "@jupyter-widgets/base",
          "model_name": "LayoutModel",
          "model_module_version": "2.0.0",
          "state": {
            "_model_module": "@jupyter-widgets/base",
            "_model_module_version": "2.0.0",
            "_model_name": "LayoutModel",
            "_view_count": null,
            "_view_module": "@jupyter-widgets/base",
            "_view_module_version": "2.0.0",
            "_view_name": "LayoutView",
            "align_content": null,
            "align_items": null,
            "align_self": null,
            "border_bottom": null,
            "border_left": null,
            "border_right": null,
            "border_top": null,
            "bottom": null,
            "display": null,
            "flex": null,
            "flex_flow": null,
            "grid_area": null,
            "grid_auto_columns": null,
            "grid_auto_flow": null,
            "grid_auto_rows": null,
            "grid_column": null,
            "grid_gap": null,
            "grid_row": null,
            "grid_template_areas": null,
            "grid_template_columns": null,
            "grid_template_rows": null,
            "height": "800px",
            "justify_content": null,
            "justify_items": null,
            "left": null,
            "margin": null,
            "max_height": null,
            "max_width": null,
            "min_height": null,
            "min_width": null,
            "object_fit": null,
            "object_position": null,
            "order": null,
            "overflow": null,
            "padding": null,
            "right": null,
            "top": null,
            "visibility": null,
            "width": "100%"
          }
        },
        "fb360f3ed7b6416bad8fbdf69eb0fbe1": {
          "model_module": "yfiles-jupyter-graphs",
          "model_name": "GraphModel",
          "model_module_version": "^1.8.1",
          "state": {
            "_context_pane_mapping": [
              {
                "id": "Neighborhood",
                "title": "Neighborhood"
              },
              {
                "id": "Data",
                "title": "Data"
              },
              {
                "id": "Search",
                "title": "Search"
              },
              {
                "id": "About",
                "title": "About"
              }
            ],
            "_data_importer": "unknown",
            "_directed": true,
            "_dom_classes": [],
            "_edges": [
              {
                "start": "2",
                "end": "2",
                "properties": {
                  "label": "+ coal"
                },
                "label": "+ coal",
                "color": "grey",
                "thickness_factor": 1,
                "directed": true
              },
              {
                "start": "30",
                "end": "2",
                "properties": {
                  "label": "+ fire"
                },
                "label": "+ fire",
                "color": "grey",
                "thickness_factor": 1,
                "directed": true
              },
              {
                "start": "1",
                "end": "5",
                "properties": {
                  "label": "+ fire"
                },
                "label": "+ fire",
                "color": "grey",
                "thickness_factor": 1,
                "directed": true
              },
              {
                "start": "2",
                "end": "5",
                "properties": {
                  "label": "+ water"
                },
                "label": "+ water",
                "color": "grey",
                "thickness_factor": 1,
                "directed": true
              },
              {
                "start": "1",
                "end": "5",
                "properties": {
                  "label": "+ lava"
                },
                "label": "+ lava",
                "color": "grey",
                "thickness_factor": 1,
                "directed": true
              },
              {
                "start": "6",
                "end": "5",
                "properties": {
                  "label": "+ water"
                },
                "label": "+ water",
                "color": "grey",
                "thickness_factor": 1,
                "directed": true
              },
              {
                "start": "2",
                "end": "6",
                "properties": {
                  "label": "+ earth"
                },
                "label": "+ earth",
                "color": "grey",
                "thickness_factor": 1,
                "directed": true
              },
              {
                "start": "3",
                "end": "6",
                "properties": {
                  "label": "+ fire"
                },
                "label": "+ fire",
                "color": "grey",
                "thickness_factor": 1,
                "directed": true
              },
              {
                "start": "4",
                "end": "7",
                "properties": {
                  "label": "+ air"
                },
                "label": "+ air",
                "color": "grey",
                "thickness_factor": 1,
                "directed": true
              },
              {
                "start": "10",
                "end": "7",
                "properties": {
                  "label": "+ ocean"
                },
                "label": "+ ocean",
                "color": "grey",
                "thickness_factor": 1,
                "directed": true
              },
              {
                "start": "3",
                "end": "8",
                "properties": {
                  "label": "+ lava"
                },
                "label": "+ lava",
                "color": "grey",
                "thickness_factor": 1,
                "directed": true
              },
              {
                "start": "6",
                "end": "8",
                "properties": {
                  "label": "+ earth"
                },
                "label": "+ earth",
                "color": "grey",
                "thickness_factor": 1,
                "directed": true
              },
              {
                "start": "1",
                "end": "10",
                "properties": {
                  "label": "+ sea"
                },
                "label": "+ sea",
                "color": "grey",
                "thickness_factor": 1,
                "directed": true
              },
              {
                "start": "9",
                "end": "10",
                "properties": {
                  "label": "+ water"
                },
                "label": "+ water",
                "color": "grey",
                "thickness_factor": 1,
                "directed": true
              },
              {
                "start": "9",
                "end": "10",
                "properties": {
                  "label": "+ sea"
                },
                "label": "+ sea",
                "color": "grey",
                "thickness_factor": 1,
                "directed": true
              },
              {
                "start": "2",
                "end": "11",
                "properties": {
                  "label": "+ fire"
                },
                "label": "+ fire",
                "color": "grey",
                "thickness_factor": 1,
                "directed": true
              },
              {
                "start": "1",
                "end": "12",
                "properties": {
                  "label": "+ earth"
                },
                "label": "+ earth",
                "color": "grey",
                "thickness_factor": 1,
                "directed": true
              },
              {
                "start": "3",
                "end": "12",
                "properties": {
                  "label": "+ water"
                },
                "label": "+ water",
                "color": "grey",
                "thickness_factor": 1,
                "directed": true
              },
              {
                "start": "7",
                "end": "13",
                "properties": {
                  "label": "+ cloud"
                },
                "label": "+ cloud",
                "color": "grey",
                "thickness_factor": 1,
                "directed": true
              },
              {
                "start": "15",
                "end": "13",
                "properties": {
                  "label": "+ pressure"
                },
                "label": "+ pressure",
                "color": "grey",
                "thickness_factor": 1,
                "directed": true
              },
              {
                "start": "1",
                "end": "13",
                "properties": {
                  "label": "+ cloud"
                },
                "label": "+ cloud",
                "color": "grey",
                "thickness_factor": 1,
                "directed": true
              },
              {
                "start": "15",
                "end": "13",
                "properties": {
                  "label": "+ water"
                },
                "label": "+ water",
                "color": "grey",
                "thickness_factor": 1,
                "directed": true
              },
              {
                "start": "3",
                "end": "14",
                "properties": {
                  "label": "+ air"
                },
                "label": "+ air",
                "color": "grey",
                "thickness_factor": 1,
                "directed": true
              },
              {
                "start": "4",
                "end": "14",
                "properties": {
                  "label": "+ earth"
                },
                "label": "+ earth",
                "color": "grey",
                "thickness_factor": 1,
                "directed": true
              },
              {
                "start": "1",
                "end": "15",
                "properties": {
                  "label": "+ sky"
                },
                "label": "+ sky",
                "color": "grey",
                "thickness_factor": 1,
                "directed": true
              },
              {
                "start": "22",
                "end": "15",
                "properties": {
                  "label": "+ water"
                },
                "label": "+ water",
                "color": "grey",
                "thickness_factor": 1,
                "directed": true
              },
              {
                "start": "15",
                "end": "16",
                "properties": {
                  "label": "+ cloud"
                },
                "label": "+ cloud",
                "color": "grey",
                "thickness_factor": 1,
                "directed": true
              },
              {
                "start": "13",
                "end": "16",
                "properties": {
                  "label": "+ wind"
                },
                "label": "+ wind",
                "color": "grey",
                "thickness_factor": 1,
                "directed": true
              },
              {
                "start": "20",
                "end": "16",
                "properties": {
                  "label": "+ rain"
                },
                "label": "+ rain",
                "color": "grey",
                "thickness_factor": 1,
                "directed": true
              },
              {
                "start": "3",
                "end": "17",
                "properties": {
                  "label": "+ steam"
                },
                "label": "+ steam",
                "color": "grey",
                "thickness_factor": 1,
                "directed": true
              },
              {
                "start": "5",
                "end": "17",
                "properties": {
                  "label": "+ earth"
                },
                "label": "+ earth",
                "color": "grey",
                "thickness_factor": 1,
                "directed": true
              },
              {
                "start": "5",
                "end": "17",
                "properties": {
                  "label": "+ pressure"
                },
                "label": "+ pressure",
                "color": "grey",
                "thickness_factor": 1,
                "directed": true
              },
              {
                "start": "7",
                "end": "17",
                "properties": {
                  "label": "+ steam"
                },
                "label": "+ steam",
                "color": "grey",
                "thickness_factor": 1,
                "directed": true
              },
              {
                "start": "8",
                "end": "18",
                "properties": {
                  "label": "+ ocean"
                },
                "label": "+ ocean",
                "color": "grey",
                "thickness_factor": 1,
                "directed": true
              },
              {
                "start": "10",
                "end": "18",
                "properties": {
                  "label": "+ volcano"
                },
                "label": "+ volcano",
                "color": "grey",
                "thickness_factor": 1,
                "directed": true
              },
              {
                "start": "8",
                "end": "18",
                "properties": {
                  "label": "+ sea"
                },
                "label": "+ sea",
                "color": "grey",
                "thickness_factor": 1,
                "directed": true
              },
              {
                "start": "9",
                "end": "18",
                "properties": {
                  "label": "+ volcano"
                },
                "label": "+ volcano",
                "color": "grey",
                "thickness_factor": 1,
                "directed": true
              },
              {
                "start": "3",
                "end": "19",
                "properties": {
                  "label": "+ energy"
                },
                "label": "+ energy",
                "color": "grey",
                "thickness_factor": 1,
                "directed": true
              },
              {
                "start": "11",
                "end": "19",
                "properties": {
                  "label": "+ earth"
                },
                "label": "+ earth",
                "color": "grey",
                "thickness_factor": 1,
                "directed": true
              },
              {
                "start": "4",
                "end": "20",
                "properties": {
                  "label": "+ pressure"
                },
                "label": "+ pressure",
                "color": "grey",
                "thickness_factor": 1,
                "directed": true
              },
              {
                "start": "7",
                "end": "20",
                "properties": {
                  "label": "+ air"
                },
                "label": "+ air",
                "color": "grey",
                "thickness_factor": 1,
                "directed": true
              },
              {
                "start": "7",
                "end": "21",
                "properties": {
                  "label": "+ volcano"
                },
                "label": "+ volcano",
                "color": "grey",
                "thickness_factor": 1,
                "directed": true
              },
              {
                "start": "8",
                "end": "21",
                "properties": {
                  "label": "+ pressure"
                },
                "label": "+ pressure",
                "color": "grey",
                "thickness_factor": 1,
                "directed": true
              },
              {
                "start": "6",
                "end": "21",
                "properties": {
                  "label": "+ pressure"
                },
                "label": "+ pressure",
                "color": "grey",
                "thickness_factor": 1,
                "directed": true
              },
              {
                "start": "7",
                "end": "21",
                "properties": {
                  "label": "+ lava"
                },
                "label": "+ lava",
                "color": "grey",
                "thickness_factor": 1,
                "directed": true
              },
              {
                "start": "8",
                "end": "21",
                "properties": {
                  "label": "+ time"
                },
                "label": "+ time",
                "color": "grey",
                "thickness_factor": 1,
                "directed": true
              },
              {
                "start": "41",
                "end": "21",
                "properties": {
                  "label": "+ volcano"
                },
                "label": "+ volcano",
                "color": "grey",
                "thickness_factor": 1,
                "directed": true
              },
              {
                "start": "4",
                "end": "22",
                "properties": {
                  "label": "+ cloud"
                },
                "label": "+ cloud",
                "color": "grey",
                "thickness_factor": 1,
                "directed": true
              },
              {
                "start": "15",
                "end": "22",
                "properties": {
                  "label": "+ air"
                },
                "label": "+ air",
                "color": "grey",
                "thickness_factor": 1,
                "directed": true
              },
              {
                "start": "16",
                "end": "23",
                "properties": {
                  "label": "+ storm"
                },
                "label": "+ storm",
                "color": "grey",
                "thickness_factor": 1,
                "directed": true
              },
              {
                "start": "16",
                "end": "23",
                "properties": {
                  "label": "+ wind"
                },
                "label": "+ wind",
                "color": "grey",
                "thickness_factor": 1,
                "directed": true
              },
              {
                "start": "20",
                "end": "23",
                "properties": {
                  "label": "+ storm"
                },
                "label": "+ storm",
                "color": "grey",
                "thickness_factor": 1,
                "directed": true
              },
              {
                "start": "20",
                "end": "23",
                "properties": {
                  "label": "+ wind"
                },
                "label": "+ wind",
                "color": "grey",
                "thickness_factor": 1,
                "directed": true
              },
              {
                "start": "2",
                "end": "25",
                "properties": {
                  "label": "+ dust"
                },
                "label": "+ dust",
                "color": "grey",
                "thickness_factor": 1,
                "directed": true
              },
              {
                "start": "14",
                "end": "25",
                "properties": {
                  "label": "+ fire"
                },
                "label": "+ fire",
                "color": "grey",
                "thickness_factor": 1,
                "directed": true
              },
              {
                "start": "11",
                "end": "25",
                "properties": {
                  "label": "+ dust"
                },
                "label": "+ dust",
                "color": "grey",
                "thickness_factor": 1,
                "directed": true
              },
              {
                "start": "14",
                "end": "25",
                "properties": {
                  "label": "+ energy"
                },
                "label": "+ energy",
                "color": "grey",
                "thickness_factor": 1,
                "directed": true
              },
              {
                "start": "2",
                "end": "26",
                "properties": {
                  "label": "+ gunpowder"
                },
                "label": "+ gunpowder",
                "color": "grey",
                "thickness_factor": 1,
                "directed": true
              },
              {
                "start": "25",
                "end": "26",
                "properties": {
                  "label": "+ fire"
                },
                "label": "+ fire",
                "color": "grey",
                "thickness_factor": 1,
                "directed": true
              },
              {
                "start": "7",
                "end": "26",
                "properties": {
                  "label": "+ volcano"
                },
                "label": "+ volcano",
                "color": "grey",
                "thickness_factor": 1,
                "directed": true
              },
              {
                "start": "8",
                "end": "26",
                "properties": {
                  "label": "+ pressure"
                },
                "label": "+ pressure",
                "color": "grey",
                "thickness_factor": 1,
                "directed": true
              },
              {
                "start": "3",
                "end": "27",
                "properties": {
                  "label": "+ pressure"
                },
                "label": "+ pressure",
                "color": "grey",
                "thickness_factor": 1,
                "directed": true
              },
              {
                "start": "7",
                "end": "27",
                "properties": {
                  "label": "+ earth"
                },
                "label": "+ earth",
                "color": "grey",
                "thickness_factor": 1,
                "directed": true
              },
              {
                "start": "4",
                "end": "27",
                "properties": {
                  "label": "+ lava"
                },
                "label": "+ lava",
                "color": "grey",
                "thickness_factor": 1,
                "directed": true
              },
              {
                "start": "6",
                "end": "27",
                "properties": {
                  "label": "+ air"
                },
                "label": "+ air",
                "color": "grey",
                "thickness_factor": 1,
                "directed": true
              },
              {
                "start": "4",
                "end": "28",
                "properties": {
                  "label": "+ stone"
                },
                "label": "+ stone",
                "color": "grey",
                "thickness_factor": 1,
                "directed": true
              },
              {
                "start": "27",
                "end": "28",
                "properties": {
                  "label": "+ air"
                },
                "label": "+ air",
                "color": "grey",
                "thickness_factor": 1,
                "directed": true
              },
              {
                "start": "20",
                "end": "28",
                "properties": {
                  "label": "+ stone"
                },
                "label": "+ stone",
                "color": "grey",
                "thickness_factor": 1,
                "directed": true
              },
              {
                "start": "27",
                "end": "28",
                "properties": {
                  "label": "+ wind"
                },
                "label": "+ wind",
                "color": "grey",
                "thickness_factor": 1,
                "directed": true
              },
              {
                "start": "2",
                "end": "29",
                "properties": {
                  "label": "+ plant"
                },
                "label": "+ plant",
                "color": "grey",
                "thickness_factor": 1,
                "directed": true
              },
              {
                "start": "24",
                "end": "29",
                "properties": {
                  "label": "+ fire"
                },
                "label": "+ fire",
                "color": "grey",
                "thickness_factor": 1,
                "directed": true
              },
              {
                "start": "2",
                "end": "29",
                "properties": {
                  "label": "+ tree"
                },
                "label": "+ tree",
                "color": "grey",
                "thickness_factor": 1,
                "directed": true
              },
              {
                "start": "42",
                "end": "29",
                "properties": {
                  "label": "+ fire"
                },
                "label": "+ fire",
                "color": "grey",
                "thickness_factor": 1,
                "directed": true
              },
              {
                "start": "7",
                "end": "31",
                "properties": {
                  "label": "+ coal"
                },
                "label": "+ coal",
                "color": "grey",
                "thickness_factor": 1,
                "directed": true
              },
              {
                "start": "30",
                "end": "31",
                "properties": {
                  "label": "+ pressure"
                },
                "label": "+ pressure",
                "color": "grey",
                "thickness_factor": 1,
                "directed": true
              },
              {
                "start": "2",
                "end": "32",
                "properties": {
                  "label": "+ sand"
                },
                "label": "+ sand",
                "color": "grey",
                "thickness_factor": 1,
                "directed": true
              },
              {
                "start": "28",
                "end": "32",
                "properties": {
                  "label": "+ fire"
                },
                "label": "+ fire",
                "color": "grey",
                "thickness_factor": 1,
                "directed": true
              },
              {
                "start": "28",
                "end": "33",
                "properties": {
                  "label": "+ glass"
                },
                "label": "+ glass",
                "color": "grey",
                "thickness_factor": 1,
                "directed": true
              },
              {
                "start": "32",
                "end": "33",
                "properties": {
                  "label": "+ sand"
                },
                "label": "+ sand",
                "color": "grey",
                "thickness_factor": 1,
                "directed": true
              },
              {
                "start": "28",
                "end": "33",
                "properties": {
                  "label": "+ time"
                },
                "label": "+ time",
                "color": "grey",
                "thickness_factor": 1,
                "directed": true
              },
              {
                "start": "41",
                "end": "33",
                "properties": {
                  "label": "+ sand"
                },
                "label": "+ sand",
                "color": "grey",
                "thickness_factor": 1,
                "directed": true
              },
              {
                "start": "32",
                "end": "33",
                "properties": {
                  "label": "+ time"
                },
                "label": "+ time",
                "color": "grey",
                "thickness_factor": 1,
                "directed": true
              },
              {
                "start": "41",
                "end": "33",
                "properties": {
                  "label": "+ glass"
                },
                "label": "+ glass",
                "color": "grey",
                "thickness_factor": 1,
                "directed": true
              },
              {
                "start": "1",
                "end": "34",
                "properties": {
                  "label": "+ glass"
                },
                "label": "+ glass",
                "color": "grey",
                "thickness_factor": 1,
                "directed": true
              },
              {
                "start": "32",
                "end": "34",
                "properties": {
                  "label": "+ water"
                },
                "label": "+ water",
                "color": "grey",
                "thickness_factor": 1,
                "directed": true
              },
              {
                "start": "24",
                "end": "35",
                "properties": {
                  "label": "+ glass"
                },
                "label": "+ glass",
                "color": "grey",
                "thickness_factor": 1,
                "directed": true
              },
              {
                "start": "32",
                "end": "35",
                "properties": {
                  "label": "+ plant"
                },
                "label": "+ plant",
                "color": "grey",
                "thickness_factor": 1,
                "directed": true
              },
              {
                "start": "32",
                "end": "35",
                "properties": {
                  "label": "+ tree"
                },
                "label": "+ tree",
                "color": "grey",
                "thickness_factor": 1,
                "directed": true
              },
              {
                "start": "42",
                "end": "35",
                "properties": {
                  "label": "+ glass"
                },
                "label": "+ glass",
                "color": "grey",
                "thickness_factor": 1,
                "directed": true
              },
              {
                "start": "24",
                "end": "35",
                "properties": {
                  "label": "+ aquarium"
                },
                "label": "+ aquarium",
                "color": "grey",
                "thickness_factor": 1,
                "directed": true
              },
              {
                "start": "34",
                "end": "35",
                "properties": {
                  "label": "+ plant"
                },
                "label": "+ plant",
                "color": "grey",
                "thickness_factor": 1,
                "directed": true
              },
              {
                "start": "34",
                "end": "35",
                "properties": {
                  "label": "+ tree"
                },
                "label": "+ tree",
                "color": "grey",
                "thickness_factor": 1,
                "directed": true
              },
              {
                "start": "42",
                "end": "35",
                "properties": {
                  "label": "+ aquarium"
                },
                "label": "+ aquarium",
                "color": "grey",
                "thickness_factor": 1,
                "directed": true
              },
              {
                "start": "2",
                "end": "36",
                "properties": {
                  "label": "+ stone"
                },
                "label": "+ stone",
                "color": "grey",
                "thickness_factor": 1,
                "directed": true
              },
              {
                "start": "27",
                "end": "36",
                "properties": {
                  "label": "+ fire"
                },
                "label": "+ fire",
                "color": "grey",
                "thickness_factor": 1,
                "directed": true
              },
              {
                "start": "4",
                "end": "37",
                "properties": {
                  "label": "+ metal"
                },
                "label": "+ metal",
                "color": "grey",
                "thickness_factor": 1,
                "directed": true
              },
              {
                "start": "36",
                "end": "37",
                "properties": {
                  "label": "+ air"
                },
                "label": "+ air",
                "color": "grey",
                "thickness_factor": 1,
                "directed": true
              },
              {
                "start": "4",
                "end": "37",
                "properties": {
                  "label": "+ steel"
                },
                "label": "+ steel",
                "color": "grey",
                "thickness_factor": 1,
                "directed": true
              },
              {
                "start": "40",
                "end": "37",
                "properties": {
                  "label": "+ air"
                },
                "label": "+ air",
                "color": "grey",
                "thickness_factor": 1,
                "directed": true
              },
              {
                "start": "7",
                "end": "38",
                "properties": {
                  "label": "+ metal"
                },
                "label": "+ metal",
                "color": "grey",
                "thickness_factor": 1,
                "directed": true
              },
              {
                "start": "36",
                "end": "38",
                "properties": {
                  "label": "+ pressure"
                },
                "label": "+ pressure",
                "color": "grey",
                "thickness_factor": 1,
                "directed": true
              },
              {
                "start": "5",
                "end": "38",
                "properties": {
                  "label": "+ metal"
                },
                "label": "+ metal",
                "color": "grey",
                "thickness_factor": 1,
                "directed": true
              },
              {
                "start": "36",
                "end": "38",
                "properties": {
                  "label": "+ steam"
                },
                "label": "+ steam",
                "color": "grey",
                "thickness_factor": 1,
                "directed": true
              },
              {
                "start": "25",
                "end": "39",
                "properties": {
                  "label": "+ metal"
                },
                "label": "+ metal",
                "color": "grey",
                "thickness_factor": 1,
                "directed": true
              },
              {
                "start": "36",
                "end": "39",
                "properties": {
                  "label": "+ gunpowder"
                },
                "label": "+ gunpowder",
                "color": "grey",
                "thickness_factor": 1,
                "directed": true
              },
              {
                "start": "25",
                "end": "39",
                "properties": {
                  "label": "+ steel"
                },
                "label": "+ steel",
                "color": "grey",
                "thickness_factor": 1,
                "directed": true
              },
              {
                "start": "40",
                "end": "39",
                "properties": {
                  "label": "+ gunpowder"
                },
                "label": "+ gunpowder",
                "color": "grey",
                "thickness_factor": 1,
                "directed": true
              },
              {
                "start": "30",
                "end": "40",
                "properties": {
                  "label": "+ metal"
                },
                "label": "+ metal",
                "color": "grey",
                "thickness_factor": 1,
                "directed": true
              },
              {
                "start": "36",
                "end": "40",
                "properties": {
                  "label": "+ coal"
                },
                "label": "+ coal",
                "color": "grey",
                "thickness_factor": 1,
                "directed": true
              },
              {
                "start": "29",
                "end": "40",
                "properties": {
                  "label": "+ metal"
                },
                "label": "+ metal",
                "color": "grey",
                "thickness_factor": 1,
                "directed": true
              },
              {
                "start": "36",
                "end": "40",
                "properties": {
                  "label": "+ ash"
                },
                "label": "+ ash",
                "color": "grey",
                "thickness_factor": 1,
                "directed": true
              },
              {
                "start": "24",
                "end": "42",
                "properties": {
                  "label": "+ time"
                },
                "label": "+ time",
                "color": "grey",
                "thickness_factor": 1,
                "directed": true
              },
              {
                "start": "41",
                "end": "42",
                "properties": {
                  "label": "+ plant"
                },
                "label": "+ plant",
                "color": "grey",
                "thickness_factor": 1,
                "directed": true
              },
              {
                "start": "12",
                "end": "43",
                "properties": {
                  "label": "+ tree"
                },
                "label": "+ tree",
                "color": "grey",
                "thickness_factor": 1,
                "directed": true
              },
              {
                "start": "42",
                "end": "43",
                "properties": {
                  "label": "+ mud"
                },
                "label": "+ mud",
                "color": "grey",
                "thickness_factor": 1,
                "directed": true
              },
              {
                "start": "1",
                "end": "45",
                "properties": {
                  "label": "+ life"
                },
                "label": "+ life",
                "color": "grey",
                "thickness_factor": 1,
                "directed": true
              },
              {
                "start": "44",
                "end": "45",
                "properties": {
                  "label": "+ water"
                },
                "label": "+ water",
                "color": "grey",
                "thickness_factor": 1,
                "directed": true
              },
              {
                "start": "10",
                "end": "45",
                "properties": {
                  "label": "+ life"
                },
                "label": "+ life",
                "color": "grey",
                "thickness_factor": 1,
                "directed": true
              },
              {
                "start": "44",
                "end": "45",
                "properties": {
                  "label": "+ ocean"
                },
                "label": "+ ocean",
                "color": "grey",
                "thickness_factor": 1,
                "directed": true
              },
              {
                "start": "9",
                "end": "45",
                "properties": {
                  "label": "+ life"
                },
                "label": "+ life",
                "color": "grey",
                "thickness_factor": 1,
                "directed": true
              },
              {
                "start": "44",
                "end": "45",
                "properties": {
                  "label": "+ sea"
                },
                "label": "+ sea",
                "color": "grey",
                "thickness_factor": 1,
                "directed": true
              },
              {
                "start": "22",
                "end": "46",
                "properties": {
                  "label": "+ egg"
                },
                "label": "+ egg",
                "color": "grey",
                "thickness_factor": 1,
                "directed": true
              },
              {
                "start": "49",
                "end": "46",
                "properties": {
                  "label": "+ sky"
                },
                "label": "+ sky",
                "color": "grey",
                "thickness_factor": 1,
                "directed": true
              },
              {
                "start": "4",
                "end": "46",
                "properties": {
                  "label": "+ egg"
                },
                "label": "+ egg",
                "color": "grey",
                "thickness_factor": 1,
                "directed": true
              },
              {
                "start": "49",
                "end": "46",
                "properties": {
                  "label": "+ air"
                },
                "label": "+ air",
                "color": "grey",
                "thickness_factor": 1,
                "directed": true
              },
              {
                "start": "2",
                "end": "47",
                "properties": {
                  "label": "+ bird"
                },
                "label": "+ bird",
                "color": "grey",
                "thickness_factor": 1,
                "directed": true
              },
              {
                "start": "46",
                "end": "47",
                "properties": {
                  "label": "+ fire"
                },
                "label": "+ fire",
                "color": "grey",
                "thickness_factor": 1,
                "directed": true
              },
              {
                "start": "2",
                "end": "47",
                "properties": {
                  "label": "+ life"
                },
                "label": "+ life",
                "color": "grey",
                "thickness_factor": 1,
                "directed": true
              },
              {
                "start": "44",
                "end": "47",
                "properties": {
                  "label": "+ fire"
                },
                "label": "+ fire",
                "color": "grey",
                "thickness_factor": 1,
                "directed": true
              },
              {
                "start": "2",
                "end": "47",
                "properties": {
                  "label": "+ egg"
                },
                "label": "+ egg",
                "color": "grey",
                "thickness_factor": 1,
                "directed": true
              },
              {
                "start": "49",
                "end": "47",
                "properties": {
                  "label": "+ fire"
                },
                "label": "+ fire",
                "color": "grey",
                "thickness_factor": 1,
                "directed": true
              },
              {
                "start": "44",
                "end": "48",
                "properties": {
                  "label": "+ clay"
                },
                "label": "+ clay",
                "color": "grey",
                "thickness_factor": 1,
                "directed": true
              },
              {
                "start": "50",
                "end": "48",
                "properties": {
                  "label": "+ life"
                },
                "label": "+ life",
                "color": "grey",
                "thickness_factor": 1,
                "directed": true
              },
              {
                "start": "46",
                "end": "49",
                "properties": {
                  "label": "+ bird"
                },
                "label": "+ bird",
                "color": "grey",
                "thickness_factor": 1,
                "directed": true
              },
              {
                "start": "47",
                "end": "49",
                "properties": {
                  "label": "+ phoenix"
                },
                "label": "+ phoenix",
                "color": "grey",
                "thickness_factor": 1,
                "directed": true
              },
              {
                "start": "12",
                "end": "50",
                "properties": {
                  "label": "+ sand"
                },
                "label": "+ sand",
                "color": "grey",
                "thickness_factor": 1,
                "directed": true
              },
              {
                "start": "28",
                "end": "50",
                "properties": {
                  "label": "+ mud"
                },
                "label": "+ mud",
                "color": "grey",
                "thickness_factor": 1,
                "directed": true
              },
              {
                "start": "12",
                "end": "50",
                "properties": {
                  "label": "+ stone"
                },
                "label": "+ stone",
                "color": "grey",
                "thickness_factor": 1,
                "directed": true
              },
              {
                "start": "27",
                "end": "50",
                "properties": {
                  "label": "+ mud"
                },
                "label": "+ mud",
                "color": "grey",
                "thickness_factor": 1,
                "directed": true
              }
            ],
            "_graph_layout": {
              "algorithm": "hierarchic",
              "options": {}
            },
            "_highlight": [],
            "_license": {},
            "_model_module": "yfiles-jupyter-graphs",
            "_model_module_version": "^1.8.1",
            "_model_name": "GraphModel",
            "_neighborhood": {},
            "_nodes": [
              {
                "id": "1",
                "properties": {
                  "label": "water"
                },
                "color": "#15AFAC",
                "styles": {
                  "image": "https://littlealchemy2.com/static/icons/1.svg"
                },
                "label": "water",
                "scale_factor": 1,
                "type": "#15AFAC",
                "size": [
                  80,
                  80
                ],
                "position": [
                  0,
                  0
                ]
              },
              {
                "id": "2",
                "properties": {
                  "label": "fire"
                },
                "color": "#15AFAC",
                "styles": {
                  "image": "https://littlealchemy2.com/static/icons/2.svg"
                },
                "label": "fire",
                "scale_factor": 1,
                "type": "#15AFAC",
                "size": [
                  80,
                  80
                ],
                "position": [
                  0,
                  0
                ]
              },
              {
                "id": "3",
                "properties": {
                  "label": "earth"
                },
                "color": "#15AFAC",
                "styles": {
                  "image": "https://littlealchemy2.com/static/icons/3.svg"
                },
                "label": "earth",
                "scale_factor": 1,
                "type": "#15AFAC",
                "size": [
                  80,
                  80
                ],
                "position": [
                  0,
                  0
                ]
              },
              {
                "id": "4",
                "properties": {
                  "label": "air"
                },
                "color": "#15AFAC",
                "styles": {
                  "image": "https://littlealchemy2.com/static/icons/4.svg"
                },
                "label": "air",
                "scale_factor": 1,
                "type": "#15AFAC",
                "size": [
                  80,
                  80
                ],
                "position": [
                  0,
                  0
                ]
              },
              {
                "id": "5",
                "properties": {
                  "label": "steam"
                },
                "color": "#15AFAC",
                "styles": {
                  "image": "https://littlealchemy2.com/static/icons/5.svg"
                },
                "label": "steam",
                "scale_factor": 1,
                "type": "#15AFAC",
                "size": [
                  55,
                  55
                ],
                "position": [
                  0,
                  0
                ]
              },
              {
                "id": "6",
                "properties": {
                  "label": "lava"
                },
                "color": "#15AFAC",
                "styles": {
                  "image": "https://littlealchemy2.com/static/icons/6.svg"
                },
                "label": "lava",
                "scale_factor": 1,
                "type": "#15AFAC",
                "size": [
                  55,
                  55
                ],
                "position": [
                  0,
                  0
                ]
              },
              {
                "id": "7",
                "properties": {
                  "label": "pressure"
                },
                "color": "#15AFAC",
                "styles": {
                  "image": "https://littlealchemy2.com/static/icons/7.svg"
                },
                "label": "pressure",
                "scale_factor": 1,
                "type": "#15AFAC",
                "size": [
                  55,
                  55
                ],
                "position": [
                  0,
                  0
                ]
              },
              {
                "id": "8",
                "properties": {
                  "label": "volcano"
                },
                "color": "#15AFAC",
                "styles": {
                  "image": "https://littlealchemy2.com/static/icons/8.svg"
                },
                "label": "volcano",
                "scale_factor": 1,
                "type": "#15AFAC",
                "size": [
                  55,
                  55
                ],
                "position": [
                  0,
                  0
                ]
              },
              {
                "id": "9",
                "properties": {
                  "label": "sea"
                },
                "color": "#15AFAC",
                "styles": {
                  "image": "https://littlealchemy2.com/static/icons/9.svg"
                },
                "label": "sea",
                "scale_factor": 1,
                "type": "#15AFAC",
                "size": [
                  55,
                  55
                ],
                "position": [
                  0,
                  0
                ]
              },
              {
                "id": "10",
                "properties": {
                  "label": "ocean"
                },
                "color": "#15AFAC",
                "styles": {
                  "image": "https://littlealchemy2.com/static/icons/10.svg"
                },
                "label": "ocean",
                "scale_factor": 1,
                "type": "#15AFAC",
                "size": [
                  55,
                  55
                ],
                "position": [
                  0,
                  0
                ]
              },
              {
                "id": "11",
                "properties": {
                  "label": "energy"
                },
                "color": "#15AFAC",
                "styles": {
                  "image": "https://littlealchemy2.com/static/icons/11.svg"
                },
                "label": "energy",
                "scale_factor": 1,
                "type": "#15AFAC",
                "size": [
                  55,
                  55
                ],
                "position": [
                  0,
                  0
                ]
              },
              {
                "id": "12",
                "properties": {
                  "label": "mud"
                },
                "color": "#15AFAC",
                "styles": {
                  "image": "https://littlealchemy2.com/static/icons/12.svg"
                },
                "label": "mud",
                "scale_factor": 1,
                "type": "#15AFAC",
                "size": [
                  55,
                  55
                ],
                "position": [
                  0,
                  0
                ]
              },
              {
                "id": "13",
                "properties": {
                  "label": "rain"
                },
                "color": "#15AFAC",
                "styles": {
                  "image": "https://littlealchemy2.com/static/icons/13.svg"
                },
                "label": "rain",
                "scale_factor": 1,
                "type": "#15AFAC",
                "size": [
                  55,
                  55
                ],
                "position": [
                  0,
                  0
                ]
              },
              {
                "id": "14",
                "properties": {
                  "label": "dust"
                },
                "color": "#15AFAC",
                "styles": {
                  "image": "https://littlealchemy2.com/static/icons/14.svg"
                },
                "label": "dust",
                "scale_factor": 1,
                "type": "#15AFAC",
                "size": [
                  55,
                  55
                ],
                "position": [
                  0,
                  0
                ]
              },
              {
                "id": "15",
                "properties": {
                  "label": "cloud"
                },
                "color": "#15AFAC",
                "styles": {
                  "image": "https://littlealchemy2.com/static/icons/15.svg"
                },
                "label": "cloud",
                "scale_factor": 1,
                "type": "#15AFAC",
                "size": [
                  55,
                  55
                ],
                "position": [
                  0,
                  0
                ]
              },
              {
                "id": "16",
                "properties": {
                  "label": "storm"
                },
                "color": "#15AFAC",
                "styles": {
                  "image": "https://littlealchemy2.com/static/icons/16.svg"
                },
                "label": "storm",
                "scale_factor": 1,
                "type": "#15AFAC",
                "size": [
                  55,
                  55
                ],
                "position": [
                  0,
                  0
                ]
              },
              {
                "id": "17",
                "properties": {
                  "label": "geyser"
                },
                "color": "#15AFAC",
                "styles": {
                  "image": "https://littlealchemy2.com/static/icons/17.svg"
                },
                "label": "geyser",
                "scale_factor": 1,
                "type": "#15AFAC",
                "size": [
                  55,
                  55
                ],
                "position": [
                  0,
                  0
                ]
              },
              {
                "id": "18",
                "properties": {
                  "label": "island"
                },
                "color": "#15AFAC",
                "styles": {
                  "image": "https://littlealchemy2.com/static/icons/18.svg"
                },
                "label": "island",
                "scale_factor": 1,
                "type": "#15AFAC",
                "size": [
                  55,
                  55
                ],
                "position": [
                  0,
                  0
                ]
              },
              {
                "id": "19",
                "properties": {
                  "label": "earthquake"
                },
                "color": "#15AFAC",
                "styles": {
                  "image": "https://littlealchemy2.com/static/icons/19.svg"
                },
                "label": "earthquake",
                "scale_factor": 1,
                "type": "#15AFAC",
                "size": [
                  55,
                  55
                ],
                "position": [
                  0,
                  0
                ]
              },
              {
                "id": "20",
                "properties": {
                  "label": "wind"
                },
                "color": "#15AFAC",
                "styles": {
                  "image": "https://littlealchemy2.com/static/icons/20.svg"
                },
                "label": "wind",
                "scale_factor": 1,
                "type": "#15AFAC",
                "size": [
                  55,
                  55
                ],
                "position": [
                  0,
                  0
                ]
              },
              {
                "id": "21",
                "properties": {
                  "label": "eruption"
                },
                "color": "#15AFAC",
                "styles": {
                  "image": "https://littlealchemy2.com/static/icons/21.svg"
                },
                "label": "eruption",
                "scale_factor": 1,
                "type": "#15AFAC",
                "size": [
                  55,
                  55
                ],
                "position": [
                  0,
                  0
                ]
              },
              {
                "id": "22",
                "properties": {
                  "label": "sky"
                },
                "color": "#15AFAC",
                "styles": {
                  "image": "https://littlealchemy2.com/static/icons/22.svg"
                },
                "label": "sky",
                "scale_factor": 1,
                "type": "#15AFAC",
                "size": [
                  55,
                  55
                ],
                "position": [
                  0,
                  0
                ]
              },
              {
                "id": "23",
                "properties": {
                  "label": "tornado"
                },
                "color": "#15AFAC",
                "styles": {
                  "image": "https://littlealchemy2.com/static/icons/23.svg"
                },
                "label": "tornado",
                "scale_factor": 1,
                "type": "#15AFAC",
                "size": [
                  55,
                  55
                ],
                "position": [
                  0,
                  0
                ]
              },
              {
                "id": "24",
                "properties": {
                  "label": "plant"
                },
                "color": "#15AFAC",
                "styles": {
                  "image": "https://littlealchemy2.com/static/icons/24.svg"
                },
                "label": "plant",
                "scale_factor": 1,
                "type": "#15AFAC",
                "size": [
                  55,
                  55
                ],
                "position": [
                  0,
                  0
                ]
              },
              {
                "id": "25",
                "properties": {
                  "label": "gunpowder"
                },
                "color": "#15AFAC",
                "styles": {
                  "image": "https://littlealchemy2.com/static/icons/25.svg"
                },
                "label": "gunpowder",
                "scale_factor": 1,
                "type": "#15AFAC",
                "size": [
                  55,
                  55
                ],
                "position": [
                  0,
                  0
                ]
              },
              {
                "id": "26",
                "properties": {
                  "label": "explosion"
                },
                "color": "#15AFAC",
                "styles": {
                  "image": "https://littlealchemy2.com/static/icons/26.svg"
                },
                "label": "explosion",
                "scale_factor": 1,
                "type": "#15AFAC",
                "size": [
                  55,
                  55
                ],
                "position": [
                  0,
                  0
                ]
              },
              {
                "id": "27",
                "properties": {
                  "label": "stone"
                },
                "color": "#15AFAC",
                "styles": {
                  "image": "https://littlealchemy2.com/static/icons/27.svg"
                },
                "label": "stone",
                "scale_factor": 1,
                "type": "#15AFAC",
                "size": [
                  55,
                  55
                ],
                "position": [
                  0,
                  0
                ]
              },
              {
                "id": "28",
                "properties": {
                  "label": "sand"
                },
                "color": "#15AFAC",
                "styles": {
                  "image": "https://littlealchemy2.com/static/icons/28.svg"
                },
                "label": "sand",
                "scale_factor": 1,
                "type": "#15AFAC",
                "size": [
                  55,
                  55
                ],
                "position": [
                  0,
                  0
                ]
              },
              {
                "id": "29",
                "properties": {
                  "label": "ash"
                },
                "color": "#15AFAC",
                "styles": {
                  "image": "https://littlealchemy2.com/static/icons/29.svg"
                },
                "label": "ash",
                "scale_factor": 1,
                "type": "#15AFAC",
                "size": [
                  55,
                  55
                ],
                "position": [
                  0,
                  0
                ]
              },
              {
                "id": "30",
                "properties": {
                  "label": "coal"
                },
                "color": "#15AFAC",
                "styles": {
                  "image": "https://littlealchemy2.com/static/icons/30.svg"
                },
                "label": "coal",
                "scale_factor": 1,
                "type": "#15AFAC",
                "size": [
                  55,
                  55
                ],
                "position": [
                  0,
                  0
                ]
              },
              {
                "id": "31",
                "properties": {
                  "label": "diamond"
                },
                "color": "#15AFAC",
                "styles": {
                  "image": "https://littlealchemy2.com/static/icons/31.svg"
                },
                "label": "diamond",
                "scale_factor": 1,
                "type": "#15AFAC",
                "size": [
                  55,
                  55
                ],
                "position": [
                  0,
                  0
                ]
              },
              {
                "id": "32",
                "properties": {
                  "label": "glass"
                },
                "color": "#15AFAC",
                "styles": {
                  "image": "https://littlealchemy2.com/static/icons/32.svg"
                },
                "label": "glass",
                "scale_factor": 1,
                "type": "#15AFAC",
                "size": [
                  55,
                  55
                ],
                "position": [
                  0,
                  0
                ]
              },
              {
                "id": "33",
                "properties": {
                  "label": "hourglass"
                },
                "color": "#15AFAC",
                "styles": {
                  "image": "https://littlealchemy2.com/static/icons/33.svg"
                },
                "label": "hourglass",
                "scale_factor": 1,
                "type": "#15AFAC",
                "size": [
                  55,
                  55
                ],
                "position": [
                  0,
                  0
                ]
              },
              {
                "id": "34",
                "properties": {
                  "label": "aquarium"
                },
                "color": "#15AFAC",
                "styles": {
                  "image": "https://littlealchemy2.com/static/icons/34.svg"
                },
                "label": "aquarium",
                "scale_factor": 1,
                "type": "#15AFAC",
                "size": [
                  55,
                  55
                ],
                "position": [
                  0,
                  0
                ]
              },
              {
                "id": "35",
                "properties": {
                  "label": "greenhouse"
                },
                "color": "#15AFAC",
                "styles": {
                  "image": "https://littlealchemy2.com/static/icons/35.svg"
                },
                "label": "greenhouse",
                "scale_factor": 1,
                "type": "#15AFAC",
                "size": [
                  55,
                  55
                ],
                "position": [
                  0,
                  0
                ]
              },
              {
                "id": "36",
                "properties": {
                  "label": "metal"
                },
                "color": "#15AFAC",
                "styles": {
                  "image": "https://littlealchemy2.com/static/icons/36.svg"
                },
                "label": "metal",
                "scale_factor": 1,
                "type": "#15AFAC",
                "size": [
                  55,
                  55
                ],
                "position": [
                  0,
                  0
                ]
              },
              {
                "id": "37",
                "properties": {
                  "label": "rust"
                },
                "color": "#15AFAC",
                "styles": {
                  "image": "https://littlealchemy2.com/static/icons/37.svg"
                },
                "label": "rust",
                "scale_factor": 1,
                "type": "#15AFAC",
                "size": [
                  55,
                  55
                ],
                "position": [
                  0,
                  0
                ]
              },
              {
                "id": "38",
                "properties": {
                  "label": "boiler"
                },
                "color": "#15AFAC",
                "styles": {
                  "image": "https://littlealchemy2.com/static/icons/38.svg"
                },
                "label": "boiler",
                "scale_factor": 1,
                "type": "#15AFAC",
                "size": [
                  55,
                  55
                ],
                "position": [
                  0,
                  0
                ]
              },
              {
                "id": "39",
                "properties": {
                  "label": "bullet"
                },
                "color": "#15AFAC",
                "styles": {
                  "image": "https://littlealchemy2.com/static/icons/39.svg"
                },
                "label": "bullet",
                "scale_factor": 1,
                "type": "#15AFAC",
                "size": [
                  55,
                  55
                ],
                "position": [
                  0,
                  0
                ]
              },
              {
                "id": "40",
                "properties": {
                  "label": "steel"
                },
                "color": "#15AFAC",
                "styles": {
                  "image": "https://littlealchemy2.com/static/icons/40.svg"
                },
                "label": "steel",
                "scale_factor": 1,
                "type": "#15AFAC",
                "size": [
                  55,
                  55
                ],
                "position": [
                  0,
                  0
                ]
              },
              {
                "id": "41",
                "properties": {
                  "label": "time"
                },
                "color": "#15AFAC",
                "styles": {
                  "image": "https://littlealchemy2.com/static/icons/41.svg"
                },
                "label": "time",
                "scale_factor": 1,
                "type": "#15AFAC",
                "size": [
                  55,
                  55
                ],
                "position": [
                  0,
                  0
                ]
              },
              {
                "id": "42",
                "properties": {
                  "label": "tree"
                },
                "color": "#15AFAC",
                "styles": {
                  "image": "https://littlealchemy2.com/static/icons/42.svg"
                },
                "label": "tree",
                "scale_factor": 1,
                "type": "#15AFAC",
                "size": [
                  55,
                  55
                ],
                "position": [
                  0,
                  0
                ]
              },
              {
                "id": "43",
                "properties": {
                  "label": "swamp"
                },
                "color": "#15AFAC",
                "styles": {
                  "image": "https://littlealchemy2.com/static/icons/43.svg"
                },
                "label": "swamp",
                "scale_factor": 1,
                "type": "#15AFAC",
                "size": [
                  55,
                  55
                ],
                "position": [
                  0,
                  0
                ]
              },
              {
                "id": "44",
                "properties": {
                  "label": "life"
                },
                "color": "#15AFAC",
                "styles": {
                  "image": "https://littlealchemy2.com/static/icons/44.svg"
                },
                "label": "life",
                "scale_factor": 1,
                "type": "#15AFAC",
                "size": [
                  55,
                  55
                ],
                "position": [
                  0,
                  0
                ]
              },
              {
                "id": "45",
                "properties": {
                  "label": "plankton"
                },
                "color": "#15AFAC",
                "styles": {
                  "image": "https://littlealchemy2.com/static/icons/45.svg"
                },
                "label": "plankton",
                "scale_factor": 1,
                "type": "#15AFAC",
                "size": [
                  55,
                  55
                ],
                "position": [
                  0,
                  0
                ]
              },
              {
                "id": "46",
                "properties": {
                  "label": "bird"
                },
                "color": "#15AFAC",
                "styles": {
                  "image": "https://littlealchemy2.com/static/icons/46.svg"
                },
                "label": "bird",
                "scale_factor": 1,
                "type": "#15AFAC",
                "size": [
                  55,
                  55
                ],
                "position": [
                  0,
                  0
                ]
              },
              {
                "id": "47",
                "properties": {
                  "label": "phoenix"
                },
                "color": "#15AFAC",
                "styles": {
                  "image": "https://littlealchemy2.com/static/icons/47.svg"
                },
                "label": "phoenix",
                "scale_factor": 1,
                "type": "#15AFAC",
                "size": [
                  55,
                  55
                ],
                "position": [
                  0,
                  0
                ]
              },
              {
                "id": "48",
                "properties": {
                  "label": "human"
                },
                "color": "#15AFAC",
                "styles": {
                  "image": "https://littlealchemy2.com/static/icons/48.svg"
                },
                "label": "human",
                "scale_factor": 1,
                "type": "#15AFAC",
                "size": [
                  55,
                  55
                ],
                "position": [
                  0,
                  0
                ]
              },
              {
                "id": "49",
                "properties": {
                  "label": "egg"
                },
                "color": "#15AFAC",
                "styles": {
                  "image": "https://littlealchemy2.com/static/icons/49.svg"
                },
                "label": "egg",
                "scale_factor": 1,
                "type": "#15AFAC",
                "size": [
                  55,
                  55
                ],
                "position": [
                  0,
                  0
                ]
              },
              {
                "id": "50",
                "properties": {
                  "label": "clay"
                },
                "color": "#15AFAC",
                "styles": {
                  "image": "https://littlealchemy2.com/static/icons/50.svg"
                },
                "label": "clay",
                "scale_factor": 1,
                "type": "#15AFAC",
                "size": [
                  55,
                  55
                ],
                "position": [
                  0,
                  0
                ]
              }
            ],
            "_overview": {
              "enabled": false,
              "overview_set": true
            },
            "_selected_graph": [
              [],
              []
            ],
            "_sidebar": {
              "enabled": false,
              "start_with": ""
            },
            "_view_count": null,
            "_view_module": "yfiles-jupyter-graphs",
            "_view_module_version": "^1.8.1",
            "_view_name": "GraphView",
            "layout": "IPY_MODEL_2519a5ce09d44ca5a0536a6f196888f4",
            "tabbable": null,
            "tooltip": null
          }
        },
        "2519a5ce09d44ca5a0536a6f196888f4": {
          "model_module": "@jupyter-widgets/base",
          "model_name": "LayoutModel",
          "model_module_version": "2.0.0",
          "state": {
            "_model_module": "@jupyter-widgets/base",
            "_model_module_version": "2.0.0",
            "_model_name": "LayoutModel",
            "_view_count": null,
            "_view_module": "@jupyter-widgets/base",
            "_view_module_version": "2.0.0",
            "_view_name": "LayoutView",
            "align_content": null,
            "align_items": null,
            "align_self": null,
            "border_bottom": null,
            "border_left": null,
            "border_right": null,
            "border_top": null,
            "bottom": null,
            "display": null,
            "flex": null,
            "flex_flow": null,
            "grid_area": null,
            "grid_auto_columns": null,
            "grid_auto_flow": null,
            "grid_auto_rows": null,
            "grid_column": null,
            "grid_gap": null,
            "grid_row": null,
            "grid_template_areas": null,
            "grid_template_columns": null,
            "grid_template_rows": null,
            "height": "800px",
            "justify_content": null,
            "justify_items": null,
            "left": null,
            "margin": null,
            "max_height": null,
            "max_width": null,
            "min_height": null,
            "min_width": null,
            "object_fit": null,
            "object_position": null,
            "order": null,
            "overflow": null,
            "padding": null,
            "right": null,
            "top": null,
            "visibility": null,
            "width": "100%"
          }
        },
        "1ac612c14dbd49c7b487caeaf192c63a": {
          "model_module": "yfiles-jupyter-graphs",
          "model_name": "GraphModel",
          "model_module_version": "^1.8.1",
          "state": {
            "_context_pane_mapping": [
              {
                "id": "Neighborhood",
                "title": "Neighborhood"
              },
              {
                "id": "Data",
                "title": "Data"
              },
              {
                "id": "Search",
                "title": "Search"
              },
              {
                "id": "About",
                "title": "About"
              }
            ],
            "_data_importer": "unknown",
            "_directed": true,
            "_dom_classes": [],
            "_edges": [
              {
                "start": "238",
                "end": "285",
                "properties": {
                  "label": "+ animal, blood, big, monarch"
                },
                "label": "+ animal, blood, big, monarch",
                "color": "grey",
                "thickness_factor": 1,
                "directed": true
              },
              {
                "start": "238",
                "end": "318",
                "properties": {
                  "label": "+ paper"
                },
                "label": "+ paper",
                "color": "grey",
                "thickness_factor": 1,
                "directed": true
              },
              {
                "start": "238",
                "end": "381",
                "properties": {
                  "label": "+ armor"
                },
                "label": "+ armor",
                "color": "grey",
                "thickness_factor": 1,
                "directed": true
              },
              {
                "start": "238",
                "end": "401",
                "properties": {
                  "label": "+ plant, grass, flower"
                },
                "label": "+ plant, grass, flower",
                "color": "grey",
                "thickness_factor": 1,
                "directed": true
              },
              {
                "start": "127",
                "end": "238",
                "properties": {
                  "label": "+ animal"
                },
                "label": "+ animal",
                "color": "grey",
                "thickness_factor": 1,
                "directed": true
              },
              {
                "start": "77",
                "end": "238",
                "properties": {
                  "label": "+ animal"
                },
                "label": "+ animal",
                "color": "grey",
                "thickness_factor": 1,
                "directed": true
              },
              {
                "start": "140",
                "end": "238",
                "properties": {
                  "label": "+ milk, coconut milk, night"
                },
                "label": "+ milk, coconut milk, night",
                "color": "grey",
                "thickness_factor": 1,
                "directed": true
              },
              {
                "start": "262",
                "end": "238",
                "properties": {
                  "label": "+ animal"
                },
                "label": "+ animal",
                "color": "grey",
                "thickness_factor": 1,
                "directed": true
              }
            ],
            "_graph_layout": {
              "algorithm": "hierarchic",
              "options": {}
            },
            "_highlight": [],
            "_license": {},
            "_model_module": "yfiles-jupyter-graphs",
            "_model_module_version": "^1.8.1",
            "_model_name": "GraphModel",
            "_neighborhood": {},
            "_nodes": [
              {
                "id": "238",
                "properties": {
                  "label": "cat"
                },
                "color": "#15AFAC",
                "styles": {
                  "image": "https://littlealchemy2.com/static/icons/238.svg"
                },
                "label": "cat",
                "scale_factor": 1,
                "type": "#15AFAC",
                "size": [
                  55,
                  55
                ],
                "position": [
                  0,
                  0
                ]
              },
              {
                "id": "285",
                "properties": {
                  "label": "lion"
                },
                "color": "#15AFAC",
                "styles": {
                  "image": "https://littlealchemy2.com/static/icons/285.svg"
                },
                "label": "lion",
                "scale_factor": 1,
                "type": "#15AFAC",
                "size": [
                  55,
                  55
                ],
                "position": [
                  0,
                  0
                ]
              },
              {
                "id": "318",
                "properties": {
                  "label": "origami"
                },
                "color": "#15AFAC",
                "styles": {
                  "image": "https://littlealchemy2.com/static/icons/318.svg"
                },
                "label": "origami",
                "scale_factor": 1,
                "type": "#15AFAC",
                "size": [
                  55,
                  55
                ],
                "position": [
                  0,
                  0
                ]
              },
              {
                "id": "381",
                "properties": {
                  "label": "armadillo"
                },
                "color": "#15AFAC",
                "styles": {
                  "image": "https://littlealchemy2.com/static/icons/381.svg"
                },
                "label": "armadillo",
                "scale_factor": 1,
                "type": "#15AFAC",
                "size": [
                  55,
                  55
                ],
                "position": [
                  0,
                  0
                ]
              },
              {
                "id": "401",
                "properties": {
                  "label": "catnip"
                },
                "color": "#15AFAC",
                "styles": {
                  "image": "https://littlealchemy2.com/static/icons/401.svg"
                },
                "label": "catnip",
                "scale_factor": 1,
                "type": "#15AFAC",
                "size": [
                  55,
                  55
                ],
                "position": [
                  0,
                  0
                ]
              },
              {
                "id": "127",
                "properties": {
                  "label": "night"
                },
                "color": "#15AFAC",
                "styles": {
                  "image": "https://littlealchemy2.com/static/icons/127.svg"
                },
                "label": "night",
                "scale_factor": 1,
                "type": "#15AFAC",
                "size": [
                  55,
                  55
                ],
                "position": [
                  0,
                  0
                ]
              },
              {
                "id": "77",
                "properties": {
                  "label": "milk"
                },
                "color": "#15AFAC",
                "styles": {
                  "image": "https://littlealchemy2.com/static/icons/77.svg"
                },
                "label": "milk",
                "scale_factor": 1,
                "type": "#15AFAC",
                "size": [
                  55,
                  55
                ],
                "position": [
                  0,
                  0
                ]
              },
              {
                "id": "140",
                "properties": {
                  "label": "animal"
                },
                "color": "#15AFAC",
                "styles": {
                  "image": "https://littlealchemy2.com/static/icons/140.svg"
                },
                "label": "animal",
                "scale_factor": 1,
                "type": "#15AFAC",
                "size": [
                  55,
                  55
                ],
                "position": [
                  0,
                  0
                ]
              },
              {
                "id": "262",
                "properties": {
                  "label": "coconut milk"
                },
                "color": "#15AFAC",
                "styles": {
                  "image": "https://littlealchemy2.com/static/icons/262.svg"
                },
                "label": "coconut milk",
                "scale_factor": 1,
                "type": "#15AFAC",
                "size": [
                  55,
                  55
                ],
                "position": [
                  0,
                  0
                ]
              }
            ],
            "_overview": {
              "enabled": null,
              "overview_set": false
            },
            "_selected_graph": [
              [],
              []
            ],
            "_sidebar": {
              "enabled": false,
              "start_with": null
            },
            "_view_count": null,
            "_view_module": "yfiles-jupyter-graphs",
            "_view_module_version": "^1.8.1",
            "_view_name": "GraphView",
            "layout": "IPY_MODEL_007c47d5a7bd40759b94ead98defc2fe",
            "tabbable": null,
            "tooltip": null
          }
        },
        "007c47d5a7bd40759b94ead98defc2fe": {
          "model_module": "@jupyter-widgets/base",
          "model_name": "LayoutModel",
          "model_module_version": "2.0.0",
          "state": {
            "_model_module": "@jupyter-widgets/base",
            "_model_module_version": "2.0.0",
            "_model_name": "LayoutModel",
            "_view_count": null,
            "_view_module": "@jupyter-widgets/base",
            "_view_module_version": "2.0.0",
            "_view_name": "LayoutView",
            "align_content": null,
            "align_items": null,
            "align_self": null,
            "border_bottom": null,
            "border_left": null,
            "border_right": null,
            "border_top": null,
            "bottom": null,
            "display": null,
            "flex": null,
            "flex_flow": null,
            "grid_area": null,
            "grid_auto_columns": null,
            "grid_auto_flow": null,
            "grid_auto_rows": null,
            "grid_column": null,
            "grid_gap": null,
            "grid_row": null,
            "grid_template_areas": null,
            "grid_template_columns": null,
            "grid_template_rows": null,
            "height": "500px",
            "justify_content": null,
            "justify_items": null,
            "left": null,
            "margin": null,
            "max_height": null,
            "max_width": null,
            "min_height": null,
            "min_width": null,
            "object_fit": null,
            "object_position": null,
            "order": null,
            "overflow": null,
            "padding": null,
            "right": null,
            "top": null,
            "visibility": null,
            "width": "100%"
          }
        }
      }
    }
  },
  "nbformat": 4,
  "nbformat_minor": 5
}