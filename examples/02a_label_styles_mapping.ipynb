{
  "cells": [
    {
      "cell_type": "markdown",
      "id": "8b919f4a-fd0e-49b2-90c7-f538cdb68288",
      "metadata": {
        "id": "8b919f4a-fd0e-49b2-90c7-f538cdb68288"
      },
      "source": [
        "# Element Label Mapping <a target=\"_blank\" href=\"https://colab.research.google.com/github/yWorks/yfiles-jupyter-graphs/blob/main/examples/02a_label_styles_mapping.ipynb\"><img src=\"https://colab.research.google.com/assets/colab-badge.svg\" alt=\"Open In Colab\"/></a>"
      ]
    },
    {
      "cell_type": "markdown",
      "id": "08db2296-9111-4446-b82d-6afa54a3c13b",
      "metadata": {
        "id": "08db2296-9111-4446-b82d-6afa54a3c13b"
      },
      "source": [
        "This notebook covers the basics of customizing label visualizations for nodes and edges.\n",
        "\n",
        "For mapping demonstrations, we'll use the same graph, ```erdos_renyi_graph```, imported from the NetworkX package.\n",
        "\n",
        "For more details on how to import graph data, explore the other example notebooks or refer to the full widget [documentation](https://yworks.github.io/yfiles-jupyter-graphs/).\n",
        "\n",
        "Before utilizing the graph widget, ensure all necessary packages are installed."
      ]
    },
    {
      "cell_type": "code",
      "execution_count": 1,
      "id": "3ce520a0-0c33-48ae-ab02-54d7aba460a8",
      "metadata": {
        "id": "3ce520a0-0c33-48ae-ab02-54d7aba460a8",
        "colab": {
          "base_uri": "https://localhost:8080/",
          "height": 86
        },
        "outputId": "91891e34-fd3c-4526-8a76-3335601410cb"
      },
      "outputs": [
        {
          "output_type": "stream",
          "name": "stdout",
          "text": [
            "\u001b[2K   \u001b[90m━━━━━━━━━━━━━━━━━━━━━━━━━━━━━━━━━━━━━━━━\u001b[0m \u001b[32m15.6/15.6 MB\u001b[0m \u001b[31m20.1 MB/s\u001b[0m eta \u001b[36m0:00:00\u001b[0m\n",
            "\u001b[2K   \u001b[90m━━━━━━━━━━━━━━━━━━━━━━━━━━━━━━━━━━━━━━━━\u001b[0m \u001b[32m139.8/139.8 kB\u001b[0m \u001b[31m3.2 MB/s\u001b[0m eta \u001b[36m0:00:00\u001b[0m\n",
            "\u001b[2K   \u001b[90m━━━━━━━━━━━━━━━━━━━━━━━━━━━━━━━━━━━━━━━━\u001b[0m \u001b[32m2.3/2.3 MB\u001b[0m \u001b[31m25.2 MB/s\u001b[0m eta \u001b[36m0:00:00\u001b[0m\n",
            "\u001b[2K   \u001b[90m━━━━━━━━━━━━━━━━━━━━━━━━━━━━━━━━━━━━━━━━\u001b[0m \u001b[32m1.6/1.6 MB\u001b[0m \u001b[31m23.6 MB/s\u001b[0m eta \u001b[36m0:00:00\u001b[0m\n",
            "\u001b[?25h"
          ]
        }
      ],
      "source": [
        "%pip install yfiles_jupyter_graphs --quiet\n",
        "from yfiles_jupyter_graphs import GraphWidget\n",
        "%pip install networkx --quiet\n",
        "from typing import Dict\n",
        "from networkx import erdos_renyi_graph\n",
        "\n",
        "g = erdos_renyi_graph(10, 0.3, 2)\n",
        "w = GraphWidget(graph=g)\n"
      ]
    },
    {
      "cell_type": "markdown",
      "id": "e090cf46-b02f-42af-9a91-279b3440ecf6",
      "metadata": {
        "id": "e090cf46-b02f-42af-9a91-279b3440ecf6"
      },
      "source": [
        "You can also open this notebook in Google Colab when Google Colab's custom widget manager is enabled:"
      ]
    },
    {
      "cell_type": "code",
      "execution_count": 2,
      "id": "d99602b7-b89b-46bb-a477-00172006ac05",
      "metadata": {
        "id": "d99602b7-b89b-46bb-a477-00172006ac05"
      },
      "outputs": [],
      "source": [
        "try:\n",
        "  import google.colab\n",
        "  from google.colab import output\n",
        "  output.enable_custom_widget_manager()\n",
        "except:\n",
        "  pass"
      ]
    },
    {
      "cell_type": "markdown",
      "id": "1addb8c7-84ee-47ac-aa5b-6d1b69e4d0c7",
      "metadata": {
        "id": "1addb8c7-84ee-47ac-aa5b-6d1b69e4d0c7"
      },
      "source": [
        "<a target=\"_blank\" href=\"https://colab.research.google.com/github/yWorks/yfiles-jupyter-graphs/blob/main/examples/02a_label_styles_mapping.ipynb\"><img src=\"https://colab.research.google.com/assets/colab-badge.svg\" alt=\"Open In Colab\"/></a>"
      ]
    },
    {
      "cell_type": "markdown",
      "id": "aab103ba-9d3b-4d39-bb4e-3bdfac2566d6",
      "metadata": {
        "id": "aab103ba-9d3b-4d39-bb4e-3bdfac2566d6"
      },
      "source": [
        "This is the graph we will be working on:"
      ]
    },
    {
      "cell_type": "code",
      "execution_count": 3,
      "id": "1a87056a-a345-4221-ad19-d1440a63f08e",
      "metadata": {
        "id": "1a87056a-a345-4221-ad19-d1440a63f08e",
        "outputId": "285f922f-3d19-4ba5-9660-089a3bcce75d",
        "colab": {
          "base_uri": "https://localhost:8080/",
          "height": 517,
          "referenced_widgets": [
            "47950c99710940eda99817ee3c84d775",
            "7bed0c5d681548249a094889eadafd1b"
          ]
        }
      },
      "outputs": [
        {
          "output_type": "display_data",
          "data": {
            "text/plain": [
              "GraphWidget(layout=Layout(height='500px', width='100%'))"
            ],
            "application/vnd.jupyter.widget-view+json": {
              "version_major": 2,
              "version_minor": 0,
              "model_id": "47950c99710940eda99817ee3c84d775"
            }
          },
          "metadata": {
            "application/vnd.jupyter.widget-view+json": {
              "colab": {
                "custom_widget_manager": {
                  "url": "https://ssl.gstatic.com/colaboratory-static/widgets/colab-cdn-widget-manager/2b70e893a8ba7c0f/manager.min.js"
                }
              }
            }
          }
        }
      ],
      "source": [
        "display(GraphWidget(graph=g))"
      ]
    },
    {
      "cell_type": "markdown",
      "id": "81e2d7a1-6653-467a-8e87-c5f888145774",
      "metadata": {
        "id": "81e2d7a1-6653-467a-8e87-c5f888145774"
      },
      "source": [
        "## Node Label Styles Mapping\n",
        "\n",
        "Additionally to the shown label text mapping in [02 Label Mapping](./02_label_mapping.ipynb), the mapping function may also return styling properties alongside the `text`.\n",
        "\n",
        "Supported visualization properties:\n",
        "* `fontSize: number`: The text size of the label.\n",
        "* `color: string`: The text color of the label.\n",
        "* `backgroundColor: string`: A color string that is used as the label's background.\n",
        "* `position: 'center' | 'north' | 'east' | 'south' | 'west'`: The label position at the node.\n",
        "* `maximumWidth: number`: The maximum width of the label. By default, the label is clipped at the given size, or wrapped when `wrapping` is set.\n",
        "* `maximumHeight: number`: The maximum height of the label. Clips the label at the given height. May be combined with `wrapping`.\n",
        "* `wrapping: 'character' | 'character_ellipsis' | 'none' | 'word' | 'word_ellipsis'`: Text wrapping for the label. Must be set in combination with `maximumWidth`.\n",
        "* `textAlignment: 'center' | 'left' | 'right'`: The horizontal text alignment when `wrapping` is enabled.\n",
        "\n",
        "For this, we define a new label mapping function and, instead of just returning a text string, we return a dictionary with a `text` property and optional styling properties:"
      ]
    },
    {
      "cell_type": "code",
      "execution_count": 4,
      "id": "371c5053-6019-4a20-af67-067f38fcbf39",
      "metadata": {
        "id": "371c5053-6019-4a20-af67-067f38fcbf39"
      },
      "outputs": [],
      "source": [
        "from datetime import datetime\n",
        "\n",
        "def custom_label_styles_mapping(node: Dict):\n",
        "    \"\"\"let the label be the negated purple big index\"\"\"\n",
        "    return {\n",
        "        'text' : datetime.now().strftime(\"%Y-%m-%d %H:%M:%S\"),\n",
        "        'backgroundColor': '#5C268B',\n",
        "        'fontSize': 20,\n",
        "        'color': '#FF6EC7',\n",
        "        'position': 'north',\n",
        "        'maximumWidth': 130,\n",
        "        'wrapping': 'word',\n",
        "        'textAlignment': 'center'\n",
        "    }"
      ]
    },
    {
      "cell_type": "markdown",
      "id": "d306b597-678e-4a07-90f1-401bff0bc7c5",
      "metadata": {
        "id": "d306b597-678e-4a07-90f1-401bff0bc7c5"
      },
      "source": [
        "Let's set our new label styles:"
      ]
    },
    {
      "cell_type": "code",
      "execution_count": 5,
      "id": "938719a0-d739-4ddf-8f7f-da00c1d05012",
      "metadata": {
        "id": "938719a0-d739-4ddf-8f7f-da00c1d05012",
        "outputId": "c1bb94a7-c9ac-4815-d58c-a922b4695e79",
        "colab": {
          "base_uri": "https://localhost:8080/",
          "height": 105
        }
      },
      "outputs": [
        {
          "output_type": "execute_result",
          "data": {
            "text/plain": [
              "<function __main__.custom_label_styles_mapping(node: Dict)>"
            ],
            "text/html": [
              "<div style=\"max-width:800px; border: 1px solid var(--colab-border-color);\"><style>\n",
              "      pre.function-repr-contents {\n",
              "        overflow-x: auto;\n",
              "        padding: 8px 12px;\n",
              "        max-height: 500px;\n",
              "      }\n",
              "\n",
              "      pre.function-repr-contents.function-repr-contents-collapsed {\n",
              "        cursor: pointer;\n",
              "        max-height: 100px;\n",
              "      }\n",
              "    </style>\n",
              "    <pre style=\"white-space: initial; background:\n",
              "         var(--colab-secondary-surface-color); padding: 8px 12px;\n",
              "         border-bottom: 1px solid var(--colab-border-color);\"><b>custom_label_styles_mapping</b><br/>def custom_label_styles_mapping(node: Dict)</pre><pre class=\"function-repr-contents function-repr-contents-collapsed\" style=\"\"><a class=\"filepath\" style=\"display:none\" href=\"#\">/content/&lt;ipython-input-4-12484bbf50e7&gt;</a>let the label be the negated purple big index</pre></div>"
            ]
          },
          "metadata": {},
          "execution_count": 5
        }
      ],
      "source": [
        "w.set_node_label_mapping(custom_label_styles_mapping)\n",
        "w.get_node_label_mapping()"
      ]
    },
    {
      "cell_type": "code",
      "execution_count": 6,
      "id": "a45c9447-74ba-48a1-bdcb-acb6e3bec468",
      "metadata": {
        "id": "a45c9447-74ba-48a1-bdcb-acb6e3bec468",
        "outputId": "f0c9ab5e-0166-4d99-8b21-031fdfee51d6",
        "colab": {
          "base_uri": "https://localhost:8080/",
          "height": 517,
          "referenced_widgets": [
            "b72fcac541884269a8700a7d0edb2b64",
            "eeccc51c260c490c81c802248680307e"
          ]
        }
      },
      "outputs": [
        {
          "output_type": "display_data",
          "data": {
            "text/plain": [
              "GraphWidget(layout=Layout(height='500px', width='100%'))"
            ],
            "application/vnd.jupyter.widget-view+json": {
              "version_major": 2,
              "version_minor": 0,
              "model_id": "b72fcac541884269a8700a7d0edb2b64"
            }
          },
          "metadata": {
            "application/vnd.jupyter.widget-view+json": {
              "colab": {
                "custom_widget_manager": {
                  "url": "https://ssl.gstatic.com/colaboratory-static/widgets/colab-cdn-widget-manager/2b70e893a8ba7c0f/manager.min.js"
                }
              }
            }
          }
        }
      ],
      "source": [
        "display(w)"
      ]
    },
    {
      "cell_type": "markdown",
      "id": "711a763a-e897-4e2b-bca0-4a4640c5f235",
      "metadata": {
        "id": "711a763a-e897-4e2b-bca0-4a4640c5f235"
      },
      "source": [
        "If the mapping is deleted, it reverts back to the default mapping."
      ]
    },
    {
      "cell_type": "code",
      "execution_count": 7,
      "id": "5f64587f-1035-4649-a751-32022baac797",
      "metadata": {
        "id": "5f64587f-1035-4649-a751-32022baac797",
        "outputId": "e3b31786-d743-4200-ff0f-84614d31d2e8",
        "colab": {
          "base_uri": "https://localhost:8080/",
          "height": 122
        }
      },
      "outputs": [
        {
          "output_type": "execute_result",
          "data": {
            "text/plain": [
              "<bound method GraphWidget.default_node_label_mapping of GraphWidget(layout=Layout(height='500px', width='100%'))>"
            ],
            "text/html": [
              "<div style=\"max-width:800px; border: 1px solid var(--colab-border-color);\"><style>\n",
              "      pre.function-repr-contents {\n",
              "        overflow-x: auto;\n",
              "        padding: 8px 12px;\n",
              "        max-height: 500px;\n",
              "      }\n",
              "\n",
              "      pre.function-repr-contents.function-repr-contents-collapsed {\n",
              "        cursor: pointer;\n",
              "        max-height: 100px;\n",
              "      }\n",
              "    </style>\n",
              "    <pre style=\"white-space: initial; background:\n",
              "         var(--colab-secondary-surface-color); padding: 8px 12px;\n",
              "         border-bottom: 1px solid var(--colab-border-color);\"><b>yfiles_jupyter_graphs.widget.GraphWidget.default_node_label_mapping</b><br/>def default_node_label_mapping(index: int, node: TDict)</pre><pre class=\"function-repr-contents function-repr-contents-collapsed\" style=\"\"><a class=\"filepath\" style=\"display:none\" href=\"#\">/usr/local/lib/python3.10/dist-packages/yfiles_jupyter_graphs/widget.py</a>See default element label mapping.</pre>\n",
              "      <script>\n",
              "      if (google.colab.kernel.accessAllowed && google.colab.files && google.colab.files.view) {\n",
              "        for (const element of document.querySelectorAll('.filepath')) {\n",
              "          element.style.display = 'block'\n",
              "          element.onclick = (event) => {\n",
              "            event.preventDefault();\n",
              "            event.stopPropagation();\n",
              "            google.colab.files.view(element.textContent, 1422);\n",
              "          };\n",
              "        }\n",
              "      }\n",
              "      for (const element of document.querySelectorAll('.function-repr-contents')) {\n",
              "        element.onclick = (event) => {\n",
              "          event.preventDefault();\n",
              "          event.stopPropagation();\n",
              "          element.classList.toggle('function-repr-contents-collapsed');\n",
              "        };\n",
              "      }\n",
              "      </script>\n",
              "      </div>"
            ]
          },
          "metadata": {},
          "execution_count": 7
        }
      ],
      "source": [
        "w.del_node_label_mapping()\n",
        "w.get_node_label_mapping()"
      ]
    },
    {
      "cell_type": "markdown",
      "id": "1d216797-d219-4d9e-a4f4-808dcb8bd390",
      "metadata": {
        "id": "1d216797-d219-4d9e-a4f4-808dcb8bd390"
      },
      "source": [
        "## Edge Label Mapping\n",
        "\n",
        "Similar to the node labels mapping function, the edge label mapping function may also return styling properties alongside the `text`.\n",
        "\n",
        "It supports the same optional visualization properties:\n",
        "* `fontSize: number`: The text size of the label.\n",
        "* `color: string`: The text color of the label.\n",
        "* `backgroundColor: string`: A color string that is used as the label's background\n",
        "\n",
        "Here, we will use the same mapping function as for the nodes. Let's set our new edge styles:"
      ]
    },
    {
      "cell_type": "code",
      "execution_count": 8,
      "id": "3cb41d68-d190-4e48-b91d-58a8973463c7",
      "metadata": {
        "id": "3cb41d68-d190-4e48-b91d-58a8973463c7",
        "outputId": "4f20568d-5ee0-44f1-e83e-bfb88403a421",
        "colab": {
          "base_uri": "https://localhost:8080/",
          "height": 105
        }
      },
      "outputs": [
        {
          "output_type": "execute_result",
          "data": {
            "text/plain": [
              "<function __main__.custom_label_styles_mapping(node: Dict)>"
            ],
            "text/html": [
              "<div style=\"max-width:800px; border: 1px solid var(--colab-border-color);\"><style>\n",
              "      pre.function-repr-contents {\n",
              "        overflow-x: auto;\n",
              "        padding: 8px 12px;\n",
              "        max-height: 500px;\n",
              "      }\n",
              "\n",
              "      pre.function-repr-contents.function-repr-contents-collapsed {\n",
              "        cursor: pointer;\n",
              "        max-height: 100px;\n",
              "      }\n",
              "    </style>\n",
              "    <pre style=\"white-space: initial; background:\n",
              "         var(--colab-secondary-surface-color); padding: 8px 12px;\n",
              "         border-bottom: 1px solid var(--colab-border-color);\"><b>custom_label_styles_mapping</b><br/>def custom_label_styles_mapping(node: Dict)</pre><pre class=\"function-repr-contents function-repr-contents-collapsed\" style=\"\"><a class=\"filepath\" style=\"display:none\" href=\"#\">/content/&lt;ipython-input-4-12484bbf50e7&gt;</a>let the label be the negated purple big index</pre></div>"
            ]
          },
          "metadata": {},
          "execution_count": 8
        }
      ],
      "source": [
        "w2 = GraphWidget(graph=g)\n",
        "w2.set_edge_label_mapping(custom_label_styles_mapping)\n",
        "w2.get_edge_label_mapping()"
      ]
    },
    {
      "cell_type": "code",
      "execution_count": 9,
      "id": "70a11fd8-e8ff-40ce-ba01-94762d3fd78d",
      "metadata": {
        "id": "70a11fd8-e8ff-40ce-ba01-94762d3fd78d",
        "outputId": "48b6a0e3-de85-4d15-f6dc-a6fc1c0b02ef",
        "colab": {
          "base_uri": "https://localhost:8080/",
          "height": 517,
          "referenced_widgets": [
            "e2a4c2113a8949dfa61619ab3790b81d",
            "302586f62200444d805e81daa6c5452b"
          ]
        }
      },
      "outputs": [
        {
          "output_type": "display_data",
          "data": {
            "text/plain": [
              "GraphWidget(layout=Layout(height='500px', width='100%'))"
            ],
            "application/vnd.jupyter.widget-view+json": {
              "version_major": 2,
              "version_minor": 0,
              "model_id": "e2a4c2113a8949dfa61619ab3790b81d"
            }
          },
          "metadata": {
            "application/vnd.jupyter.widget-view+json": {
              "colab": {
                "custom_widget_manager": {
                  "url": "https://ssl.gstatic.com/colaboratory-static/widgets/colab-cdn-widget-manager/2b70e893a8ba7c0f/manager.min.js"
                }
              }
            }
          }
        }
      ],
      "source": [
        "display(w2)"
      ]
    },
    {
      "cell_type": "markdown",
      "id": "f80d8bcd-6f6f-48f7-8c6a-aed259425365",
      "metadata": {
        "id": "f80d8bcd-6f6f-48f7-8c6a-aed259425365"
      },
      "source": [
        "If a edge label mapping is deleted, the label mapping reverts back to the default mapping."
      ]
    },
    {
      "cell_type": "code",
      "execution_count": 10,
      "id": "1b31186d-0cbb-4e2b-903e-83a9a3659640",
      "metadata": {
        "id": "1b31186d-0cbb-4e2b-903e-83a9a3659640",
        "outputId": "139af5ce-6562-4bf5-8682-f73e78efe5a7",
        "colab": {
          "base_uri": "https://localhost:8080/",
          "height": 122
        }
      },
      "outputs": [
        {
          "output_type": "execute_result",
          "data": {
            "text/plain": [
              "<bound method GraphWidget.default_edge_label_mapping of GraphWidget(layout=Layout(height='500px', width='100%'))>"
            ],
            "text/html": [
              "<div style=\"max-width:800px; border: 1px solid var(--colab-border-color);\"><style>\n",
              "      pre.function-repr-contents {\n",
              "        overflow-x: auto;\n",
              "        padding: 8px 12px;\n",
              "        max-height: 500px;\n",
              "      }\n",
              "\n",
              "      pre.function-repr-contents.function-repr-contents-collapsed {\n",
              "        cursor: pointer;\n",
              "        max-height: 100px;\n",
              "      }\n",
              "    </style>\n",
              "    <pre style=\"white-space: initial; background:\n",
              "         var(--colab-secondary-surface-color); padding: 8px 12px;\n",
              "         border-bottom: 1px solid var(--colab-border-color);\"><b>yfiles_jupyter_graphs.widget.GraphWidget.default_edge_label_mapping</b><br/>def default_edge_label_mapping(index: int, edge: TDict)</pre><pre class=\"function-repr-contents function-repr-contents-collapsed\" style=\"\"><a class=\"filepath\" style=\"display:none\" href=\"#\">/usr/local/lib/python3.10/dist-packages/yfiles_jupyter_graphs/widget.py</a>See default element label mapping.</pre>\n",
              "      <script>\n",
              "      if (google.colab.kernel.accessAllowed && google.colab.files && google.colab.files.view) {\n",
              "        for (const element of document.querySelectorAll('.filepath')) {\n",
              "          element.style.display = 'block'\n",
              "          element.onclick = (event) => {\n",
              "            event.preventDefault();\n",
              "            event.stopPropagation();\n",
              "            google.colab.files.view(element.textContent, 1426);\n",
              "          };\n",
              "        }\n",
              "      }\n",
              "      for (const element of document.querySelectorAll('.function-repr-contents')) {\n",
              "        element.onclick = (event) => {\n",
              "          event.preventDefault();\n",
              "          event.stopPropagation();\n",
              "          element.classList.toggle('function-repr-contents-collapsed');\n",
              "        };\n",
              "      }\n",
              "      </script>\n",
              "      </div>"
            ]
          },
          "metadata": {},
          "execution_count": 10
        }
      ],
      "source": [
        "w2.del_edge_label_mapping()\n",
        "w2.get_edge_label_mapping()"
      ]
    }
  ],
  "metadata": {
    "kernelspec": {
      "display_name": "Python 3",
      "language": "python",
      "name": "python3"
    },
    "language_info": {
      "codemirror_mode": {
        "name": "ipython",
        "version": 3
      },
      "file_extension": ".py",
      "mimetype": "text/x-python",
      "name": "python",
      "nbconvert_exporter": "python",
      "pygments_lexer": "ipython3",
      "version": "3.6.15"
    },
    "colab": {
      "provenance": []
    },
    "widgets": {
      "application/vnd.jupyter.widget-state+json": {
        "47950c99710940eda99817ee3c84d775": {
          "model_module": "yfiles-jupyter-graphs",
          "model_name": "GraphModel",
          "model_module_version": "^1.8.1",
          "state": {
            "_context_pane_mapping": [
              {
                "id": "Neighborhood",
                "title": "Neighborhood"
              },
              {
                "id": "Data",
                "title": "Data"
              },
              {
                "id": "Search",
                "title": "Search"
              },
              {
                "id": "About",
                "title": "About"
              }
            ],
            "_data_importer": "networkx",
            "_directed": false,
            "_dom_classes": [],
            "_edges": [
              {
                "id": 0,
                "start": 0,
                "end": 3,
                "properties": {},
                "label": "",
                "color": "#15AFAC",
                "thickness_factor": 1,
                "directed": false
              },
              {
                "id": 1,
                "start": 0,
                "end": 4,
                "properties": {},
                "label": "",
                "color": "#15AFAC",
                "thickness_factor": 1,
                "directed": false
              },
              {
                "id": 2,
                "start": 1,
                "end": 4,
                "properties": {},
                "label": "",
                "color": "#15AFAC",
                "thickness_factor": 1,
                "directed": false
              },
              {
                "id": 3,
                "start": 2,
                "end": 5,
                "properties": {},
                "label": "",
                "color": "#15AFAC",
                "thickness_factor": 1,
                "directed": false
              },
              {
                "id": 4,
                "start": 2,
                "end": 6,
                "properties": {},
                "label": "",
                "color": "#15AFAC",
                "thickness_factor": 1,
                "directed": false
              },
              {
                "id": 5,
                "start": 2,
                "end": 7,
                "properties": {},
                "label": "",
                "color": "#15AFAC",
                "thickness_factor": 1,
                "directed": false
              },
              {
                "id": 6,
                "start": 3,
                "end": 8,
                "properties": {},
                "label": "",
                "color": "#15AFAC",
                "thickness_factor": 1,
                "directed": false
              },
              {
                "id": 7,
                "start": 3,
                "end": 9,
                "properties": {},
                "label": "",
                "color": "#15AFAC",
                "thickness_factor": 1,
                "directed": false
              },
              {
                "id": 8,
                "start": 4,
                "end": 6,
                "properties": {},
                "label": "",
                "color": "#15AFAC",
                "thickness_factor": 1,
                "directed": false
              },
              {
                "id": 9,
                "start": 5,
                "end": 6,
                "properties": {},
                "label": "",
                "color": "#15AFAC",
                "thickness_factor": 1,
                "directed": false
              }
            ],
            "_graph_layout": {},
            "_highlight": [],
            "_license": {},
            "_model_module": "yfiles-jupyter-graphs",
            "_model_module_version": "^1.8.1",
            "_model_name": "GraphModel",
            "_neighborhood": {},
            "_nodes": [
              {
                "id": 0,
                "properties": {
                  "label": "0"
                },
                "color": "#15AFAC",
                "styles": {},
                "label": "0",
                "scale_factor": 1,
                "type": "#15AFAC",
                "size": [
                  55,
                  55
                ],
                "position": [
                  0,
                  0
                ]
              },
              {
                "id": 1,
                "properties": {
                  "label": "1"
                },
                "color": "#15AFAC",
                "styles": {},
                "label": "1",
                "scale_factor": 1,
                "type": "#15AFAC",
                "size": [
                  55,
                  55
                ],
                "position": [
                  0,
                  0
                ]
              },
              {
                "id": 2,
                "properties": {
                  "label": "2"
                },
                "color": "#15AFAC",
                "styles": {},
                "label": "2",
                "scale_factor": 1,
                "type": "#15AFAC",
                "size": [
                  55,
                  55
                ],
                "position": [
                  0,
                  0
                ]
              },
              {
                "id": 3,
                "properties": {
                  "label": "3"
                },
                "color": "#15AFAC",
                "styles": {},
                "label": "3",
                "scale_factor": 1,
                "type": "#15AFAC",
                "size": [
                  55,
                  55
                ],
                "position": [
                  0,
                  0
                ]
              },
              {
                "id": 4,
                "properties": {
                  "label": "4"
                },
                "color": "#15AFAC",
                "styles": {},
                "label": "4",
                "scale_factor": 1,
                "type": "#15AFAC",
                "size": [
                  55,
                  55
                ],
                "position": [
                  0,
                  0
                ]
              },
              {
                "id": 5,
                "properties": {
                  "label": "5"
                },
                "color": "#15AFAC",
                "styles": {},
                "label": "5",
                "scale_factor": 1,
                "type": "#15AFAC",
                "size": [
                  55,
                  55
                ],
                "position": [
                  0,
                  0
                ]
              },
              {
                "id": 6,
                "properties": {
                  "label": "6"
                },
                "color": "#15AFAC",
                "styles": {},
                "label": "6",
                "scale_factor": 1,
                "type": "#15AFAC",
                "size": [
                  55,
                  55
                ],
                "position": [
                  0,
                  0
                ]
              },
              {
                "id": 7,
                "properties": {
                  "label": "7"
                },
                "color": "#15AFAC",
                "styles": {},
                "label": "7",
                "scale_factor": 1,
                "type": "#15AFAC",
                "size": [
                  55,
                  55
                ],
                "position": [
                  0,
                  0
                ]
              },
              {
                "id": 8,
                "properties": {
                  "label": "8"
                },
                "color": "#15AFAC",
                "styles": {},
                "label": "8",
                "scale_factor": 1,
                "type": "#15AFAC",
                "size": [
                  55,
                  55
                ],
                "position": [
                  0,
                  0
                ]
              },
              {
                "id": 9,
                "properties": {
                  "label": "9"
                },
                "color": "#15AFAC",
                "styles": {},
                "label": "9",
                "scale_factor": 1,
                "type": "#15AFAC",
                "size": [
                  55,
                  55
                ],
                "position": [
                  0,
                  0
                ]
              }
            ],
            "_overview": {
              "enabled": null,
              "overview_set": false
            },
            "_selected_graph": [
              [],
              []
            ],
            "_sidebar": {
              "enabled": false,
              "start_with": null
            },
            "_view_count": null,
            "_view_module": "yfiles-jupyter-graphs",
            "_view_module_version": "^1.8.1",
            "_view_name": "GraphView",
            "layout": "IPY_MODEL_7bed0c5d681548249a094889eadafd1b",
            "tabbable": null,
            "tooltip": null
          }
        },
        "7bed0c5d681548249a094889eadafd1b": {
          "model_module": "@jupyter-widgets/base",
          "model_name": "LayoutModel",
          "model_module_version": "2.0.0",
          "state": {
            "_model_module": "@jupyter-widgets/base",
            "_model_module_version": "2.0.0",
            "_model_name": "LayoutModel",
            "_view_count": null,
            "_view_module": "@jupyter-widgets/base",
            "_view_module_version": "2.0.0",
            "_view_name": "LayoutView",
            "align_content": null,
            "align_items": null,
            "align_self": null,
            "border_bottom": null,
            "border_left": null,
            "border_right": null,
            "border_top": null,
            "bottom": null,
            "display": null,
            "flex": null,
            "flex_flow": null,
            "grid_area": null,
            "grid_auto_columns": null,
            "grid_auto_flow": null,
            "grid_auto_rows": null,
            "grid_column": null,
            "grid_gap": null,
            "grid_row": null,
            "grid_template_areas": null,
            "grid_template_columns": null,
            "grid_template_rows": null,
            "height": "500px",
            "justify_content": null,
            "justify_items": null,
            "left": null,
            "margin": null,
            "max_height": null,
            "max_width": null,
            "min_height": null,
            "min_width": null,
            "object_fit": null,
            "object_position": null,
            "order": null,
            "overflow": null,
            "padding": null,
            "right": null,
            "top": null,
            "visibility": null,
            "width": "100%"
          }
        },
        "b72fcac541884269a8700a7d0edb2b64": {
          "model_module": "yfiles-jupyter-graphs",
          "model_name": "GraphModel",
          "model_module_version": "^1.8.1",
          "state": {
            "_context_pane_mapping": [
              {
                "id": "Neighborhood",
                "title": "Neighborhood"
              },
              {
                "id": "Data",
                "title": "Data"
              },
              {
                "id": "Search",
                "title": "Search"
              },
              {
                "id": "About",
                "title": "About"
              }
            ],
            "_data_importer": "networkx",
            "_directed": false,
            "_dom_classes": [],
            "_edges": [
              {
                "id": 0,
                "start": 0,
                "end": 3,
                "properties": {},
                "label": "",
                "color": "#15AFAC",
                "thickness_factor": 1,
                "directed": false
              },
              {
                "id": 1,
                "start": 0,
                "end": 4,
                "properties": {},
                "label": "",
                "color": "#15AFAC",
                "thickness_factor": 1,
                "directed": false
              },
              {
                "id": 2,
                "start": 1,
                "end": 4,
                "properties": {},
                "label": "",
                "color": "#15AFAC",
                "thickness_factor": 1,
                "directed": false
              },
              {
                "id": 3,
                "start": 2,
                "end": 5,
                "properties": {},
                "label": "",
                "color": "#15AFAC",
                "thickness_factor": 1,
                "directed": false
              },
              {
                "id": 4,
                "start": 2,
                "end": 6,
                "properties": {},
                "label": "",
                "color": "#15AFAC",
                "thickness_factor": 1,
                "directed": false
              },
              {
                "id": 5,
                "start": 2,
                "end": 7,
                "properties": {},
                "label": "",
                "color": "#15AFAC",
                "thickness_factor": 1,
                "directed": false
              },
              {
                "id": 6,
                "start": 3,
                "end": 8,
                "properties": {},
                "label": "",
                "color": "#15AFAC",
                "thickness_factor": 1,
                "directed": false
              },
              {
                "id": 7,
                "start": 3,
                "end": 9,
                "properties": {},
                "label": "",
                "color": "#15AFAC",
                "thickness_factor": 1,
                "directed": false
              },
              {
                "id": 8,
                "start": 4,
                "end": 6,
                "properties": {},
                "label": "",
                "color": "#15AFAC",
                "thickness_factor": 1,
                "directed": false
              },
              {
                "id": 9,
                "start": 5,
                "end": 6,
                "properties": {},
                "label": "",
                "color": "#15AFAC",
                "thickness_factor": 1,
                "directed": false
              }
            ],
            "_graph_layout": {},
            "_highlight": [],
            "_license": {},
            "_model_module": "yfiles-jupyter-graphs",
            "_model_module_version": "^1.8.1",
            "_model_name": "GraphModel",
            "_neighborhood": {},
            "_nodes": [
              {
                "id": 0,
                "properties": {
                  "label": "0"
                },
                "color": "#15AFAC",
                "styles": {
                  "label_styles": {
                    "backgroundColor": "#5C268B",
                    "fontSize": 20,
                    "color": "#FF6EC7",
                    "position": "north",
                    "maximumWidth": 130,
                    "wrapping": "word",
                    "textAlignment": "center"
                  }
                },
                "label": "2024-10-17 12:23:28",
                "scale_factor": 1,
                "type": "#15AFAC",
                "size": [
                  55,
                  55
                ],
                "position": [
                  0,
                  0
                ]
              },
              {
                "id": 1,
                "properties": {
                  "label": "1"
                },
                "color": "#15AFAC",
                "styles": {
                  "label_styles": {
                    "backgroundColor": "#5C268B",
                    "fontSize": 20,
                    "color": "#FF6EC7",
                    "position": "north",
                    "maximumWidth": 130,
                    "wrapping": "word",
                    "textAlignment": "center"
                  }
                },
                "label": "2024-10-17 12:23:28",
                "scale_factor": 1,
                "type": "#15AFAC",
                "size": [
                  55,
                  55
                ],
                "position": [
                  0,
                  0
                ]
              },
              {
                "id": 2,
                "properties": {
                  "label": "2"
                },
                "color": "#15AFAC",
                "styles": {
                  "label_styles": {
                    "backgroundColor": "#5C268B",
                    "fontSize": 20,
                    "color": "#FF6EC7",
                    "position": "north",
                    "maximumWidth": 130,
                    "wrapping": "word",
                    "textAlignment": "center"
                  }
                },
                "label": "2024-10-17 12:23:28",
                "scale_factor": 1,
                "type": "#15AFAC",
                "size": [
                  55,
                  55
                ],
                "position": [
                  0,
                  0
                ]
              },
              {
                "id": 3,
                "properties": {
                  "label": "3"
                },
                "color": "#15AFAC",
                "styles": {
                  "label_styles": {
                    "backgroundColor": "#5C268B",
                    "fontSize": 20,
                    "color": "#FF6EC7",
                    "position": "north",
                    "maximumWidth": 130,
                    "wrapping": "word",
                    "textAlignment": "center"
                  }
                },
                "label": "2024-10-17 12:23:28",
                "scale_factor": 1,
                "type": "#15AFAC",
                "size": [
                  55,
                  55
                ],
                "position": [
                  0,
                  0
                ]
              },
              {
                "id": 4,
                "properties": {
                  "label": "4"
                },
                "color": "#15AFAC",
                "styles": {
                  "label_styles": {
                    "backgroundColor": "#5C268B",
                    "fontSize": 20,
                    "color": "#FF6EC7",
                    "position": "north",
                    "maximumWidth": 130,
                    "wrapping": "word",
                    "textAlignment": "center"
                  }
                },
                "label": "2024-10-17 12:23:28",
                "scale_factor": 1,
                "type": "#15AFAC",
                "size": [
                  55,
                  55
                ],
                "position": [
                  0,
                  0
                ]
              },
              {
                "id": 5,
                "properties": {
                  "label": "5"
                },
                "color": "#15AFAC",
                "styles": {
                  "label_styles": {
                    "backgroundColor": "#5C268B",
                    "fontSize": 20,
                    "color": "#FF6EC7",
                    "position": "north",
                    "maximumWidth": 130,
                    "wrapping": "word",
                    "textAlignment": "center"
                  }
                },
                "label": "2024-10-17 12:23:28",
                "scale_factor": 1,
                "type": "#15AFAC",
                "size": [
                  55,
                  55
                ],
                "position": [
                  0,
                  0
                ]
              },
              {
                "id": 6,
                "properties": {
                  "label": "6"
                },
                "color": "#15AFAC",
                "styles": {
                  "label_styles": {
                    "backgroundColor": "#5C268B",
                    "fontSize": 20,
                    "color": "#FF6EC7",
                    "position": "north",
                    "maximumWidth": 130,
                    "wrapping": "word",
                    "textAlignment": "center"
                  }
                },
                "label": "2024-10-17 12:23:28",
                "scale_factor": 1,
                "type": "#15AFAC",
                "size": [
                  55,
                  55
                ],
                "position": [
                  0,
                  0
                ]
              },
              {
                "id": 7,
                "properties": {
                  "label": "7"
                },
                "color": "#15AFAC",
                "styles": {
                  "label_styles": {
                    "backgroundColor": "#5C268B",
                    "fontSize": 20,
                    "color": "#FF6EC7",
                    "position": "north",
                    "maximumWidth": 130,
                    "wrapping": "word",
                    "textAlignment": "center"
                  }
                },
                "label": "2024-10-17 12:23:28",
                "scale_factor": 1,
                "type": "#15AFAC",
                "size": [
                  55,
                  55
                ],
                "position": [
                  0,
                  0
                ]
              },
              {
                "id": 8,
                "properties": {
                  "label": "8"
                },
                "color": "#15AFAC",
                "styles": {
                  "label_styles": {
                    "backgroundColor": "#5C268B",
                    "fontSize": 20,
                    "color": "#FF6EC7",
                    "position": "north",
                    "maximumWidth": 130,
                    "wrapping": "word",
                    "textAlignment": "center"
                  }
                },
                "label": "2024-10-17 12:23:28",
                "scale_factor": 1,
                "type": "#15AFAC",
                "size": [
                  55,
                  55
                ],
                "position": [
                  0,
                  0
                ]
              },
              {
                "id": 9,
                "properties": {
                  "label": "9"
                },
                "color": "#15AFAC",
                "styles": {
                  "label_styles": {
                    "backgroundColor": "#5C268B",
                    "fontSize": 20,
                    "color": "#FF6EC7",
                    "position": "north",
                    "maximumWidth": 130,
                    "wrapping": "word",
                    "textAlignment": "center"
                  }
                },
                "label": "2024-10-17 12:23:28",
                "scale_factor": 1,
                "type": "#15AFAC",
                "size": [
                  55,
                  55
                ],
                "position": [
                  0,
                  0
                ]
              }
            ],
            "_overview": {
              "enabled": null,
              "overview_set": false
            },
            "_selected_graph": [
              [],
              []
            ],
            "_sidebar": {
              "enabled": false,
              "start_with": null
            },
            "_view_count": null,
            "_view_module": "yfiles-jupyter-graphs",
            "_view_module_version": "^1.8.1",
            "_view_name": "GraphView",
            "layout": "IPY_MODEL_eeccc51c260c490c81c802248680307e",
            "tabbable": null,
            "tooltip": null
          }
        },
        "eeccc51c260c490c81c802248680307e": {
          "model_module": "@jupyter-widgets/base",
          "model_name": "LayoutModel",
          "model_module_version": "2.0.0",
          "state": {
            "_model_module": "@jupyter-widgets/base",
            "_model_module_version": "2.0.0",
            "_model_name": "LayoutModel",
            "_view_count": null,
            "_view_module": "@jupyter-widgets/base",
            "_view_module_version": "2.0.0",
            "_view_name": "LayoutView",
            "align_content": null,
            "align_items": null,
            "align_self": null,
            "border_bottom": null,
            "border_left": null,
            "border_right": null,
            "border_top": null,
            "bottom": null,
            "display": null,
            "flex": null,
            "flex_flow": null,
            "grid_area": null,
            "grid_auto_columns": null,
            "grid_auto_flow": null,
            "grid_auto_rows": null,
            "grid_column": null,
            "grid_gap": null,
            "grid_row": null,
            "grid_template_areas": null,
            "grid_template_columns": null,
            "grid_template_rows": null,
            "height": "500px",
            "justify_content": null,
            "justify_items": null,
            "left": null,
            "margin": null,
            "max_height": null,
            "max_width": null,
            "min_height": null,
            "min_width": null,
            "object_fit": null,
            "object_position": null,
            "order": null,
            "overflow": null,
            "padding": null,
            "right": null,
            "top": null,
            "visibility": null,
            "width": "100%"
          }
        },
        "e2a4c2113a8949dfa61619ab3790b81d": {
          "model_module": "yfiles-jupyter-graphs",
          "model_name": "GraphModel",
          "model_module_version": "^1.8.1",
          "state": {
            "_context_pane_mapping": [
              {
                "id": "Neighborhood",
                "title": "Neighborhood"
              },
              {
                "id": "Data",
                "title": "Data"
              },
              {
                "id": "Search",
                "title": "Search"
              },
              {
                "id": "About",
                "title": "About"
              }
            ],
            "_data_importer": "networkx",
            "_directed": false,
            "_dom_classes": [],
            "_edges": [
              {
                "id": 0,
                "start": 0,
                "end": 3,
                "properties": {},
                "label": "2024-10-17 12:23:29",
                "label_styles": {
                  "backgroundColor": "#5C268B",
                  "fontSize": 20,
                  "color": "#FF6EC7",
                  "position": "north",
                  "maximumWidth": 130,
                  "wrapping": "word",
                  "textAlignment": "center"
                },
                "color": "#15AFAC",
                "thickness_factor": 1,
                "directed": false
              },
              {
                "id": 1,
                "start": 0,
                "end": 4,
                "properties": {},
                "label": "2024-10-17 12:23:29",
                "label_styles": {
                  "backgroundColor": "#5C268B",
                  "fontSize": 20,
                  "color": "#FF6EC7",
                  "position": "north",
                  "maximumWidth": 130,
                  "wrapping": "word",
                  "textAlignment": "center"
                },
                "color": "#15AFAC",
                "thickness_factor": 1,
                "directed": false
              },
              {
                "id": 2,
                "start": 1,
                "end": 4,
                "properties": {},
                "label": "2024-10-17 12:23:29",
                "label_styles": {
                  "backgroundColor": "#5C268B",
                  "fontSize": 20,
                  "color": "#FF6EC7",
                  "position": "north",
                  "maximumWidth": 130,
                  "wrapping": "word",
                  "textAlignment": "center"
                },
                "color": "#15AFAC",
                "thickness_factor": 1,
                "directed": false
              },
              {
                "id": 3,
                "start": 2,
                "end": 5,
                "properties": {},
                "label": "2024-10-17 12:23:29",
                "label_styles": {
                  "backgroundColor": "#5C268B",
                  "fontSize": 20,
                  "color": "#FF6EC7",
                  "position": "north",
                  "maximumWidth": 130,
                  "wrapping": "word",
                  "textAlignment": "center"
                },
                "color": "#15AFAC",
                "thickness_factor": 1,
                "directed": false
              },
              {
                "id": 4,
                "start": 2,
                "end": 6,
                "properties": {},
                "label": "2024-10-17 12:23:29",
                "label_styles": {
                  "backgroundColor": "#5C268B",
                  "fontSize": 20,
                  "color": "#FF6EC7",
                  "position": "north",
                  "maximumWidth": 130,
                  "wrapping": "word",
                  "textAlignment": "center"
                },
                "color": "#15AFAC",
                "thickness_factor": 1,
                "directed": false
              },
              {
                "id": 5,
                "start": 2,
                "end": 7,
                "properties": {},
                "label": "2024-10-17 12:23:29",
                "label_styles": {
                  "backgroundColor": "#5C268B",
                  "fontSize": 20,
                  "color": "#FF6EC7",
                  "position": "north",
                  "maximumWidth": 130,
                  "wrapping": "word",
                  "textAlignment": "center"
                },
                "color": "#15AFAC",
                "thickness_factor": 1,
                "directed": false
              },
              {
                "id": 6,
                "start": 3,
                "end": 8,
                "properties": {},
                "label": "2024-10-17 12:23:29",
                "label_styles": {
                  "backgroundColor": "#5C268B",
                  "fontSize": 20,
                  "color": "#FF6EC7",
                  "position": "north",
                  "maximumWidth": 130,
                  "wrapping": "word",
                  "textAlignment": "center"
                },
                "color": "#15AFAC",
                "thickness_factor": 1,
                "directed": false
              },
              {
                "id": 7,
                "start": 3,
                "end": 9,
                "properties": {},
                "label": "2024-10-17 12:23:29",
                "label_styles": {
                  "backgroundColor": "#5C268B",
                  "fontSize": 20,
                  "color": "#FF6EC7",
                  "position": "north",
                  "maximumWidth": 130,
                  "wrapping": "word",
                  "textAlignment": "center"
                },
                "color": "#15AFAC",
                "thickness_factor": 1,
                "directed": false
              },
              {
                "id": 8,
                "start": 4,
                "end": 6,
                "properties": {},
                "label": "2024-10-17 12:23:29",
                "label_styles": {
                  "backgroundColor": "#5C268B",
                  "fontSize": 20,
                  "color": "#FF6EC7",
                  "position": "north",
                  "maximumWidth": 130,
                  "wrapping": "word",
                  "textAlignment": "center"
                },
                "color": "#15AFAC",
                "thickness_factor": 1,
                "directed": false
              },
              {
                "id": 9,
                "start": 5,
                "end": 6,
                "properties": {},
                "label": "2024-10-17 12:23:29",
                "label_styles": {
                  "backgroundColor": "#5C268B",
                  "fontSize": 20,
                  "color": "#FF6EC7",
                  "position": "north",
                  "maximumWidth": 130,
                  "wrapping": "word",
                  "textAlignment": "center"
                },
                "color": "#15AFAC",
                "thickness_factor": 1,
                "directed": false
              }
            ],
            "_graph_layout": {},
            "_highlight": [],
            "_license": {},
            "_model_module": "yfiles-jupyter-graphs",
            "_model_module_version": "^1.8.1",
            "_model_name": "GraphModel",
            "_neighborhood": {},
            "_nodes": [
              {
                "id": 0,
                "properties": {
                  "label": "0"
                },
                "color": "#15AFAC",
                "styles": {},
                "label": "0",
                "scale_factor": 1,
                "type": "#15AFAC",
                "size": [
                  55,
                  55
                ],
                "position": [
                  0,
                  0
                ]
              },
              {
                "id": 1,
                "properties": {
                  "label": "1"
                },
                "color": "#15AFAC",
                "styles": {},
                "label": "1",
                "scale_factor": 1,
                "type": "#15AFAC",
                "size": [
                  55,
                  55
                ],
                "position": [
                  0,
                  0
                ]
              },
              {
                "id": 2,
                "properties": {
                  "label": "2"
                },
                "color": "#15AFAC",
                "styles": {},
                "label": "2",
                "scale_factor": 1,
                "type": "#15AFAC",
                "size": [
                  55,
                  55
                ],
                "position": [
                  0,
                  0
                ]
              },
              {
                "id": 3,
                "properties": {
                  "label": "3"
                },
                "color": "#15AFAC",
                "styles": {},
                "label": "3",
                "scale_factor": 1,
                "type": "#15AFAC",
                "size": [
                  55,
                  55
                ],
                "position": [
                  0,
                  0
                ]
              },
              {
                "id": 4,
                "properties": {
                  "label": "4"
                },
                "color": "#15AFAC",
                "styles": {},
                "label": "4",
                "scale_factor": 1,
                "type": "#15AFAC",
                "size": [
                  55,
                  55
                ],
                "position": [
                  0,
                  0
                ]
              },
              {
                "id": 5,
                "properties": {
                  "label": "5"
                },
                "color": "#15AFAC",
                "styles": {},
                "label": "5",
                "scale_factor": 1,
                "type": "#15AFAC",
                "size": [
                  55,
                  55
                ],
                "position": [
                  0,
                  0
                ]
              },
              {
                "id": 6,
                "properties": {
                  "label": "6"
                },
                "color": "#15AFAC",
                "styles": {},
                "label": "6",
                "scale_factor": 1,
                "type": "#15AFAC",
                "size": [
                  55,
                  55
                ],
                "position": [
                  0,
                  0
                ]
              },
              {
                "id": 7,
                "properties": {
                  "label": "7"
                },
                "color": "#15AFAC",
                "styles": {},
                "label": "7",
                "scale_factor": 1,
                "type": "#15AFAC",
                "size": [
                  55,
                  55
                ],
                "position": [
                  0,
                  0
                ]
              },
              {
                "id": 8,
                "properties": {
                  "label": "8"
                },
                "color": "#15AFAC",
                "styles": {},
                "label": "8",
                "scale_factor": 1,
                "type": "#15AFAC",
                "size": [
                  55,
                  55
                ],
                "position": [
                  0,
                  0
                ]
              },
              {
                "id": 9,
                "properties": {
                  "label": "9"
                },
                "color": "#15AFAC",
                "styles": {},
                "label": "9",
                "scale_factor": 1,
                "type": "#15AFAC",
                "size": [
                  55,
                  55
                ],
                "position": [
                  0,
                  0
                ]
              }
            ],
            "_overview": {
              "enabled": null,
              "overview_set": false
            },
            "_selected_graph": [
              [],
              []
            ],
            "_sidebar": {
              "enabled": false,
              "start_with": null
            },
            "_view_count": null,
            "_view_module": "yfiles-jupyter-graphs",
            "_view_module_version": "^1.8.1",
            "_view_name": "GraphView",
            "layout": "IPY_MODEL_302586f62200444d805e81daa6c5452b",
            "tabbable": null,
            "tooltip": null
          }
        },
        "302586f62200444d805e81daa6c5452b": {
          "model_module": "@jupyter-widgets/base",
          "model_name": "LayoutModel",
          "model_module_version": "2.0.0",
          "state": {
            "_model_module": "@jupyter-widgets/base",
            "_model_module_version": "2.0.0",
            "_model_name": "LayoutModel",
            "_view_count": null,
            "_view_module": "@jupyter-widgets/base",
            "_view_module_version": "2.0.0",
            "_view_name": "LayoutView",
            "align_content": null,
            "align_items": null,
            "align_self": null,
            "border_bottom": null,
            "border_left": null,
            "border_right": null,
            "border_top": null,
            "bottom": null,
            "display": null,
            "flex": null,
            "flex_flow": null,
            "grid_area": null,
            "grid_auto_columns": null,
            "grid_auto_flow": null,
            "grid_auto_rows": null,
            "grid_column": null,
            "grid_gap": null,
            "grid_row": null,
            "grid_template_areas": null,
            "grid_template_columns": null,
            "grid_template_rows": null,
            "height": "500px",
            "justify_content": null,
            "justify_items": null,
            "left": null,
            "margin": null,
            "max_height": null,
            "max_width": null,
            "min_height": null,
            "min_width": null,
            "object_fit": null,
            "object_position": null,
            "order": null,
            "overflow": null,
            "padding": null,
            "right": null,
            "top": null,
            "visibility": null,
            "width": "100%"
          }
        }
      }
    }
  },
  "nbformat": 4,
  "nbformat_minor": 5
}